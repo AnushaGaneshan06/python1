{
 "cells": [
  {
   "cell_type": "markdown",
   "metadata": {},
   "source": [
    "--------"
   ]
  },
  {
   "cell_type": "markdown",
   "metadata": {},
   "source": [
    "# **01. SELF JOIN**"
   ]
  },
  {
   "cell_type": "markdown",
   "metadata": {},
   "source": [
    "* **SET JOIN** joins another copy of the table itself \n",
    "* It used to compare rows of the same table \n",
    "* And helps to display the hierarchy of the table"
   ]
  },
  {
   "cell_type": "markdown",
   "metadata": {},
   "source": [
    "```SQL\n",
    "\n",
    "-------ADDING COLUMN----------\n",
    "\n",
    "ALTER TABLE customers\n",
    "ADD COLUMN referral_id INT;\n",
    "SELECT * FROM customers\n",
    "\n",
    "-------VALUE UPDATE -----\n",
    "\n",
    "update customers\n",
    "SET referral_id = 1\n",
    "where customer_id = 2;\n",
    "SELECT * FROM customers;\n",
    "\n",
    "-------SET JOIN----------\n",
    "A B IS LIKE THE \"THIS POINT THE A TABLE AND B TABLE OF CUTSOMERS COPY\"\n",
    "\n",
    "SELECT *\n",
    "FROM customers AS A\n",
    "INNER JOIN \n",
    "customers AS B\n",
    "ON A.referral_id = B.customer_id;\n",
    "\n",
    "\n",
    "---------SPECIFIC DATA-------\n",
    "\n",
    "SELECT A.customer_id,A.first_name, A.last_name , B.first_name, B.last_name\n",
    "FROM customers AS A\n",
    "INNER JOIN \n",
    "customers AS B\n",
    "ON A.referral_id = B.customer_id;\n",
    "\n",
    "\n",
    "-------MAKE THE REFERRAL MORE FURTHER-------\n",
    "\n",
    "SELECT A.customer_id,A.first_name, A.last_name,\n",
    "\tCONCAT(B.first_name,\" \", B.last_name) AS REFERED_BY\n",
    "FROM customers AS A\n",
    "INNER JOIN \n",
    "customers AS B\n",
    "ON A.referral_id = B.customer_id;"
   ]
  },
  {
   "cell_type": "markdown",
   "metadata": {},
   "source": [
    "### **ANOTHER EXAMPLE**"
   ]
  },
  {
   "cell_type": "markdown",
   "metadata": {},
   "source": [
    "```sql\n",
    "\n",
    "-------employee table--------\n",
    "\n",
    "UPDATE employees\n",
    "SET supervise_id = 3\n",
    "where employee_id = 1;\n",
    "SELECT * FROM employees;\n",
    "\n",
    "------------------------------\n",
    "\n",
    "SELECT A.first_name, A.last_name, A.job,\n",
    "concat(B.first_name,\" \", B.last_name) as \"SUPERVISING PERSON\",  B.job\n",
    "FROM employees AS A\n",
    "INNER JOIN employees AS B\n",
    "ON A.supervise_id = B.employee_id;"
   ]
  },
  {
   "cell_type": "markdown",
   "metadata": {},
   "source": [
    "----------"
   ]
  },
  {
   "cell_type": "markdown",
   "metadata": {},
   "source": [
    "# **02. VIEWS**"
   ]
  },
  {
   "cell_type": "markdown",
   "metadata": {},
   "source": [
    "* In SQL, a view is a virtual table based on the result-set of an SQL statement. A view contains rows and columns, just like a real table. The fields in a view are fields from one or more real tables in the database.\n",
    "* they are not a real table but can be interacted with as if they are"
   ]
  },
  {
   "cell_type": "markdown",
   "metadata": {},
   "source": [
    "```SQL\n",
    "\n",
    "--------CREATING THE VIEW-------\n",
    "\n",
    "CREATE VIEW EMPLOYEE_ATTENDANCE AS\n",
    "SELECT first_name , last_name FROM employees;\n",
    "SELECT * FROM employee_attendance;\n",
    "\n",
    "------ORDER BY-------\n",
    "\n",
    "SELECT * FROM employee_attendance\n",
    "ORDER BY LAST_NAME ASC;\n",
    "\n",
    "-----DROP THE VIEW-------\n",
    "\n",
    "DROP VIEW employee_attendance;"
   ]
  },
  {
   "cell_type": "markdown",
   "metadata": {},
   "source": [
    "### **ANOTHER EXAMPLE (CUSTOMERS)**"
   ]
  },
  {
   "cell_type": "markdown",
   "metadata": {},
   "source": [
    "```SQL\n",
    "\n",
    "-------CREATE THE NEW COLUMN------\n",
    "alter table customer \n",
    "add column EMAIL_ID ;\n",
    "\n",
    "--------UPDATE THE COLUMN-------\n",
    "UPDATE customers\n",
    "SET EMAIL_ID = \"henry@gmail.com\"\n",
    "WHERE customer_id = 4;\n",
    "SELECT * FROM customers;\n",
    "\n",
    "-----VIEW---------\n",
    "\n",
    "CREATE VIEW CUSTOMER_EMAIL AS \n",
    "SELECT EMAIL_ID FROM customers;\n",
    "SELECT * FROM customer_email;\n",
    "\n",
    "\n",
    "------advantages----------\n",
    "NOTE : \"THIS WILL AUTOMATICALLY UPDATE WHEN WE INSERT THE VALUE IN THE CUSTOMER TBALE\"\n",
    "\n",
    "INSERT INTO customers\n",
    "VALUES(5, \"BRO\", \"CARB\", NULL, \"BRO@gmail.com\");\n",
    "SELECT * FROM customers\n",
    "\n",
    "SELECT * FROM customer_email;\n",
    "\n"
   ]
  },
  {
   "cell_type": "markdown",
   "metadata": {},
   "source": [
    "------------"
   ]
  },
  {
   "cell_type": "markdown",
   "metadata": {},
   "source": [
    "### **03. INDEXING (TREE DATA STRUCTURE)**"
   ]
  },
  {
   "cell_type": "markdown",
   "metadata": {},
   "source": [
    "```SQL\n",
    "\n",
    "-------CUSTOMER TABLE -------\n",
    "SHOW INDEXES FROM customers;\n",
    "\n",
    "--------CREATE THE INDEX----------\n",
    "\n",
    "CREATE INDEX last_name_idx \n",
    "ON customers(last_name);\n",
    "\n",
    "--------SELECT-----------\n",
    "SHOW INDEXES FROM customers;\n",
    "\n",
    "------SEARCH -------\n",
    "NOTE : \"REDUCE THE TIME OF SEARCHING\"\n",
    "\n",
    "SELECT * FROM customers\n",
    "WHERE last_name = \"rebbaca\";\n",
    "\n",
    "-------delete index-------\n",
    "ALTER TABLE customers\n",
    "DROP INDEX last_name_idx;\n"
   ]
  },
  {
   "cell_type": "markdown",
   "metadata": {},
   "source": [
    "#### **MULTI COLUMN INDEX**"
   ]
  },
  {
   "cell_type": "markdown",
   "metadata": {},
   "source": [
    "```sql\n",
    "\n",
    "--------CAN SEARCH FAST BOTH FIRST AND LAST NAME-----\n",
    "\n",
    "CREATE INDEX LAST_NAME_FIRST_NAME_IDX\n",
    "ON customers(last_name, first_name);\n",
    "\n",
    "------------------\n",
    "select * from customers\n",
    "where last_name = \"rebbaca\" and first_name = \"lona\";"
   ]
  },
  {
   "cell_type": "markdown",
   "metadata": {},
   "source": [
    "-----------"
   ]
  },
  {
   "cell_type": "markdown",
   "metadata": {},
   "source": [
    "# **04. SUBQUERIES**"
   ]
  },
  {
   "cell_type": "markdown",
   "metadata": {},
   "source": [
    "QUERY WITHIN ANOTHER QUERY"
   ]
  },
  {
   "cell_type": "markdown",
   "metadata": {},
   "source": [
    "```sql\n",
    "\n",
    "-----------query(subquery)-------------\n",
    "\n",
    "SELECT first_name,last_name,hourly_paid,\n",
    "        (SELECT avg(hourly_paid) from employees) as avergae_pay \n",
    "        \n",
    "from employees;\n",
    "\n",
    "---------query condition ----------\n",
    "\n",
    "select first_name, last_name, hourly_paid from employees\n",
    "where hourly_paid > (select avg(hourly_paid) from employees);\n",
    "\n",
    "\n",
    "-------customer example---------\n",
    "\n",
    "SELECT first_name, last_name from customers\n",
    "where customer_id in \n",
    "(SELECT DISTINCT customer_id FROM transactions\n",
    "WHERE customer_id IS NOT NULL);"
   ]
  },
  {
   "cell_type": "markdown",
   "metadata": {},
   "source": [
    "--------------"
   ]
  },
  {
   "cell_type": "markdown",
   "metadata": {},
   "source": [
    "# **05. GROUP BY**"
   ]
  },
  {
   "cell_type": "markdown",
   "metadata": {},
   "source": [
    "The `GROUP BY` clause in MySQL is used to group rows that have the same values in specified columns into summary rows. It is often used with aggregate functions like `COUNT()`, `SUM()`, `AVG()`, `MAX()`, or `MIN()` to perform calculations on each group of rows."
   ]
  },
  {
   "cell_type": "markdown",
   "metadata": {},
   "source": [
    "#### WHEN YOU USINF GROUP BY **\"WHERE CLAUSE\"** WONT WORK INSTEAD USE **\"HAVING CLAUSE\"**"
   ]
  },
  {
   "cell_type": "markdown",
   "metadata": {},
   "source": [
    "```sql\n",
    "\n",
    "--------add columN order_date------\n",
    "ALTER TABLE TRANSACTIONS \n",
    "ADD COLUMN ORDER_DATE CURRENT_DATE();\n",
    "\n",
    "--------UPDATE COLUMN---\n",
    "\n",
    "UPDATE transactions\n",
    "SET ORDER_DATE = current_date() + 1000\n",
    "where transaction_id = 1004;\n",
    "SELECT * FROM transactions;\n",
    "\n",
    "------INSERT NEW ROWS-------\n",
    "\n",
    "insert into transactions(amount ,ORDER_DATE)\n",
    "values(2.48, \"2025-01-01\"), (5.48, \"2025-01-02\");\n",
    "SELECT * FROM transactions;\n",
    "\n",
    "NOTE : \"GROUP COLUMN VALUES ONE DAY SALES EX\"\n",
    "\n",
    "--------SUM-------\n",
    "\n",
    "SELECT SUM(AMOUNT), ORDER_DATE\n",
    "FROM transactions\n",
    "GROUP BY ORDER_DATE;\n",
    "\n",
    "------MAX-------\n",
    "\n",
    "SELECT MAX(AMOUNT), ORDER_DATE\n",
    "FROM transactions\n",
    "GROUP BY ORDER_DATE;\n",
    "\n",
    "----------MIN-------\n",
    "\n",
    "SELECT MIN(AMOUNT), ORDER_DATE\n",
    "FROM transactions\n",
    "GROUP BY ORDER_DATE;\n",
    "\n",
    "------AVG------\n",
    "SELECT AVG(AMOUNT), ORDER_DATE\n",
    "FROM transactions\n",
    "GROUP BY ORDER_DATE;\n",
    "\n",
    "---COUNT---\n",
    "\n",
    "SELECT count(AMOUNT), ORDER_DATE\n",
    "FROM transactions\n",
    "GROUP BY ORDER_DATE;"
   ]
  },
  {
   "cell_type": "markdown",
   "metadata": {},
   "source": [
    "### **ANOTHER EXAMPLE**"
   ]
  },
  {
   "cell_type": "markdown",
   "metadata": {},
   "source": [
    "```SQL\n",
    "\n",
    "---------TRANSACTION --------\n",
    "SELECT SUM(amount) as AMOUNT, customer_id\n",
    "FROM transactions\n",
    "group by customer_id;\n",
    "\n",
    "-----MAX------\n",
    "SELECT MAX(amount) as AMOUNT, customer_id\n",
    "FROM transactions\n",
    "group by customer_id;\n",
    "\n",
    "-----MIN ------\n",
    "SELECT MIN(amount) as AMOUNT, customer_id\n",
    "FROM transactions\n",
    "group by customer_id;\n",
    "\n",
    "---AVG ------\n",
    "SELECT AVG(amount) as AMOUNT, customer_id\n",
    "FROM transactions\n",
    "group by customer_id;\n",
    "\n",
    "---------SPEACIL HAVING CLAUSE METHOD ----\n",
    "\n",
    "SELECT COUNT(amount) as AMOUNT, customer_id\n",
    "FROM transactions\n",
    "group by customer_id\n",
    "HAVING AMOUNT > 2;\n",
    "\n",
    "SELECT COUNT(amount) as AMOUNT, customer_id\n",
    "FROM transactions\n",
    "group by customer_id\n",
    "HAVING AMOUNT > 1 AND customer_id is not null;"
   ]
  },
  {
   "cell_type": "markdown",
   "metadata": {},
   "source": [
    "-------------"
   ]
  },
  {
   "cell_type": "markdown",
   "metadata": {},
   "source": [
    "# **06. ROLLUP**"
   ]
  },
  {
   "cell_type": "markdown",
   "metadata": {},
   "source": [
    "SHOWS THE COLUMN GRAND TOTAL\n",
    "comes after the group clause"
   ]
  },
  {
   "cell_type": "markdown",
   "metadata": {},
   "source": [
    "```SQL\n",
    "\n",
    "----SUM-------\n",
    "SELECT SUM(AMOUNT),ORDER_DATE\n",
    "FROM transactions\n",
    "GROUP BY ORDER_DATE WITH ROLLUP;\n",
    "\n",
    "-----COUNT------\n",
    "SELECT COUNT(transaction_id),ORDER_DATE\n",
    "FROM transactions\n",
    "GROUP BY ORDER_DATE WITH ROLLUP;\n",
    "\n",
    "-----ALIS-(AS NAME)--------\n",
    "\n",
    "SELECT COUNT(transaction_id) AS \"NO OF TRANSACTION\",ORDER_DATE\n",
    "FROM transactions\n",
    "GROUP BY ORDER_DATE WITH ROLLUP;\n",
    "\n",
    "\n",
    "--------another example--------\n",
    "\n",
    "SELECT SUM(hourly_paid) as \"HOURLY PAID\", employee_id\n",
    "FROM employees\n",
    "group by employee_id with rollup;\n"
   ]
  },
  {
   "cell_type": "markdown",
   "metadata": {},
   "source": [
    "-----------"
   ]
  },
  {
   "cell_type": "markdown",
   "metadata": {},
   "source": [
    "# **07. ON DELETE**"
   ]
  },
  {
   "cell_type": "markdown",
   "metadata": {},
   "source": [
    "### `ON DELETE` in MySQL\n",
    "\n",
    "The `ON DELETE` clause defines what happens when a row in the parent table is deleted. Possible actions:\n",
    "\n",
    "- **`CASCADE`**: Deletes the corresponding rows in the child table.\n",
    "- **`SET NULL`**: Sets the foreign key in the child table to `NULL`.\n",
    "- **`RESTRICT`**: Prevents deletion if there are related rows in the child table.\n",
    "- **`NO ACTION`**: Similar to `RESTRICT`, but with different timing of checks.\n",
    "\n",
    "**Example**:\n",
    "```sql\n",
    "FOREIGN KEY (column_name) REFERENCES parent_table(parent_column) ON DELETE CASCADE;\n"
   ]
  },
  {
   "cell_type": "markdown",
   "metadata": {},
   "source": [
    "```SQL\n",
    "\n",
    "\"IN THE TRANSACTION THE CUSTOMER_ID IS THE FOREIGN KEY SO WHERE WE CAN DELTE THE ROW\"\n",
    "\n",
    "STEP 1:\n",
    "\n",
    "SELECT * FROM customers; \n",
    "\" SELECT CUSTOMER_ID FROM CUSTOMERS WHICH AS VALUE IN TRANSACTION CUSTOMER_ID\"\n",
    "\n",
    "STEP 2:\n",
    "SET FOREIGN_KEY_CHECKS = 0;\n",
    "\n",
    "\n",
    "STEP 3:\n",
    "\n",
    "DELETE FROM customers\n",
    "where customer_id = 1;\n",
    "SELECT * FROM customers;\n",
    "\n",
    "STEP 4:\n",
    "SET FOREIGN_KEY_CHECKS = 1;\n",
    "\n",
    "\n",
    "\"SO HERE CUSTOMER PRIMARY KEY HAS BEEN DELETED WHERE THE TRANSATION FORIEIGN KEY HAS THE CUSTOMER_ID HAS THE VALUE THERE TO CHANGE IT EITHER \"NULL OR CASCADE\" \""
   ]
  },
  {
   "cell_type": "markdown",
   "metadata": {},
   "source": [
    "### **ON DELETE**"
   ]
  },
  {
   "cell_type": "markdown",
   "metadata": {},
   "source": [
    "```SQL\n",
    "\n",
    "\n",
    "-------REINSERT THE 1 VALUES------\n",
    "INSERT INTO customers\n",
    "VALUES(1, \"JANE\", \"RUBY\", NULL, \"JANE@GMAIL.COM\" );\n",
    "SELECT * FROM customers\n",
    "\n",
    "-----------WHILE CREATING TABLE---------\n",
    "\n",
    "CREATE TABLE transactions(\n",
    "\t\ttransaction_id INT PRIMARY KEY AUTO_INCREMENT,\n",
    "        amount DECIMAL(5, 2),\n",
    "        customer_id INT ,\n",
    "        FOREIGN KEY(customer_id) REFERENCES customers(customer_id),\n",
    "        ON DELETE SET NULL\n",
    "        \n",
    ");\n",
    "SELECT * FROM transactions;\n",
    "\n",
    "\n",
    "----------EXISTING TABLE-------\n",
    "\n",
    "\n",
    "\"1 DELETE FOREIGN KEY\"\n",
    "\n",
    "ALTER table transactions\n",
    "DROP foreign key fk_customer_id;\n",
    "\n",
    "\"2. AUTOMATICALLY SET FOREIGN KEY AS NULL:\"\n",
    "\n",
    "ALTER table transactions\n",
    "ADD constraint fk_customer_id \n",
    "foreign key(customer_id) references customers(customer_id)\n",
    "ON DELETE SET NULL;\n",
    "\n",
    "------MAKE THE NULL IN FOREIGN KEY-----\n",
    "\n",
    "DELETE FROM customers\n",
    "WHERE customer_id = 1;\n",
    "SELECT * from transactions;\n"
   ]
  },
  {
   "cell_type": "markdown",
   "metadata": {},
   "source": [
    "#### **CASCADE DELETE**"
   ]
  },
  {
   "cell_type": "markdown",
   "metadata": {},
   "source": [
    "```SQL\n",
    "-------INSERT AGAIN VALUES-------\n",
    "INSERT INTO customers\n",
    "VALUES(1, \"JANE\", \"RUBY\", NULL, \"JANE@GMAIL.COM\" );\n",
    "SELECT * FROM customers\n",
    "\n",
    "------DELTE FK------\n",
    "\n",
    "ALTER table transactions\n",
    "DROP foreign key fk_customer_id\n",
    "\n",
    "\n",
    "--------ON DELETE CASCADE---\n",
    "\n",
    "ALTER table transactions\n",
    "ADD constraint fk_customer_id\n",
    "foreign key(customer_id) references customers(customer_id)\n",
    "ON DELETE CASCADE;\n",
    "\n",
    "---transactions inerst-------\n",
    "\n",
    "SET FOREIGN_KEY_CHECKS = 0;\n",
    "UPDATE transactions\n",
    "set customer_id = 4\n",
    "where transaction_id = 1003;\n",
    "\n",
    "SELECT * FROM transactions\n",
    "\n",
    "-------delete--------\n",
    "\n",
    "delete from customers\n",
    "where customer_id = 2;\n",
    "\n",
    "SELECT * FROM customers\n",
    "\n",
    "\n"
   ]
  },
  {
   "cell_type": "markdown",
   "metadata": {},
   "source": [
    "-----------"
   ]
  },
  {
   "cell_type": "markdown",
   "metadata": {},
   "source": [
    "# **08. STORED PROCEDURE**"
   ]
  },
  {
   "cell_type": "markdown",
   "metadata": {},
   "source": [
    "    IT IS THE PREPARED SQL CODE THAT WE CAN SAVE IF ANY QUERY THAT YOU WRITE OFTEN\n",
    "\n",
    "    REDUCES NETWORK TRAFFIC\n",
    "\n",
    "    INCRAESES PERFORMANCE\n",
    "\n",
    "    SECURE , ADMIN CAN GRANT PERMISSION TO USE\n",
    "\n",
    "    INCREASE MEMORY USAGE OF EVERY CONNECTION"
   ]
  },
  {
   "cell_type": "markdown",
   "metadata": {},
   "source": [
    "```SQL\n",
    "\n",
    "SELECT first_name, last_name\n",
    "from transactions\n",
    "inner join customers\n",
    "on transactions.customer_id = customers.customer_id\n",
    "\n",
    "\n",
    "----------CREATE PROCEDURE---------\n",
    "\n",
    "DELIMITER $$\n",
    "CREATE PROCEDURE get_customers()\n",
    "BEGIN\n",
    "SELECT * FROM customers;\n",
    "END $$\n",
    "DELIMITER ;\n",
    "\n",
    "---CALL STORED PROCEDURE-------\n",
    "CALL get_customers();\n",
    "\n",
    "\n",
    "-------DROP THE PROCEDURE---------\n",
    "DROP PROCEDURE get_customers()\n"
   ]
  },
  {
   "cell_type": "markdown",
   "metadata": {},
   "source": [
    "**ANOTHER EXAMPLE**"
   ]
  },
  {
   "cell_type": "markdown",
   "metadata": {},
   "source": [
    "```SQL\n",
    "DELIMITER $$\n",
    "\n",
    "CREATE PROCEDURE find_customer(IN id INT)\n",
    "BEGIN\n",
    "\tSELECT * FROM customers \n",
    "    WHERE customer_id = id;\n",
    "END $$\n",
    "DELIMITER ;\n",
    "\n",
    "---CALL---------\n",
    "NOTE : \"giver the customer id 3 data\"\n",
    "CALL find_customer(3);\n",
    "\n",
    "-----DELTELE-----\n",
    "\n",
    "DROP PROCEDURE find_customer;"
   ]
  },
  {
   "cell_type": "markdown",
   "metadata": {},
   "source": [
    "**ANOTHER EXMPLE**"
   ]
  },
  {
   "cell_type": "markdown",
   "metadata": {},
   "source": [
    "```SQL\n",
    "\n",
    "DELIMITER $$\n",
    "CREATE PROCEDURE  FIND_CUSTOMER(IN f_name varchar(20), l_name varchar(20))\n",
    "BEGIN\n",
    "\tSELECT * FROM customers\n",
    "    WHERE first_name = f_name AND last_name = l_name;\n",
    "END $$\n",
    "\n",
    "DELIMITER ;\n",
    "\n",
    "\n",
    "-----CALL---------\n",
    "\n",
    "call FIND_CUSTOMER(\"BRO\", \"CARB\");"
   ]
  },
  {
   "cell_type": "markdown",
   "metadata": {},
   "source": [
    "----------"
   ]
  },
  {
   "cell_type": "markdown",
   "metadata": {},
   "source": [
    "# **09. TRIGGERS**"
   ]
  },
  {
   "cell_type": "markdown",
   "metadata": {},
   "source": [
    "1. **Automatic Execution**: Triggers automatically execute in response to specific events like `INSERT`, `UPDATE`, or `DELETE`.\n",
    "2. **Before or After Events**: Triggers can run **before** or **after** a specified event on a table.\n",
    "3. **Row-level or Statement-level**: Triggers can fire for each row affected or once per statement."
   ]
  },
  {
   "cell_type": "markdown",
   "metadata": {},
   "source": [
    "```SQL\n",
    "\n",
    "--------ADD COLUMN-----------\n",
    "ALTER TABLE employees\n",
    "ADD COLUMN SALARY DECIMAL(10, 2) AFTER hourly_paid;\n",
    "SELECT * FROM employees;\n",
    "\n",
    "\n",
    "------TRIGGER THE SALARY COLUMN AUTOMATICALLY INSERT-------\n",
    "\n",
    "SET SQL_SAFE_UPDATES = 0;\n",
    "\n",
    "UPDATE employees\n",
    "SET SALARY = hourly_paid * 2080;\n",
    "SELECT * FROM employees;\n",
    "\n",
    "\n",
    "---------update--------\n",
    "\n",
    "CREATE TRIGGER before_hourly_paid_update\n",
    "BEFORE UPDATE ON employees\n",
    "FOR EACH ROW\n",
    "SET NEW.SALARY =( NEW.hourly_paid * 2080);\n",
    "\n",
    "---------show---------\n",
    "SHOW triggers\n",
    "\n",
    "-------automatic change--------\n",
    "UPDATE employees\n",
    "SET hourly_paid = 50.00\n",
    "WHERE employee_id = 1;\n",
    "select * FROM employees \n",
    "\n",
    "----all updation----------\n",
    "UPDATE employees\n",
    "SET hourly_paid = hourly_paid + 2;\n",
    "select * FROM employees"
   ]
  },
  {
   "cell_type": "markdown",
   "metadata": {},
   "source": [
    "#### **example 1**"
   ]
  },
  {
   "cell_type": "markdown",
   "metadata": {},
   "source": [
    "```sql\n",
    "\n",
    "CREATE TRIGGER hourly_paid_insert\n",
    "BEFORE INSERT ON employees\n",
    "FOR EACH ROW\n",
    "SET NEW.SALARY = (NEW.hourly_paid * 2080);\n",
    "\n",
    "-------value insert------\n",
    "insert into employees\n",
    "values(6, \"rina\", \"lucas\", \"lucas@gmail.com\", 23, 10, null, \"cook\", \"2020-09-10\", 9);\n",
    "select * from employees;"
   ]
  },
  {
   "cell_type": "markdown",
   "metadata": {},
   "source": [
    "### **example 2**"
   ]
  },
  {
   "cell_type": "markdown",
   "metadata": {},
   "source": [
    "```sql\n",
    "\n",
    "-------CARETE NEW TABLE--------\n",
    "\n",
    "CREATE TABLE EXPENSES(\n",
    "\texpense_id int primary key,\n",
    "    expense_name varchar(20),\n",
    "    expense_total decimal(10, 2)\n",
    ");\n",
    "SELECT * FROM EXPENSES;\n",
    "\n",
    "-------INSERT------\n",
    "\n",
    "INSERT INTO expenses\n",
    "VALUES(1, \"SALARY\", 0), (2, \"RUBBER\", 0), (3, \"ROCK\", 0);\n",
    "SELECT * FROM EXPENSES;\n",
    "\n",
    "------update---------\n",
    "\n",
    "UPDATE expenses\n",
    "SET expense_total = (select sum(salary) from employees)\n",
    "where expense_id = 1;\n",
    "select * from expenses;\n",
    "\n",
    "------DELETE TRIGGER-----\n",
    "\n",
    "CREATE TRIGGER after_salary_delete\n",
    "AFTER DELETE ON employees\n",
    "FOR EACH ROW\n",
    "UPDATE expenses\n",
    "SET expense_total = expense_total - OLD.salary\n",
    "WHERE expense_name = \"SALARIES\" \n",
    "\n",
    "------WHILE DELTEING EACH EMPLYEE_ID THE SALARY DECREASE-------\n",
    "\n",
    "delete FROM employees\n",
    "WHERE employee_id = 2;\n",
    "SELECT * FROM expenses;\n",
    "\n",
    "---------------------------------------------------✌️AFTER INSERT SALARY--------------------------------------------------------------\n",
    "\n",
    "CREATE TRIGGER after_insert_salary\n",
    "after insert on employees\n",
    "for each row \n",
    "update expenses\n",
    "set expense_total = expense_total + new.salary\n",
    "where expense_name = \"salary\"\n",
    "\n",
    "------INSERT---\n",
    "INSERT INTO employees\n",
    "VALUES(2,\"LUCKY\", \"NIN\", \"NIN@GMAIL.COM\", 45, 33.33, NULL, \"TEACHER\", \"2023-12-01\", 9);\n",
    "select * FROM expenses\n",
    "\n",
    "--------------update-----------------\n",
    "CREATE TRIGGER AFTER_SALRY_UPDATE\n",
    "AFTER UPDATE ON employees\n",
    "FOR EACH ROW\n",
    "UPDATE expenses\n",
    "SET expense_total = expense_total + (NEW.salary - OLD.salary)\n",
    "where expense_name = \"salary\";\n",
    "\n",
    "------------------\n",
    "\n",
    "update employees\n",
    "set hourly_paid = 100\n",
    "where employee_id = 1;\n",
    "select * from expenses;\n"
   ]
  },
  {
   "cell_type": "markdown",
   "metadata": {},
   "source": [
    "------------"
   ]
  }
 ],
 "metadata": {
  "language_info": {
   "name": "python"
  }
 },
 "nbformat": 4,
 "nbformat_minor": 2
}
