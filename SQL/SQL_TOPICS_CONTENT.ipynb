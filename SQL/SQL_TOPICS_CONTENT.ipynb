{
 "cells": [
  {
   "cell_type": "markdown",
   "metadata": {},
   "source": [
    "# MySQL Attributes and Constraints\n",
    "\n",
    "## Data Attributes for Columns\n",
    "1. **NOT NULL** - Prevents `NULL` values in a column.  \n",
    "2. **AUTO_INCREMENT** - Automatically generates unique values.  \n",
    "3. **DEFAULT** - Sets a default value for a column.  \n",
    "4. **UNSIGNED** - Restricts column values to non-negative numbers.  \n",
    "5. **ZEROFILL** - Adds leading zeros to numeric values.  \n",
    "6. **CHARACTER SET** - Defines the character set for a column.  \n",
    "7. **COLLATE** - Sets the collation for text comparison.  \n",
    "8. **UNIQUE** - Ensures values in a column are distinct.  \n",
    "9. **COMMENT** - Adds a description for a column.  \n",
    "\n",
    "## Table-Level Attributes\n",
    "1. **PRIMARY KEY** - Uniquely identifies each record in a table.  \n",
    "2. **FOREIGN KEY** - Establishes a relationship with another table.  \n",
    "3. **INDEX** - Speeds up data retrieval.  \n",
    "4. **ENGINE** - Specifies the storage engine (e.g., `InnoDB`).  \n",
    "5. **CHECK** - Validates data based on a condition.  \n",
    "\n",
    "## Constraints\n",
    "1. **NOT NULL** - Ensures a column cannot have `NULL` values.  \n",
    "2. **UNIQUE** - Ensures all values in a column are distinct.  \n",
    "3. **PRIMARY KEY** - Combines `NOT NULL` and `UNIQUE` to uniquely identify each record in a table.  \n",
    "4. **FOREIGN KEY** - Links a column to the `PRIMARY KEY` of another table to maintain referential integrity.  \n",
    "5. **CHECK** - Validates that column values satisfy a specific condition (limited support in MySQL).  \n",
    "6. **DEFAULT** - Assigns a default value to a column when no value is provided.  \n",
    "7. **AUTO_INCREMENT** - Automatically generates a unique value for each new row (used with `PRIMARY KEY`).  \n",
    "8. **UNIQUE with Composite Keys** - Ensures the combination of two or more columns is unique.  \n"
   ]
  },
  {
   "cell_type": "markdown",
   "metadata": {},
   "source": [
    "DESCRIBE expenses;"
   ]
  }
 ],
 "metadata": {
  "language_info": {
   "name": "python"
  }
 },
 "nbformat": 4,
 "nbformat_minor": 2
}
