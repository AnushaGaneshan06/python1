{
 "cells": [
  {
   "cell_type": "markdown",
   "metadata": {},
   "source": [
    "-----------"
   ]
  },
  {
   "cell_type": "markdown",
   "metadata": {},
   "source": [
    "## 01. PRIMARY KEY"
   ]
  },
  {
   "cell_type": "markdown",
   "metadata": {},
   "source": [
    "**PRIMARY KEY IS UNQUIE IDENDIFIER THAT SHOULD HAVE UNQIUE VALUE AND NOT NULL ONE EACH TABLE SHOULD HAVE ONE PRIMARY KEY**"
   ]
  },
  {
   "cell_type": "markdown",
   "metadata": {},
   "source": [
    "```SQL\n",
    "-------AFTER CREATION ----------\n",
    "ALTER TABLE TRANSACTION\n",
    "ADD CONSTRAINT \n",
    "PRIMARY KEY(TRANSACTION_ID)\n",
    "\n",
    "SELECT * FROM TRANSACTION\n",
    "\n",
    "-----------WHILE CREATION-----------\n",
    "\n",
    "CREATE TABLE TRANSACTION(\n",
    "\tTRANSACTION_ID INT PRIMARY KEY,\n",
    "    AMOUNT DECIMAL(5,2)\n",
    ");\n",
    "\n",
    "SELECT * FROM TRANSACTION\n",
    "\n",
    "-------PRIMARY KEY -----\n",
    "\n",
    "INSERT INTO TRANSACTION\n",
    "VALUES(101, 33.34),\n",
    "\t(102, 45.67),\n",
    "    (103, 65.90);\n",
    "\n",
    "SELECT * FROM TRANSACTION\n",
    "\n",
    "----------------------UNQIUE AND NOT NULL----------------------\n",
    "NOTE : MANUAL CORRECTION ERROR\n",
    "\n",
    "\n",
    "INSERT INTO TRANSACTION\n",
    "VALUES(101, 32.34),\n",
    "VALUES(NULL, 32.34),\n",
    "\n",
    "SELECT * FROM TRANSACTION\n",
    "\n",
    "\n",
    "----------SELECT THE DATA---------\n",
    "\n",
    "SELECT AMOUNT FROM TRANSACTION\n",
    "WHERE TRANSACTION_ID = 101;\n",
    "\n",
    "\n",
    "\n",
    "\n"
   ]
  },
  {
   "cell_type": "markdown",
   "metadata": {},
   "source": [
    "--------------"
   ]
  },
  {
   "cell_type": "markdown",
   "metadata": {},
   "source": [
    "## 02. AUTO-INCREMENT ATTTRIBUTE"
   ]
  },
  {
   "cell_type": "markdown",
   "metadata": {},
   "source": [
    "```sql\n",
    "\n",
    "CREATE TABLE transaction(\n",
    "\ttransaction_id int primary key auto_increment,\n",
    "    amount decimal(5, 2)\n",
    ");\n",
    "\n",
    "select * from transaction\n",
    "\n",
    "\n",
    "\n",
    "-------------INSERT------------\n",
    "\n",
    "INSERT INTO transaction(amount)\n",
    "VALUES(3.90), (5.7), (7.8);\n",
    "\n",
    "SELECT * FROM transaction\n",
    "\n",
    "-----------ALTER AUTO_INCREMENT-------\n",
    "\n",
    "ALTER TABLE transaction\n",
    "AUTO_INCREMENT = 1001\n",
    "\n",
    "SELECT * FROM TRANSACTION\n",
    "\n",
    "--------AFTER INSERTING DATA WILL HAVE 1001-------\n",
    "\n",
    "INSERT INTO transaction(AMOUNT)\n",
    "VALUES(5.4);\n",
    "SELECT * FROM transaction;"
   ]
  },
  {
   "cell_type": "markdown",
   "metadata": {},
   "source": [
    "-------------------"
   ]
  },
  {
   "cell_type": "markdown",
   "metadata": {},
   "source": [
    "## **FOREIGN KEY**"
   ]
  },
  {
   "cell_type": "markdown",
   "metadata": {},
   "source": [
    "A foreign key is a field in a database table that creates a link between two tables. It ensures referential integrity by enforcing that the value in the foreign key column matches a value in the primary key column of another table."
   ]
  },
  {
   "cell_type": "markdown",
   "metadata": {},
   "source": [
    "```SQL\n",
    "\n",
    "CREATE TABLE customers(\n",
    "\t\tcustomer_id int PRIMARY KEY AUTO_INCREMENT,\n",
    "        first_name varchar(20),\n",
    "        last_name varchar(20)\n",
    ");\n",
    "select * from customers\n",
    "\n",
    "\n",
    "-------INSERT VALUES----\n",
    "\n",
    "INSERT INTO customers(first_name, last_name)\n",
    "VALUES(\"fedric\", \"james\"), (\"lona\", \"rebbaca\"), (\"vinzi\", \"scollater\");\n",
    "select * from customers\n",
    "\n",
    "----------CREATE 2ND TABLE WITH FORIEGN KEY----------\n",
    "\n",
    "CREATE TABLE transactions(\n",
    "\t\ttransaction_id INT PRIMARY KEY AUTO_INCREMENT,\n",
    "        amount DECIMAL(5, 2),\n",
    "        customer_id INT ,\n",
    "        FOREIGN KEY(customer_id) REFERENCES customers(customer_id)\n",
    "        \n",
    ");\n",
    "SELECT * FROM transactions;\n",
    "\n",
    "\n",
    "----------------DELTE THE FORIEGN KEY----------\n",
    "transactions_ibfk_1  UNDER THE OPTIONS OF FOREIGN KEYS\n",
    "\n",
    "ALTER TABLE transactions\n",
    "DROP FOREIGN KEY transactions_ibfk_1\n",
    "\n",
    "----------CHANGE THE CUSTOMER FORIEGN NAME-& AND ADD INTO THE EXISTING TABLE---------\n",
    "ALTER TABLE transactions\n",
    "ADD CONSTRAINT fk_customer_id # CUSTOMIZE NAME\n",
    "FOREIGN KEY(customer_id) REFERENCES customers(customer_id);\n",
    "\n",
    "\n",
    "--------value into transactions----\n",
    "INSERT INTO transactions(amount, customer_id)\n",
    "VALUES(4.09, 2 ), (3.6, 3), (5.07, 3), (9.09, 1);\n",
    "select * from transactions;\n",
    "\n"
   ]
  },
  {
   "cell_type": "markdown",
   "metadata": {},
   "source": [
    "------------------"
   ]
  },
  {
   "cell_type": "markdown",
   "metadata": {},
   "source": [
    "# **04 JOINTS**"
   ]
  },
  {
   "cell_type": "markdown",
   "metadata": {},
   "source": [
    "```sql\n",
    "-----------join the primary and foreign key-------\n",
    "SELECT * \n",
    "FROM transactions \n",
    "INNER JOIN customers\n",
    "on transactions.customer_id  = customers.customer_id;\n",
    "\n",
    "-----------specific column --------------\n",
    "\n",
    "SELECT transaction_id, amount, first_name, last_name\n",
    "FROM transactions\n",
    "INNER JOIN customers\n",
    "ON transactions.customer_id = customers.customer_id;\n",
    "\n",
    "----------JOIN LEFT-----------\n",
    "SELECT transaction_id, amount, first_name, last_name\n",
    "FROM transactions\n",
    "RIGHT JOIN customers\n",
    "ON transactions.customer_id = customers.customer_id;\n",
    "\n",
    "---------JOIN RIGHT------------\n",
    "SELECT transaction_id, amount, first_name, last_name\n",
    "FROM transactions\n",
    "LEFT JOIN customers\n",
    "ON transactions.customer_id = customers.customer_id;"
   ]
  },
  {
   "cell_type": "markdown",
   "metadata": {},
   "source": [
    "---------"
   ]
  },
  {
   "cell_type": "markdown",
   "metadata": {},
   "source": [
    "# **05 FUNCTIONS IN MYSQL**"
   ]
  },
  {
   "cell_type": "markdown",
   "metadata": {},
   "source": [
    "the functions stored program that can be passed a parameter into the return value"
   ]
  },
  {
   "cell_type": "markdown",
   "metadata": {},
   "source": [
    "```sql\n",
    "\n",
    "---COUNT - NO OF ROWS IN COLUMN------\n",
    "\n",
    "SELECT COUNT(amount) FROM transactions;\n",
    "\n",
    "-----CHANGE THE TABLE HEADING--------\n",
    "SELECT COUNT(amount) as COUNT_AMOUNT\n",
    " FROM transactions;\n",
    "\n",
    "-----MAX & MIN & AVG & SUM--------\n",
    "SELECT MAX(amount) as MAXIMUM FROM transactions;\n",
    "SELECT MIN(amount) as MINIMUM FROM transactions;\n",
    "SELECT AVG(amount) as AVERAGE FROM transactions;\n",
    "SELECT SUM(amount) as SUM FROM transactions;\n",
    "\n",
    "----------CONCATINATE---------\n",
    "SELECT CONCAT(first_name, last_name) as \"FULL NAME\"\n",
    "FROM employees;\n",
    "\n",
    "SELECT CONCAT(first_name,\" \", last_name) as \"FULL NAME\"\n",
    "FROM employees;\n",
    "\n"
   ]
  },
  {
   "cell_type": "markdown",
   "metadata": {},
   "source": [
    "-------------"
   ]
  },
  {
   "cell_type": "markdown",
   "metadata": {},
   "source": [
    "# **06. LOGICAL OPERATOR**"
   ]
  },
  {
   "cell_type": "markdown",
   "metadata": {},
   "source": [
    "AND OR & NOT ARE THE KEYWORD THAT ARE USED TO **COMBINE MORE THAN CONDITION** IN THE TABLE"
   ]
  },
  {
   "cell_type": "markdown",
   "metadata": {},
   "source": [
    "```SQL\n",
    "\n",
    "---------ADD COLUMN----------\n",
    "\n",
    "ALTER TABLE employees\n",
    "ADD COLUMN job varchar(30) AFTER hourly_paid;\n",
    "SELECT * FROM employees;\n",
    "\n",
    "-------UPDATE EACH AND EVERY ROW-----\n",
    "\n",
    "UPDATE employees\n",
    "SET job = \"CRICKETER\"\n",
    "WHERE employee_id = 5;\n",
    "SELECT * FROM employees;\n",
    "\n",
    "\n",
    "-----------AND OPERATOR--------\n",
    "SELECT * FROM employees\n",
    "WHERE hired_data < \"2021-08-09\" AND job = \"CRICKETER\";\n",
    "\n",
    "-----------OR OPERATOR----------\n",
    "SELECT * FROM employees\n",
    "WHERE JOB = \"MANAGER\" OR job = \"CHIEF\";\n",
    "\n",
    "------------NOT OPERATOR---------\n",
    "SELECT * FROM employees\n",
    "WHERE NOT JOB = \"MANAGER\" AND NOT JOB = \"CRICKETER\";\n",
    "\n",
    "---------BETWEEN IS SAME AS AND OPERATOR (MOSTLY USED IN SAME COLUMN)------------\n",
    "\n",
    "SELECT * FROM employees\n",
    "WHERE hired_data BETWEEN \"2020-05-02\" AND \"2023-10-01\";\n",
    "\n",
    "---------------SET -------------\n",
    "SELECT * FROM employees\n",
    "WHERE JOB IN (\"CHIEF\", \"MANAGER\");"
   ]
  },
  {
   "cell_type": "markdown",
   "metadata": {},
   "source": [
    "-------------"
   ]
  },
  {
   "cell_type": "markdown",
   "metadata": {},
   "source": [
    "# **07. WILDCARD CHARACTER**"
   ]
  },
  {
   "cell_type": "markdown",
   "metadata": {},
   "source": [
    "In MySQL, wildcard characters are utilized with the LIKE operator to search for patterns within string data\n",
    "\n",
    "### Percent Sign (%): Represents zero, one, or multiple characters.\n",
    "### Underscore (_): Represents a single character.\n",
    "\n",
    "```SQL \n",
    "----------START-----------\n",
    "SELECT * FROM employees\n",
    "WHERE first_name LIKE \"J%\";\n",
    "\n",
    "SELECT * FROM employees\n",
    "WHERE hired_data LIKE \"2020%\";\n",
    "--------------END----------\n",
    "SELECT * FROM employees\n",
    "WHERE last_name LIKE \"%E\";\n",
    "\n",
    "SELECT * FROM employees\n",
    "WHERE last_name LIKE \"%JANE\";\n",
    "\n",
    "\n",
    "---------UNDERSCORED-------------------\n",
    "SELECT * FROM employees\n",
    "WHERE JOB LIKE \"_HIEF\";\n",
    "\n",
    "SELECT * FROM employees\n",
    "WHERE hired_data LIKE \"____-02-__\";\n",
    "\n",
    "SELECT * FROM employees\n",
    "WHERE hired_data LIKE \"2015-__-__\";\n",
    "\n",
    "-----------COMBINE----------\n",
    "\n",
    "SELECT * FROM employees\n",
    "WHERE last_name LIKE \"_E%\";\n",
    "\n"
   ]
  },
  {
   "cell_type": "markdown",
   "metadata": {},
   "source": [
    "------------"
   ]
  },
  {
   "cell_type": "markdown",
   "metadata": {},
   "source": [
    "# **08. ORDER BY**"
   ]
  },
  {
   "cell_type": "markdown",
   "metadata": {},
   "source": [
    "ORDER SORTS THE RESULT OF QUERY EITHER IN ASCENDING OR DECENDING ORDERE"
   ]
  },
  {
   "cell_type": "markdown",
   "metadata": {},
   "source": [
    "```sql \n",
    "------DEFAULT ASCENDING WORKING WITH CHARACTER-----\n",
    "\n",
    "SELECT * FROM employees\n",
    "ORDER BY last_name;\n",
    "\n",
    "SELECT * FROM employees\n",
    "ORDER BY first_name ASC;\n",
    "\n",
    "---------DESENDING ORDER------\n",
    "\n",
    "SELECT * FROM employees\n",
    "ORDER BY last_name DESC;\n",
    "\n",
    "\n",
    "-------WHEN HAVE SAME VALUE SO ADD ANOTHER COLUMN TO COMP-----\n",
    "SELECT * FROM employees\n",
    "ORDER BY hourly_paid , JOB;\n",
    "\n",
    "SELECT * FROM employees\n",
    "ORDER BY hourly_paid ASC, JOB DESC;"
   ]
  },
  {
   "cell_type": "markdown",
   "metadata": {},
   "source": [
    "----------"
   ]
  },
  {
   "cell_type": "markdown",
   "metadata": {},
   "source": [
    "# **09. LIMIT CLAUSE**"
   ]
  },
  {
   "cell_type": "markdown",
   "metadata": {},
   "source": [
    "* LIMIT CLAUSE IS USED TO LIMIT THE NUMBER OF RECORDS\n",
    "* USEFUL WHEN WE ARE WORKING IN THE LOT OF DATA\n",
    "* CAN BE USED TO DISPLAY A LARGE DATA ON PAGE"
   ]
  },
  {
   "cell_type": "markdown",
   "metadata": {},
   "source": [
    "```SQL\n",
    "\n",
    "---------LIMIT CLAUSE--------\n",
    "SELECT * FROM customers\n",
    "LIMIT 1;\n",
    "\n",
    "---------ORDER BY AND LIMIT CLAUSE--------\n",
    "\n",
    "SELECT * FROM customers\n",
    "ORDER BY last_name LIMIT 1;\n",
    "\n",
    "SELECT * FROM customers\n",
    "ORDER BY last_name DESC LIMIT 1;\n",
    "\n",
    "\n",
    "----------LIMIT OFFSET-----\n",
    "SELECT * FROM customers\n",
    "LIMIT 1, 1; => 2 ND DATA\n",
    "\n",
    "SELECT * FROM customers\n",
    "LIMIT 2, 1; => 3RD DATA"
   ]
  },
  {
   "cell_type": "markdown",
   "metadata": {},
   "source": [
    "----------"
   ]
  },
  {
   "cell_type": "markdown",
   "metadata": {},
   "source": [
    "# **10. UNION OPERATOR**"
   ]
  },
  {
   "cell_type": "markdown",
   "metadata": {},
   "source": [
    "    UNION OPERATOR COMBINES THE RESULTS OF TWO OR MORE SELECT STATEMENTS\n",
    "    COLUMN SHOULD BE SAME TO COMBINE\n",
    "    ------------UNION DOESN'T ALLOW DUPLICATE---------\n",
    "    ------------UNION ALL ALLOW THE DUPLICATE---------"
   ]
  },
  {
   "cell_type": "markdown",
   "metadata": {},
   "source": [
    "```sql\n",
    "\n",
    "-----CRAETE THE TABLE -------\n",
    "\n",
    "CREATE TABLE income(\n",
    "\tincome_name varchar(20),\n",
    "    amount decimal(10.09)\n",
    ");\n",
    "\n",
    "-------another table---------\n",
    "\n",
    "CREATE TABLE expenses(\n",
    "\texpenses_name varchar(20),\n",
    "    amount decimal (10, 2)\n",
    "    );\n",
    "\n",
    "insert into expenses\n",
    "values(\"wages\", 343.60), (\"repair\", 561.09), (\"tools\", 893.09);\n",
    "select * from expenses;\n",
    "\n",
    "----------UNION ---------\n",
    "\n",
    "select * from expenses\n",
    "UNION\n",
    "select * from income;\n",
    "\n",
    "NOTE : DELETED THE EXPLENSE AND INCOME SO CREATE AGAIN\n",
    "\n",
    "---------------SPECIFIC--------------------\n",
    "\n",
    "SELECT first_name, last_name FROM employees\n",
    "UNION\n",
    "SELECT first_name, last_name FROM customers;\n",
    "\n",
    "\n",
    "--------------UNION ALL-------------\n",
    "\n",
    "SELECT first_name, last_name FROM employees\n",
    "UNION ALL\n",
    "SELECT first_name, last_name FROM customers;\n",
    "\n",
    "\n",
    "------DELETED FOR FURTHER NEED--------\n",
    "DELETE FROM customers\n",
    "WHERE customer_id = 5;\n",
    "select * FROM customers;\n"
   ]
  },
  {
   "cell_type": "markdown",
   "metadata": {},
   "source": [
    "------------"
   ]
  }
 ],
 "metadata": {
  "language_info": {
   "name": "python"
  }
 },
 "nbformat": 4,
 "nbformat_minor": 2
}
