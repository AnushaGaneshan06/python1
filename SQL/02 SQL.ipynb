{
 "cells": [
  {
   "cell_type": "markdown",
   "metadata": {},
   "source": [
    "-----------"
   ]
  },
  {
   "cell_type": "markdown",
   "metadata": {},
   "source": [
    "## 01. PRIMARY KEY"
   ]
  },
  {
   "cell_type": "markdown",
   "metadata": {},
   "source": [
    "**PRIMARY KEY IS UNQUIE IDENDIFIER THAT SHOULD HAVE UNQIUE VALUE AND NOT NULL ONE EACH TABLE SHOULD HAVE ONE PRIMARY KEY**"
   ]
  },
  {
   "cell_type": "markdown",
   "metadata": {},
   "source": [
    "```SQL\n",
    "-------AFTER CREATION ----------\n",
    "ALTER TABLE TRANSACTION\n",
    "ADD CONSTRAINT \n",
    "PRIMARY KEY(TRANSACTION_ID)\n",
    "\n",
    "SELECT * FROM TRANSACTION\n",
    "\n",
    "-----------WHILE CREATION-----------\n",
    "\n",
    "CREATE TABLE TRANSACTION(\n",
    "\tTRANSACTION_ID INT PRIMARY KEY,\n",
    "    AMOUNT DECIMAL(5,2)\n",
    ");\n",
    "\n",
    "SELECT * FROM TRANSACTION\n",
    "\n",
    "-------PRIMARY KEY -----\n",
    "\n",
    "INSERT INTO TRANSACTION\n",
    "VALUES(101, 33.34),\n",
    "\t(102, 45.67),\n",
    "    (103, 65.90);\n",
    "\n",
    "SELECT * FROM TRANSACTION\n",
    "\n",
    "----------------------UNQIUE AND NOT NULL----------------------\n",
    "NOTE : MANUAL CORRECTION ERROR\n",
    "\n",
    "\n",
    "INSERT INTO TRANSACTION\n",
    "VALUES(101, 32.34),\n",
    "VALUES(NULL, 32.34),\n",
    "\n",
    "SELECT * FROM TRANSACTION\n",
    "\n",
    "\n",
    "----------SELECT THE DATA---------\n",
    "\n",
    "SELECT AMOUNT FROM TRANSACTION\n",
    "WHERE TRANSACTION_ID = 101;\n",
    "\n",
    "\n",
    "\n"
   ]
  },
  {
   "cell_type": "markdown",
   "metadata": {},
   "source": [
    "--------------"
   ]
  },
  {
   "cell_type": "markdown",
   "metadata": {},
   "source": [
    "## 02. AUTO-INCREMENT ATTTRIBUTE"
   ]
  },
  {
   "cell_type": "markdown",
   "metadata": {},
   "source": [
    "```sql\n",
    "\n",
    "CREATE TABLE transaction(\n",
    "\ttransaction_id int primary key auto_increment,\n",
    "    amount decimal(5, 2)\n",
    ");\n",
    "\n",
    "select * from transaction\n",
    "\n",
    "\n",
    "\n",
    "-------------INSERT------------\n",
    "\n",
    "INSERT INTO transaction(amount)\n",
    "VALUES(3.90), (5.7), (7.8);\n",
    "\n",
    "SELECT * FROM transaction\n",
    "\n",
    "-----------ALTER AUTO_INCREMENT-------\n",
    "\n",
    "ALTER TABLE transaction\n",
    "AUTO_INCREMENT = 1001\n",
    "\n",
    "SELECT * FROM TRANSACTION\n",
    "\n",
    "--------AFTER INSERTING DATA WILL HAVE 1001-------\n",
    "\n",
    "INSERT INTO transaction(AMOUNT)\n",
    "VALUES(5.4);\n",
    "SELECT * FROM transaction;"
   ]
  }
 ],
 "metadata": {
  "language_info": {
   "name": "python"
  }
 },
 "nbformat": 4,
 "nbformat_minor": 2
}
