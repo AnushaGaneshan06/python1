{
 "cells": [
  {
   "cell_type": "markdown",
   "metadata": {},
   "source": [
    "# SQL Database Operations\n",
    "------\n",
    "\n",
    "### 1. Create Table\n",
    "```sql\n",
    "CREATE TABLE employees(\n",
    "    employee_id INT,\n",
    "    first_name VARCHAR(50),\n",
    "    last_name VARCHAR(50),\n",
    "    hourly_paid DECIMAL(5, 2),\n",
    "    hired_date DATE\n",
    ");\n",
    "\n",
    "\n"
   ]
  },
  {
   "cell_type": "markdown",
   "metadata": {},
   "source": [
    "### 2. Select All Records\n",
    "\n",
    "```sql\n",
    "SELECT * FROM employees;"
   ]
  },
  {
   "cell_type": "markdown",
   "metadata": {},
   "source": [
    "### 3. Rename Table\n",
    "\n",
    "```sql\n",
    "RENAME TABLE employees TO workers;\n",
    "\n"
   ]
  },
  {
   "cell_type": "markdown",
   "metadata": {},
   "source": [
    "### 4. DROP THE TABLE\n",
    "```SQL\n",
    "DROP TABLE employees;"
   ]
  },
  {
   "cell_type": "markdown",
   "metadata": {},
   "source": [
    "### 5. ADD COLUMN\n",
    "\n",
    "```SQL\n",
    "ALTER TABLE employees\n",
    "ADD phone_number VARCHAR(50);\n"
   ]
  },
  {
   "cell_type": "markdown",
   "metadata": {},
   "source": [
    "### 6. RENAME COLUMN\n",
    "\n",
    "```SQL\n",
    "ALTER TABLE employees\n",
    "RENAME COLUMN phone_number TO email_id;\n"
   ]
  },
  {
   "cell_type": "markdown",
   "metadata": {},
   "source": [
    "### 7. ALTER COLUM DATATYPE\n",
    "```SQL\n",
    "ALTER TABLE employees\n",
    "MODIFY COLUMN email_id VARCHAR(100);\n",
    "\n"
   ]
  },
  {
   "cell_type": "markdown",
   "metadata": {},
   "source": [
    "### 8. Move Column Position\n",
    "```SQL\n",
    "ALTER TABLE employees\n",
    "MODIFY email_id VARCHAR(100)\n",
    "AFTER last_name;\n",
    "\n",
    "------FIRST ----\n",
    "ALTER TABLE employees\n",
    "MODIFY Sno INT\n",
    "FIRST;\n",
    "\n",
    "---------DROP THE COLUMN-----------\n",
    "ALTER TABLE employees\n",
    "DROP COLUMN email_id;\n",
    "\n"
   ]
  },
  {
   "cell_type": "markdown",
   "metadata": {},
   "source": [
    "------------"
   ]
  },
  {
   "cell_type": "markdown",
   "metadata": {},
   "source": [
    "# 01 INSERT ROWS"
   ]
  },
  {
   "cell_type": "markdown",
   "metadata": {},
   "source": [
    "```sql\n",
    "----------INSERT THE DATA ROW INTO TABLE---------\n",
    "\n",
    "\n",
    "INSERT INTO employees\n",
    "VALUES(01, \"jenni\", \"rubyjane\", \"jenni@gmail.com\", 34.90, \"2025/01/29\");\n",
    "SELECT * FROM employees;\n",
    "\n",
    "\n",
    "--------MULITPLE VALUE INTO TABLE----------\n",
    "\n",
    "INSERT INTO employees\n",
    "VALUES(01, \"jenni\", \"rubyjane\", \"jenni@gmail.com\", 34.90, \"2025/01/29\"),\n",
    "(02, \"Ruka\", \"Weber\", \"ruka@gmail.com\", 94.90, \"2024/07/19\"),\n",
    "(03, \"Ginger\", \"lord\", \"lord@gmail.com\", 84.90, \"2024/02/21\"),\n",
    "(04, \"Luci\", \"Amy\", \"luci@gmail.com\", 74.90, \"2015/09/04\");\n",
    "SELECT * FROM employees;\n",
    "\n",
    "\n",
    "-----------INSERTING SPECIFIC DATA---------\n",
    "\n",
    "INSERT INTO employees(employee_id, first_name, last_name)\n",
    "VALUES(06,\"lasks\", \"pandi\");\n",
    "SELECT * FROM employees;"
   ]
  },
  {
   "cell_type": "markdown",
   "metadata": {},
   "source": [
    "-------------"
   ]
  },
  {
   "cell_type": "markdown",
   "metadata": {},
   "source": [
    "## 02. SELECT DATA FROM THE TABLE "
   ]
  },
  {
   "cell_type": "markdown",
   "metadata": {},
   "source": [
    "```SQL\n",
    "\n",
    "---------SELECT ALL DATA-------------\n",
    "\n",
    "SELECT * FROM employees;\n",
    "\n",
    "SELECT first_name, last_name FROM employees;\n",
    "\n",
    "\n",
    "---------WHERE CLAUSE------\n",
    "\n",
    "SELECT * FROM employees\n",
    "WHERE employee_id = 01;\n",
    "\n",
    "SELECT * FROM employees\n",
    "WHERE first_name = \"ruka\";\n",
    "\n",
    "SELECT * FROM employees\n",
    "WHERE hourly_paid >= 50;\n",
    "\n",
    "SELECT * FROM employees\n",
    "WHERE employee_id != 01;\n",
    "\n",
    "SELECT * FROM employees\n",
    "WHERE hired_data is NULL;"
   ]
  },
  {
   "cell_type": "markdown",
   "metadata": {},
   "source": [
    "---------"
   ]
  },
  {
   "cell_type": "markdown",
   "metadata": {},
   "source": [
    "## 03. UPDATE & DELETE"
   ]
  },
  {
   "cell_type": "markdown",
   "metadata": {},
   "source": [
    "```sql\n",
    "------Temporarily Disable Safe Mode for the Session---------\n",
    "\n",
    "SET SQL_SAFE_UPDATES = 0;\n",
    "\n",
    "-------update data----\n",
    "\n",
    "UPDATE employees\n",
    "SET hourly_paid = 66.00\n",
    "WHERE employee_id = 6;\n",
    "\n",
    "\n",
    "----------OPTIONAL RETURN TO SAFE MODE-------\n",
    "\n",
    "SET SQL_SAFE_UPDATES = 1;\n",
    "\n",
    "\n",
    "----------MULTIPLE UPDATION --------\n",
    "\n",
    "UPDATE employees\n",
    "SET hourly_paid = 66.00,\n",
    "\thired_data = \"2020-10-12\",\n",
    "    email_id = null\n",
    "WHERE employee_id = 6;\n",
    "SELECT * FROM employees;\n",
    "\n",
    "\n",
    "--------ALL COLUMN ONE VALUE-------\n",
    "\n",
    "UPDATE employees\n",
    "SET PF = 10.05;\n",
    "SELECT * FROM employees;\n",
    "\n",
    "----------DELETE ROW ----------\n",
    "\n",
    "DELETE FROM employees\n",
    "WHERE employee_id = 6;\n",
    "\n",
    "SELECT * FROM employees;\n",
    "\n",
    "\n",
    "delete from students\n",
    "where  student_name is null\n",
    "\tand student_id is null\n",
    "    and student_grade is null;\n"
   ]
  },
  {
   "cell_type": "markdown",
   "metadata": {},
   "source": [
    "-----------"
   ]
  },
  {
   "cell_type": "markdown",
   "metadata": {},
   "source": [
    "## 04. AUTOCOMMIT, COMMIT, ROLLBACK"
   ]
  },
  {
   "cell_type": "markdown",
   "metadata": {},
   "source": [
    "```SQL\n",
    "\n",
    "-----------ROLLBACK------------\n",
    "\n",
    "STEP 1:\n",
    "    SET SQL_SAFE_UPDATES = 0;\n",
    "STEP 2:\n",
    "    SET AUTOCOMMIT = OFF\n",
    "STEP 3:\n",
    "    COMMIT\n",
    "STEP 4:\n",
    "    DELETE FROM employees;\n",
    "    SELECT * FROM employees;\n",
    "STEP 5:\n",
    "    ROLLBACK;\n",
    "    SELECT * FROM EMPLOYEES;\n",
    "\n",
    "STEP 6:\n",
    "    TO SAVE THE CHANGES GIVE: COMMIT; \n",
    "\n",
    "STEP 7:\n",
    "    SET AUTOCOMMIT = ON\n"
   ]
  },
  {
   "cell_type": "markdown",
   "metadata": {},
   "source": [
    "------------"
   ]
  },
  {
   "cell_type": "markdown",
   "metadata": {},
   "source": [
    "## 05. CURRENT DATE AND CURRENT TIME"
   ]
  },
  {
   "cell_type": "markdown",
   "metadata": {},
   "source": [
    "```SQL\n",
    "CREATE TABLE TEST(\n",
    "   current_date date,\n",
    "   current_time time,\n",
    "   current_datetime datetime\n",
    "\n",
    "\n",
    ");\n",
    "\n",
    "INSERT INTO test\n",
    "VALUES(current_date() -1 , current_time(), NOW());\n",
    "SELECT * FROM test;\n",
    "\n",
    "-----you can recreate it later i delete it-----\n",
    "drop table test; \n",
    "\n"
   ]
  },
  {
   "cell_type": "markdown",
   "metadata": {},
   "source": [
    "---------"
   ]
  },
  {
   "cell_type": "markdown",
   "metadata": {},
   "source": [
    "## 06 UNIQUE CONSTRAINT"
   ]
  },
  {
   "cell_type": "markdown",
   "metadata": {},
   "source": [
    "***CHECKS ALL COLUMN HAS THE UNQIUE VALUES***"
   ]
  },
  {
   "cell_type": "markdown",
   "metadata": {},
   "source": [
    "```SQL\n",
    "\n",
    "CREATE TABLE PRODUCTS(\n",
    "    product_id varchar(20),\n",
    "    product_name varchar(30) UNIQUE,\n",
    "    price decimal(4, 2)\n",
    ");\n",
    "\n",
    "\n",
    "-------------IF THE CHANGE ANOTHER COLUMN HAS UNQIUE--------\n",
    "ALTER TABLE PRODUCTS\n",
    "ADD CONSTRAINT\n",
    "UNIQUE (PRICE)\n",
    "\n",
    "\n",
    "---------INSERTION ----------\n",
    "INSERT INTO products\n",
    "values(100, \"PZZA\", 45.78),\n",
    "\t(200, \"DOSA\", 20.65),\n",
    "        (120, \"IDLI\", 56.89), \n",
    "        (22, \"VADAI\", 10.43),\n",
    "        (204, \"DOSA\", 10.69); # GIVES THE ERROR NO UNIQUE ONE\n",
    "SELECT * FROM products; \n",
    "\n",
    "\n",
    "----------CORRECT--------\n",
    "INSERT INTO products\n",
    "values(100, \"PZZA\", 45.78),\n",
    "\t(200, \"DOSA\", 20.65),\n",
    "        (120, \"IDLI\", 56.89), \n",
    "        (22, \"VADAI\", 10.43),\n",
    "SELECT * FROM products;"
   ]
  },
  {
   "cell_type": "markdown",
   "metadata": {},
   "source": [
    "---------"
   ]
  },
  {
   "cell_type": "markdown",
   "metadata": {},
   "source": [
    "## 07. NOT NULL CONSTRAINT"
   ]
  },
  {
   "cell_type": "markdown",
   "metadata": {},
   "source": [
    "```SQL\n",
    "\n",
    "--------1️⃣-CREATION OF TABLE -----------\n",
    "\n",
    "CREATE TABLE PRODUCTS(\n",
    "    PRODUCT_ID INT,\n",
    "    PRODUCT_NAME VARCHAR(25) NOT NULL, \n",
    "    PRICE DECIMAL(4, 2)\n",
    ");\n",
    "\n",
    "\n",
    "----------2️⃣ AFTER CREATION OF TABLE -------\n",
    "\n",
    "ALTER TABLE PRODUCTS\n",
    "MODIFY COLUMN PRICE DECIMAL(4, 2) NOT NULL;\n",
    "\n",
    "INSERT INTO PRODUCTS;\n",
    "VALUES(12, \"GINGER\", NULL) # SHOWS THE ERROR\n",
    "\n",
    "NOTE:\n",
    "WE CAN GIVE 0 TO VALUE BUT NOT NULL OR EMPTY "
   ]
  },
  {
   "cell_type": "markdown",
   "metadata": {},
   "source": [
    "-----------"
   ]
  },
  {
   "cell_type": "markdown",
   "metadata": {},
   "source": [
    "## 08. CHECK CONSTRAINT"
   ]
  },
  {
   "cell_type": "markdown",
   "metadata": {},
   "source": [
    "**When you define a CHECK constraint, the database will reject any INSERT or UPDATE operation that violates the condition specified in the constraint.**"
   ]
  },
  {
   "cell_type": "markdown",
   "metadata": {},
   "source": [
    "```SQL\n",
    "\n",
    "GIVE THE VAR TO IDENTIFY IT:\n",
    "\n",
    "---------BEFORE CREATION OF TABLE -----------\n",
    "CREATE TABLE EMPLOYEES(\n",
    "    EMPLOYEE_ID INT, \n",
    "    FIRST_NAME VARCHAR(200),\n",
    "    LAST_NAME VARCHAR(23),\n",
    "    HOURLY_PAY DECIMAL(5, 2)\n",
    "    CONSTRAINT CHK_HOURLY_PAY CHECK (HOURLY_PAY >= 10.00)  \n",
    "    \n",
    "    # CHK_HOURLY_PAY VARIABLE HOLDS VALUE OF CONSTRAINT\n",
    ");\n",
    "\n",
    "\n",
    "----------AFTER CREATION ---------\n",
    "\n",
    "ALTER TABLE employees\n",
    "ADD constraint CHECK_PAY CHECK(hourly_paid >= 10.00);\n",
    "\n",
    "SELECT * FROM employees;\n",
    "\n",
    "--------when we give below 10 .00 it show \"VIOLATED MESSAGE\"---------\n",
    "insert into employees\n",
    "values(5, \"hooda\", \"deepak\", \"hooda@gmail.com\",12, 9.00, \"2020-07-06\");\n",
    "\n",
    "\n",
    "----------CORRECTED----------\n",
    "insert into employees\n",
    "values(5, \"hooda\", \"deepak\", \"hooda@gmail.com\",12, 12.00, \"2020-07-06\");\n",
    "\n",
    "\n",
    "------DROP THE CHECK-------\n",
    "ALTER TABLE employees\n",
    "DROP check CHECK_PAY;\n",
    "\n"
   ]
  },
  {
   "cell_type": "markdown",
   "metadata": {},
   "source": [
    "---------"
   ]
  },
  {
   "cell_type": "markdown",
   "metadata": {},
   "source": [
    "## 09. DEFAULT CONSTARINT"
   ]
  },
  {
   "cell_type": "markdown",
   "metadata": {},
   "source": [
    "```sql\n",
    "\n",
    "set sql_safe_updates = 0\n",
    "\n",
    "\n",
    "----------WHILE CREATION TABLE-------\n",
    "\n",
    "CREATE TABLE PRODUCTS(\n",
    "    PRODUCT_NAME VARCHAR(35), \n",
    "    PRODUCT_ID INT(10), \n",
    "    PRICE DECIMAL(5, 2) DEFAULT 0\n",
    ");\n",
    "\n",
    "\n",
    "--------AFTER CREATION TABLE--------\n",
    "\n",
    "ALTER TABLE products\n",
    "ALTER price SET DEFAULT 0\n",
    "\n",
    "\n",
    "-------if no value it takes has default -----\n",
    "\n",
    "INSERT INTO products(product_id, product_name)\n",
    "VALUES(1, \"straw\"), (2, \"tissue\"), (3, \"fork\"), (4, \"spoon\");\n",
    "select * FROM products;\n",
    "\n",
    "\n",
    "\n",
    "----------table ------------\n",
    "create table transaction(\n",
    "\ttransaction_id int, \n",
    "    amount decimal (3, 2), \n",
    "    transaction_date datetime default now()\n",
    ");\n",
    "\n",
    "insert into transaction(transaction_id, amount)\n",
    "value(31, 6.67);\n",
    "select * from transaction;\n",
    "\n",
    "------drop------\n",
    "\n",
    "drop table transaction"
   ]
  },
  {
   "cell_type": "markdown",
   "metadata": {},
   "source": [
    "-----------"
   ]
  }
 ],
 "metadata": {
  "language_info": {
   "name": "python"
  }
 },
 "nbformat": 4,
 "nbformat_minor": 2
}
