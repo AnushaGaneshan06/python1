{
 "cells": [
  {
   "cell_type": "markdown",
   "metadata": {},
   "source": [
    "Three Types of Error:\n",
    "1. COMPILE TIME ERROR (execution time error (read)) => syntax error\n",
    "\n",
    "2. LOGICAL ERROR => (a + b) =>         total = total - num \n",
    "    * Logical error: subtraction instead of addition\n",
    "    \n",
    "3. RUN TIME ERROR:\n",
    "    * no compile error\n",
    "    * int to string error\n"
   ]
  },
  {
   "cell_type": "code",
   "execution_count": null,
   "metadata": {},
   "outputs": [],
   "source": [
    "try:\n",
    "    a = 20\n",
    "    b = \"hfj\"\n",
    "    print(a + b)\n",
    "except Exception:\n",
    "    print(\"enter thr string\")"
   ]
  },
  {
   "cell_type": "code",
   "execution_count": null,
   "metadata": {},
   "outputs": [],
   "source": [
    "try:\n",
    "    a = 20\n",
    "    b = \"hfj\"\n",
    "    print(a + b)\n",
    "except Exception as e: # identify the exception\n",
    "    print(\"enter thr string\", e)"
   ]
  },
  {
   "cell_type": "code",
   "execution_count": null,
   "metadata": {},
   "outputs": [],
   "source": [
    "# a = int(\"kfk\") # value error\n",
    "\n",
    "try:\n",
    "    a = int(55)\n",
    "    b = int(20)\n",
    "    c = \"hi\" # if i given type error\n",
    "    print(c / a)\n",
    "except ValueError as e:\n",
    "    print(\"Value Error\", e)\n",
    "except TypeError as e:\n",
    "    print(\"TypeError\", e)\n",
    "\n",
    "finally:\n",
    "    print(\"finished\")\n",
    "\n"
   ]
  },
  {
   "cell_type": "code",
   "execution_count": null,
   "metadata": {},
   "outputs": [],
   "source": [
    "try:\n",
    "    d = 7\n",
    "    a = 0\n",
    "    b = \"hi\" # TypeError\n",
    "    c = int(\"hio\") # value error\n",
    "\n",
    "    print(d / a) # zero error\n",
    "    print(c  - b)\n",
    "\n",
    "except ValueError as e:\n",
    "    print(\"ValueError\", e)\n",
    "\n",
    "except TypeError as e:\n",
    "    print(\"no string\", e)\n",
    "\n",
    "except ZeroDivisionError as e:\n",
    "   print (\"ZeroDivisionError\", e)\n",
    "\n",
    "else:\n",
    "    print(a, b)\n",
    "     \n",
    "finally:\n",
    "    print(\"finished\")\n",
    "\n"
   ]
  },
  {
   "cell_type": "markdown",
   "metadata": {},
   "source": [
    "## 1. FILE NOT FOUND ERROR"
   ]
  },
  {
   "cell_type": "code",
   "execution_count": 60,
   "metadata": {},
   "outputs": [
    {
     "name": "stdout",
     "output_type": "stream",
     "text": [
      "Error: could not found the file or read data\n",
      "finished\n"
     ]
    }
   ],
   "source": [
    "try:\n",
    "    f = open(r\"C:\\Users\\HP\\Documents\\file.txt\", \"r\")\n",
    "    f.write(\"write it\")\n",
    "\n",
    "except IOError:\n",
    "    print(\"Error: could not found the file or read data\")\n",
    "else:\n",
    "    print(\"content written successfully\")\n",
    "    f.close()\n",
    "finally:\n",
    "    print(\"finished\")\n",
    "\n",
    "\n"
   ]
  },
  {
   "cell_type": "code",
   "execution_count": 71,
   "metadata": {},
   "outputs": [],
   "source": [
    "def function():\n",
    "    while True:\n",
    "        try:\n",
    "            val = int(3)\n",
    "        except:\n",
    "            print(\"enter the integer only\", e)\n",
    "            continue\n",
    "        else:\n",
    "            print(\"yep thats an integer!\")\n",
    "            print(val)\n",
    "            break\n",
    "\n",
    "        finally:\n",
    "            print(\"finally executed\")\n",
    "\n",
    "   \n",
    "        "
   ]
  },
  {
   "cell_type": "code",
   "execution_count": 72,
   "metadata": {},
   "outputs": [
    {
     "name": "stdout",
     "output_type": "stream",
     "text": [
      "yep thats an integer!\n",
      "3\n",
      "finally executed\n"
     ]
    }
   ],
   "source": [
    "function()"
   ]
  },
  {
   "cell_type": "markdown",
   "metadata": {},
   "source": [
    "# 2. Custom Exception"
   ]
  }
 ],
 "metadata": {
  "kernelspec": {
   "display_name": "Python 3",
   "language": "python",
   "name": "python3"
  },
  "language_info": {
   "codemirror_mode": {
    "name": "ipython",
    "version": 3
   },
   "file_extension": ".py",
   "mimetype": "text/x-python",
   "name": "python",
   "nbconvert_exporter": "python",
   "pygments_lexer": "ipython3",
   "version": "3.11.8"
  }
 },
 "nbformat": 4,
 "nbformat_minor": 2
}
