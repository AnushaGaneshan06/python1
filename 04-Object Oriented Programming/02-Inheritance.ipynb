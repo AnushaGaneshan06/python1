{
 "cells": [
  {
   "cell_type": "markdown",
   "metadata": {},
   "source": [
    "# Inheritance in Python\n",
    "\n",
    "Inheritance is a mechanism in Python where a class (**child class**) can derive properties and methods from another class (**parent class**). It helps reuse code, organize it logically, and model real-world relationships.\n",
    "\n",
    "---\n",
    "\n",
    "## Key Points about Inheritance\n",
    "1. **Parent Class**: The class whose methods and attributes are inherited.\n",
    "2. **Child Class**: The class that inherits from the parent class.\n",
    "3. **Code Reusability**: Common functionality is defined in the parent class and reused in child classes.\n",
    "4. **Method Overriding**: Child classes can redefine methods of the parent class to customize behavior.\n",
    "5. **Python's `super()`**: Used to access parent class methods or properties from a child class.\n",
    "\n",
    "---\n",
    "\n",
    "## Types of Inheritance\n",
    "\n",
    "1. **Single Inheritance**: A child class inherits from one parent class.\n",
    "2. **Multiple Inheritance**: A child class inherits from more than one parent class.\n",
    "3. **Multilevel Inheritance**: A class inherits from another derived class.\n",
    "4. **Hierarchical Inheritance**: Multiple child classes inherit from the same parent class.\n",
    "5. **Hybrid Inheritance**: Combines two or more types of inheritance.\n",
    "\n",
    "---\n"
   ]
  },
  {
   "cell_type": "markdown",
   "metadata": {},
   "source": [
    "### Single Inheritance\n",
    "\n",
    "**class Parent:**\n",
    "* pass\n",
    "\n",
    "**class Child(Parent):**\n",
    "* pass\n"
   ]
  },
  {
   "cell_type": "code",
   "execution_count": null,
   "metadata": {},
   "outputs": [
    {
     "name": "stdout",
     "output_type": "stream",
     "text": [
      "ravi 7\n",
      "Endrew 1\n",
      "The child class access the parent class\n"
     ]
    }
   ],
   "source": [
    "class Person:\n",
    "    def __init__(self, name, id):\n",
    "        self.name = name\n",
    "        self.id = id\n",
    "\n",
    "    def display(self):\n",
    "        print(self.name, self.id)\n",
    "\n",
    "class Emp(Person):\n",
    "    def emp_display(self):\n",
    "        print(\"The child class access the parent class methods \")\n",
    "\n",
    "\n",
    "parent = Person(\"ravi\", 7)\n",
    "parent.display()\n",
    "\n",
    "\n",
    "child_class = Emp(\"Endrew\", 1)\n",
    "child_class.display()\n",
    "child_class.emp_display()\n",
    "\n"
   ]
  },
  {
   "cell_type": "code",
   "execution_count": 1,
   "metadata": {},
   "outputs": [
    {
     "name": "stdout",
     "output_type": "stream",
     "text": [
      "dog bark\n",
      "cat Meow\n"
     ]
    },
    {
     "data": {
      "text/plain": [
       "True"
      ]
     },
     "execution_count": 1,
     "metadata": {},
     "output_type": "execute_result"
    }
   ],
   "source": [
    "class Animal:\n",
    "    def __init__(self, name, sound):\n",
    "        self.name = name\n",
    "        self.sound = sound\n",
    "\n",
    "    def display(self):\n",
    "        print(self.name, self.sound)\n",
    "\n",
    "    def nothing(self):\n",
    "        return True\n",
    "\n",
    "class Child(Animal):\n",
    "    def child_display(self):\n",
    "        print(\"single inheritance child from the method\")\n",
    "\n",
    "\n",
    "parent = Animal(\"dog\", \"bark\")\n",
    "parent.display()\n",
    "\n",
    "child = Child(\"cat\", \"Meow\")\n",
    "child.display()\n",
    "child.nothing()\n",
    "\n"
   ]
  },
  {
   "cell_type": "markdown",
   "metadata": {},
   "source": [
    "### 2. Multiple Inheritance\n",
    "\n",
    "class Parent1:\n",
    "* pass\n",
    "\n",
    "class Parent2:\n",
    "* pass\n",
    "\n",
    "class Child(Parent1, Parent2):\n",
    "* pass"
   ]
  },
  {
   "cell_type": "code",
   "execution_count": null,
   "metadata": {},
   "outputs": [
    {
     "name": "stdout",
     "output_type": "stream",
     "text": [
      "Method 1 of parent class\n"
     ]
    },
    {
     "ename": "TypeError",
     "evalue": "Parent() takes no arguments",
     "output_type": "error",
     "traceback": [
      "\u001b[1;31m---------------------------------------------------------------------------\u001b[0m",
      "\u001b[1;31mTypeError\u001b[0m                                 Traceback (most recent call last)",
      "Cell \u001b[1;32mIn[5], line 20\u001b[0m\n\u001b[0;32m     17\u001b[0m grand_parent_class \u001b[38;5;241m=\u001b[39m Grand_parent(\u001b[38;5;124m\"\u001b[39m\u001b[38;5;124mharry\u001b[39m\u001b[38;5;124m\"\u001b[39m)\n\u001b[0;32m     18\u001b[0m \u001b[38;5;66;03m# grand_parent_class.grandfather(\"harry\")\u001b[39;00m\n\u001b[1;32m---> 20\u001b[0m parent_class \u001b[38;5;241m=\u001b[39m \u001b[43mParent\u001b[49m\u001b[43m(\u001b[49m\u001b[38;5;124;43m\"\u001b[39;49m\u001b[38;5;124;43muu\u001b[39;49m\u001b[38;5;124;43m\"\u001b[39;49m\u001b[43m)\u001b[49m\n\u001b[0;32m     23\u001b[0m child_class \u001b[38;5;241m=\u001b[39m Child_class(\u001b[38;5;124m\"\u001b[39m\u001b[38;5;124mriya\u001b[39m\u001b[38;5;124m\"\u001b[39m, \u001b[38;5;124m\"\u001b[39m\u001b[38;5;124mlira\u001b[39m\u001b[38;5;124m\"\u001b[39m)\n\u001b[0;32m     24\u001b[0m child_class\u001b[38;5;241m.\u001b[39mmethod()\n",
      "\u001b[1;31mTypeError\u001b[0m: Parent() takes no arguments"
     ]
    }
   ],
   "source": [
    "class Grand_parent:\n",
    "    def grand_parent_class_(self, grandparent_name):\n",
    "        self.grand_parent_name = grandparent_name\n",
    "        print(\"Method 1 of parent class\", self.grand_parent_name)\n",
    "\n",
    "class Parent:\n",
    "    def parent_class(self, parent_name):\n",
    "        self.parent_name = parent_name\n",
    "        print(self.parent_name, \"second class of parent\")\n",
    "\n",
    "class Child_class(Grand_parent, Parent):\n",
    "   def child_class(self, child_name):\n",
    "       self.nachime = c\n",
    "\n",
    "   \n",
    "\n",
    "\n",
    "grand_parent_class = Grand_parent(\"harry\")\n",
    "# grand_parent_class.grandfather(\"harry\")\n",
    "\n",
    "parent_class = Parent(\"uu\")\n",
    "\n",
    "\n",
    "child_class = Child_class(\"riya\", \"lira\")\n",
    "child_class.method()\n",
    "child_class.parent()\n",
    "\n"
   ]
  }
 ],
 "metadata": {
  "kernelspec": {
   "display_name": "Python 3",
   "language": "python",
   "name": "python3"
  },
  "language_info": {
   "codemirror_mode": {
    "name": "ipython",
    "version": 3
   },
   "file_extension": ".py",
   "mimetype": "text/x-python",
   "name": "python",
   "nbconvert_exporter": "python",
   "pygments_lexer": "ipython3",
   "version": "3.11.8"
  }
 },
 "nbformat": 4,
 "nbformat_minor": 2
}
