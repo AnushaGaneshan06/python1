{
 "cells": [
  {
   "cell_type": "markdown",
   "metadata": {},
   "source": [
    "# 04-Object Oriented Programming"
   ]
  },
  {
   "cell_type": "markdown",
   "metadata": {},
   "source": [
    "-----------------\n",
    "\n",
    "### Class Definition:  \n",
    "A **class** is a blueprint for creating objects. It defines attributes (data) and methods (functions) that the objects created from the class will have.  \n",
    "\n",
    "### Object Definition:  \n",
    "An **object** is an instance of a class. It represents a specific entity created based on the class and can access the class's attributes and methods.\n",
    "\n",
    "\n",
    "--------------------------"
   ]
  },
  {
   "cell_type": "markdown",
   "metadata": {},
   "source": [
    "* **Once we set the obj_1 to class , The changes to obj_1 as the variable and then we can access obj_1 in function**"
   ]
  },
  {
   "cell_type": "code",
   "execution_count": null,
   "metadata": {},
   "outputs": [
    {
     "name": "stdout",
     "output_type": "stream",
     "text": [
      "sweety\n",
      "welcome sweety\n",
      "Good Morning!!\n",
      "Good Morning!! sweety\n"
     ]
    }
   ],
   "source": [
    "class Hello():\n",
    "    def greetings(self, name): #method are been in self  # self currect instance of a class\n",
    "        self.name = name # if not the self it consider as the function\n",
    "        print(self.name) \n",
    "\n",
    "class Welcome():\n",
    "    def enters(self, wish):\n",
    "        self.wish = wish\n",
    "        print(self.wish)\n",
    "\n",
    "    \n",
    "obj_1 = Hello()\n",
    "obj_1.greetings(\"sweety\")\n",
    "print(\"welcome\", obj_1.name) \n",
    "\n",
    "obj_2 = Welcome()\n",
    "obj_2.enters(\"Good Morning!!\")\n",
    "print(obj_2.wish, obj_1.name)\n",
    "\n"
   ]
  },
  {
   "cell_type": "markdown",
   "metadata": {},
   "source": [
    "\n",
    "# class"
   ]
  },
  {
   "cell_type": "code",
   "execution_count": null,
   "metadata": {},
   "outputs": [
    {
     "name": "stdout",
     "output_type": "stream",
     "text": [
      "<__main__.Sample object at 0x00000129AD3EF450> <class '__main__.Sample'>\n"
     ]
    }
   ],
   "source": [
    "class Sample():\n",
    "    def function():\n",
    "        pass\n",
    "\n",
    "x = Sample() # instance of object\n",
    "\n",
    "print(x, type(x))"
   ]
  },
  {
   "cell_type": "markdown",
   "metadata": {},
   "source": [
    "**CONSTRUCTOR**\n",
    "\n",
    "1. **With Constructor:**\n",
    "\n",
    "Initialization happens when the object is created.\n",
    "Ensures attributes are properly set and avoids forgetting any required fields.\n",
    "\n",
    "2. **Without Constructor:**\n",
    "\n",
    "Values must be set manually after creating the object.\n",
    "Risks forgetting to initialize or leaving attributes undefined, leading to runtime errors."
   ]
  },
  {
   "cell_type": "code",
   "execution_count": 2,
   "metadata": {},
   "outputs": [
    {
     "name": "stdout",
     "output_type": "stream",
     "text": [
      "riya\n",
      "4\n",
      "5\n"
     ]
    }
   ],
   "source": [
    "name = input(\"enter name : \")\n",
    "print(name)\n",
    "class Constructor1(): # declare\n",
    "    def __init__(self, num1):\n",
    "        self.num1 = num1\n",
    "        print(self.num1)\n",
    "\n",
    "\n",
    "    def function2(self):\n",
    "        self.num1 = self.num1 + 1\n",
    "        print(self.num1)\n",
    "\n",
    "\n",
    "obj_1 = Constructor1(4)\n",
    "obj_1.function2()\n"
   ]
  },
  {
   "cell_type": "markdown",
   "metadata": {},
   "source": [
    "CLASS GLOBAL ATTRIBUTES"
   ]
  },
  {
   "cell_type": "code",
   "execution_count": 2,
   "metadata": {},
   "outputs": [
    {
     "name": "stdout",
     "output_type": "stream",
     "text": [
      "name : andy, age : 12, grade : 90\n",
      "name : andy, age : 12, grade : 91\n"
     ]
    }
   ],
   "source": [
    "class Student():\n",
    "    def __init__(self, name, age, grade):\n",
    "        self.name = name\n",
    "        self.age = age\n",
    "        self.grade = grade\n",
    "        print(f\"name : {self.name}, age : {self.age}, grade : {self.grade}\")\n",
    "\n",
    "    def grade_promoted(self):\n",
    "        self.grade += 1\n",
    "        print(f\"name : {self.name}, age : {self.age}, grade : {self.grade}\")\n",
    "\n",
    "    \n",
    "student = Student(\"andy\", 12, 90)\n",
    "student.grade_promoted()\n"
   ]
  },
  {
   "cell_type": "markdown",
   "metadata": {},
   "source": [
    "BANK ACCOUNT MANAGEMNET"
   ]
  },
  {
   "cell_type": "code",
   "execution_count": 9,
   "metadata": {},
   "outputs": [
    {
     "name": "stdout",
     "output_type": "stream",
     "text": [
      " Bank name : optimi, name : john, bank account : 899, balance : 1300\n",
      "name : john , bank account : 899, balance : 1100\n"
     ]
    }
   ],
   "source": [
    "class Bankaccount():\n",
    "    bank_name = \"optimi\"\n",
    "\n",
    "    def __init__(self, bank_number, holder_name, balance):\n",
    "        self.Bank_number = bank_number\n",
    "        self.holder_name = holder_name\n",
    "        self.balance = balance\n",
    "        \n",
    "    def depoist(self, amount):\n",
    "        self.balance += amount\n",
    "        print(f\" Bank name : {self.bank_name}, name : {self.holder_name}, bank account : {self.Bank_number}, balance : {self.balance}\")\n",
    "\n",
    "    def withdraw(self, amount):\n",
    "        if self.balance >= amount:\n",
    "            self.balance -= amount\n",
    "            print(f\"name : {self.holder_name} , bank account : {self.Bank_number}, balance : {self.balance}\")\n",
    "\n",
    "    \n",
    "\n",
    "bankaccount = Bankaccount(12345, \"lisa\", 500)\n",
    "bankaccount = Bankaccount(899, \"john\", 800)\n",
    "bankaccount.depoist(500)\n",
    "bankaccount.withdraw(200)\n",
    "\n",
    "\n"
   ]
  }
 ],
 "metadata": {
  "kernelspec": {
   "display_name": "Python 3",
   "language": "python",
   "name": "python3"
  },
  "language_info": {
   "codemirror_mode": {
    "name": "ipython",
    "version": 3
   },
   "file_extension": ".py",
   "mimetype": "text/x-python",
   "name": "python",
   "nbconvert_exporter": "python",
   "pygments_lexer": "ipython3",
   "version": "3.11.8"
  }
 },
 "nbformat": 4,
 "nbformat_minor": 2
}
