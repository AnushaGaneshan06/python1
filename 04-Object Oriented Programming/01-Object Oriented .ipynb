{
 "cells": [
  {
   "cell_type": "markdown",
   "metadata": {},
   "source": [
    "# 04-Object Oriented Programming"
   ]
  },
  {
   "cell_type": "markdown",
   "metadata": {},
   "source": [
    "-----------------\n",
    "\n",
    "### Class Definition:  \n",
    "A **class** is a blueprint for creating objects. It defines attributes (data) and methods (functions) that the objects created from the class will have.  \n",
    "\n",
    "### Object Definition:  \n",
    "An **object** is an instance of a class. It represents a specific entity created based on the class and can access the class's attributes and methods.\n",
    "\n",
    "\n",
    "--------------------------"
   ]
  },
  {
   "cell_type": "markdown",
   "metadata": {},
   "source": [
    "* **Once we set the obj_1 to class , The changes to obj_1 as the variable and then we can access obj_1 in function**"
   ]
  },
  {
   "cell_type": "code",
   "execution_count": null,
   "metadata": {},
   "outputs": [
    {
     "name": "stdout",
     "output_type": "stream",
     "text": [
      "sweety\n",
      "welcome sweety\n",
      "Good Morning!!\n",
      "Good Morning!! sweety\n"
     ]
    }
   ],
   "source": [
    "class Hello():\n",
    "    def greetings(self, name): #method are been in self \n",
    "        self.name = name # if not the self it consider as the function\n",
    "        print(self.name) \n",
    "\n",
    "class Welcome():\n",
    "    def enters(self, wish):\n",
    "        self.wish = wish\n",
    "        print(self.wish)\n",
    "\n",
    "    \n",
    "obj_1 = Hello()\n",
    "obj_1.greetings(\"sweety\")\n",
    "print(\"welcome\", obj_1.name) \n",
    "\n",
    "obj_2 = Welcome()\n",
    "obj_2.enters(\"Good Morning!!\")\n",
    "print(obj_2.wish, obj_1.name)\n",
    "\n"
   ]
  },
  {
   "cell_type": "markdown",
   "metadata": {},
   "source": [
    "\n",
    "# class"
   ]
  },
  {
   "cell_type": "code",
   "execution_count": null,
   "metadata": {},
   "outputs": [
    {
     "name": "stdout",
     "output_type": "stream",
     "text": [
      "<__main__.Sample object at 0x00000129AD3EF450> <class '__main__.Sample'>\n"
     ]
    }
   ],
   "source": [
    "class Sample():\n",
    "    def function():\n",
    "        pass\n",
    "\n",
    "x = Sample() # instance of object\n",
    "\n",
    "print(x, type(x))"
   ]
  },
  {
   "cell_type": "markdown",
   "metadata": {},
   "source": [
    "**CONSTRUCTOR**"
   ]
  },
  {
   "cell_type": "code",
   "execution_count": null,
   "metadata": {},
   "outputs": [
    {
     "name": "stdout",
     "output_type": "stream",
     "text": [
      "4\n",
      "5\n"
     ]
    }
   ],
   "source": [
    "class Constructor1():\n",
    "    def __init__(self, num1):\n",
    "        self.num1 = num1\n",
    "        print(self.num1)\n",
    "\n",
    "\n",
    "    def function2(self):\n",
    "        self.num1 = self.num1 + 1\n",
    "        print(self.num1)\n",
    "\n",
    "\n",
    "obj_1 = Constructor1(4)\n",
    "obj_1.function2()\n"
   ]
  },
  {
   "cell_type": "code",
   "execution_count": null,
   "metadata": {},
   "outputs": [],
   "source": [
    "\n"
   ]
  }
 ],
 "metadata": {
  "kernelspec": {
   "display_name": "Python 3",
   "language": "python",
   "name": "python3"
  },
  "language_info": {
   "codemirror_mode": {
    "name": "ipython",
    "version": 3
   },
   "file_extension": ".py",
   "mimetype": "text/x-python",
   "name": "python",
   "nbconvert_exporter": "python",
   "pygments_lexer": "ipython3",
   "version": "3.11.8"
  }
 },
 "nbformat": 4,
 "nbformat_minor": 2
}
