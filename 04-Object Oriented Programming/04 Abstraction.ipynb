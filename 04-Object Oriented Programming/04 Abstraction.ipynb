{
 "cells": [
  {
   "cell_type": "markdown",
   "metadata": {},
   "source": [
    "# ABSTRACTION "
   ]
  },
  {
   "cell_type": "markdown",
   "metadata": {},
   "source": [
    "# Abstraction in Python\n",
    "\n",
    "**Abstraction** is a concept in Python that focuses on hiding the internal implementation details of an object and exposing only its essential features. It allows developers to define a blueprint for objects without worrying about the complexities of how those features are implemented.\n",
    "\n",
    "In Python, abstraction is achieved through **abstract classes** and **abstract methods**, provided by the `abc` (Abstract Base Classes) module. An abstract class serves as a template and cannot be instantiated directly. It often contains one or more abstract methods, which are defined but not implemented in the abstract class itself. Subclasses that inherit from the abstract class must implement these abstract methods.\n",
    "\n",
    "This approach helps to focus on what an object does rather than how it does it, simplifying development and improving code maintainability. For instance, you might define an abstract class `Animal` with a method `make_sound()` and let subclasses like `Dog` or `Cat` implement the specific sound behavior. This ensures that all subclasses follow a consistent structure while allowing flexibility in their implementation.\n"
   ]
  },
  {
   "cell_type": "code",
   "execution_count": 13,
   "metadata": {},
   "outputs": [
    {
     "name": "stdout",
     "output_type": "stream",
     "text": [
      "THE AREA OF THE RECTANGLE : 1496\n",
      "THE PERIMETER OF THE RECTANGLE : 2992\n",
      "THE AREA OF THE TRIANGLE : 45.0\n",
      "THE PERIMETER OF THE TRIANGLE : 93\n"
     ]
    }
   ],
   "source": [
    "from abc import ABC, abstractmethod\n",
    "\n",
    "class Shape(ABC):\n",
    "    @abstractmethod\n",
    "    def area(self):\n",
    "        pass\n",
    "\n",
    "    @abstractmethod\n",
    "    def perimeter(self):\n",
    "        pass\n",
    "\n",
    "\n",
    "class Rectangle(Shape):\n",
    "    def __init__(self, lenght, width):\n",
    "        self.lenght = lenght\n",
    "        self.width  = width\n",
    "\n",
    "    def  area(self):\n",
    "        return self.lenght * self.width\n",
    "    \n",
    "    def perimeter(self):\n",
    "        return 2 * (self.lenght * self.width)\n",
    "    \n",
    "\n",
    "\n",
    "class Triangle(Shape):\n",
    "    def __init__(self, lenght1, lenght2, height):\n",
    "        self.lenght1 = lenght1\n",
    "        self.lenght2 = lenght2\n",
    "        self.height = height\n",
    "\n",
    "\n",
    "    def area(self):\n",
    "        return  0.5 * self.lenght1 * self.height\n",
    "    \n",
    "    def perimeter(self):\n",
    "        return self.lenght1 + self.lenght2 + self.height\n",
    "\n",
    "    \n",
    "    \n",
    "rectangle = Rectangle(34, 44)\n",
    "print(f\"THE AREA OF THE RECTANGLE : {rectangle.area()}\")\n",
    "print(f\"THE PERIMETER OF THE RECTANGLE : {rectangle.perimeter()}\")\n",
    "\n",
    "triangle = Triangle(1, 2, 90)\n",
    "print(f\"THE AREA OF THE TRIANGLE : {triangle.area()}\")\n",
    "\n",
    "print(f\"THE PERIMETER OF THE TRIANGLE : {triangle.perimeter()}\")\n",
    "\n",
    "\n",
    "\n",
    "\n"
   ]
  },
  {
   "cell_type": "markdown",
   "metadata": {},
   "source": [
    "**ABSTRACTION WILL INITATE THE METHOD FORCEFULLY TO THE CHILD METHOD**"
   ]
  },
  {
   "cell_type": "code",
   "execution_count": 21,
   "metadata": {},
   "outputs": [
    {
     "name": "stdout",
     "output_type": "stream",
     "text": [
      "The area of the circle : 28.26\n",
      "The Perimeter of the circle : 18.84\n",
      "$\n",
      "The area of the circle : 9.42\n"
     ]
    }
   ],
   "source": [
    "from abc import ABC, abstractmethod\n",
    "\n",
    "class Shape(ABC):\n",
    "    @abstractmethod\n",
    "    def area(self):\n",
    "        pass\n",
    "    \n",
    "    @abstractmethod\n",
    "    def perimeter(self):\n",
    "        pass\n",
    "\n",
    "    def symbol(self): # this is not the abstract method its normal one where it wont force indent for usage\n",
    "         pass\n",
    "\n",
    "class Cirlce(Shape):\n",
    "        def __init__(self, pi, radius):\n",
    "            self.pi = pi\n",
    "            self.radius = radius\n",
    "\n",
    "        def area(self):\n",
    "            return  self.pi * self.radius**2\n",
    "        \n",
    "        def perimeter(self):\n",
    "            return 2 * (self.pi * self.radius)\n",
    "        \n",
    "        def symbol(self):\n",
    "            print(\"$\")\n",
    "        \n",
    "\n",
    "class Rectangle(Shape):\n",
    "    def __init__(self, lenght, height):\n",
    "          self.lenght = lenght\n",
    "          self.height = height\n",
    "    \n",
    "    def area(self):\n",
    "        return self.lenght * self.height\n",
    "    \n",
    "    def perimeter(self):\n",
    "        pass\n",
    "        \n",
    "        \n",
    "\n",
    "\n",
    "# ALL THE CLASSES SHOULD FOLLOW METHOD INITATE BY SHAPE OR ABSTRACT CLASS OR LEADS ERROR \n",
    "circle = Cirlce(3.14, 3)\n",
    "print(f\"The area of the circle : {circle.area()}\")\n",
    "print(f\"The Perimeter of the circle : {circle.perimeter()}\")\n",
    "circle.symbol()\n",
    "\n",
    "rectangle = Rectangle(3.14, 3)\n",
    "print(f\"The area of the circle : {rectangle.area()}\")\n",
    "# print(f\"The Perimeter of the circle : {rectangle.perimeter()}\")\n",
    "\n",
    "\n",
    "\n",
    "\n",
    "\n"
   ]
  }
 ],
 "metadata": {
  "kernelspec": {
   "display_name": "Python 3",
   "language": "python",
   "name": "python3"
  },
  "language_info": {
   "codemirror_mode": {
    "name": "ipython",
    "version": 3
   },
   "file_extension": ".py",
   "mimetype": "text/x-python",
   "name": "python",
   "nbconvert_exporter": "python",
   "pygments_lexer": "ipython3",
   "version": "3.11.8"
  }
 },
 "nbformat": 4,
 "nbformat_minor": 2
}
