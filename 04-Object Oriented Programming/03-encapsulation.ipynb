{
 "cells": [
  {
   "cell_type": "markdown",
   "metadata": {},
   "source": [
    "# 03-encapsulation"
   ]
  },
  {
   "cell_type": "markdown",
   "metadata": {},
   "source": [
    "**Encapsulation** is a fundamental concept in **object-oriented programming (OOP)** that combines data and methods within a single unit called an **object**. It refers to the bundling of data and the methods that operate on that data, thereby hiding the internal details of an object from the outside world.\n",
    "\n",
    "Encapsulation provides several benefits, including:\n",
    "Data Protection: Encapsulation enables you to control the access to the internal data of an object. By making the data **private** or using **access modifiers** (such as **public**, **private**, or **protected**), you can restrict direct access to the data from outside the object. Instead, interactions with the data are performed through defined methods, which allows you to enforce proper validation, security, and consistency.\n",
    "\n",
    "**Abstraction**: Encapsulation helps in achieving **abstraction** by exposing only the necessary details and hiding the implementation complexities. Users of an object only need to know how to interact with it through its **public methods**, without being concerned about the inner workings or representation of the object.\n",
    "\n",
    "**Code Organization**: Encapsulation promotes **modular** and **organized code**. By encapsulating related data and methods within an object, you create self-contained units that are easier to understand, maintain, and reuse. Changes to the internal implementation of an object can be made without affecting other parts of the code that rely on the object's public interface.\n",
    "\n",
    "**Code Flexibility**: Encapsulation allows you to modify the internal implementation of an object without affecting the code that uses the object. As long as the **public interface** remains the same, you can make changes to improve performance, add new features, or fix issues without impacting the external code.\n",
    "\n",
    "In many object-oriented languages like **Python**, encapsulation is achieved through **access modifiers**. These modifiers determine the level of visibility and accessibility of class members (attributes and methods) from within and outside the class. Python has three access modifiers:\n",
    "\n",
    "**Public**: Public members are accessible from anywhere, both inside and outside the class.\n",
    "**Protected**: Protected members are accessible within the class and its subclasses.\n",
    "**Private**: Private members are only accessible within the class itself.\n",
    "In Python, the convention is to use a single underscore **(_)** prefix to indicate a protected member and a double underscore **(__)** prefix to indicate a private member. However, it's important to note that Python's access modifiers are more of a convention and not strictly enforced by the language itself.\n",
    "\n",
    "Encapsulation allows you to create well-defined and modular objects, providing better control over data access, promoting code reusability, and enhancing code organization and flexibility."
   ]
  },
  {
   "cell_type": "markdown",
   "metadata": {},
   "source": [
    "# Difference Between Abstraction and Encapsulation\n",
    "\n",
    "| **Feature**            | **Abstraction**                                                                 | **Encapsulation**                                                             |\n",
    "|-------------------------|---------------------------------------------------------------------------------|--------------------------------------------------------------------------------|\n",
    "| **Definition**          | Abstraction focuses on **hiding the implementation details** and showing only the **essential features** to the user. | Encapsulation involves **hiding data** within a class and controlling access to it via methods (getters/setters). |\n",
    "| **Purpose**             | To reduce complexity and increase simplicity by focusing on high-level functionality. | To ensure data security and restrict direct access to class members.           |\n",
    "| **Implementation**      | Achieved using **abstract classes** and **interfaces**.                         | Achieved using **access modifiers** like `private`, `protected`, and `public`. |\n",
    "| **Example**             | A `Vehicle` class shows `start()` and `stop()` methods without revealing the engine's working. | A `BankAccount` class keeps `account_balance` private and provides methods like `deposit()` and `withdraw()`. |\n",
    "| **Focus**               | Focuses on **what an object does**.                                             | Focuses on **how data is protected**.                                          |\n",
    "| **Real-world Analogy**  | Using a remote control to operate a TV without knowing its internal circuits.   | ATM machine stores user data securely and allows interaction only through specific operations. |\n",
    "\n",
    "## Summary\n",
    "\n",
    "- **Abstraction**: About **hiding the \"how\"** (implementation) and showing the \"what\" (functionality).\n",
    "- **Encapsulation**: About **hiding the \"data\"** and exposing it securely through controlled access.\n",
    "\n",
    "---\n"
   ]
  },
  {
   "cell_type": "markdown",
   "metadata": {},
   "source": [
    "# Access Specifiers: Public, Private, and Protected\n",
    "\n",
    "| **Specifier**   | **Definition**                                   | **Where Accessible**                     |\n",
    "|------------------|-------------------------------------------------|------------------------------------------|\n",
    "| **Public**       | No restrictions, accessible everywhere.         | Anywhere in the program.                 |\n",
    "| **Protected**    | Limited to the class and its subclasses.         | Class and subclasses (not outside).      |\n",
    "| **Private**      | Strictly within the class only.                  | Only inside the class.                   |\n",
    "## Summary\n",
    "- **Public**: Accessible anywhere.\n",
    "- **Protected**: Accessible within the class and subclasses.\n",
    "- **Private**: Accessible only inside the class.\n",
    "\n",
    "----\n"
   ]
  },
  {
   "cell_type": "code",
   "execution_count": null,
   "metadata": {},
   "outputs": [],
   "source": [
    "class Student():\n",
    "    def __init__(self, name, age):\n",
    "        self.__age = age # private class \n",
    "        self.__name = name \n",
    "\n",
    "    def display(self):\n",
    "        print(f\"Name : {self.__name}, age : {self.__age} \")\n",
    "\n",
    "    def promoted(self, class1):\n",
    "        self.class1 = class1\n",
    "        self.class1 += 1\n",
    "    \n",
    "    def promoted_level(self):\n",
    "        print(\"promoted to the class :\", self.class1 )\n",
    "\n",
    "\n",
    "\n",
    "student = Student(\"alice\", 12)\n",
    "student.display()\n",
    "student.promoted(8)\n",
    "student.promoted_level()\n",
    "        "
   ]
  },
  {
   "cell_type": "code",
   "execution_count": null,
   "metadata": {},
   "outputs": [],
   "source": [
    "class Bankaccount():\n",
    "    def __init__(self, account_number, holder_name,balance, deposit, withdraw):\n",
    "        self._account_number = account_number\n",
    "        self.__holder_name = holder_name\n",
    "        self.balance = balance\n",
    "        self.__deposit = deposit\n",
    "        self.withdraw = withdraw\n",
    "\n",
    "    def display(self):\n",
    "        print(f\"Account: {self._account_number}, name : {self.__holder_name}, balance: {self.balance}\")\n",
    "\n",
    "    def deposit_fn(self):\n",
    "        self.balance += self.__deposit\n",
    "        print(\"The deposit amount :\", self.balance)\n",
    "\n",
    "    def withdraw_fn(self):\n",
    "        self.balance -= self.withdraw\n",
    "        print(f\"the balance amount: { self.balance}, withdraw : {self.withdraw}\")\n",
    "\n",
    "class Child(Bankaccount):\n",
    "    def display_child(self):\n",
    "                print(f\"Account: {self._account_number}, name : {self.__holder_name}, balance: {self.balance}\")\n",
    "\n",
    "    def withdraw_fn(self):\n",
    "        print(\"_______child class______\")\n",
    "        print(f\"the balance amount: { self.balance}, withdraw : {self.withdraw}, account number : {self._account_number}\")\n",
    "\n",
    "         \n",
    "\n",
    "bankaccount = Bankaccount(2234, \"alice\", 800, 100, 400)\n",
    "bankaccount.display()\n",
    "bankaccount.deposit_fn()\n",
    "bankaccount.withdraw_fn()\n",
    "\n",
    "child = Child(900,\"harry\", 1000, 100, 100)\n",
    "child.withdraw_fn()\n",
    "child.display_child() # LEADS ERROR BECAUSE  PRIVATE CLASS CANT ACCESS THE IN CHILD PART\n",
    "# child.withdraw_fn()\n",
    "\n",
    "\n",
    "\n",
    "\n",
    "        \n"
   ]
  },
  {
   "cell_type": "code",
   "execution_count": null,
   "metadata": {},
   "outputs": [],
   "source": [
    "print(bankaccount.balance)\n",
    "print(bankaccount._account_number)\n",
    "print(bankaccount.__deposit)\n",
    "# print(bankaccount._account_number)"
   ]
  }
 ],
 "metadata": {
  "kernelspec": {
   "display_name": "Python 3",
   "language": "python",
   "name": "python3"
  },
  "language_info": {
   "codemirror_mode": {
    "name": "ipython",
    "version": 3
   },
   "file_extension": ".py",
   "mimetype": "text/x-python",
   "name": "python",
   "nbconvert_exporter": "python",
   "pygments_lexer": "ipython3",
   "version": "3.11.8"
  }
 },
 "nbformat": 4,
 "nbformat_minor": 2
}
