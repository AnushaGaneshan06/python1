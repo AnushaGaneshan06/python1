{
 "cells": [
  {
   "cell_type": "markdown",
   "metadata": {},
   "source": [
    "04 **What is Polymorphism?** (Person with diffrent works with same name )\n",
    "\n",
    "**Polymorphism** is a concept in object-oriented programming (OOP) that allows objects of different classes to be treated as objects of a common superclass. It enables different classes to have different implementations of the same method, allowing for code reusability and flexibility."
   ]
  },
  {
   "cell_type": "markdown",
   "metadata": {},
   "source": [
    "**Polymorphism** is a powerful concept that enhances code flexibility, reusability, and maintainability in object-oriented programming. By leveraging method overriding, method overloading, inheritance, and duck typing, you can effectively apply polymorphism in your Python programs."
   ]
  },
  {
   "cell_type": "markdown",
   "metadata": {},
   "source": [
    "| **Polymorphism Method**       | **Definition**                                               | **Example**                                      |\n",
    "|-------------------------------|-------------------------------------------------------------|--------------------------------------------------|\n",
    "| **Method Overloading**        | Same method name with different arguments.                  | `calc.add(2, 3)` → 5, `calc.add(2, 3, 4)` → 9   |\n",
    "| **Method Overriding**         | Subclass provides its own method for an inherited method.   | `Dog().speak()` → \"Bark!\", `Cat().speak()` → \"Meow!\" |\n",
    "| **Operator Overloading**      | Operators behave differently depending on operand types.    | `p1 + p2` (Point objects) → `(4, 6)`            |\n",
    "| **Built-In Function Polymorphism** | Built-in functions behave differently for different types. | `len(\"Hello\")` → 5, `len([1, 2, 3])` → 3        |\n",
    "| **Custom Function Polymorphism** | Custom functions work with different object types.         | `perform_fly(Bird())` → \"Flying!\"               |\n"
   ]
  },
  {
   "cell_type": "markdown",
   "metadata": {},
   "source": [
    "| **Aspect**           | **Method Overloading**                              | **Method Overriding**                              | **Duck Typing**                                         |\n",
    "|----------------------|----------------------------------------------------|----------------------------------------------------|--------------------------------------------------------|\n",
    "| **Definition**        | Defining multiple methods in the same class with different parameters. | Redefining a method in a subclass to provide a specific implementation. | An object's behavior is determined by its methods and properties rather than its class. |\n",
    "| **Purpose**           | Enables compile-time polymorphism (if supported by the language). | Enables runtime polymorphism (dynamic method dispatch). | Focuses on the behavior of objects based on method signatures, not type. |\n",
    "| **When Used**         | When you want to perform similar actions with varying input parameters. | When a child class needs a custom implementation of a method from its parent class. | In languages like Python, where type checking is flexible and objects can adapt their behavior dynamically. |\n"
   ]
  },
  {
   "cell_type": "markdown",
   "metadata": {},
   "source": [
    "# Method Overloading (not applicable for python)"
   ]
  },
  {
   "cell_type": "markdown",
   "metadata": {},
   "source": [
    "**Method Overloading:**\n",
    "\n",
    "Method overloading refers to the ability to define multiple methods with the same name but with different parameters or argument types. In Python, method overloading is not directly supported as it is in some other languages. However, you can achieve similar behavior using default parameter values oar by using variable-length argument lists."
   ]
  },
  {
   "cell_type": "code",
   "execution_count": null,
   "metadata": {},
   "outputs": [],
   "source": [
    "# METHOD OVERLOADING IS WONT WORK ON PYTHON(ERROR😒)\n",
    "# method with same name and differ in arguments\n",
    "class Function():\n",
    "    def add(self, a, b):\n",
    "        return a + b\n",
    "    \n",
    "    def add(self, a, b, c):\n",
    "        return a + b + c # \n",
    "    \n",
    "function = Function()\n",
    "# ------------------------\n",
    "# Function.add() missing 1 required positional argument: 'c'\n",
    "\n",
    "function.add(3, 4)\n",
    "function.add(4, 5, 6) \n"
   ]
  },
  {
   "cell_type": "code",
   "execution_count": null,
   "metadata": {},
   "outputs": [],
   "source": [
    "# WE CAN OVER COME BY ASSIGNING IN THE PARAMETER\n",
    "\n",
    "class Function():\n",
    "    def add(self, a, b = 0):\n",
    "        return a + b\n",
    "    def add(self, a, b = 0, c = 0):\n",
    "        return( a + b + c)\n",
    "    \n",
    "function = Function()\n",
    "print(function.add(2, 3))\n",
    "print(function.add(4, 1, 5))"
   ]
  },
  {
   "cell_type": "code",
   "execution_count": null,
   "metadata": {},
   "outputs": [],
   "source": [
    "class Printer():\n",
    "    def print_value(self, value):\n",
    "        if isinstance(value, int):\n",
    "            print(f\"INTERGER : {value}\")\n",
    "        elif isinstance(value, str):\n",
    "            print(f\"String : {value}\")\n",
    "\n",
    "        elif isinstance(value, float):\n",
    "            print(f\"Float : {value}\")\n",
    "        \n",
    "        else:\n",
    "            print(\"invalid\")\n",
    "\n",
    "\n",
    "printer = Printer()\n",
    "printer.print_value(3.3)\n",
    "printer.print_value(\"hello\")\n",
    "printer.print_value(89)"
   ]
  },
  {
   "cell_type": "markdown",
   "metadata": {},
   "source": [
    "#### **CONSTRUCTOR IN OVERLOADING**"
   ]
  },
  {
   "cell_type": "code",
   "execution_count": null,
   "metadata": {},
   "outputs": [],
   "source": [
    "class Person():\n",
    "    def __init__(self, name = \"unknown\", age = 0):\n",
    "        self.name = name\n",
    "        self.age = age\n",
    "\n",
    "    def display(self):\n",
    "        print(f\"Name : {self.name}, age: {self.age}\")\n",
    "\n",
    "person1 = Person()\n",
    "person2 = Person(\"bob\")\n",
    "person3 = Person(\"Alice\", 34)\n",
    "person1.display()\n",
    "person1.display()\n",
    "person3.display()"
   ]
  },
  {
   "cell_type": "markdown",
   "metadata": {},
   "source": [
    "# Method Overriding"
   ]
  },
  {
   "cell_type": "markdown",
   "metadata": {},
   "source": [
    "**Method overriding** is achieved by defining a method with the same name in the subclass as the one in the superclass. When an object of the subclass calls the overridden method, the implementation in the subclass is executed instead of the implementation in the superclass."
   ]
  },
  {
   "cell_type": "code",
   "execution_count": null,
   "metadata": {},
   "outputs": [],
   "source": [
    "class Animal():\n",
    "    def make_sound(self):\n",
    "        print(\"generic sound\")\n",
    "\n",
    "class Dog(Animal):\n",
    "    def make_sound(self):\n",
    "        print(\"dog sound bark\")\n",
    "\n",
    "class Cat(Animal):\n",
    "    def make_sound(self):\n",
    "        print(\"cat sound  Meow\")\n",
    "\n",
    "# function to make the differnt method to call \n",
    "def animal_sound(animal):\n",
    "    animal.make_sound()\n",
    "\n",
    "dog = Dog()\n",
    "cat = Cat()\n",
    "\n",
    "#make function to call the animal_sound to access through dog and cat \n",
    "animal_sound(dog)\n",
    "animal_sound(cat)\n",
    "\n",
    "# normal method to call \n",
    "# -----------------------\n",
    "# dog.make_sound()\n",
    "# cat.make_sound()"
   ]
  },
  {
   "cell_type": "code",
   "execution_count": null,
   "metadata": {},
   "outputs": [
    {
     "name": "stdout",
     "output_type": "stream",
     "text": [
      "100\n",
      "300\n"
     ]
    }
   ],
   "source": [
    "class Employee():\n",
    "    def calculate_salary(self):\n",
    "        return 0\n",
    "\n",
    "class Manager(Employee):\n",
    "    def calculate_salary(self):\n",
    "        return 100\n",
    "    \n",
    "class Developer(Employee):\n",
    "    def calculate_salary(self):\n",
    "        return 300\n",
    "    \n",
    "manager = Manager()\n",
    "developer = Developer()\n",
    "\n",
    "print(f\"{manager.calculate_salary()}\") # manager access the own methods only\n",
    "print(developer.calculate_salary())"
   ]
  },
  {
   "cell_type": "markdown",
   "metadata": {},
   "source": [
    "In this example, the Employee class has a method calculate_salary() that returns 0, but the Manager and Developer subclasses override this method to calculate and return specific salaries for each type of employee."
   ]
  }
 ],
 "metadata": {
  "kernelspec": {
   "display_name": "Python 3",
   "language": "python",
   "name": "python3"
  },
  "language_info": {
   "codemirror_mode": {
    "name": "ipython",
    "version": 3
   },
   "file_extension": ".py",
   "mimetype": "text/x-python",
   "name": "python",
   "nbconvert_exporter": "python",
   "pygments_lexer": "ipython3",
   "version": "3.11.8"
  }
 },
 "nbformat": 4,
 "nbformat_minor": 2
}
