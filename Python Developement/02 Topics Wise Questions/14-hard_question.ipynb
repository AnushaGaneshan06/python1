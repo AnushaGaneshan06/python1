{
 "cells": [
  {
   "cell_type": "markdown",
   "metadata": {},
   "source": [
    "1.  Write a Python program to sort a list of strings based on the length of each string.\n"
   ]
  },
  {
   "cell_type": "code",
   "execution_count": 9,
   "metadata": {},
   "outputs": [
    {
     "name": "stdout",
     "output_type": "stream",
     "text": [
      "['zero', 'grape', 'ginger', 'laptop', 'python-learning', 'apple taste sweet']\n"
     ]
    }
   ],
   "source": [
    "def sort_by_lenght(strings):\n",
    "    return sorted(strings, key=len)\n",
    "\n",
    "\n",
    "strings = [\"zero\", \"apple taste sweet\", \"grape\", \"ginger\", \"laptop\", \"python-learning\"]\n",
    "sorted_list = sort_by_lenght(strings)\n",
    "print(sorted_list)\n",
    "\n",
    "\n",
    "\n",
    "\n"
   ]
  },
  {
   "cell_type": "markdown",
   "metadata": {},
   "source": [
    "2. Write a program to check if a given number is a prime number.\n"
   ]
  },
  {
   "cell_type": "code",
   "execution_count": 18,
   "metadata": {},
   "outputs": [
    {
     "name": "stdout",
     "output_type": "stream",
     "text": [
      "not prime numebr  90\n"
     ]
    }
   ],
   "source": [
    "def prime_number(n):\n",
    "    if n <= 1:\n",
    "        return False\n",
    "    \n",
    "    for i in range(2, int(n ** 0.5) + 1):\n",
    "        if n % i == 0:\n",
    "            return False\n",
    "    \n",
    "    return True\n",
    "    \n",
    "n = int(input(\"Enter the number : \"))\n",
    "\n",
    "if prime_number(n):\n",
    "    print(\"prime number\", n)\n",
    "else:\n",
    "    print(\"not prime numebr \", n)\n"
   ]
  },
  {
   "cell_type": "markdown",
   "metadata": {},
   "source": [
    "3. Write a Python program to find the GCD (Greatest Common Divisor) of two numbers.\n"
   ]
  },
  {
   "cell_type": "code",
   "execution_count": 20,
   "metadata": {},
   "outputs": [
    {
     "name": "stdout",
     "output_type": "stream",
     "text": [
      "gcd of 48 and 18 is 6\n"
     ]
    }
   ],
   "source": [
    "def gcd(a, b):\n",
    "\n",
    "    while b:\n",
    "        a, b = b, a % b\n",
    "    return a\n",
    "\n",
    "num1 = int(input(\"Enter the numerb 1 : \"))\n",
    "num2 = int(input(\"Enter the numerb 2 : \"))\n",
    "\n",
    "\n",
    "\n",
    "gcd_result = gcd(num1, num2)\n",
    "print(f\"gcd of {num1} and {num2} is {gcd_result}\")"
   ]
  },
  {
   "cell_type": "markdown",
   "metadata": {},
   "source": [
    "4. Write a program to reverse a number and check if it is a palindrome.\n"
   ]
  },
  {
   "cell_type": "code",
   "execution_count": 22,
   "metadata": {},
   "outputs": [
    {
     "name": "stdout",
     "output_type": "stream",
     "text": [
      "not palindrome three\n"
     ]
    }
   ],
   "source": [
    "def palindrome(string):\n",
    "    reversed_string = \"\"\n",
    "    for  i in string :\n",
    "        reversed_string = i + reversed_string\n",
    "\n",
    "    if string == reversed_string:\n",
    "        return True\n",
    "    else:\n",
    "        return False\n",
    "    \n",
    "strings = input(\"Enter the string : \")\n",
    "if palindrome(strings):\n",
    "    print(\"palindrome \", strings)\n",
    "else:\n",
    "    print(\"not palindrome\", strings)\n"
   ]
  },
  {
   "cell_type": "markdown",
   "metadata": {},
   "source": [
    "5. Write a Python program to check if a given string is an anagram of another string.\n"
   ]
  },
  {
   "cell_type": "code",
   "execution_count": 27,
   "metadata": {},
   "outputs": [
    {
     "name": "stdout",
     "output_type": "stream",
     "text": [
      "it is anagram\n"
     ]
    }
   ],
   "source": [
    "string1 = input(\"Enter the string 1 : \")\n",
    "string2 = input(\"Enter the string 2 :\")\n",
    "\n",
    "\n",
    "sort_string1 = sorted(string1)\n",
    "sort_string2 = sorted(string1)\n",
    "\n",
    "if sort_string1 == sort_string2:\n",
    "    print(\"it is anagram\")\n",
    "else:\n",
    "    print(\"not an anagram\")\n",
    "\n",
    "\n",
    "\n"
   ]
  }
 ],
 "metadata": {
  "kernelspec": {
   "display_name": "Python 3",
   "language": "python",
   "name": "python3"
  },
  "language_info": {
   "codemirror_mode": {
    "name": "ipython",
    "version": 3
   },
   "file_extension": ".py",
   "mimetype": "text/x-python",
   "name": "python",
   "nbconvert_exporter": "python",
   "pygments_lexer": "ipython3",
   "version": "3.11.8"
  }
 },
 "nbformat": 4,
 "nbformat_minor": 2
}
