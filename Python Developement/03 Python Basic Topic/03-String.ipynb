{
 "cells": [
  {
   "cell_type": "markdown",
   "metadata": {},
   "source": [
    "-----"
   ]
  },
  {
   "cell_type": "markdown",
   "metadata": {},
   "source": [
    "## **STRING IN PYTHON**"
   ]
  },
  {
   "cell_type": "markdown",
   "metadata": {},
   "source": [
    "* **A string is a sequence of characters, such as letters, numbers, and symbols, enclosed in quotes.**\n",
    "* **In Python, a string** is a sequence of characters enclosed in **single quotes (')**, **double quotes (\")**, or **triple quotes (''' or \"\"\")**.\n",
    "* Strings are used to store and manipulate text data.\n",
    "https://i.sstatic.net/O0eOZ.png"
   ]
  },
  {
   "cell_type": "code",
   "execution_count": 1,
   "metadata": {},
   "outputs": [],
   "source": [
    "# CREATING THE STRING\n",
    "\n",
    "# single quote\n",
    "a = 'jenni'\n",
    "\n",
    "#double quotes\n",
    "a = \"Welcome\"\n",
    "\n",
    "#Multiline string\n",
    "\n",
    "a = \"\"\"THE MULTI LINE STRING\"\"\"\n"
   ]
  },
  {
   "cell_type": "markdown",
   "metadata": {},
   "source": [
    "### ***Basic string Operation***"
   ]
  },
  {
   "cell_type": "code",
   "execution_count": null,
   "metadata": {},
   "outputs": [],
   "source": [
    "# CONCATENATION\n",
    "\n",
    "str1 = \"hello\"\n",
    "str2 = \"world!!\"\n",
    "\n",
    "print(str1 + \" \" + str2)"
   ]
  },
  {
   "cell_type": "code",
   "execution_count": null,
   "metadata": {},
   "outputs": [],
   "source": [
    "# REPITATION\n",
    "\n",
    "str1 = \"hello world \"\n",
    "\n",
    "print(str1 * 3)"
   ]
  },
  {
   "cell_type": "code",
   "execution_count": null,
   "metadata": {},
   "outputs": [],
   "source": [
    "# ACCESSING THE SPECIFIC CHARACTER\n",
    "\n",
    "string1 = \"Hello World is the python programming!!\"\n",
    "\n",
    "indexing = string1[0]\n",
    "\n",
    "print(indexing)\n",
    "\n",
    "print(string1[-1])\n",
    "print(string1[9])"
   ]
  },
  {
   "cell_type": "code",
   "execution_count": null,
   "metadata": {},
   "outputs": [],
   "source": [
    "# SCILING (EXTRACTING FROM THE STRING)\n",
    "\n",
    "# this specify with START STOP STEP\n",
    "\n",
    "string1 = \"Hello this is python sciling!!\"\n",
    "\n",
    "print(string1[0:]) #start to end\n",
    "print(string1[2:5]) #specific point\n",
    "print(string1[:9]) # start to stop point\n",
    "print(string1[1:8:2]) # step 2\n",
    "print(string1[::5]) # only steps\n",
    "print(string1[0::2])\n",
    "print(string1[-1])"
   ]
  },
  {
   "cell_type": "code",
   "execution_count": null,
   "metadata": {},
   "outputs": [],
   "source": [
    "# LENGHT \n",
    "\n",
    "string1 = \"hello\"\n",
    "print(len(string1))"
   ]
  },
  {
   "cell_type": "code",
   "execution_count": null,
   "metadata": {},
   "outputs": [],
   "source": [
    "# MEMBERSHIP TESTING\n",
    "\n",
    "string1 = \"membership not operator\"\n",
    "\n",
    "print(\"not\" in string1)\n",
    "print(\"member\" not in string1) #there but not bc not function"
   ]
  },
  {
   "cell_type": "markdown",
   "metadata": {},
   "source": [
    "----"
   ]
  },
  {
   "cell_type": "markdown",
   "metadata": {},
   "source": [
    "## ***string method***"
   ]
  },
  {
   "cell_type": "markdown",
   "metadata": {},
   "source": [
    "####    1. ***Case Manipulation***"
   ]
  },
  {
   "cell_type": "code",
   "execution_count": null,
   "metadata": {},
   "outputs": [],
   "source": [
    "text = \"hello python\"\n",
    "\n",
    "print(text.capitalize()) #1st letter cap\n",
    "\n",
    "print(text.upper())\n",
    "\n",
    "print(text.lower())\n",
    "\n",
    "print(text.title())\n",
    "\n",
    "text = \"ProGram\"\n",
    "\n",
    "print(text.swapcase()) # interchange swap\n",
    "\n"
   ]
  },
  {
   "cell_type": "markdown",
   "metadata": {},
   "source": [
    "#### ***2. Trimming and Padding***"
   ]
  },
  {
   "cell_type": "code",
   "execution_count": null,
   "metadata": {},
   "outputs": [],
   "source": [
    "text = \"    Python   function   \"\n",
    "\n",
    "# Remove leading and trailing whitespace\n",
    "print(text.strip(), type(text.strip()))\n",
    "\n",
    "\n",
    "#Whenever the spilt fn used it turn over as list\n",
    "print(type(text.split()), text.split())\n",
    "\n",
    "\n",
    "# Remove the leading(first) spaces\n",
    "print(text.lstrip(), type(text.lstrip()))\n",
    "\n",
    "\n",
    "# Remove trailing whitespaces\n",
    "print(text.rstrip(), type(text.rstrip()))\n",
    "\n",
    "\n",
    "# Adding padding with specific character\n",
    "print(text.center(50, '-'))"
   ]
  },
  {
   "cell_type": "markdown",
   "metadata": {},
   "source": [
    "#### ***3. Search and Replace***"
   ]
  },
  {
   "cell_type": "code",
   "execution_count": null,
   "metadata": {},
   "outputs": [],
   "source": [
    "text = \"python is fun\"\n",
    "\n",
    "print(text.find(\"is\"))\n",
    "\n",
    "print(text.replace(\"is\", \"merge\"))\n",
    "\n",
    "print(text.count(\"s\"))"
   ]
  },
  {
   "cell_type": "markdown",
   "metadata": {},
   "source": [
    "#### ***4. Splitting and Joining***"
   ]
  },
  {
   "cell_type": "code",
   "execution_count": null,
   "metadata": {},
   "outputs": [],
   "source": [
    "text = \"python, java, c++\"\n",
    "\n",
    "# split the list\n",
    "languages = text.split(\",\")\n",
    "print(languages)\n",
    "\n",
    "# join a list into the single string\n",
    "joined = \"|\".join(languages)\n",
    "print(joined)"
   ]
  },
  {
   "cell_type": "markdown",
   "metadata": {},
   "source": [
    "------------"
   ]
  },
  {
   "cell_type": "markdown",
   "metadata": {},
   "source": [
    "#### ***5. String Foramtting***"
   ]
  },
  {
   "cell_type": "markdown",
   "metadata": {},
   "source": [
    "    placeholder for inserting values into a string\n",
    "* %s → String\n",
    "* %d → Integer\n",
    "* %f → Floating-point number\n",
    "* %x → Hexadecimal\n",
    "* %o → Octal\n",
    "* %e → Scientific notation\n",
    "* %% → Literal %"
   ]
  },
  {
   "cell_type": "code",
   "execution_count": null,
   "metadata": {},
   "outputs": [],
   "source": [
    "name = \"Emma Watson\"\n",
    "print(\"hello , %s\" %name)\n",
    "\n",
    "age = 25\n",
    "print(\"the age %d year old\" %age)\n",
    "\n",
    "pi = 3.14\n",
    "print(\"the pi value %f\" %pi)\n",
    "print(\"the pi value %.2f\" %pi)\n",
    "\n",
    "\n",
    "# Multiple placeholder\n",
    "\n",
    "print(\"my name is %s and iam %d years old %.2f value:\" %(name, age, pi))\n",
    "\n"
   ]
  },
  {
   "cell_type": "code",
   "execution_count": 124,
   "metadata": {},
   "outputs": [
    {
     "name": "stdout",
     "output_type": "stream",
     "text": [
      "Floating point numbers : 13\n",
      "Floating point number : 13.40000\n",
      "Floating point number :      13.21\n",
      "Floating number :                    26.200\n",
      "This is two decimal point number :      89.19\n",
      "My 10 character, four decimal number is:   23.4542\n",
      "My 10 character four decimal number is:   23.4542\n",
      "MY 10 character , four decimal number is :    23.4542\n"
     ]
    }
   ],
   "source": [
    "print(\"Floating point numbers : %1.0f\" %(13.29829))\n",
    "\n",
    "print(\"Floating point number : %1.5f\" %(13.4))\n",
    "\n",
    "print(\"Floating point number : %10.2f\" %(13.21))\n",
    "\n",
    "print(\"Floating number : %25.3f\" %(26.2002))\n",
    "\n",
    "print(\"This is two decimal point number : %10.2f\" %89.18778)\n",
    "\n",
    "num = 23.454222\n",
    "\n",
    "print(\"My 10 character, four decimal number is:{0:10.4f}\".format(num))\n",
    "\n",
    "print(\"My 10 character four decimal number is:{0:10.4f}\".format(num))\n",
    "\n",
    "print(f\"MY 10 character , four decimal number is : {num: {10}.{6}}\")\n",
    "\n"
   ]
  },
  {
   "cell_type": "markdown",
   "metadata": {},
   "source": [
    "#### ***Positional and Keyword Arguments***"
   ]
  },
  {
   "cell_type": "code",
   "execution_count": null,
   "metadata": {},
   "outputs": [],
   "source": [
    "# INSERT OBJECT IS CALLED BY INDEX POSITION\n",
    "\n",
    "print(\"The {2} {1} {0}\".format(\"fox\", \"brown\", \"quick\"))\n",
    "\n",
    "# KEYWORD ARGUMENTS TO SPECIFIC VALUE\n",
    "print(\"my name is {name} and Iam {age} year old\".format(name = \"emma\", age = \"22\"))\n",
    "\n",
    "print(\"A {p} saved is a {p} earned \".format(p = \"penny\"))"
   ]
  },
  {
   "cell_type": "code",
   "execution_count": null,
   "metadata": {},
   "outputs": [],
   "source": [
    "# String Format()\n",
    "\n",
    "print(\"My name is {} and iam {} year old!!\".format(name, age))"
   ]
  },
  {
   "cell_type": "code",
   "execution_count": null,
   "metadata": {},
   "outputs": [],
   "source": [
    "# f -string\n",
    "\n",
    "print(f\"My name is {name} and iam {age} year old.\")"
   ]
  },
  {
   "cell_type": "markdown",
   "metadata": {},
   "source": [
    "#### ***String Padding***"
   ]
  },
  {
   "cell_type": "code",
   "execution_count": null,
   "metadata": {},
   "outputs": [],
   "source": [
    "text = \"Python\"\n",
    "print(text.ljust(10, \"-\"))\n",
    "\n",
    "print(text.rjust(20, \"-\"))\n",
    "\n",
    "print(text.center(20, \"-\"))"
   ]
  },
  {
   "cell_type": "code",
   "execution_count": null,
   "metadata": {},
   "outputs": [],
   "source": [
    "print(\"{0:8}^{1:-^9}\".format(\"Fruits\", \"Q\"))\n",
    "print(\"{0:8} | {1:9}\".format(\"Apple\", 3.))\n",
    "print(\"{0:8}|{1:9}\".format(\"Orange\", 10))"
   ]
  },
  {
   "cell_type": "code",
   "execution_count": 109,
   "metadata": {},
   "outputs": [
    {
     "name": "stdout",
     "output_type": "stream",
     "text": [
      "          \n",
      "    *     \n",
      "    **    \n",
      "   ***    \n",
      "   ****   \n",
      "  *****   \n",
      "  ******  \n",
      " *******  \n",
      " ******** \n",
      "********* \n"
     ]
    }
   ],
   "source": [
    "for i in range(10):\n",
    "    a = i*\"*\"\n",
    "    print(\"{0:^10}\".format(a))"
   ]
  },
  {
   "cell_type": "code",
   "execution_count": 110,
   "metadata": {},
   "outputs": [
    {
     "name": "stdout",
     "output_type": "stream",
     "text": [
      "left     |  center  |    right\n",
      "11       |    22    |       22\n"
     ]
    }
   ],
   "source": [
    "print(\"{0:<8} | {1:^8} | {2:>8}\".format(\"left\", \"center\", \"right\"))\n",
    "print(\"{0:<8} | {1:^8} | {2:>8}\".format(11, 22, 22))\n"
   ]
  },
  {
   "cell_type": "markdown",
   "metadata": {},
   "source": [
    "--------"
   ]
  },
  {
   "cell_type": "markdown",
   "metadata": {},
   "source": [
    "#### ***6.String Immutability***"
   ]
  },
  {
   "cell_type": "markdown",
   "metadata": {},
   "source": [
    "Strings in Python are **immutable**, meaning their content cannot be changed after creation. Any operation that seems to **\"modify\"** a string actually creates a new one."
   ]
  },
  {
   "cell_type": "code",
   "execution_count": null,
   "metadata": {},
   "outputs": [],
   "source": [
    "text = \"python\"\n",
    "text[0] = \"j\" #Rise an error"
   ]
  },
  {
   "cell_type": "markdown",
   "metadata": {},
   "source": [
    "#### ***7. Special Character***"
   ]
  },
  {
   "cell_type": "code",
   "execution_count": null,
   "metadata": {},
   "outputs": [],
   "source": [
    "# Newline(\\n)\n",
    "print(\"text\\nline\")\n",
    "\n",
    "# Tab space\n",
    "print(\"text\\tline\") \n",
    "\n",
    "#single quote\n",
    "print('It\\'s beatiful')\n",
    "\n",
    "#double quote\n",
    "print(\"she offered , \\\"accepted!\\\"\")"
   ]
  },
  {
   "cell_type": "markdown",
   "metadata": {},
   "source": [
    "#### ***8.Useful Built in function***"
   ]
  },
  {
   "cell_type": "code",
   "execution_count": null,
   "metadata": {},
   "outputs": [],
   "source": [
    "text = \"application\"\n",
    "print(min(text))\n",
    "print(max(text))\n",
    "\n",
    "# ord() chr () convert ASCII values\n",
    "\n",
    "print(ord(\"A\"))\n",
    "print(chr(89))"
   ]
  },
  {
   "cell_type": "markdown",
   "metadata": {},
   "source": [
    "#### ***9.Multiline string***"
   ]
  },
  {
   "cell_type": "code",
   "execution_count": null,
   "metadata": {},
   "outputs": [],
   "source": [
    "mulit_line = \"\"\"\n",
    "hi this a mulitline string \n",
    "\"\"\"\n",
    "print(mulit_line)"
   ]
  },
  {
   "cell_type": "markdown",
   "metadata": {},
   "source": [
    "#### ***10. String Iteration***"
   ]
  },
  {
   "cell_type": "code",
   "execution_count": null,
   "metadata": {},
   "outputs": [],
   "source": [
    "text = \"python\"\n",
    "\n",
    "for char in text:\n",
    "    print(char)"
   ]
  },
  {
   "cell_type": "code",
   "execution_count": null,
   "metadata": {},
   "outputs": [],
   "source": [
    "text = \"hello123\"\n",
    "print(text.isalnum()) \n",
    "# alphanumeric characters (letters and digits).\n",
    "\n",
    "print(text.isalpha()) #alphabetic character\n",
    "\n",
    "text = \"123\" # only number\n",
    "print(text.isdigit())"
   ]
  },
  {
   "cell_type": "markdown",
   "metadata": {},
   "source": [
    "-----"
   ]
  }
 ],
 "metadata": {
  "kernelspec": {
   "display_name": "Python 3",
   "language": "python",
   "name": "python3"
  },
  "language_info": {
   "codemirror_mode": {
    "name": "ipython",
    "version": 3
   },
   "file_extension": ".py",
   "mimetype": "text/x-python",
   "name": "python",
   "nbconvert_exporter": "python",
   "pygments_lexer": "ipython3",
   "version": "3.11.8"
  }
 },
 "nbformat": 4,
 "nbformat_minor": 2
}
