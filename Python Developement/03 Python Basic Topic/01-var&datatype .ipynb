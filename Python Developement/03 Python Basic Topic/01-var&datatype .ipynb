{
 "cells": [
  {
   "cell_type": "markdown",
   "metadata": {},
   "source": [
    "----"
   ]
  },
  {
   "cell_type": "markdown",
   "metadata": {},
   "source": [
    "## ***1.  VARIABLES IN PYTHON***"
   ]
  },
  {
   "cell_type": "markdown",
   "metadata": {},
   "source": [
    "1.  **Variable** are container to store the value\n",
    "2.  No need to declare the varibale before storing neither **Datatypes**.\n",
    "3.  **Varibale declaration** => name = \"jenni\"\n",
    "4.  Based on the value we given its takes the **datatypes**.\n",
    "5.  Python **no command** creating the variable."
   ]
  },
  {
   "cell_type": "code",
   "execution_count": 4,
   "metadata": {},
   "outputs": [
    {
     "name": "stdout",
     "output_type": "stream",
     "text": [
      "<class 'str'>\n",
      "<class 'int'>\n",
      "Jenni 27\n"
     ]
    }
   ],
   "source": [
    "first_name = \"Jenni\" # string\n",
    "age = 27 # int datatypes\n",
    "\n",
    "print(type(first_name))\n",
    "print(type(age))\n",
    "print(first_name, age)\n"
   ]
  },
  {
   "cell_type": "code",
   "execution_count": 6,
   "metadata": {},
   "outputs": [
    {
     "name": "stdout",
     "output_type": "stream",
     "text": [
      "34\n"
     ]
    }
   ],
   "source": [
    "# can change the value of same var and its datatypes\n",
    "\n",
    "x = \"jenni\" \n",
    "x = 34\n",
    "print(x) # re-asign\n"
   ]
  },
  {
   "cell_type": "code",
   "execution_count": 7,
   "metadata": {},
   "outputs": [
    {
     "name": "stdout",
     "output_type": "stream",
     "text": [
      " Hello Bro\n"
     ]
    }
   ],
   "source": [
    "first_name = \"Bro\"\n",
    "print(f\" Hello {first_name}\") # format string"
   ]
  },
  {
   "cell_type": "markdown",
   "metadata": {},
   "source": [
    "-----"
   ]
  },
  {
   "cell_type": "markdown",
   "metadata": {},
   "source": [
    "# ***2.  Datatypes in Python***"
   ]
  },
  {
   "cell_type": "markdown",
   "metadata": {},
   "source": [
    "**Data Types** define the kind of value a variable can hold, such as numbers, text, or more complex structures.\n",
    "\n",
    "    Datatype is the **class** and **instance of varibale**"
   ]
  },
  {
   "cell_type": "markdown",
   "metadata": {},
   "source": [
    "\n",
    "### Datatypes Types:\n",
    "\n",
    "#### Primitive Data Types\n",
    "1. **Integer (`int`)**\n",
    "2. **Floating-Point (`float`)**\n",
    "3. **Boolean (`bool`)**\n",
    "4. **String (`str`)**\n",
    "5. **Complex (`complex`)**\n",
    "\n",
    "#### Non-Primitive Data Types\n",
    "1. **List (`list`)**\n",
    "2. **Tuple (`tuple`)**\n",
    "3. **Set (`set`)**\n",
    "4. **Dictionary (`dict`)**\n",
    "5. **Frozen Set (`frozenset`)**\n",
    "6. **Bytes (`bytes`) and Byte Array (`bytearray`)**\n",
    "7. **None Type (`NoneType`)**\n",
    "\n",
    "#### Specialized Data Types\n",
    "1. **Enum (`enum`)**\n",
    "2. **Custom Classes**\n",
    "\n",
    "#### Mutable vs. Immutable Data Types\n",
    "- **Mutable:** `list`, `dict`, `set`, `bytearray`\n",
    "- **Immutable:** `int`, `float`, `bool`, `str`, `tuple`, `frozenset`, `bytes`\n",
    "\n",
    "#### Type Checking and Conversion\n",
    "1. **Checking Data Types**\n",
    "2. **Converting Data Types**\n",
    "\n"
   ]
  },
  {
   "cell_type": "code",
   "execution_count": 3,
   "metadata": {},
   "outputs": [
    {
     "name": "stdout",
     "output_type": "stream",
     "text": [
      "<class 'int'> 38798098782782\n",
      "<class 'float'> 10.122323\n",
      "<class 'str'> string\n",
      "<class 'bool'> True\n"
     ]
    }
   ],
   "source": [
    "var_1 = 38798098782782\n",
    "print(type(var_1), var_1) # type as the class\n",
    "\n",
    "var_2 = 10.122323\n",
    "print(type(var_2), var_2)\n",
    "\n",
    "var_3 = \"string\"\n",
    "print(type(var_3), var_3)\n",
    "\n",
    "var_4 = True\n",
    "print(type(var_4), var_4)\n"
   ]
  },
  {
   "cell_type": "code",
   "execution_count": 10,
   "metadata": {},
   "outputs": [
    {
     "name": "stdout",
     "output_type": "stream",
     "text": [
      "jenny \n",
      " Lectures\n",
      "jenny \t Lectures\n",
      "jenny Lectures  \n",
      "jenny Lectures  \n",
      "jenny Lectures  \n",
      "jenny Lectures  \n",
      "jenny Lectures  \n",
      "\n"
     ]
    }
   ],
   "source": [
    "print(\"jenny \\n Lectures\") # new line\n",
    "print(\"jenny \\t Lectures\") # tab line\n",
    "print(5 * \"jenny Lectures  \\n\") # tab line"
   ]
  },
  {
   "cell_type": "markdown",
   "metadata": {},
   "source": [
    "#### Complex Datatype"
   ]
  },
  {
   "cell_type": "code",
   "execution_count": 13,
   "metadata": {},
   "outputs": [
    {
     "name": "stdout",
     "output_type": "stream",
     "text": [
      "(3+4j)\n",
      "(6+8j)\n"
     ]
    }
   ],
   "source": [
    "complex_num = 3 + 4j\n",
    "print(complex_num)\n",
    "\n",
    "complex_sum = complex_num + complex_num\n",
    "print(complex_sum)\n"
   ]
  },
  {
   "cell_type": "markdown",
   "metadata": {},
   "source": [
    "-----"
   ]
  },
  {
   "cell_type": "markdown",
   "metadata": {},
   "source": [
    "# ***3. Type Casting in Python***"
   ]
  },
  {
   "cell_type": "markdown",
   "metadata": {},
   "source": [
    "**Type casting** refers to the conversion of one data type into another."
   ]
  },
  {
   "cell_type": "markdown",
   "metadata": {},
   "source": [
    "1. **Implicit Type Conversion (Type Coercion)**\n",
    "Python automatically converts one data type to another when no data loss occurs."
   ]
  },
  {
   "cell_type": "markdown",
   "metadata": {},
   "source": [
    "2. **Explicit Type Conversion (Type Casting)**\n",
    "You can manually convert a variable from one type to another using built-in functions."
   ]
  },
  {
   "cell_type": "markdown",
   "metadata": {},
   "source": [
    "###  ***IMPLICIT TYPE CONVERSION***"
   ]
  },
  {
   "cell_type": "code",
   "execution_count": 14,
   "metadata": {},
   "outputs": [
    {
     "name": "stdout",
     "output_type": "stream",
     "text": [
      "15.7\n"
     ]
    }
   ],
   "source": [
    "\n",
    "x = 5\n",
    "y = 10.7\n",
    "print( x + y) # implicity convert into the float"
   ]
  },
  {
   "cell_type": "code",
   "execution_count": 15,
   "metadata": {},
   "outputs": [
    {
     "name": "stdout",
     "output_type": "stream",
     "text": [
      "6\n"
     ]
    }
   ],
   "source": [
    "# BOOLEAN TO INETGER\n",
    "\n",
    "is_valid = True\n",
    "result = is_valid + 5 # True is automatically converted into the 1 \n",
    "print(result)"
   ]
  },
  {
   "cell_type": "code",
   "execution_count": 17,
   "metadata": {},
   "outputs": [
    {
     "name": "stdout",
     "output_type": "stream",
     "text": [
      "5 apple\n"
     ]
    }
   ],
   "source": [
    "# integer to String\n",
    "\n",
    "num = 5\n",
    "string = \"apple\"\n",
    "\n",
    "result = str(num)+ ' ' + string\n",
    "print(result)"
   ]
  },
  {
   "cell_type": "markdown",
   "metadata": {},
   "source": [
    "###  ***EXPLICIT TYPE CONVERSION***"
   ]
  },
  {
   "cell_type": "code",
   "execution_count": 18,
   "metadata": {},
   "outputs": [
    {
     "name": "stdout",
     "output_type": "stream",
     "text": [
      "68\n"
     ]
    }
   ],
   "source": [
    "# String to integer\n",
    "\n",
    "num_str = \"34\"\n",
    "\n",
    "num1 = 34\n",
    "\n",
    "print(int(num_str) + num1)"
   ]
  },
  {
   "cell_type": "code",
   "execution_count": 20,
   "metadata": {},
   "outputs": [
    {
     "name": "stdout",
     "output_type": "stream",
     "text": [
      "50\n"
     ]
    }
   ],
   "source": [
    "# String to Float\n",
    "\n",
    "num_str = 45.66\n",
    "num1 = 23\n",
    "print(int(num_str) + num)"
   ]
  },
  {
   "cell_type": "code",
   "execution_count": 21,
   "metadata": {},
   "outputs": [
    {
     "name": "stdout",
     "output_type": "stream",
     "text": [
      "58\n"
     ]
    }
   ],
   "source": [
    "#Float into int\n",
    "\n",
    "num = 45.88\n",
    "num1 = 12.90\n",
    "print(int(num + num1))"
   ]
  },
  {
   "cell_type": "code",
   "execution_count": 23,
   "metadata": {},
   "outputs": [
    {
     "name": "stdout",
     "output_type": "stream",
     "text": [
      "<class 'tuple'> (5, 7, 8, 9)\n"
     ]
    }
   ],
   "source": [
    "# List to Tuple\n",
    "\n",
    "list1 = [5, 7, 8, 9]\n",
    "\n",
    "tuple_convert = tuple(list1)\n",
    "\n",
    "print(type(tuple_convert), tuple_convert)\n",
    "\n"
   ]
  },
  {
   "cell_type": "code",
   "execution_count": 24,
   "metadata": {},
   "outputs": [
    {
     "name": "stdout",
     "output_type": "stream",
     "text": [
      "[4, 6, 7, 8, 9] <class 'list'>\n"
     ]
    }
   ],
   "source": [
    "# Tuple to list\n",
    "\n",
    "tuple1 = (4, 6, 7, 8, 9)\n",
    "\n",
    "list_convert = list(tuple1)\n",
    "\n",
    "print(list_convert, type(list_convert))"
   ]
  },
  {
   "cell_type": "code",
   "execution_count": 25,
   "metadata": {},
   "outputs": [
    {
     "name": "stdout",
     "output_type": "stream",
     "text": [
      "<class 'list'> [5, 6, 7, 8]\n"
     ]
    }
   ],
   "source": [
    "# List to Set\n",
    "\n",
    "list1 = [5, 6, 7, 8]\n",
    "\n",
    "set_convert = set(list1)\n",
    "\n",
    "print(type(list1), list1)"
   ]
  },
  {
   "cell_type": "markdown",
   "metadata": {},
   "source": [
    "**Explicit conversion** allows you to control the data type conversions using **functions**like ***int(), float(), str(), list(), tuple(), set(), and bool()**. It is useful when Python does not perform automatic type conversion, or when the conversion needs to be enforced."
   ]
  }
 ],
 "metadata": {
  "kernelspec": {
   "display_name": "Python 3",
   "language": "python",
   "name": "python3"
  },
  "language_info": {
   "codemirror_mode": {
    "name": "ipython",
    "version": 3
   },
   "file_extension": ".py",
   "mimetype": "text/x-python",
   "name": "python",
   "nbconvert_exporter": "python",
   "pygments_lexer": "ipython3",
   "version": "3.11.8"
  }
 },
 "nbformat": 4,
 "nbformat_minor": 2
}
