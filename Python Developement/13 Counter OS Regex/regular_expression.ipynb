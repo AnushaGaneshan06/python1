{
 "cells": [
  {
   "cell_type": "markdown",
   "metadata": {},
   "source": [
    "## ***REGULAR EXPRESSION***"
   ]
  },
  {
   "cell_type": "markdown",
   "metadata": {},
   "source": [
    "Regular Expression (RegEx) in Python is a sequence of characters that forms a search pattern. It is used for string matching, searching, and manipulation, provided by the re module.\n",
    "\n"
   ]
  },
  {
   "cell_type": "markdown",
   "metadata": {},
   "source": [
    "    IMPORT RE"
   ]
  },
  {
   "cell_type": "code",
   "execution_count": 4,
   "metadata": {},
   "outputs": [
    {
     "name": "stdout",
     "output_type": "stream",
     "text": [
      "None\n",
      "None\n",
      "<re.Match object; span=(0, 10), match='HELLOWORLD'>\n"
     ]
    }
   ],
   "source": [
    "import re\n",
    "\n",
    "# ^ Anchor\n",
    "\n",
    "pattern = re.compile(\"^[A-Z]+$\") # all letter from a to z\n",
    "\n",
    "print(pattern.search (\"Hello world\"))\n",
    "print(pattern.search (\"HelloWorld\"))\n",
    "print(pattern.search (\"HELLOWORLD\"))\n"
   ]
  },
  {
   "cell_type": "code",
   "execution_count": 7,
   "metadata": {},
   "outputs": [
    {
     "name": "stdout",
     "output_type": "stream",
     "text": [
      "<re.Match object; span=(0, 10), match='helloworld'>\n",
      "None\n",
      "None\n"
     ]
    }
   ],
   "source": [
    "import re\n",
    "\n",
    "# ^ Anchor\n",
    "\n",
    "pattern = re.compile(\"^[a-z]+$\") # all letter from a to z\n",
    "\n",
    "print(pattern.search (\"helloworld\"))\n",
    "print(pattern.search (\"HelloWorld\"))\n",
    "print(pattern.search (\"HELLOWORLD\"))"
   ]
  },
  {
   "cell_type": "markdown",
   "metadata": {},
   "source": [
    "    MATCH FUNCTION"
   ]
  },
  {
   "cell_type": "code",
   "execution_count": 14,
   "metadata": {},
   "outputs": [
    {
     "name": "stdout",
     "output_type": "stream",
     "text": [
      "<re.Match object; span=(0, 11), match='Hello World'>\n",
      "<re.Match object; span=(0, 10), match='HelloWorld'>\n",
      "<re.Match object; span=(0, 10), match='HELLOWORLD'>\n"
     ]
    }
   ],
   "source": [
    "import re\n",
    "\n",
    "# ^ Anchor\n",
    "pattern = re.compile(\"^[a-zA-Z\\s]+$\")  # all letters from a to z, both lowercase and uppercase \\s space\n",
    "\n",
    "print(pattern.match(\"Hello World\"))  # None (because of the space)\n",
    "print(pattern.match(\"HelloWorld\"))   # Match (valid mixed case)\n",
    "print(pattern.match(\"HELLOWORLD\"))   # Match (valid uppercase)\n"
   ]
  },
  {
   "cell_type": "code",
   "execution_count": 16,
   "metadata": {},
   "outputs": [
    {
     "name": "stdout",
     "output_type": "stream",
     "text": [
      "<re.Match object; span=(0, 8), match='hxu6682#'>\n",
      "<re.Match object; span=(0, 10), match='hxu6682#AB'>\n",
      "<re.Match object; span=(0, 8), match='hxu668#A'>\n",
      "None\n",
      "Match found for 'hxu6682#': hxu6682#\n",
      "Match found for 'hxu6682#AB': hxu6682#AB\n",
      "Match found for 'hxu668#A': hxu668#A\n",
      "No match for 'hxu6682#abc'\n"
     ]
    }
   ],
   "source": [
    "import re\n",
    "\n",
    "# 3 lowercase, 3-5 digits, one symbol, 0-2 uppercase\n",
    "pattern = re.compile(\"^[a-z]{3}[0-9]{3,5}[^a-zA-Z0-9]{1}[A-Z]{0,2}$\")\n",
    "\n",
    "# Test with a valid string example\n",
    "print(pattern.search(\"hxu6682#\"))  # Should match\n",
    "print(pattern.search(\"hxu6682#AB\"))  # Should match\n",
    "print(pattern.search(\"hxu668#A\"))  # Should not match (because digits should be 3 to 5)\n",
    "print(pattern.search(\"hxu6682#abc\"))  # Should not match (because uppercase part is too long)\n",
    "\n",
    "# Explicitly checking if there's a match and displaying the result\n",
    "test_strings = [\"hxu6682#\", \"hxu6682#AB\", \"hxu668#A\", \"hxu6682#abc\"]\n",
    "\n",
    "for test_string in test_strings:\n",
    "    match = pattern.search(test_string)\n",
    "    if match:\n",
    "        print(f\"Match found for '{test_string}': {match.group()}\")\n",
    "    else:\n",
    "        print(f\"No match for '{test_string}'\")\n"
   ]
  },
  {
   "cell_type": "code",
   "execution_count": null,
   "metadata": {},
   "outputs": [],
   "source": []
  }
 ],
 "metadata": {
  "kernelspec": {
   "display_name": "Python 3",
   "language": "python",
   "name": "python3"
  },
  "language_info": {
   "codemirror_mode": {
    "name": "ipython",
    "version": 3
   },
   "file_extension": ".py",
   "mimetype": "text/x-python",
   "name": "python",
   "nbconvert_exporter": "python",
   "pygments_lexer": "ipython3",
   "version": "3.11.8"
  }
 },
 "nbformat": 4,
 "nbformat_minor": 2
}
