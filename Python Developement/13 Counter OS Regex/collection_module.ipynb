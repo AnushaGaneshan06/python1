{
 "cells": [
  {
   "cell_type": "markdown",
   "metadata": {},
   "source": [
    "# ***COUNTERS***"
   ]
  },
  {
   "cell_type": "markdown",
   "metadata": {},
   "source": [
    "\n",
    "A **Counter** is a dictionary from the `collections` module that counts how many times each element appears in a collection."
   ]
  },
  {
   "cell_type": "markdown",
   "metadata": {},
   "source": [
    "`counter = {} not work`"
   ]
  },
  {
   "cell_type": "markdown",
   "metadata": {},
   "source": [
    "    without counter"
   ]
  },
  {
   "cell_type": "code",
   "execution_count": 3,
   "metadata": {},
   "outputs": [
    {
     "name": "stdout",
     "output_type": "stream",
     "text": [
      "{'a': 22, 'b': 27, 'c': 25, 'd': 26}\n"
     ]
    }
   ],
   "source": [
    "import random\n",
    "\n",
    "\n",
    "obj_list = [\"a\", \"b\", \"c\", \"d\"]\n",
    "\n",
    "dict1 = {}\n",
    "\n",
    "for obj in obj_list:\n",
    "    dict1[obj] = 0\n",
    "\n",
    "for _ in range(100):\n",
    "    receive_obj = random.choice(obj_list)\n",
    "    dict1[receive_obj] += 1 # counter\n",
    "\n",
    "print(dict1)"
   ]
  },
  {
   "cell_type": "markdown",
   "metadata": {},
   "source": [
    "`With counter`"
   ]
  },
  {
   "cell_type": "code",
   "execution_count": 4,
   "metadata": {},
   "outputs": [
    {
     "name": "stdout",
     "output_type": "stream",
     "text": [
      "Counter({'c': 32, 'b': 29, 'd': 20, 'a': 19})\n"
     ]
    }
   ],
   "source": [
    "import random\n",
    "\n",
    "from collections import Counter\n",
    "\n",
    "obj_list = [\"a\", \"b\", \"c\", \"d\"]\n",
    "\n",
    "counter = Counter()\n",
    "\n",
    "\n",
    "for _ in range(100):\n",
    "    count_list = random.choice(obj_list)\n",
    "    counter[count_list] += 1\n",
    "\n",
    "print(counter)"
   ]
  },
  {
   "cell_type": "code",
   "execution_count": 10,
   "metadata": {},
   "outputs": [
    {
     "name": "stdout",
     "output_type": "stream",
     "text": [
      "['a', 'c', 'd', 'd', 'd', 'b', 'd', 'c', 'd', 'a', 'a', 'b', 'd', 'a', 'c', 'c', 'a', 'c', 'd', 'b', 'b', 'b', 'd', 'b', 'a', 'a', 'd', 'd', 'd', 'c', 'b', 'd', 'b', 'c', 'c', 'a', 'd', 'b', 'd', 'd', 'd', 'b', 'd', 'c', 'd', 'c', 'a', 'd', 'b', 'a', 'c', 'd', 'd', 'c', 'b', 'd', 'b', 'c', 'd', 'c', 'a', 'd', 'd', 'b', 'a', 'd', 'd', 'd', 'c', 'c', 'b', 'c', 'a', 'd', 'c', 'a', 'c', 'c', 'a', 'c', 'd', 'c', 'a', 'c', 'c', 'b', 'c', 'a', 'b', 'b', 'a', 'b', 'a', 'c', 'd', 'd', 'b', 'b', 'b', 'c']\n",
      "{'a': 19, 'b': 22, 'c': 27, 'd': 32}\n",
      "[('d', 32), ('c', 27)]\n"
     ]
    }
   ],
   "source": [
    "import random\n",
    "from collections import Counter\n",
    "\n",
    "obj_list = [\"a\", \"b\", \"c\", \"d\"]\n",
    "\n",
    "occurences = random.choices(obj_list, k = 100) #s step by step\n",
    "\n",
    "dict1 = {}\n",
    "for obj in obj_list:\n",
    "    dict1[obj] = 0\n",
    "\n",
    "for occurence in occurences:\n",
    "    dict1[occurence] += 1\n",
    "\n",
    "\n",
    "counter = Counter(occurences)\n",
    "\n",
    "print(occurences)\n",
    "\n",
    "print(dict1)\n",
    "\n",
    "\n",
    "\n",
    "# most common value\n",
    "print(counter.most_common()[:2])"
   ]
  },
  {
   "cell_type": "code",
   "execution_count": 15,
   "metadata": {},
   "outputs": [
    {
     "name": "stdout",
     "output_type": "stream",
     "text": [
      "Counter()\n"
     ]
    }
   ],
   "source": [
    "import random\n",
    "from collections import Counter\n",
    "\n",
    "d1 = {\"a\" : 3, \"b\" : 4, \"c\" : 9}\n",
    "d2 = {\"a\" : 3, \"b\" : 4, \"c\" : 9}\n",
    "\n",
    "\n",
    "c1 = Counter(a= 3, b = 4, c = 9)\n",
    "c2 = Counter(a= 3, b = 4, c = 9)\n",
    "\n",
    "print(c1 - c2)\n",
    "\n"
   ]
  },
  {
   "cell_type": "code",
   "execution_count": 18,
   "metadata": {},
   "outputs": [
    {
     "name": "stdout",
     "output_type": "stream",
     "text": [
      "['a', 'a', 'a', 'a', 'a', 'a', 'a', 'a', 'a', 'a', 'a', 'a', 'a', 'a', 'a', 'a', 'a', 'a', 'a', 'a', 'b', 'b', 'b', 'b', 'b', 'b', 'b', 'b', 'b', 'b', 'b', 'b', 'b', 'b', 'b', 'b', 'b', 'b', 'b', 'b', 'b', 'b', 'b', 'c', 'c', 'c', 'c', 'c', 'c', 'c', 'c', 'c', 'c', 'c', 'c', 'c', 'c', 'c', 'c', 'c', 'c', 'c', 'c', 'c', 'c']\n",
      "{'c', 'b', 'a'}\n"
     ]
    }
   ],
   "source": [
    "import random\n",
    "from collections import Counter\n",
    "\n",
    "counter = Counter(a = 20, b = 23, c = 22)\n",
    "\n",
    "print(list(counter.elements()))\n",
    "print(set(counter.elements()))"
   ]
  }
 ],
 "metadata": {
  "kernelspec": {
   "display_name": "Python 3",
   "language": "python",
   "name": "python3"
  },
  "language_info": {
   "codemirror_mode": {
    "name": "ipython",
    "version": 3
   },
   "file_extension": ".py",
   "mimetype": "text/x-python",
   "name": "python",
   "nbconvert_exporter": "python",
   "pygments_lexer": "ipython3",
   "version": "3.11.8"
  }
 },
 "nbformat": 4,
 "nbformat_minor": 2
}
