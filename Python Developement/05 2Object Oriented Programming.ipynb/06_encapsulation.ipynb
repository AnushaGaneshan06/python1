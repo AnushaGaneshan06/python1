{
 "cells": [
  {
   "cell_type": "markdown",
   "metadata": {},
   "source": [
    "### **Abstraction vs Encapsulation - Layman Example**\n",
    "\n",
    "| **Concept**      | **Abstraction**                              | **Encapsulation**                                  |\n",
    "|------------------|----------------------------------------------|----------------------------------------------------|\n",
    "| **Definition**   | Hiding the complex details and showing only essential features. | Hiding internal details and protecting the data, controlling how it is accessed. |\n",
    "| **Example**      | Think of a **smartphone app**: You can use the app to check the weather, but you don’t need to know how the app gathers and processes data from the internet. | A **smartphone** hides its internal parts like the battery, processor, etc., and you interact with it only through the screen and buttons. You can’t access or modify the internal hardware directly. |\n",
    "| **Key Focus**    | Focuses on **what** you can do with the app (check the weather). | Focuses on **how** the smartphone's internal parts are hidden, and you interact with it through the user interface. |\n"
   ]
  },
  {
   "cell_type": "markdown",
   "metadata": {},
   "source": [
    "## ***Encapsulation***"
   ]
  },
  {
   "cell_type": "markdown",
   "metadata": {},
   "source": [
    "**Definition**:  \n",
    "Encapsulation is a fundamental concept in object-oriented programming (OOP) that restricts direct access to an object's attributes and methods. It involves bundling the data (attributes) and the methods (functions) that operate on the data into a single unit or class. This helps protect the data from unauthorized access and modification.\n",
    "\n",
    "**Benefits**:\n",
    "- Protects the internal state of an object.\n",
    "- Provides a controlled interface for interacting with the object's data.\n",
    "- Promotes modular code and maintainability.\n"
   ]
  },
  {
   "cell_type": "markdown",
   "metadata": {},
   "source": [
    "name mangling:\n",
    "obj.classname.method()"
   ]
  },
  {
   "cell_type": "code",
   "execution_count": 8,
   "metadata": {},
   "outputs": [
    {
     "name": "stdout",
     "output_type": "stream",
     "text": [
      "21\n",
      "Iam annu from the class student and my roll number : 22 and age : 21\n",
      "Iam annu from the class student and my roll number : 22 and age : 21\n"
     ]
    }
   ],
   "source": [
    "# better to use inside the class \n",
    "class Student:\n",
    "    def __init__(self, name, rollno, age):\n",
    "        self.name = name #public\n",
    "        self._rollno = rollno # protected\n",
    "        self.__age = age # protector\n",
    "\n",
    "    def __display(self):\n",
    "        print(f\"Iam {self.name} from the class student and my roll number : {self._rollno} and age : {self.__age}\")\n",
    "    \n",
    "    def displayPrivateData(self):\n",
    "        self.__display()\n",
    "\n",
    "class Branch(Student): # subclass and class where protected access\n",
    "    def show(self):\n",
    "        print(f\"Iam {self.name} from the class student and my roll number : {self._rollno} \")\n",
    "\n",
    "s1 = Student(\"annu\", 22, 21)\n",
    "print(s1._Student__age)\n",
    "s1._Student__display() # name mangling\n",
    "s1.displayPrivateData()\n",
    "\n",
    "\n",
    "\n",
    "\n",
    "\n"
   ]
  },
  {
   "cell_type": "markdown",
   "metadata": {},
   "source": [
    "    getter and setters === done for validation"
   ]
  },
  {
   "cell_type": "markdown",
   "metadata": {},
   "source": [
    " getter and setter used for private data"
   ]
  },
  {
   "cell_type": "code",
   "execution_count": 13,
   "metadata": {},
   "outputs": [
    {
     "name": "stdout",
     "output_type": "stream",
     "text": [
      "21\n",
      "less than 35\n",
      "Iam annu from the class student and my roll number : 22 and age : 21\n"
     ]
    }
   ],
   "source": [
    "class Student:\n",
    "    def __init__(self, name, rollno, age):\n",
    "        self.name = name #public\n",
    "        self._rollno = rollno # protected\n",
    "        self.__age = age # protector\n",
    "    \n",
    "    #getters\n",
    "    def get_age(self):\n",
    "        return self.__age\n",
    "    \n",
    "    #setters(validation)\n",
    "    def set_age(self, age):\n",
    "        if age > 35:\n",
    "            print(\"age should less than 35\")\n",
    "        else:\n",
    "            self.__age = age\n",
    "        \n",
    "\n",
    "    def __display(self):\n",
    "        print(f\"Iam {self.name} from the class student and my roll number : {self._rollno} and age : {self.__age}\")\n",
    "    \n",
    "    def displayPrivateData(self):\n",
    "        self.__display()\n",
    "\n",
    "\n",
    "\n",
    "class Branch(Student): \n",
    "    def show(self):\n",
    "        print(f\"Iam {self.name} from the class student and my roll number : {self._rollno} \")\n",
    "\n",
    "\n",
    "\n",
    "s1 = Student(\"annu\", 22, 21)\n",
    "print(s1.get_age())\n",
    "s1.set_age(37)\n",
    "s1.displayPrivateData()\n",
    "\n",
    "\n",
    "\n",
    "\n",
    "\n"
   ]
  }
 ],
 "metadata": {
  "kernelspec": {
   "display_name": "Python 3",
   "language": "python",
   "name": "python3"
  },
  "language_info": {
   "codemirror_mode": {
    "name": "ipython",
    "version": 3
   },
   "file_extension": ".py",
   "mimetype": "text/x-python",
   "name": "python",
   "nbconvert_exporter": "python",
   "pygments_lexer": "ipython3",
   "version": "3.11.8"
  }
 },
 "nbformat": 4,
 "nbformat_minor": 2
}
