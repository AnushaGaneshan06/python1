{
 "cells": [
  {
   "cell_type": "markdown",
   "metadata": {},
   "source": [
    "# ***Inhritance***"
   ]
  },
  {
   "cell_type": "markdown",
   "metadata": {},
   "source": [
    "### Inheritance  \n",
    "Inheritance is an OOP concept where a child class derives attributes and methods from a parent class, promoting code reuse and logical structure.\n",
    "\n",
    "### Types of Inheritance  \n",
    "1. **Single Inheritance**: A child class inherits from one parent class.  \n",
    "2. **Multiple Inheritance**: A child class inherits from multiple parent classes.  \n",
    "3. **Multilevel Inheritance**: A class inherits from another class, forming a chain of inheritance.  \n",
    "4. **Hierarchical Inheritance**: Multiple child classes inherit from a single parent class.  \n",
    "5. **Hybrid Inheritance**: A combination of two or more inheritance types.\n"
   ]
  },
  {
   "cell_type": "code",
   "execution_count": 21,
   "metadata": {},
   "outputs": [
    {
     "name": "stdout",
     "output_type": "stream",
     "text": [
      "dad\n",
      "I can eat\n",
      "I can work\n",
      "george dad 2 I can code\n",
      "own attributes and method\n",
      "george\n",
      "22\n"
     ]
    }
   ],
   "source": [
    "# AVOID REPETITION\n",
    "class Person:\n",
    "    def __init__(self, name, age):\n",
    "        self.name = name\n",
    "        self.age = age\n",
    "        self.number = 2\n",
    "\n",
    "    def eat(self):\n",
    "        print(\"I can eat\")\n",
    "\n",
    "    def work(self):\n",
    "        print(\"I can work\")\n",
    "\n",
    "class Child1(Person): # BASE CASE\n",
    "    def __init__(self,name, age, hero):\n",
    "        super().__init__(name, age)\n",
    "        self.hero = hero\n",
    "        print(self.hero)\n",
    "        \n",
    "\n",
    "    # can have own attributes and behavior \n",
    "    def display(self): #istance of class current \n",
    "        print(\"own attributes and method\")\n",
    "\n",
    "# OVERRIDEN WHERE BASE METHOD IS OVERRIDE FROM THE SUBCLASS METHOD OVERRIDE\n",
    "    def work(self):\n",
    "        # WE NEED BOTH BASE CLASS METHOD AND SUBCLASS SO WE HAVE SUPER function\n",
    "        super().work()\n",
    "        print(self.name, self.hero,self.number ,\"I can code\")\n",
    "\n",
    "\n",
    "# object creation\n",
    "# method access\n",
    "child1 = Child1(\"george\", 22, \"dad\")\n",
    "child1.eat()\n",
    "child1.work()\n",
    "child1.display()\n",
    "\n",
    "\n",
    "# attributes access\n",
    "print(child1.name)\n",
    "print(child1.age)\n",
    "\n"
   ]
  },
  {
   "cell_type": "markdown",
   "metadata": {},
   "source": [
    "    example "
   ]
  },
  {
   "cell_type": "code",
   "execution_count": 33,
   "metadata": {},
   "outputs": [
    {
     "name": "stdout",
     "output_type": "stream",
     "text": [
      "Shopping cart \n",
      "product name : laptop\n",
      "product price : 34\n",
      "the product weight : 4.5\n",
      "___________\n",
      "product name : e-book\n",
      "product price : 20\n",
      "file size : 8\n",
      "___________\n",
      "product name : netflix subscription\n",
      "product price : 12\n",
      "Duration : 6\n",
      "___________\n"
     ]
    }
   ],
   "source": [
    "class Product:\n",
    "    def __init__(self, product, price):\n",
    "        self.price = price\n",
    "        self.product = product\n",
    "\n",
    "    def display_details(self):\n",
    "        print(f\"product name : {self.product}\")\n",
    "        print(f\"product price : {self.price}\")\n",
    "\n",
    "\n",
    "# Subclass for physical products (e.g., electronics, books)\n",
    "\n",
    "class PyshicalProduct(Product):\n",
    "    # attribute override\n",
    "    def __init__(self, product, price, weight):\n",
    "        super().__init__(product, price)\n",
    "        self.weight = weight\n",
    "\n",
    "    # method override\n",
    "    def display_details(self):\n",
    "        super().display_details()\n",
    "        print(f\"the product weight : {self.weight}\")\n",
    "\n",
    "    \n",
    "# Subclass for digital products (e.g., software, e-books)\n",
    "\n",
    "class Digital_product(Product):\n",
    "    def __init__(self, product, price, file_size):\n",
    "        super().__init__(product, price)\n",
    "        self.file_size = file_size\n",
    "\n",
    "    def display_details(self):\n",
    "        super().display_details()\n",
    "        print(f\"file size : {self.file_size}\")\n",
    "\n",
    "\n",
    "# Subclass for subscription products (e.g., Netflix subscription)\n",
    "\n",
    "class Subscription_product(Product):\n",
    "\n",
    "        def __init__(self, product, price, duration_months):\n",
    "            super().__init__(product, price)\n",
    "            self.duration_months = duration_months\n",
    "\n",
    "        def display_details(self):\n",
    "            super().display_details()\n",
    "            print(f\"Duration : {self.duration_months}\")\n",
    "\n",
    "\n",
    "\n",
    "# Shopping cart that can store various types of products\n",
    "\n",
    "class Shopping_cart:\n",
    "    def __init__(self):\n",
    "        self.cart = []\n",
    "    \n",
    "    def add_product(self, item):\n",
    "        self.cart.append(item)\n",
    "\n",
    "    def display_cart(self):\n",
    "        print(\"Shopping cart \")\n",
    "        for item in self.cart:\n",
    "            item.display_details()\n",
    "            print(\"___________\")\n",
    "\n",
    "\n",
    "pyshicalProduct = PyshicalProduct(\"laptop\", 34, 4.5)\n",
    "# pyshicalProduct.display_details()\n",
    "digital_product = Digital_product(\"e-book\", 20, 8)\n",
    "subscription_product = Subscription_product(\"netflix subscription\", 12, 6)\n",
    "\n",
    "\n",
    "# Creating shopping cart and adding products\n",
    "\n",
    "cart = Shopping_cart()\n",
    "cart.add_product(pyshicalProduct)\n",
    "cart.add_product(digital_product)\n",
    "cart.add_product(subscription_product)\n",
    "\n",
    "cart.display_cart()\n",
    "\n",
    "\n",
    "\n",
    "\n",
    "    \n",
    "\n"
   ]
  },
  {
   "cell_type": "markdown",
   "metadata": {},
   "source": [
    "## ***Mulitple Inheritance***"
   ]
  },
  {
   "cell_type": "markdown",
   "metadata": {},
   "source": [
    "    CHILD CLASS USE ALL METHOD OF PARENTS CLASS"
   ]
  },
  {
   "cell_type": "markdown",
   "metadata": {},
   "source": [
    "    METHOD RESLUTION ORDER "
   ]
  },
  {
   "cell_type": "code",
   "execution_count": null,
   "metadata": {},
   "outputs": [
    {
     "ename": "TypeError",
     "evalue": "Child.__init__() takes 1 positional argument but 3 were given",
     "output_type": "error",
     "traceback": [
      "\u001b[1;31m---------------------------------------------------------------------------\u001b[0m",
      "\u001b[1;31mTypeError\u001b[0m                                 Traceback (most recent call last)",
      "Cell \u001b[1;32mIn[61], line 33\u001b[0m\n\u001b[0;32m     29\u001b[0m         \u001b[38;5;28mprint\u001b[39m(\u001b[38;5;124m\"\u001b[39m\u001b[38;5;124mi study 10 times\u001b[39m\u001b[38;5;124m\"\u001b[39m)\n\u001b[0;32m     32\u001b[0m \u001b[38;5;66;03m# Creating an instance of Child\u001b[39;00m\n\u001b[1;32m---> 33\u001b[0m child \u001b[38;5;241m=\u001b[39m \u001b[43mChild\u001b[49m\u001b[43m(\u001b[49m\u001b[38;5;124;43m\"\u001b[39;49m\u001b[38;5;124;43mcs\u001b[39;49m\u001b[38;5;124;43m\"\u001b[39;49m\u001b[43m,\u001b[49m\u001b[43m \u001b[49m\u001b[38;5;241;43m34\u001b[39;49m\u001b[43m)\u001b[49m\n\u001b[0;32m     34\u001b[0m child\u001b[38;5;241m.\u001b[39mdisplay()\n\u001b[0;32m     35\u001b[0m child\u001b[38;5;241m.\u001b[39mtime()\n",
      "\u001b[1;31mTypeError\u001b[0m: Child.__init__() takes 1 positional argument but 3 were given"
     ]
    }
   ],
   "source": [
    "class Person1:\n",
    "    def __init__(self, department, hours):\n",
    "        self.department = department\n",
    "        self.hours = hours\n",
    "        print(\"calling init from peron 1\") # as order this init will work first\n",
    "\n",
    "    def display(self):\n",
    "        print(f\"departement of work : {self.department}\")\n",
    "\n",
    "    def time(self):\n",
    "        print(f\"The working hours : {self.hours}\")\n",
    "        \n",
    "\n",
    "class Person2:\n",
    "    def __init__(self, name):\n",
    "        self.name = name\n",
    "        print(\"calling init from peron 2\")\n",
    "\n",
    "    def display1(self):\n",
    "        print(f\"This is the display function\")\n",
    "        \n",
    "\n",
    "class Child(Person1, Person2): # order brings the access\n",
    "    def study(self):\n",
    "        print(\"i study 10 times\")\n",
    "\n",
    "\n",
    "# Creating an instance of Child\n",
    "child = Child(\"cs\", 34)\n",
    "child.display()\n",
    "child.time()\n",
    "\n",
    "# how can access the 2nd person\n",
    "Person2.display1(child)\n",
    "\n",
    "# own method\n",
    "child.study()\n",
    "\n",
    "# Showing the MRO (Method Resolution Order)\n",
    "print(Child.__mro__) \n",
    "print(Child.mro())\n",
    "\n",
    "\n"
   ]
  },
  {
   "cell_type": "markdown",
   "metadata": {},
   "source": [
    "    IF YOU NEED TO CALL CLASS YOU NEED TO SPECIFY"
   ]
  },
  {
   "cell_type": "code",
   "execution_count": 75,
   "metadata": {},
   "outputs": [
    {
     "name": "stdout",
     "output_type": "stream",
     "text": [
      "calling init from peron 2\n",
      "calling init from peron 1\n",
      "departement of work : cs\n",
      "The working hours : 4\n",
      "This is the display function\n",
      "i study 10 times  tamil\n"
     ]
    }
   ],
   "source": [
    "class Person1:\n",
    "    def __init__(self, department, hours):\n",
    "        self.department = department\n",
    "        self.hours = hours\n",
    "        print(\"calling init from peron 1\") # as order this init will work first\n",
    "\n",
    "    def display(self):\n",
    "        print(f\"departement of work : {self.department}\")\n",
    "\n",
    "    def time(self):\n",
    "        print(f\"The working hours : {self.hours}\")\n",
    "        \n",
    "\n",
    "class Person2:\n",
    "    def __init__(self, name):\n",
    "        self.name = name\n",
    "        print(\"calling init from peron 2\")\n",
    "\n",
    "    def display1(self):\n",
    "        print(f\"This is the display function\")\n",
    "        \n",
    "\n",
    "class Child(Person1, Person2): # order brings the access\n",
    "    def __init__( self, name, department, hours, language):\n",
    "        Person2.__init__(self,name)\n",
    "        Person1.__init__(self, department, hours)\n",
    "        # own attru=ibute also make\n",
    "        self.language = language\n",
    "\n",
    "    def study(self):\n",
    "        print(\"i study 10 times \", self.language)\n",
    "\n",
    "\n",
    "# Creating an instance of Child\n",
    "child = Child(\"bob\", \"cs\", 4, \"tamil\")\n",
    "\n",
    "# person1 \n",
    "\n",
    "child.display()\n",
    "child.time()\n",
    "\n",
    "\n",
    "#person 2\n",
    "\n",
    "child.display1()\n",
    "\n",
    "# own clas\n",
    "child.study()\n",
    "\n",
    "\n",
    "\n",
    "\n",
    "\n",
    "\n"
   ]
  },
  {
   "cell_type": "markdown",
   "metadata": {},
   "source": [
    "## ***MULTILEVEL INHERITANCE***"
   ]
  },
  {
   "cell_type": "code",
   "execution_count": 87,
   "metadata": {},
   "outputs": [
    {
     "name": "stdout",
     "output_type": "stream",
     "text": [
      "---------\n",
      "This the multilevel inheritance\n",
      "---------\n",
      "The id number of the employee \n",
      "---------\n",
      "The department of the work\n",
      "---------\n",
      "This the multilevel inheritance\n",
      "The department of the work\n",
      "I can inheritant the parent method in another way\n",
      "---------\n",
      "programmer part\n",
      "code for language\n"
     ]
    }
   ],
   "source": [
    "class Parent():\n",
    "    def display(self):\n",
    "        print(f\"This the multilevel inheritance\")\n",
    "    \n",
    "    def id(Self):\n",
    "        print(f\"The id number of the employee \")\n",
    "\n",
    "class Child1(Parent):\n",
    "    def work(self):\n",
    "        print(f\"The department of the work\")\n",
    "\n",
    "class Child2(Child1):\n",
    "    def play(self):\n",
    "        Parent.display(self) # 1 method of intsead of super\n",
    "        super().work() # super method\n",
    "        print(\"I can inheritant the parent method in another way\")\n",
    "\n",
    "\n",
    "class Programmer(Child1):\n",
    "    def work(self):\n",
    "        print(\"code for language\")\n",
    "\n",
    "\n",
    "# child 2 can access both parent child 1 class\n",
    "child2 = Child2()\n",
    "print(\"---------\")\n",
    "child2.display()\n",
    "print(\"---------\")\n",
    "child2.id()\n",
    "print(\"---------\")\n",
    "child2.work()\n",
    "print(\"---------\")\n",
    "child2.play()\n",
    "print(\"---------\")\n",
    "\n",
    "\n",
    "print(\"programmer part\")\n",
    "programmer = Programmer()\n",
    "programmer.work()\n"
   ]
  },
  {
   "cell_type": "markdown",
   "metadata": {},
   "source": [
    "    using__init__"
   ]
  },
  {
   "cell_type": "code",
   "execution_count": 94,
   "metadata": {},
   "outputs": [
    {
     "name": "stdout",
     "output_type": "stream",
     "text": [
      "The department of the work : department\n",
      "The id number of the employee : 23 \n",
      "This the multilevel inheritance\n"
     ]
    }
   ],
   "source": [
    "class Parent():\n",
    "    def __init__(self, id_no):\n",
    "        self.id_no = id_no\n",
    "        \n",
    "    def display(self):\n",
    "        print(f\"This the multilevel inheritance\")\n",
    "    \n",
    "    def id(Self):\n",
    "        print(f\"The id number of the employee : {Self.id_no} \")\n",
    "\n",
    "class Child1(Parent):\n",
    "    def __init__(self, department):\n",
    "        self.department = department\n",
    "\n",
    "    def work(self):\n",
    "        print(f\"The department of the work : {self.department}\")\n",
    "\n",
    "class Child2(Child1):\n",
    "    def __init__(self, id_no, department): \n",
    "        # this the instance of the object to declare the attribute\n",
    "        Parent.__init__(self, id_no)\n",
    "        Child1.__init__(self, department)\n",
    "\n",
    "    def play(self):\n",
    "        Parent.display(self) # 1 method of intsead of super\n",
    "        super().work() # super method\n",
    "        print(\"I can inheritant the parent method in another way\")\n",
    "\n",
    "\n",
    "# child 2 can only child1 method first bc of mro order\n",
    "# child 2 can access both parent child 1 class\n",
    "child2 = Child2(23, \"department\")\n",
    "child2.work()\n",
    "child2.id()\n",
    "\n",
    "\n",
    "\n",
    "\n"
   ]
  },
  {
   "cell_type": "markdown",
   "metadata": {},
   "source": [
    "### ***HIERARICAL INHERITANCE***"
   ]
  },
  {
   "cell_type": "markdown",
   "metadata": {},
   "source": [
    "    ONE PARENT MORE CHILD"
   ]
  },
  {
   "cell_type": "code",
   "execution_count": 97,
   "metadata": {},
   "outputs": [
    {
     "name": "stdout",
     "output_type": "stream",
     "text": [
      "The the deparment of section \n",
      "The hierarchial inheritance\n",
      "The hierarchial inheritance\n",
      "The work place held on\n"
     ]
    }
   ],
   "source": [
    "class Parent:\n",
    "    def display(self):\n",
    "        print(f\"The hierarchial inheritance\")\n",
    "\n",
    "class Child1(Parent):\n",
    "    def work_place(self):\n",
    "        print(f\"The work place held on\")\n",
    "\n",
    "class Child2(Parent):\n",
    "    def section(self):\n",
    "        print(f\"The the deparment of section \")\n",
    "\n",
    "child2 = Child2()\n",
    "child2.section()\n",
    "child2.display()\n",
    "\n",
    "child1 = Child1()\n",
    "child1.display()\n",
    "child1.work_place()\n"
   ]
  },
  {
   "cell_type": "markdown",
   "metadata": {},
   "source": [
    "    INIT_FUCNTION"
   ]
  },
  {
   "cell_type": "code",
   "execution_count": 103,
   "metadata": {},
   "outputs": [
    {
     "name": "stdout",
     "output_type": "stream",
     "text": [
      "The the deparment of section : cs\n",
      "The hierarchial inheritance : anusha:22\n",
      "The hierarchial inheritance : cs:22\n",
      "The work place held on : cheenia\n"
     ]
    }
   ],
   "source": [
    "class Parent:\n",
    "    def __init__(self, name, age):\n",
    "        self.name = name \n",
    "        self.age = age\n",
    "        \n",
    "    def display(self):\n",
    "        print(f\"The hierarchial inheritance : {self.name}:{self.age}\")\n",
    "\n",
    "class Child1(Parent):\n",
    "    def __init__(self, name , age, place):\n",
    "        Parent.__init__(self, name, age)\n",
    "        self.place = place\n",
    "\n",
    "    def work_place(self):\n",
    "        print(f\"The work place held on : {self.place}\")\n",
    "\n",
    "class Child2(Parent):\n",
    "    def __init__(self, name , age, dept):\n",
    "        Parent.__init__(self, name , age)\n",
    "        self.dept = dept\n",
    "\n",
    "    def section(self):\n",
    "        print(f\"The the deparment of section : {self.dept}\")\n",
    "\n",
    "child2 = Child2(\"anusha\", 22, \"cs\")\n",
    "child2.section()\n",
    "child2.display()\n",
    "\n",
    "child1 = Child1(\"cs\", 22, \"cheenia\")\n",
    "child1.display()\n",
    "child1.work_place()"
   ]
  },
  {
   "cell_type": "markdown",
   "metadata": {},
   "source": [
    "## ***HYBRID INHERITANCE***"
   ]
  },
  {
   "cell_type": "code",
   "execution_count": 108,
   "metadata": {},
   "outputs": [
    {
     "name": "stdout",
     "output_type": "stream",
     "text": [
      "_______multiple inheritance__________\n",
      "dispaly from A class\n",
      "display function B class\n",
      "Hi this is class  C\n",
      "Display from D class\n",
      "hii\n",
      "_________Single inheriatnce______\n",
      "dispaly from A class\n",
      "display function B class\n"
     ]
    }
   ],
   "source": [
    "class A:\n",
    "    def display(self):\n",
    "        print(f\"dispaly from A class\")\n",
    "    def act(self):\n",
    "        print(\"hii\")\n",
    "    \n",
    "class B(A): #single\n",
    "    def display(self):\n",
    "        super().display()\n",
    "        print(f\"display function B class\")\n",
    "\n",
    "class C:\n",
    "    def show(self):\n",
    "        print(f\"Hi this is class  C\")\n",
    "\n",
    "class D (B, C):# multilevel\n",
    "    def multiple(self):\n",
    "        print(F\"Display from D class\")\n",
    "\n",
    "print(\"_______multiple inheritance__________\")\n",
    "d = D()\n",
    "d.display()\n",
    "d.show()\n",
    "d.multiple()\n",
    "d.act()\n",
    "\n",
    "print(\"_________Single inheriatnce______\")\n",
    "b = B()\n",
    "b.display()\n",
    "\n"
   ]
  }
 ],
 "metadata": {
  "kernelspec": {
   "display_name": "Python 3",
   "language": "python",
   "name": "python3"
  },
  "language_info": {
   "codemirror_mode": {
    "name": "ipython",
    "version": 3
   },
   "file_extension": ".py",
   "mimetype": "text/x-python",
   "name": "python",
   "nbconvert_exporter": "python",
   "pygments_lexer": "ipython3",
   "version": "3.11.8"
  }
 },
 "nbformat": 4,
 "nbformat_minor": 2
}
