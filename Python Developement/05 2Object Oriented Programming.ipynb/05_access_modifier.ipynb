{
 "cells": [
  {
   "cell_type": "markdown",
   "metadata": {},
   "source": [
    "### **Access Modifiers in Python**\n",
    "\n",
    "Access modifiers define the scope of variables and methods in a class:  \n",
    "1. **Public**: Accessible anywhere (e.g., `self.var`).  \n",
    "2. **Protected**: Accessible in the class and subclasses (e.g., `_self.var`).  \n",
    "3. **Private**: Accessible only within the class (e.g., `__self.var`).  \n"
   ]
  },
  {
   "cell_type": "markdown",
   "metadata": {},
   "source": [
    "    public "
   ]
  },
  {
   "cell_type": "code",
   "execution_count": 4,
   "metadata": {},
   "outputs": [
    {
     "name": "stdout",
     "output_type": "stream",
     "text": [
      "anni\n",
      "Hello iam anni from student class\n"
     ]
    }
   ],
   "source": [
    "class Student:\n",
    "    def __init__(self, name):\n",
    "        self.name = name\n",
    "\n",
    "    def display(self):\n",
    "        print(f\"Hello iam {self.name} from student class\")\n",
    "\n",
    "s1 = Student(\"anni\")\n",
    "print(s1.name)\n",
    "s1.display()\n"
   ]
  },
  {
   "cell_type": "markdown",
   "metadata": {},
   "source": [
    "    Protected"
   ]
  },
  {
   "cell_type": "code",
   "execution_count": 14,
   "metadata": {},
   "outputs": [
    {
     "name": "stdout",
     "output_type": "stream",
     "text": [
      "Iam goone from the class student and my roll number : 34\n",
      "goone\n",
      "34\n"
     ]
    }
   ],
   "source": [
    "# better to use inside the class \n",
    "class Student:\n",
    "    def __init__(self, name, rollno):\n",
    "        self.name = name \n",
    "        self._rollno = rollno # protected\n",
    "\n",
    "    def display(self):\n",
    "        print(f\"Iam {self.name} from the class student and my roll number : {self._rollno}\")\n",
    "\n",
    "class Branch(Student): # subclass and class where protected access\n",
    "    pass\n",
    "\n",
    "def showdata():\n",
    "    branch = Branch(\"annu\", 34)\n",
    "    branch.display()\n",
    "    branch.name = \"goone\" # can change here\n",
    "    print(branch.name )\n",
    "    print(branch._rollno)\n",
    "\n",
    "\n",
    "showdata()"
   ]
  },
  {
   "cell_type": "markdown",
   "metadata": {},
   "source": [
    "    PRIVATE"
   ]
  },
  {
   "cell_type": "code",
   "execution_count": 25,
   "metadata": {},
   "outputs": [
    {
     "name": "stdout",
     "output_type": "stream",
     "text": [
      "Iam andy from the class student and my roll number : 33 and age : 12\n",
      "12\n",
      "Iam annu from the class student and my roll number : 34 and age : 7\n",
      "['_Student__age', '__class__', '__delattr__', '__dict__', '__dir__', '__doc__', '__eq__', '__format__', '__ge__', '__getattribute__', '__getstate__', '__gt__', '__hash__', '__init__', '__init_subclass__', '__le__', '__lt__', '__module__', '__ne__', '__new__', '__reduce__', '__reduce_ex__', '__repr__', '__setattr__', '__sizeof__', '__str__', '__subclasshook__', '__weakref__', '_rollno', 'display', 'name', 'show']\n"
     ]
    },
    {
     "ename": "AttributeError",
     "evalue": "'Branch' object has no attribute '_Branch__age'",
     "output_type": "error",
     "traceback": [
      "\u001b[1;31m---------------------------------------------------------------------------\u001b[0m",
      "\u001b[1;31mAttributeError\u001b[0m                            Traceback (most recent call last)",
      "Cell \u001b[1;32mIn[25], line 31\u001b[0m\n\u001b[0;32m     27\u001b[0m \u001b[38;5;28mprint\u001b[39m(\u001b[38;5;28mdir\u001b[39m(branch))\n\u001b[0;32m     29\u001b[0m \u001b[38;5;66;03m# -----------------\u001b[39;00m\n\u001b[0;32m     30\u001b[0m \u001b[38;5;66;03m#error outside of class\u001b[39;00m\n\u001b[1;32m---> 31\u001b[0m \u001b[43mbranch\u001b[49m\u001b[38;5;241;43m.\u001b[39;49m\u001b[43mshow\u001b[49m\u001b[43m(\u001b[49m\u001b[43m)\u001b[49m\n\u001b[0;32m     32\u001b[0m \u001b[38;5;28mprint\u001b[39m(branch\u001b[38;5;241m.\u001b[39m__age)\n",
      "Cell \u001b[1;32mIn[25], line 13\u001b[0m, in \u001b[0;36mBranch.show\u001b[1;34m(self)\u001b[0m\n\u001b[0;32m     12\u001b[0m \u001b[38;5;28;01mdef\u001b[39;00m \u001b[38;5;21mshow\u001b[39m(\u001b[38;5;28mself\u001b[39m):\n\u001b[1;32m---> 13\u001b[0m     \u001b[38;5;28mprint\u001b[39m(\u001b[38;5;124mf\u001b[39m\u001b[38;5;124m\"\u001b[39m\u001b[38;5;124mIam \u001b[39m\u001b[38;5;132;01m{\u001b[39;00m\u001b[38;5;28mself\u001b[39m\u001b[38;5;241m.\u001b[39mname\u001b[38;5;132;01m}\u001b[39;00m\u001b[38;5;124m from the class student and my roll number : \u001b[39m\u001b[38;5;132;01m{\u001b[39;00m\u001b[38;5;28mself\u001b[39m\u001b[38;5;241m.\u001b[39m_rollno\u001b[38;5;132;01m}\u001b[39;00m\u001b[38;5;124m and age : \u001b[39m\u001b[38;5;132;01m{\u001b[39;00m\u001b[38;5;28;43mself\u001b[39;49m\u001b[38;5;241;43m.\u001b[39;49m\u001b[43m__age\u001b[49m\u001b[38;5;132;01m}\u001b[39;00m\u001b[38;5;124m\"\u001b[39m)\n",
      "\u001b[1;31mAttributeError\u001b[0m: 'Branch' object has no attribute '_Branch__age'"
     ]
    }
   ],
   "source": [
    "# better to use inside the class \n",
    "class Student:\n",
    "    def __init__(self, name, rollno, age):\n",
    "        self.name = name #public\n",
    "        self._rollno = rollno # protected\n",
    "        self.__age = age # protector\n",
    "\n",
    "    def display(self):\n",
    "        print(f\"Iam {self.name} from the class student and my roll number : {self._rollno} and age : {self.__age}\")\n",
    "\n",
    "class Branch(Student): # subclass and class where protected access\n",
    "    def show(self):\n",
    "        print(f\"Iam {self.name} from the class student and my roll number : {self._rollno} and age : {self.__age}\")\n",
    "\n",
    "# main class\n",
    "# --------------\n",
    "student = Student(\"andy\", 33, 12)\n",
    "student.display()\n",
    "print(student._Student__age) #this is how we can implement the private class\n",
    "\n",
    "# subclass\n",
    "# --------------\n",
    "branch = Branch(\"annu\", 34, 7)\n",
    "branch.display()\n",
    "\n",
    "# value attributes of  object instance of class \n",
    "print(dir(branch))\n",
    "\n",
    "# -----------------\n",
    "#error outside of class\n",
    "branch.show()\n",
    "print(branch.__age)\n",
    "\n",
    "\n"
   ]
  },
  {
   "cell_type": "markdown",
   "metadata": {},
   "source": [
    "**Public (self.name):**\n",
    "\n",
    " Accessible and modifiable directly from outside the class.\n",
    "\n",
    "***Protected (self._rollno):*** \n",
    "\n",
    "Intended to be accessed within the class or its subclasses.\n",
    "\n",
    "***Private (self.__age):*** \n",
    "\n",
    "Not directly accessible outside the class but accessible via class methods."
   ]
  }
 ],
 "metadata": {
  "kernelspec": {
   "display_name": "Python 3",
   "language": "python",
   "name": "python3"
  },
  "language_info": {
   "codemirror_mode": {
    "name": "ipython",
    "version": 3
   },
   "file_extension": ".py",
   "mimetype": "text/x-python",
   "name": "python",
   "nbconvert_exporter": "python",
   "pygments_lexer": "ipython3",
   "version": "3.11.8"
  }
 },
 "nbformat": 4,
 "nbformat_minor": 2
}
