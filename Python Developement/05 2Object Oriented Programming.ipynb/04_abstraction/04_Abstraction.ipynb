{
 "cells": [
  {
   "cell_type": "markdown",
   "metadata": {},
   "source": [
    "## A***bstraction in Python***"
   ]
  },
  {
   "cell_type": "markdown",
   "metadata": {},
   "source": [
    "### **Abstraction in Python**\n",
    "\n",
    "**Definition**:  \n",
    "Abstraction hides unnecessary details and shows only what is important. It helps focus on **what** something does instead of **how** it does it.\n",
    "\n",
    "**Layman Example**:  \n",
    "Think of a **TV remote**:\n",
    "- You press buttons to change the channel or volume (**what it does**).  \n",
    "- You don’t need to know how the circuits inside the remote work (**how it works**).\n",
    "\n",
    "**Code Example**:  \n",
    "```python\n",
    "from abc import ABC, abstractmethod\n",
    "\n",
    "class Remote(ABC):\n",
    "    @abstractmethod\n",
    "    def press_button(self, button):\n",
    "        pass\n",
    "\n",
    "class TVRemote(Remote):\n",
    "    def press_button(self, button):\n",
    "        return f\"{button} button pressed\"\n",
    "\n",
    "remote = TVRemote()\n",
    "print(remote.press_button(\"Volume Up\"))  # Output: Volume Up button pressed\n"
   ]
  },
  {
   "cell_type": "code",
   "execution_count": 1,
   "metadata": {},
   "outputs": [],
   "source": [
    "from abc import ABC, abstractmethod\n",
    "\n",
    "class Student(ABC): #importation\n",
    "    def __init__(self, name):\n",
    "        self.name = name\n",
    "\n",
    "    @abstractmethod\n",
    "    def student_info(self):\n",
    "       pass\n",
    "\n",
    "    def display(self):\n",
    "        print(\"this not the abstract method\")\n",
    "\n",
    "class School:\n",
    "    def __init__(self, name):\n",
    "        self.name = name\n",
    "\n",
    "    def student_info(Self):\n",
    "        print(f\"The school name :{Self.name} \")\n",
    "\n",
    "class Rules:\n",
    "    def __init__(self, name):\n",
    "        self.name = name\n",
    "\n",
    "    def student_info(self):\n",
    "        print(f\"The rules of the school : {self.name} \")\n",
    "\n",
    "student = Student(\"anni\")\n"
   ]
  },
  {
   "cell_type": "markdown",
   "metadata": {},
   "source": [
    "    NO OBJECT FOR THE ABSTRACTION CLASS"
   ]
  }
 ],
 "metadata": {
  "kernelspec": {
   "display_name": "Python 3",
   "language": "python",
   "name": "python3"
  },
  "language_info": {
   "codemirror_mode": {
    "name": "ipython",
    "version": 3
   },
   "file_extension": ".py",
   "mimetype": "text/x-python",
   "name": "python",
   "nbconvert_exporter": "python",
   "pygments_lexer": "ipython3",
   "version": "3.11.8"
  }
 },
 "nbformat": 4,
 "nbformat_minor": 2
}
