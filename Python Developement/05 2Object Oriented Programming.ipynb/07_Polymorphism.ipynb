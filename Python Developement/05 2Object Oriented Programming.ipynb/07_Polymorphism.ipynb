{
 "cells": [
  {
   "cell_type": "markdown",
   "metadata": {},
   "source": [
    "## ***Polymorphism***"
   ]
  },
  {
   "cell_type": "markdown",
   "metadata": {},
   "source": [
    "\n",
    "**Definition**:  \n",
    "Polymorphism allows different classes to have methods with the same name, but each method can do different things. This means you can use the same method name for different types of objects.\n",
    "\n",
    "### **Why Do We Need Polymorphism?**\n",
    "- **Flexibility**: You can use the same code for different objects without worrying about the specific class.\n",
    "- **Easier to Maintain**: You don't have to write separate methods for every object, making your code cleaner.\n",
    "- **Reusability**: You can reuse the same method name in different classes.\n",
    "\n"
   ]
  },
  {
   "cell_type": "code",
   "execution_count": null,
   "metadata": {},
   "outputs": [],
   "source": [
    "# number are same done different operation \n",
    "\n",
    "print( 1 + 3) # int\n",
    "\n",
    "print(\"1\" + \"2\") # string\n",
    "\n",
    "# example(WORKING OF THE LEN FUNCTION IN LIST AND VAR ARE DIFFERENT )\n",
    "list1 = [\"jenni\", 1]\n",
    "print(len(list1)) #no of index\n",
    "print(len(\"kenni\"))\n"
   ]
  },
  {
   "cell_type": "markdown",
   "metadata": {},
   "source": [
    "## ***DUCK TYPING***"
   ]
  },
  {
   "cell_type": "markdown",
   "metadata": {},
   "source": [
    "### **Duck Typing - Simple Definition**\n",
    "\n",
    "**Duck typing** means that an object's suitability is determined by what it can do (its methods or properties), rather than what type or class it belongs to. If an object behaves like a certain type, it can be treated as that type, regardless of its actual class. \n",
    "\n",
    "The saying \"**If it looks like a duck, swims like a duck, and quacks like a duck, it probably is a duck**\" explains this concept.\n"
   ]
  },
  {
   "cell_type": "markdown",
   "metadata": {},
   "source": [
    "    **Duck Typing:** An object is considered suitable if it has the required behavior (methods), not its type.\n",
    "It enables flexible and dynamic code without strict type checking."
   ]
  },
  {
   "cell_type": "markdown",
   "metadata": {},
   "source": [
    "    allows the data type dynamic and static typing"
   ]
  },
  {
   "cell_type": "code",
   "execution_count": null,
   "metadata": {},
   "outputs": [],
   "source": [
    "# DYNAMIC TYPING \n",
    "\n",
    "def square(x):\n",
    "    return x * x\n",
    "print(square(5.5))\n",
    "print(square(5))\n"
   ]
  },
  {
   "cell_type": "code",
   "execution_count": 14,
   "metadata": {},
   "outputs": [
    {
     "name": "stdout",
     "output_type": "stream",
     "text": [
      "iam a dog i acn swim\n",
      "brack brack\n",
      "imformation displayed\n",
      "iam duck i can walk\n",
      "quack quack\n",
      "imformation displayed\n"
     ]
    },
    {
     "ename": "AttributeError",
     "evalue": "'Person' object has no attribute 'walk'",
     "output_type": "error",
     "traceback": [
      "\u001b[1;31m---------------------------------------------------------------------------\u001b[0m",
      "\u001b[1;31mAttributeError\u001b[0m                            Traceback (most recent call last)",
      "Cell \u001b[1;32mIn[14], line 29\u001b[0m\n\u001b[0;32m     27\u001b[0m display(dog)\n\u001b[0;32m     28\u001b[0m display(d)\n\u001b[1;32m---> 29\u001b[0m \u001b[43mdisplay\u001b[49m\u001b[43m(\u001b[49m\u001b[43mperson\u001b[49m\u001b[43m)\u001b[49m \u001b[38;5;66;03m# not method in the sdisplay\u001b[39;00m\n",
      "Cell \u001b[1;32mIn[14], line 20\u001b[0m, in \u001b[0;36mdisplay\u001b[1;34m(duck)\u001b[0m\n\u001b[0;32m     19\u001b[0m \u001b[38;5;28;01mdef\u001b[39;00m \u001b[38;5;21mdisplay\u001b[39m(duck): \u001b[38;5;66;03m# parameter as object == duck\u001b[39;00m\n\u001b[1;32m---> 20\u001b[0m     \u001b[43mduck\u001b[49m\u001b[38;5;241;43m.\u001b[39;49m\u001b[43mwalk\u001b[49m() \n\u001b[0;32m     21\u001b[0m     duck\u001b[38;5;241m.\u001b[39mspeaks()\n\u001b[0;32m     22\u001b[0m     \u001b[38;5;28mprint\u001b[39m(\u001b[38;5;124m\"\u001b[39m\u001b[38;5;124mimformation displayed\u001b[39m\u001b[38;5;124m\"\u001b[39m)\n",
      "\u001b[1;31mAttributeError\u001b[0m: 'Person' object has no attribute 'walk'"
     ]
    }
   ],
   "source": [
    "class Duck:\n",
    "    def walk(self):\n",
    "        print(\"iam duck i can walk\")\n",
    "    def speaks(self):\n",
    "        print(\"quack quack\")\n",
    "\n",
    "class Dog:\n",
    "    def walk(self):\n",
    "        print(\"iam a dog i acn swim\")\n",
    "\n",
    "    def speaks(self):\n",
    "        print(\"brack brack\")\n",
    "\n",
    "class Person:\n",
    "    def speaks(self):\n",
    "        print(\"hello\")\n",
    "\n",
    "\n",
    "def display(duck): # parameter as object == duck\n",
    "    duck.walk() \n",
    "    duck.speaks()\n",
    "    print(\"imformation displayed\")\n",
    "\n",
    "d = Duck()\n",
    "dog = Dog()\n",
    "person = Person()\n",
    "display(dog)\n",
    "display(d)\n",
    "display(person) # not method in the sdisplay\n",
    "\n",
    "\n"
   ]
  },
  {
   "cell_type": "code",
   "execution_count": 15,
   "metadata": {},
   "outputs": [
    {
     "name": "stdout",
     "output_type": "stream",
     "text": [
      "Bark\n",
      "Meow\n"
     ]
    }
   ],
   "source": [
    "class Dog:\n",
    "    def speak(self):\n",
    "        print(\"Bark\")\n",
    "\n",
    "class Cat:\n",
    "    def speak(self):\n",
    "        print(\"Meow\")\n",
    "\n",
    "def animal_sound(animal):\n",
    "    animal.speak()  # Doesn't matter if it's a Dog or a Cat, as long as it has the `speak()` method.\n",
    "\n",
    "dog = Dog()\n",
    "cat = Cat()\n",
    "\n",
    "animal_sound(dog)  # Output: Bark\n",
    "animal_sound(cat)  # Output: Meow\n"
   ]
  },
  {
   "cell_type": "markdown",
   "metadata": {},
   "source": [
    "## ***2.OPERATOR OVERLOADING***"
   ]
  },
  {
   "cell_type": "markdown",
   "metadata": {},
   "source": [
    "**Operator overloading** allows you to define custom behavior for operators (like `+`, `-`, `*`, etc.) when they are used with objects of a specific class. By overloading operators, you can make objects behave like built-in data types. This is done by defining special methods in the class, such as `__add__` for addition or `__mul__` for multiplication.\n"
   ]
  },
  {
   "cell_type": "code",
   "execution_count": 19,
   "metadata": {},
   "outputs": [
    {
     "name": "stdout",
     "output_type": "stream",
     "text": [
      "11\n",
      "3\n",
      "12\n"
     ]
    }
   ],
   "source": [
    "print(\"1\" + \"1\")\n",
    "\n",
    "# magic method\n",
    "print(int.__add__(1, 2))\n",
    "\n",
    "print(str.__add__(\"1\", \"2\"))\n",
    "\n",
    "# __add__ add method is called "
   ]
  },
  {
   "cell_type": "code",
   "execution_count": null,
   "metadata": {},
   "outputs": [],
   "source": [
    "class ComplexNumber:\n",
    "    def __init__(self, r, i):\n",
    "        self.real = r\n",
    "        self.imaginary = i\n",
    "    # special method\n",
    "    def __add__(self, other):\n",
    "        return f\"{self.real + other.real}+ {self.imaginary + other.imaginary}i\"\n",
    "\n",
    "\n",
    "c1 = ComplexNumber(1, 3)\n",
    "c2 = ComplexNumber(1, 3)\n",
    "print( c1 + c2)  # error\n",
    "\n"
   ]
  },
  {
   "cell_type": "markdown",
   "metadata": {},
   "source": [
    "### ***METHOD OVERLOADING AND METHOD OVERRIDING***"
   ]
  },
  {
   "cell_type": "markdown",
   "metadata": {},
   "source": [
    "***PYTHON NOT SUPPORT METHOD OVERLOADING***\n",
    "\n",
    "`MANY METHOD WITH SAME NAME  BUT DIFFERENT ARGUMENTS IN THE SAME CLASS`"
   ]
  },
  {
   "cell_type": "code",
   "execution_count": null,
   "metadata": {},
   "outputs": [
    {
     "ename": "TypeError",
     "evalue": "Demo.add() missing 1 required positional argument: 'c'",
     "output_type": "error",
     "traceback": [
      "\u001b[1;31m---------------------------------------------------------------------------\u001b[0m",
      "\u001b[1;31mTypeError\u001b[0m                                 Traceback (most recent call last)",
      "Cell \u001b[1;32mIn[24], line 8\u001b[0m\n\u001b[0;32m      5\u001b[0m         \u001b[38;5;28;01mreturn\u001b[39;00m a \u001b[38;5;241m+\u001b[39m b \u001b[38;5;241m+\u001b[39m c\n\u001b[0;32m      7\u001b[0m d \u001b[38;5;241m=\u001b[39m Demo()\n\u001b[1;32m----> 8\u001b[0m \u001b[38;5;28mprint\u001b[39m(\u001b[43md\u001b[49m\u001b[38;5;241;43m.\u001b[39;49m\u001b[43madd\u001b[49m\u001b[43m(\u001b[49m\u001b[38;5;241;43m4\u001b[39;49m\u001b[43m,\u001b[49m\u001b[43m \u001b[49m\u001b[38;5;241;43m3\u001b[39;49m\u001b[43m)\u001b[49m)\n\u001b[0;32m      9\u001b[0m d\u001b[38;5;241m.\u001b[39madd(\u001b[38;5;241m1\u001b[39m, \u001b[38;5;241m2\u001b[39m, \u001b[38;5;241m3\u001b[39m)\n",
      "\u001b[1;31mTypeError\u001b[0m: Demo.add() missing 1 required positional argument: 'c'"
     ]
    }
   ],
   "source": [
    "class Demo:\n",
    "    def add(self, a, b):\n",
    "        return a + b\n",
    "    def add(self , a, b, c):\n",
    "        return a + b + c\n",
    "    \n",
    "d = Demo()\n",
    "print(d.add(4, 3))\n",
    "print(d.add(1, 2, 3))"
   ]
  },
  {
   "cell_type": "markdown",
   "metadata": {},
   "source": [
    "    passing with default argumenet to overcome"
   ]
  },
  {
   "cell_type": "code",
   "execution_count": 25,
   "metadata": {},
   "outputs": [
    {
     "name": "stdout",
     "output_type": "stream",
     "text": [
      "7\n",
      "6\n"
     ]
    }
   ],
   "source": [
    "class Demo:\n",
    "    def add(self, a, b, c =0):\n",
    "        return a + b + c\n",
    "    \n",
    "d = Demo()\n",
    "print(d.add(4, 3))\n",
    "print(d.add(1, 2, 3))"
   ]
  },
  {
   "cell_type": "markdown",
   "metadata": {},
   "source": [
    "        overcome by *args"
   ]
  },
  {
   "cell_type": "code",
   "execution_count": 26,
   "metadata": {},
   "outputs": [
    {
     "name": "stdout",
     "output_type": "stream",
     "text": [
      "7\n",
      "6\n",
      "22\n"
     ]
    }
   ],
   "source": [
    "class Demo:\n",
    "    def add(self, *args):\n",
    "        total = 0\n",
    "        for i in args:\n",
    "            total += i\n",
    "        return total\n",
    "    \n",
    "d = Demo()\n",
    "print(d.add(4, 3))\n",
    "print(d.add(1, 2, 3))\n",
    "print(d.add(1, 2, 3, 4, 5, 7))"
   ]
  },
  {
   "cell_type": "markdown",
   "metadata": {},
   "source": [
    "## **METHOD OVERIDING**"
   ]
  },
  {
   "cell_type": "markdown",
   "metadata": {},
   "source": [
    "inheritance only has two classes , parent class and same as child class method same and number of argumnets are same"
   ]
  },
  {
   "cell_type": "code",
   "execution_count": 29,
   "metadata": {},
   "outputs": [
    {
     "name": "stdout",
     "output_type": "stream",
     "text": [
      "father sleeps 10.00 pm clock and wake up in6.00 am\n",
      "sons 1.00 am to 10 am \n",
      "eating\n"
     ]
    }
   ],
   "source": [
    "class Father:\n",
    "    def sleep(self):\n",
    "        print(\"father sleeps 10.00 pm clock and wake up in6.00 am\")\n",
    "\n",
    "    def eat(self):\n",
    "        print(\"eating\")\n",
    "\n",
    "class Son(Father):\n",
    "    def sleep(self):\n",
    "        super().sleep()\n",
    "        print(\"sons 1.00 am to 10 am \") # method overriding\n",
    "\n",
    "son = Son()\n",
    "son.sleep()\n",
    "son.eat()\n",
    "\n"
   ]
  },
  {
   "cell_type": "markdown",
   "metadata": {},
   "source": [
    "    different"
   ]
  },
  {
   "cell_type": "markdown",
   "metadata": {},
   "source": [
    "1. method overloading is compile time error:\n",
    "\n",
    "    **which method should in call compile time**\n",
    "\n",
    "    **same class**\n",
    "\n",
    "    **method must have same and differ parameter**\n",
    "\n",
    "    **not support**\n",
    " \n",
    "\n",
    "2. method overriding is run time error:\n",
    "\n",
    "    **mro do run time**\n",
    "\n",
    "    **differ class 2 class inheritance**\n",
    "\n",
    "    **method should have same name and same number of  parameters**\n",
    "\n",
    "    **support overriding**"
   ]
  }
 ],
 "metadata": {
  "kernelspec": {
   "display_name": "Python 3",
   "language": "python",
   "name": "python3"
  },
  "language_info": {
   "codemirror_mode": {
    "name": "ipython",
    "version": 3
   },
   "file_extension": ".py",
   "mimetype": "text/x-python",
   "name": "python",
   "nbconvert_exporter": "python",
   "pygments_lexer": "ipython3",
   "version": "3.11.8"
  }
 },
 "nbformat": 4,
 "nbformat_minor": 2
}
