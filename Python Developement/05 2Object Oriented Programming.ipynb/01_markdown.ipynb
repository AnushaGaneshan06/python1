{
 "cells": [
  {
   "cell_type": "markdown",
   "metadata": {},
   "source": [
    "### OOPs\n",
    "Object-Oriented Programming System models real-world entities using classes and objects.\n",
    "\n",
    "### Class\n",
    "A blueprint for creating objects; it defines attributes (data) and methods (functions).\n",
    "\n",
    "### Object\n",
    "An instance of a class; it contains data and can use methods defined in the class.\n",
    "\n",
    "### Method\n",
    "A function defined inside a class to perform operations using the object's data.\n",
    "\n",
    "### Function\n",
    "A block of reusable code that performs a specific task, defined with `def`.\n",
    "\n",
    "### Keyword\n",
    "Reserved words in Python with special meanings, like `class`, `def`, `return`.\n",
    "\n",
    "### Variable\n",
    "A name used to store data that can be modified during program execution.\n",
    "\n",
    "### Datatype\n",
    "The type of data a variable holds, e.g., `int`, `str`, `float`, `list`.\n",
    "\n",
    "### self\n",
    "A reference to the current object of a class, used to access its attributes and methods.\n",
    "\n",
    "### Instance of Class\n",
    "An object created from a class blueprint.\n",
    "\n",
    "### Inheritance\n",
    "A mechanism where one class (child) inherits properties and methods from another (parent).\n",
    "\n",
    "### Encapsulation\n",
    "Hiding internal details of an object and exposing only necessary parts.\n",
    "\n",
    "### `__init__`\n",
    "A special method (constructor) called automatically when creating an object, used to initialize attributes.\n",
    "\n",
    "### Abstraction\n",
    "Hiding implementation details and showing only essential features, often using abstract classes.\n",
    "\n",
    "### Polymorphism\n",
    "The ability to define methods in a way that they behave differently based on the object.\n",
    "\n",
    "### Override\n",
    "A child class redefines a method inherited from a parent class to provide specific behavior.\n",
    "```python\n",
    "class Parent:\n",
    "    def greet(self):\n",
    "        return \"Hello from Parent\"\n",
    "\n",
    "class Child(Parent):\n",
    "    def greet(self):\n",
    "        return \"Hello from Child\"\n"
   ]
  },
  {
   "cell_type": "markdown",
   "metadata": {},
   "source": [
    "### Difference Between Encapsulation, Polymorphism, and Abstraction\n",
    "\n",
    "| Concept          | Definition                              | Purpose                                  | Example                             |\n",
    "|-------------------|-----------------------------------------|------------------------------------------|-------------------------------------|\n",
    "| **Encapsulation** | Hides internal data, exposing only necessary parts. | Ensures security and controlled access. | Use `__balance` with `get_balance()` in a bank account. |\n",
    "| **Polymorphism**  | Allows the same method to behave differently for different objects. | Enables flexibility and reusability.    | A `fly()` method for both `Bird` and `Airplane`. |\n",
    "| **Abstraction**   | Hides implementation details, focusing on essential features. | Simplifies design and highlights key behavior. | Abstract class `Animal` with `sound()` for `Dog` and `Cat`. |\n"
   ]
  }
 ],
 "metadata": {
  "language_info": {
   "name": "python"
  }
 },
 "nbformat": 4,
 "nbformat_minor": 2
}
