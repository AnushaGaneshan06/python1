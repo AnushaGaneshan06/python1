{
 "cells": [
  {
   "cell_type": "markdown",
   "metadata": {},
   "source": [
    "## FILE HANDLING"
   ]
  },
  {
   "cell_type": "markdown",
   "metadata": {},
   "source": [
    "**File handling in Python provides a set of modes to open and manipulate files**. Each mode determines how the file is accessed—whether for reading, writing, or appending. Below are the file access modes:"
   ]
  },
  {
   "cell_type": "markdown",
   "metadata": {},
   "source": [
    "# File Operations in Python\n",
    "\n",
    "| **Mode/Function**    | **Description**                                                                                          | **Key Points**                                                    |\n",
    "|----------------------|----------------------------------------------------------------------------------------------------------|-------------------------------------------------------------------|\n",
    "| `r`                  | Opens a file for **reading**. File must exist.                                                           | Can **read**, cannot **write**. File must exist. Pointer at start.|\n",
    "| `w`                  | Opens a file for **writing**. Clears file content if it exists.                                          | Can **write**, cannot **read**. Creates new file, overwrites existing one.|\n",
    "| `a`                  | Opens a file for **appending**. Adds data to the end of the file.                                         | Can **write**, cannot **read**. File is created if it doesn't exist. Appends to the end.|\n",
    "| `r+`                 | Opens a file for **reading and writing**. File must exist.                                               | Can **read** and **write**. File must exist. Pointer at start.    |\n",
    "| `w+`                 | Opens a file for **reading and writing**. Clears content if it exists.                                   | Can **read** and **write**. Creates new file, overwrites existing one.|\n",
    "| `a+`                 | Opens a file for **reading and appending**. Adds data to the end.                                         | Can **read** and **write**. File is created if it doesn't exist. Appends to the end.|\n",
    "| `x`                  | Creates a new file for **writing**. Fails if file already exists.                                        | Can **write**, cannot **read**. Creates new file, fails if file exists.|\n",
    "| `seek()`             | Moves the file pointer to a specific position.                                                           | Used for **changing the pointer position**. No reading/writing directly.|\n",
    "| `tell()`             | Returns the current position of the file pointer.                                                        | Can get the **pointer position**. No reading/writing.             |\n",
    "| `read()`             | Reads the content of the file.                                                                           | Reads data from the **current position**.                         |\n",
    "| `readline()`         | Reads the next line from the file.                                                                       | Reads one line at a time.                                        |\n",
    "| `readlines()`        | Reads all lines from the file and returns them as a list.                                                | Reads all lines as a list.                                       |\n",
    "| `write()`            | Writes a string to the file.                                                                             | Writes data at the **current position**.                          |\n",
    "| `writelines()`       | Writes a list of strings to the file.                                                                    | Writes multiple lines from a list of strings.                     |\n",
    "| `flush()`            | Flushes the file's internal buffer, ensuring all written data is immediately saved.                      | Forces **immediate write** to disk.                               |\n",
    "| `close()`            | Closes the file and frees up system resources.                                                           | Closes the file after operations are complete.                    |\n"
   ]
  },
  {
   "cell_type": "markdown",
   "metadata": {},
   "source": [
    "# EXAMPLE:"
   ]
  },
  {
   "cell_type": "markdown",
   "metadata": {},
   "source": [
    "# OPENING AND CLOSING IN A FILE \n",
    "\n",
    "**SYNTAX :**\n",
    "* **file = open(\"filename.txt\", \"mode\")**"
   ]
  },
  {
   "cell_type": "code",
   "execution_count": null,
   "metadata": {},
   "outputs": [],
   "source": [
    "\n",
    "f = open('test.txt', 'w')\n",
    "# it creates the file in the folder\n",
    "\n",
    "'''\n",
    "This function will call the file named 'test.txt\n",
    "in write mode ('w').\n",
    "\n",
    "If the file doesnt exist it create the file nor shows the file exist\n",
    "\n",
    "When you open a file in `\"w\"` mode, it **erases** any existing content in the file. The file will then be replaced with the new content you write to it.\n",
    "'''\n"
   ]
  },
  {
   "cell_type": "code",
   "execution_count": null,
   "metadata": {},
   "outputs": [],
   "source": [
    "f.close()\n",
    "\n",
    "'''\n",
    "This method is called on the file object f to close the file once its done!!\n",
    "Its important to close the file to release system and ensure all data is written to the file.\n",
    "'''"
   ]
  },
  {
   "cell_type": "markdown",
   "metadata": {},
   "source": [
    "https://1.bp.blogspot.com/-iNi9iER_2QE/YC5ZiQ5nLGI/AAAAAAAABaY/GiLuu8RDz8IHfForgpnz4d7m6i9MYxKvgCLcBGAsYHQ/s883/modes.PNG"
   ]
  },
  {
   "cell_type": "markdown",
   "metadata": {},
   "source": [
    "#### 1. File Object Properties"
   ]
  },
  {
   "cell_type": "code",
   "execution_count": null,
   "metadata": {},
   "outputs": [],
   "source": [
    "# open the file in write mode\n",
    "f = open('test.txt', 'w')\n",
    "\n",
    "print('File Name : ', f.name)\n",
    "\n",
    "print('File Mode : ', f.mode)\n",
    "\n",
    "# depends on the mode return True or False\n",
    "print('Is file readable : ', f.readable())\n",
    "\n",
    "print('Is Writable mode : ', f.writable())\n",
    "\n",
    "# checks the file is opened or closed\n",
    "print('Is file closed : ', f.closed)\n",
    "\n",
    "f.close()\n",
    "\n",
    "print('Is file closed : ', f.closed)\n"
   ]
  },
  {
   "cell_type": "markdown",
   "metadata": {},
   "source": [
    "# READ DATA FROM THE TEXT FILE"
   ]
  },
  {
   "cell_type": "code",
   "execution_count": null,
   "metadata": {},
   "outputs": [],
   "source": [
    "# read() => all the data \n",
    "\n",
    "with open('test.txt', 'r') as f:\n",
    "    data = f.read()\n",
    "    print(data)"
   ]
  },
  {
   "cell_type": "code",
   "execution_count": null,
   "metadata": {},
   "outputs": [],
   "source": [
    "# read(n) => reads the n character (STRING)\n",
    "\n",
    "with open('test.txt', 'r') as f:\n",
    "    data = f.read(10)\n",
    "    print(type(data))\n",
    "    print(data)"
   ]
  },
  {
   "cell_type": "markdown",
   "metadata": {},
   "source": [
    "**READ() AND READLINE() METHODS** \n",
    "* rea\n",
    "* There is no need to close the file reading , it closed afterward automaically.\n",
    "* can use iterate through the lines whn using readline() , instead of writting separately"
   ]
  },
  {
   "cell_type": "code",
   "execution_count": null,
   "metadata": {},
   "outputs": [],
   "source": [
    "with open('test.txt', 'r') as f:\n",
    "    lines = f.readlines()\n",
    "    print(type(lines)) # list\n",
    "    # print(lines)\n",
    "    for line in lines:\n",
    "        print(line.strip())\n",
    "    # strip() or similar methods to remove extra whitespace or newlines.\n",
    "\n",
    "\n"
   ]
  },
  {
   "cell_type": "code",
   "execution_count": null,
   "metadata": {},
   "outputs": [],
   "source": [
    "#readline() reads the single line\n",
    "\n",
    "with open('test.txt', 'r') as f:\n",
    "    line = f.readline()\n",
    "while line:\n",
    "    print(line.strip())\n",
    "    break\n"
   ]
  },
  {
   "cell_type": "markdown",
   "metadata": {},
   "source": [
    "## Write data from text file"
   ]
  },
  {
   "cell_type": "code",
   "execution_count": null,
   "metadata": {},
   "outputs": [],
   "source": [
    "# writing the content to a text file\n",
    "\n",
    "content = \"1. st this the added content to test file.\"\n",
    "\n",
    "with open('output.txt', 'w') as f:\n",
    "    f.write(content)"
   ]
  },
  {
   "cell_type": "code",
   "execution_count": null,
   "metadata": {},
   "outputs": [],
   "source": [
    "# APPENDING THE CONTENT TO A EXISTING TEXT FILE\n",
    "\n",
    "additional_content = \"2. This the append text which append to the existing text if it exists.\"\n",
    "\n",
    "with open('output.txt', 'a') as f:\n",
    "    f.write(additional_content)"
   ]
  },
  {
   "cell_type": "code",
   "execution_count": null,
   "metadata": {},
   "outputs": [],
   "source": [
    "# WRITING THE MULTIPLE LINES TO A TEXT FILE\n",
    "\n",
    "lines = [\"one. \\n\", \"Two \\n\", \"Three \\n\", \"four \\n\", \"five \\n\"]\n",
    "\n",
    "with open('output.txt', \"w\") as f:\n",
    "    f.writelines(lines)"
   ]
  },
  {
   "cell_type": "code",
   "execution_count": null,
   "metadata": {},
   "outputs": [],
   "source": [
    "# Using the loopt o write the multiple lines\n",
    "\n",
    "lines = [\"line 1 \\n\", \"line 2 \\n\", \"line 3 \\n\"]\n",
    "\n",
    "with open('output.txt', 'w') as f:\n",
    "    for line in lines:\n",
    "        f.write(line)\n",
    "\n"
   ]
  },
  {
   "cell_type": "code",
   "execution_count": null,
   "metadata": {},
   "outputs": [],
   "source": [
    "# Using print() function to write content:\n",
    "\n",
    "content = \"function to write the file\"\n",
    "\n",
    "with open(\"output.txt\", 'w') as f:\n",
    "    print(content, file = f)"
   ]
  },
  {
   "cell_type": "markdown",
   "metadata": {},
   "source": [
    "## SEEK() AND TELL()"
   ]
  },
  {
   "cell_type": "markdown",
   "metadata": {},
   "source": [
    "- **Seek:** Moves the file pointer to a specific position. Use `offset` (bytes to move) and `whence` (reference point: `0` = start, `1` = current, `2` = end).\n",
    "\n",
    "- **Tell:** Returns the current position of the file pointer in bytes.\n"
   ]
  },
  {
   "cell_type": "code",
   "execution_count": 36,
   "metadata": {},
   "outputs": [
    {
     "name": "stdout",
     "output_type": "stream",
     "text": [
      "Current Position :  0\n",
      "\n",
      "After reading 10 characters :  0\n",
      "After seeking back to the begining :  10\n"
     ]
    }
   ],
   "source": [
    "with open('example.txt' , 'r') as file:\n",
    "    print(\"Current Position : \", file.tell())\n",
    "\n",
    "    data = file.read(20)\n",
    "    print(data)\n",
    "    print(\"After reading 10 characters : \", file.tell())\n",
    "\n",
    "    file.seek(10)\n",
    "    print(\"After seeking back to the begining : \", file.tell())\n",
    "    "
   ]
  },
  {
   "cell_type": "code",
   "execution_count": null,
   "metadata": {},
   "outputs": [
    {
     "name": "stdout",
     "output_type": "stream",
     "text": [
      "current positiom : 0\n",
      "After seeking to position 30 :  30\n"
     ]
    }
   ],
   "source": [
    "# USING SEEK() TO MOVE THE FILE POINTER \n",
    "\n",
    "with open('example.txt', 'r') as file:\n",
    "    print(\"current positiom :\", file.tell() )\n",
    "\n",
    "    file.seek(30)\n",
    "    print(\"After seeking to position 30 : \", file.tell())\n",
    "    # Current position after seeking"
   ]
  },
  {
   "cell_type": "markdown",
   "metadata": {},
   "source": [
    "## RENAMING & DELETING FILES"
   ]
  },
  {
   "cell_type": "code",
   "execution_count": null,
   "metadata": {},
   "outputs": [],
   "source": [
    "# IMPORT MODULES OR IMPORT LIBRARIES\n",
    "\n",
    "import os\n",
    "\n",
    "current_name_file = 'new_file.txt'\n",
    "new_file_name = \"test.txt\"\n",
    "\n",
    "os.rename(current_name_file, new_file_name)\n",
    "\n",
    "# create the file to delete \n",
    "os.remove('text.txt')\n"
   ]
  },
  {
   "cell_type": "markdown",
   "metadata": {},
   "source": [
    "## CHECKING EXISTANCE"
   ]
  },
  {
   "cell_type": "code",
   "execution_count": 42,
   "metadata": {},
   "outputs": [
    {
     "name": "stdout",
     "output_type": "stream",
     "text": [
      "The file 'example.txt' exists\n"
     ]
    }
   ],
   "source": [
    "import os\n",
    "\n",
    "file_path = 'example.txt'\n",
    "\n",
    "if os.path.exists(file_path):\n",
    "    print(f\"The file '{file_path}' exists\")\n",
    "else:\n",
    "    print(f\"The file '{file_path}' does not exist.\")"
   ]
  }
 ],
 "metadata": {
  "kernelspec": {
   "display_name": "Python 3",
   "language": "python",
   "name": "python3"
  },
  "language_info": {
   "codemirror_mode": {
    "name": "ipython",
    "version": 3
   },
   "file_extension": ".py",
   "mimetype": "text/x-python",
   "name": "python",
   "nbconvert_exporter": "python",
   "pygments_lexer": "ipython3",
   "version": "3.11.8"
  }
 },
 "nbformat": 4,
 "nbformat_minor": 2
}
