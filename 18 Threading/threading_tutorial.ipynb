{
 "cells": [
  {
   "cell_type": "markdown",
   "metadata": {},
   "source": [
    "# THREADS\n",
    "(in python thread is not available but can use **(_thread)** and **threading** are existing concept)\n",
    "\n",
    "* **Individual**and separate unit of execution that is part of a process.\n",
    "* **multiple Threads** can work together to accomplisj a common goal\n",
    "* Do the parllel tasks\n",
    "\n",
    "\n",
    "## THREADS IN PYTHON \n",
    "\n",
    "- **Thread**: An object that holds data, runs with a module, and is stored in a data structure.  \n",
    "- **Parameters**: Methods in threads can accept parameters during execution.  \n",
    "- **Execution**: A thread can execute as part of a process, enabling concurrent operations.  \n",
    "- **States**: Throughout its lifetime, a thread transitions through various states (e.g., new, runnable, waiting, terminated).\n"
   ]
  },
  {
   "cell_type": "markdown",
   "metadata": {},
   "source": [
    "## Thread and Threading Module:\n",
    "The module **thread** treats a thread as function while the module threading is implemented in **object oriented** way"
   ]
  },
  {
   "cell_type": "markdown",
   "metadata": {},
   "source": [
    "## How threads process Work\n",
    "\n",
    "Each thread as the **global variable** to access the multiple thread and each single thread has **local variable** and its own  **control loop** to work with global variable.\n",
    "\n",
    "* There are two different types of thrads :\n",
    "    1. **kernel thread** => os part\n",
    "    2. **user thread** => lean on fn concepts in programming language"
   ]
  },
  {
   "cell_type": "markdown",
   "metadata": {},
   "source": [
    "## Advatges in Threading:\n",
    "- **Faster Execution**: Threads run tasks at the same time, speeding up work on multi-core systems.  \n",
    "- **Resource Efficiency**: Threads share memory, using fewer resources than processes.  \n",
    "- **Responsive Apps**: Threads let background tasks run without slowing the main program.  \n",
    "- **Parallel Processing**: Threads handle many tasks together, boosting performance.  \n"
   ]
  },
  {
   "cell_type": "markdown",
   "metadata": {},
   "source": [
    "## THREADING ISSUSES\n",
    "\n",
    "    1. Scheduling\n",
    "    2. Resourse Sharing\n",
    "    3. Synchronization \n",
    "\n",
    "-----"
   ]
  },
  {
   "cell_type": "markdown",
   "metadata": {},
   "source": [
    "#### THREAD MODULE"
   ]
  },
  {
   "cell_type": "code",
   "execution_count": 7,
   "metadata": {},
   "outputs": [
    {
     "name": "stdout",
     "output_type": "stream",
     "text": [
      "start\n"
     ]
    },
    {
     "name": "stdout",
     "output_type": "stream",
     "text": [
      "thread2 ---------- 1733453321.0081964\n",
      "thread 1 ---------- 1733453322.0065591\n",
      "thread2 ---------- 1733453324.0108364\n",
      "thread 1 ---------- 1733453326.0095367\n",
      "thread2 ---------- 1733453327.011173\n",
      "thread 1 ---------- 1733453330.0098705\n",
      "thread2 ---------- 1733453330.0116544\n",
      "thread2 ---------- 1733453333.0122066\n",
      "thread 1 ---------- 1733453334.010553\n",
      "thread 1 ---------- 1733453338.0111265\n"
     ]
    }
   ],
   "source": [
    "import _thread\n",
    "import time\n",
    "\n",
    "def print_epoch(nameOfThread, delay):\n",
    "    count = 0\n",
    "    while count < 5:\n",
    "        time.sleep(delay)\n",
    "        count += 1\n",
    "        print(nameOfThread, \"----------\", time.time())\n",
    "\n",
    "# thread module \n",
    "# function name without () => print_epoch\n",
    "\n",
    "try:\n",
    "    _thread.start_new_thread(print_epoch, (\"thread 1\", 4) ) # arguments\n",
    "    _thread.start_new_thread(print_epoch, (\"thread2\", 3))\n",
    "\n",
    "except:\n",
    "    print(\"this is an error!!\")\n",
    "\n",
    "\n",
    "print(\"start\")"
   ]
  },
  {
   "cell_type": "markdown",
   "metadata": {},
   "source": [
    "#### THREADING MODULE"
   ]
  },
  {
   "cell_type": "code",
   "execution_count": null,
   "metadata": {},
   "outputs": [
    {
     "name": "stdout",
     "output_type": "stream",
     "text": [
      "Thread 1 1733454566.5948389\n",
      "Thread 2 1733454567.5952337\n",
      "Thread 1 1733454567.5967703\n",
      "Thread 1 1733454568.598043\n",
      "Thread 2 1733454569.597409\n",
      "Thread 1 1733454569.5984392\n",
      "Thread 1 1733454570.5987809\n",
      "Thread 2 1733454571.5979233\n",
      "Thread 2 1733454573.5986288\n",
      "Thread 2 1733454575.599359\n",
      "DONE\n"
     ]
    }
   ],
   "source": [
    "import threading\n",
    "import time\n",
    "\n",
    "def print_epoch(nameOfThread, delay):\n",
    "    count = 0\n",
    "    while count < 5:\n",
    "        time.sleep(delay)\n",
    "        count += 1\n",
    "        print(nameOfThread, time.time())\n",
    "\n",
    "\n",
    "if __name__ == \"__main__\":\n",
    "    # thread module \n",
    "    t1 = threading.Thread(target=print_epoch, args = (\"Thread 1\", 1))\n",
    "\n",
    "    t2 = threading.Thread(target=print_epoch, args=(\"Thread 2\", 2))\n",
    "\n",
    "    # start  the thread\n",
    "    t1.start()\n",
    "    t2.start()\n",
    "\n",
    "    #join => waits until the threads gets executes\n",
    "\n",
    "    t1.join()\n",
    "    t2.join()\n",
    "\n",
    "    print(\"DONE\")\n"
   ]
  },
  {
   "cell_type": "code",
   "execution_count": null,
   "metadata": {},
   "outputs": [
    {
     "name": "stdout",
     "output_type": "stream",
     "text": [
      "Cube = 8\n",
      "square :  4\n",
      "done\n"
     ]
    }
   ],
   "source": [
    "import threading\n",
    "import time\n",
    "\n",
    "def print_epoch(nameOfThread, delay):\n",
    "    count = 0\n",
    "    while count < 3:\n",
    "        time.sleep(delay)\n",
    "        count += 1\n",
    "        print(nameOfThread, time.time())\n",
    "\n",
    "# new method\n",
    "\n",
    "def print_cube(num):\n",
    "    print(\"Cube = {}\".format(num * num * num))\n",
    "\n",
    "def print_quare(num):\n",
    "    print(f\"square :  {num * num}\" )\n",
    "\n",
    "# if PARAMETER IS ONE ARGUMENTS ITS A TUPLE SO MUST GIVE (, COMMA ) AFTER THAT\n",
    "\n",
    "if __name__ == \"__main__\":\n",
    "    t1 = threading.Thread(target=print_cube, args=(2, ))\n",
    "    t2 = threading.Thread(target=print_quare, args= (2, ))\n",
    "\n",
    "\n",
    "    t1.start()\n",
    "    t2.start()\n",
    "\n",
    "\n",
    "    t1.join()\n",
    "    t2.join()\n",
    "\n",
    "\n",
    "    print(\"done\")"
   ]
  },
  {
   "cell_type": "code",
   "execution_count": 21,
   "metadata": {},
   "outputs": [
    {
     "name": "stdout",
     "output_type": "stream",
     "text": [
      "start thread Thread - 1\n",
      "start thread Thread -2 \n",
      "Thread - 1 1733456171.3110905\n",
      "Thread - 1 1733456172.3116696\n",
      "Thread -2  1733456172.312216\n",
      "Thread - 1 1733456173.3123071\n",
      "Thread -2  1733456174.3125696\n",
      "Thread - 1 1733456174.315135\n",
      "Thread - 1 1733456175.3161838\n",
      "end thread Thread - 1\n",
      "Thread -2  1733456176.315509\n",
      "Thread -2  1733456178.316125\n",
      "Thread -2  1733456180.3169882\n",
      "end thread Thread -2 \n",
      "DONE\n"
     ]
    }
   ],
   "source": [
    "import threading\n",
    "import time\n",
    "\n",
    "def print_epoch(nameOfThread, delay):\n",
    "    count = 0\n",
    "    while count < 5:\n",
    "        time.sleep(delay)\n",
    "        count += 1\n",
    "        print(nameOfThread, time.time())\n",
    "\n",
    "class Mythread(threading.Thread):\n",
    "    def __init__(self, name, delay):\n",
    "        threading.Thread.__init__(self) # calls parents init method\n",
    "        self.name = name\n",
    "        self.delay = delay\n",
    "\n",
    "        # overwrite run() => entry point of the thread\n",
    "\n",
    "    def run(self):\n",
    "        print(\"start thread\", self.name)\n",
    "        print_epoch(self.name , self.delay) # calling the fn first\n",
    "        print(\"end thread\", self.name)\n",
    "\n",
    "if __name__ == \"__main__\":\n",
    "\n",
    "    # thread module \n",
    "    t1 = Mythread (\"Thread - 1\", 1)\n",
    "    t2 = Mythread(\"Thread -2 \", 2)\n",
    "\n",
    "    # start  the thread\n",
    "    t1.start()\n",
    "    t2.start()\n",
    "\n",
    "    #join => waits until the threads gets executes\n",
    "    t1.join()\n",
    "    t2.join()\n",
    "\n",
    "    print(\"DONE\")\n"
   ]
  },
  {
   "cell_type": "markdown",
   "metadata": {},
   "source": [
    "### THREADING SPEACIAL METHOD "
   ]
  },
  {
   "cell_type": "code",
   "execution_count": 26,
   "metadata": {},
   "outputs": [
    {
     "name": "stdout",
     "output_type": "stream",
     "text": [
      "start thread Thread - 1\n",
      "start thread Thread -2 \n",
      "gives the name of the thread by call :  Thread - 1\n",
      "Thread -2 \n",
      "Prints the number of threads :  22\n",
      "Print the current thread :  <_MainThread(MainThread, started 21552)>\n",
      "print the number of threads which are active :  [<_MainThread(MainThread, started 21552)>, <Thread(IOPub, started daemon 2340)>, <Heartbeat(Heartbeat, started daemon 28776)>, <ControlThread(Control, started daemon 20572)>, <HistorySavingThread(IPythonHistorySavingThread, started 9004)>, <ParentPollerWindows(Thread-3, started daemon 28792)>, <_DummyThread(Dummy-74, started daemon 24980)>, <_DummyThread(Dummy-75, started daemon 25520)>, <_DummyThread(Dummy-77, started daemon 13572)>, <_DummyThread(Dummy-78, started daemon 10508)>, <_DummyThread(Dummy-88, started daemon 28192)>, <_DummyThread(Dummy-89, started daemon 24824)>, <_DummyThread(Dummy-90, started daemon 21716)>, <_DummyThread(Dummy-91, started daemon 29296)>, <_DummyThread(Dummy-96, started daemon 14864)>, <_DummyThread(Dummy-97, started daemon 18592)>, <_DummyThread(Dummy-108, started daemon 20220)>, <_DummyThread(Dummy-109, started daemon 23544)>, <_DummyThread(Dummy-110, started daemon 18492)>, <_DummyThread(Dummy-111, started daemon 18684)>, <Mythread(Thread - 1, started 18152)>, <Mythread(Thread -2 , started 24412)>]\n"
     ]
    },
    {
     "name": "stderr",
     "output_type": "stream",
     "text": [
      "C:\\Users\\HP\\AppData\\Local\\Temp\\ipykernel_8296\\453757212.py:37: DeprecationWarning: getName() is deprecated, get the name attribute instead\n",
      "  print(\"gives the name of the thread by call : \",t1.getName())\n",
      "C:\\Users\\HP\\AppData\\Local\\Temp\\ipykernel_8296\\453757212.py:38: DeprecationWarning: getName() is deprecated, get the name attribute instead\n",
      "  print(t2.getName())\n"
     ]
    },
    {
     "name": "stdout",
     "output_type": "stream",
     "text": [
      "Thread - 1 1733457022.284298\n",
      "Thread - 1 1733457023.284912\n",
      "Thread -2  1733457023.2871654\n",
      "Thread - 1 1733457024.2855277\n",
      "Thread - 1 1733457025.2863364\n",
      "Thread -2  1733457025.2873693\n",
      "Thread - 1 1733457026.2867272\n",
      "end thread Thread - 1\n",
      "Thread -2  1733457027.2875545\n",
      "Thread -2  1733457029.2917614\n",
      "Thread -2  1733457031.2926874\n",
      "end thread Thread -2 \n",
      "DONE\n"
     ]
    }
   ],
   "source": [
    "import threading\n",
    "import time\n",
    "\n",
    "def print_epoch(nameOfThread, delay):\n",
    "    count = 0\n",
    "    while count < 5:\n",
    "        time.sleep(delay)\n",
    "        count += 1\n",
    "        print(nameOfThread, time.time())\n",
    "\n",
    "class Mythread(threading.Thread):\n",
    "    def __init__(self, name, delay):\n",
    "        threading.Thread.__init__(self) # calls parents init method\n",
    "        self.name = name\n",
    "        self.delay = delay\n",
    "\n",
    "        # overwrite run() => entry point of the thread\n",
    "\n",
    "    def run(self):\n",
    "        print(\"start thread\", self.name)\n",
    "        print_epoch(self.name , self.delay) # calling the fn first\n",
    "        print(\"end thread\", self.name)\n",
    "\n",
    "if __name__ == \"__main__\":\n",
    "\n",
    "    # thread module \n",
    "    t1 = Mythread (\"Thread - 1\", 1)\n",
    "    t2 = Mythread(\"Thread -2 \", 2)\n",
    "\n",
    "    # start  the thread\n",
    "    t1.start()\n",
    "    t2.start()\n",
    "\n",
    "\n",
    "    # SPEACILA METHOD :\n",
    "    \n",
    "    print(\"gives the name of the thread by call : \",t1.getName())\n",
    "    print(t2.getName())\n",
    "\n",
    "\n",
    "    print(\"Prints the number of threads : \",threading.active_count())\n",
    "\n",
    "    print(\"Print the current thread : \", threading.current_thread())\n",
    "\n",
    "    print(\"print the number of threads which are active : \", threading.enumerate())\n",
    "\n",
    "\n",
    "    #join => waits until the threads gets executes\n",
    "    t1.join()\n",
    "    t2.join()\n",
    "\n",
    "    print(\"DONE\")\n"
   ]
  },
  {
   "cell_type": "markdown",
   "metadata": {},
   "source": [
    "# MULTI THREADING \n",
    "**Thread Synchronization** ensures that multiple threads work safely without interfering with each other. It prevents issues like race conditions by controlling access to shared resources. Common methods include locks, semaphores, and mutexes.\n",
    "\n",
    "A **race condition** happens when multiple threads access shared data simultaneously, causing unpredictable or incorrect results. It occurs when the thread execution order affects the program's outcome.\n",
    "\n",
    "A VALUE OF VARIABLE IS UNPREDICTABLE"
   ]
  },
  {
   "cell_type": "code",
   "execution_count": 13,
   "metadata": {},
   "outputs": [
    {
     "name": "stderr",
     "output_type": "stream",
     "text": [
      "Exception in thread Thread-73 (thread_task):\n",
      "Traceback (most recent call last):\n",
      "  File \"c:\\Users\\HP\\AppData\\Local\\Programs\\Python\\Python311\\Lib\\threading.py\", line 1045, in _bootstrap_inner\n",
      "    self.run()\n",
      "  File \"c:\\Users\\HP\\AppData\\Local\\Programs\\Python\\Python311\\Lib\\site-packages\\ipykernel\\ipkernel.py\", line 766, in run_closure\n",
      "Exception in thread Thread-74 (thread_task):\n",
      "Traceback (most recent call last):\n",
      "  File \"c:\\Users\\HP\\AppData\\Local\\Programs\\Python\\Python311\\Lib\\threading.py\", line 1045, in _bootstrap_inner\n",
      "    self.run()\n",
      "  File \"c:\\Users\\HP\\AppData\\Local\\Programs\\Python\\Python311\\Lib\\site-packages\\ipykernel\\ipkernel.py\", line 766, in run_closure\n",
      "    _threading_Thread_run(self)\n",
      "  File \"c:\\Users\\HP\\AppData\\Local\\Programs\\Python\\Python311\\Lib\\threading.py\", line 982, in run\n",
      "    self._target(*self._args, **self._kwargs)\n",
      "  File \"C:\\Users\\HP\\AppData\\Local\\Temp\\ipykernel_17260\\2931291111.py\", line 7, in thread_task\n",
      "    _threading_Thread_run(self)\n",
      "  File \"c:\\Users\\HP\\AppData\\Local\\Programs\\Python\\Python311\\Lib\\threading.py\", line 982, in run\n",
      "    self._target(*self._args, **self._kwargs)\n",
      "  File \"C:\\Users\\HP\\AppData\\Local\\Temp\\ipykernel_17260\\2931291111.py\", line 7, in thread_task\n",
      "AttributeError: '_thread._local' object has no attribute 'acquire'\n",
      "AttributeError: '_thread._local' object has no attribute 'acquire'\n"
     ]
    },
    {
     "name": "stdout",
     "output_type": "stream",
     "text": [
      "0 0\n"
     ]
    }
   ],
   "source": [
    "import threading\n",
    "x = 0\n",
    "\n",
    "def thread_task(lock):\n",
    "    global x\n",
    "    for i in range(1000000):\n",
    "        lock.acquire()\n",
    "        x += 1\n",
    "        lock.release()\n",
    "\n",
    "def main_task():\n",
    "    lock = threading.local()\n",
    "\n",
    "    t1 = threading.Thread(target=thread_task, args = (lock, ))\n",
    "    t2 = threading.Thread(target=thread_task, args=(lock, ))\n",
    "\n",
    "    t1.start()\n",
    "    t2.start()\n",
    "\n",
    "    t1.join()\n",
    "    t2.join()\n",
    "\n",
    "\n",
    "if __name__ == \"__main__\":\n",
    "    main_task()\n",
    "    print(\"0\", x)\n"
   ]
  }
 ],
 "metadata": {
  "kernelspec": {
   "display_name": "Python 3",
   "language": "python",
   "name": "python3"
  },
  "language_info": {
   "codemirror_mode": {
    "name": "ipython",
    "version": 3
   },
   "file_extension": ".py",
   "mimetype": "text/x-python",
   "name": "python",
   "nbconvert_exporter": "python",
   "pygments_lexer": "ipython3",
   "version": "3.11.8"
  }
 },
 "nbformat": 4,
 "nbformat_minor": 2
}
