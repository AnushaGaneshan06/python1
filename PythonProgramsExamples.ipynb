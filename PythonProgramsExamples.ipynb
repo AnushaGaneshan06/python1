{
 "cells": [
  {
   "cell_type": "markdown",
   "metadata": {},
   "source": [
    "\n",
    "#### 1.ARMSTRONG NUMBER\n",
    "-------------------------------------------------------------------------\n",
    "NUMBER OF DIGITS = SUM OF NTH POWERS OF ITS DIGITS\n",
    "\n",
    "* 22 = > \n",
    "NUMBER OD DIGIT = > N = 2 DIGIT\n",
    "N TH POWER OF THR DIGIT => 2 POW 2 =4\n",
    "                           2 POW 2 = 4\n",
    "                           4 + 4 = 8 \n",
    "                    8 IS ANSWER SO 22 IS NOT THE NUMBER\n",
    "\n",
    "* 153 = > N = 3\n",
    "        1 POW 3 = 2\n",
    "        5 POW 3 = 125\n",
    "        3 POW 3 = 27\n",
    "SUM OF NTH POWERS OF ITS DIGIT = > 2 + 125 + 27 = 153 \n",
    "ITS AN AMSTRONG NUMBER \n"
   ]
  },
  {
   "cell_type": "code",
   "execution_count": null,
   "metadata": {},
   "outputs": [],
   "source": [
    "\n",
    "for number in range(500):\n",
    "    lenght = len(str(number))\n",
    "\n",
    "    temp = number\n",
    "    digit_sum = 0\n",
    "\n",
    "    while temp > 0:\n",
    "        digit = temp % 10\n",
    "        digit_sum += digit ** lenght\n",
    "        temp = temp // 10\n",
    "\n",
    "        if digit_sum == number:\n",
    "            print(f\"{number} is an Armstrong number\")\n",
    "        else:\n",
    "            print(f\"{number} is not an Armstrong number\")\n",
    "\n",
    "\n"
   ]
  },
  {
   "cell_type": "markdown",
   "metadata": {},
   "source": [
    "#### 2 PRINTING NUMBERS IN RIGHT TRIANGLE SHAPE"
   ]
  },
  {
   "cell_type": "code",
   "execution_count": null,
   "metadata": {},
   "outputs": [],
   "source": [
    "n = 7\n",
    "for i in range (1, n+1): # i is the row value \n",
    "    for j in range (1, i+1):\n",
    "        print(j, end = \" \")\n",
    "    print() # new line"
   ]
  },
  {
   "cell_type": "code",
   "execution_count": null,
   "metadata": {},
   "outputs": [],
   "source": [
    "#same number\n",
    "n = 9\n",
    "for i in range (1, n+1):\n",
    "    for j in range(1, i+1):\n",
    "        print(i, end=\"  \")\n",
    "    print()\n"
   ]
  },
  {
   "cell_type": "markdown",
   "metadata": {},
   "source": [
    "#### 3. PRINTING STAR IN THE HALLOW PATTERN"
   ]
  },
  {
   "cell_type": "code",
   "execution_count": null,
   "metadata": {},
   "outputs": [],
   "source": [
    "n = 10\n",
    "for row in range(n): # range is from 0 to n\n",
    "    for col in range(n):\n",
    "        if col == 0 or row == (n-1) or row == col:\n",
    "           print(\"*\", end=\"\")\n",
    "        else:\n",
    "            print(end = \" \")\n",
    "    print()\n",
    "        "
   ]
  },
  {
   "cell_type": "code",
   "execution_count": null,
   "metadata": {},
   "outputs": [],
   "source": [
    "for row in range(7):\n",
    "    for col in range (7):\n",
    "        if col == 0 or row == 6 or row == col:\n",
    "            print(\"*\", end = \"\")\n",
    "        else:\n",
    "            print(end = \" \")\n",
    "    print()\n"
   ]
  },
  {
   "cell_type": "code",
   "execution_count": null,
   "metadata": {},
   "outputs": [],
   "source": [
    "n = 10 \n",
    "for row in range (n):\n",
    "    for col in range(n):\n",
    "        if col == 0 or row == (n - 1) or row == col:\n",
    "            print(\"#\", end=\"\")\n",
    "        else:\n",
    "            print(end = \" \")\n",
    "    print()\n"
   ]
  },
  {
   "cell_type": "markdown",
   "metadata": {},
   "source": [
    "#### 5. FACTORIAL PROGRAM\n",
    "* factorial of non - negative integer n, denoted by n! is the product of all positve integer less than or equal to n"
   ]
  },
  {
   "cell_type": "code",
   "execution_count": null,
   "metadata": {},
   "outputs": [],
   "source": [
    "# IN BULIT FUNCTION ( FACTORIAL METHOD)\n",
    "import math\n",
    "n = 4\n",
    "result = math.factorial(n)\n",
    "print(\"factorial of\", n , \"is\", result)"
   ]
  },
  {
   "cell_type": "code",
   "execution_count": 3,
   "metadata": {},
   "outputs": [
    {
     "name": "stdout",
     "output_type": "stream",
     "text": [
      "Factorial of 4 is 24\n"
     ]
    }
   ],
   "source": [
    "# RECURSIVE METHOD => FUNCTION CALLS ITSELF IS CALLED \n",
    "# RECURSIVE FUNCTION\n",
    "# ---------------------------------------\n",
    "# 1. BASE CASE => n = 0\n",
    "# 2. RECURSIVE CASE => n(n-1)!\n",
    "# --------------------------------------\n",
    "\n",
    "def factorial(n):\n",
    "    if n == 0:\n",
    "        return 1\n",
    "    else: # greater than zero\n",
    "        return n * factorial(n-1)\n",
    "\n",
    "n = 4\n",
    "result = factorial(n)\n",
    "print(\"Factorial of\", n, \"is\", result)\n",
    "# factorial(3)"
   ]
  },
  {
   "cell_type": "code",
   "execution_count": null,
   "metadata": {},
   "outputs": [],
   "source": [
    "# USING THE LOOP\n",
    "\n",
    "n = 5\n",
    "result = 1\n",
    "for i in range (n, 0, -1):# start end step(4, 3, 2, 1)\n",
    "    result = result * i\n",
    "\n",
    "print(\"factorial of \", n, \"is\", result)\n"
   ]
  },
  {
   "cell_type": "markdown",
   "metadata": {},
   "source": [
    "#### 8.PRINTING STARS IN HOLLOW RIGHT TRIANGLE SHAPE"
   ]
  },
  {
   "cell_type": "code",
   "execution_count": null,
   "metadata": {},
   "outputs": [],
   "source": [
    "n= 5\n",
    "for row in range (n):\n",
    "    for col in range(n):\n",
    "        if row == 0 or  col == n - 1 or col == row:\n",
    "            print(\"*\", end=\" \")\n",
    "        else:\n",
    "            print(end=\"  \")\n",
    "    print()"
   ]
  },
  {
   "cell_type": "markdown",
   "metadata": {},
   "source": [
    "#### 9. FLOYDS TRIANGLE"
   ]
  },
  {
   "cell_type": "code",
   "execution_count": null,
   "metadata": {},
   "outputs": [],
   "source": [
    "n = 10\n",
    "num = 1\n",
    "for row in range(1, n + 1):\n",
    "    for col in range(1, row + 1):\n",
    "        print(num, end=\" \")\n",
    "        num = num + 1\n",
    "    print()\n"
   ]
  },
  {
   "cell_type": "code",
   "execution_count": null,
   "metadata": {},
   "outputs": [],
   "source": [
    "number = 6\n",
    "for row in range(1, number+1):\n",
    "    for col in range(1, row+1):\n",
    "        print(\"@\", end=\" \")\n",
    "    print()\n",
    "        \n",
    "\n"
   ]
  },
  {
   "cell_type": "code",
   "execution_count": null,
   "metadata": {},
   "outputs": [],
   "source": [
    "n = 5\n",
    "for row in range(1, n):\n",
    "    for col in range(1, n):\n",
    "        if  row == 1 or  col == 1 or col == row:\n",
    "            print(\"#\", end=\" \")\n",
    "        else:\n",
    "            print(end=\"  \")\n",
    "    print()"
   ]
  },
  {
   "cell_type": "code",
   "execution_count": null,
   "metadata": {},
   "outputs": [],
   "source": [
    "# (0,0) (0,1) (0,2) (0,3) (0,4)\n",
    "# (1,0) (1,1) (1,2) (1,3) (1,4)\n",
    "# (2,0) (2,1) (2,2) (2,3) (2,4)\n",
    "# (3,0) (3,1) (3,2) (3,3) (3,4)\n",
    "# (4,0) (4,1) (4,2) (4,3) (4,4)\n",
    "n = 5\n",
    "for row in range(1, n):\n",
    "    for col in range(1, n):\n",
    "        if  row == 1 or  col == n-1 or col+row == n-1:\n",
    "            print(\"#\", end=\" \")\n",
    "        else:\n",
    "            print(end=\"  \")\n",
    "    print()"
   ]
  },
  {
   "cell_type": "code",
   "execution_count": 2,
   "metadata": {},
   "outputs": [
    {
     "name": "stdout",
     "output_type": "stream",
     "text": [
      "# # # # # # # # # # \n",
      "# #             # # \n",
      "#   #         #   # \n",
      "#     #     #     # \n",
      "#       # #       # \n",
      "# # # # # # # # # # \n",
      "#     #     #     # \n",
      "#   #         #   # \n",
      "# #             # # \n",
      "# # # # # # # # # # \n"
     ]
    }
   ],
   "source": [
    "n = 10\n",
    "for row in range(n):\n",
    "    for col in range(n):\n",
    "        if col == 0 or col==n-1 or row == n - 1 or row == 0 or row == col or row + col == n-1 or row == 5:\n",
    "            print(\"#\", end=\" \")\n",
    "        else:\n",
    "            print(\" \", end=\" \")\n",
    "    print()\n"
   ]
  },
  {
   "cell_type": "markdown",
   "metadata": {},
   "source": [
    "#### 10.  PYTHON PATTERN\n"
   ]
  },
  {
   "cell_type": "code",
   "execution_count": 3,
   "metadata": {},
   "outputs": [
    {
     "name": "stdout",
     "output_type": "stream",
     "text": [
      "6\n",
      "P\n",
      "PY\n",
      "PYT\n",
      "PYTH\n",
      "PYTHO\n",
      "PYTHON\n"
     ]
    }
   ],
   "source": [
    "string = \"PYTHON\"\n",
    "lenght = len(string)\n",
    "print(lenght)\n",
    "for row in range(lenght):\n",
    "    for col in range(row + 1):\n",
    "        print(string[col], end= \"\")\n",
    "    print()\n"
   ]
  },
  {
   "cell_type": "code",
   "execution_count": null,
   "metadata": {},
   "outputs": [],
   "source": [
    "name = \"ANUHSAGANESHAN\"\n",
    "lenght = len(name)\n",
    "print(lenght)\n",
    "for row in range(lenght):\n",
    "    for col in range(row+1):\n",
    "        print(name[col], end=\"\")\n",
    "    print()"
   ]
  },
  {
   "cell_type": "markdown",
   "metadata": {},
   "source": [
    "11. FIBONACCI NUMBERS"
   ]
  },
  {
   "cell_type": "code",
   "execution_count": null,
   "metadata": {},
   "outputs": [],
   "source": [
    "n = 10\n",
    "first = 0\n",
    "second = 1\n",
    "for i in range(n):\n",
    "    print(first)\n",
    "    temp = first # 0\n",
    "    first = second # 1\n",
    "    second = temp + second # 0 + 1 = 1\n",
    "\n"
   ]
  },
  {
   "cell_type": "markdown",
   "metadata": {},
   "source": [
    "12. RESERVE PATTERN"
   ]
  },
  {
   "cell_type": "code",
   "execution_count": 17,
   "metadata": {},
   "outputs": [
    {
     "name": "stdout",
     "output_type": "stream",
     "text": [
      "6 6 6 6 6 6 \n",
      "5 5 5 5 5 \n",
      "4 4 4 4 \n",
      "3 3 3 \n",
      "2 2 \n",
      "1 \n"
     ]
    }
   ],
   "source": [
    "n = 6\n",
    "for row in range(n, 0, -1):\n",
    "    for col in range(1, row+1):\n",
    "        print(row, end=\" \")\n",
    "    print()"
   ]
  },
  {
   "cell_type": "code",
   "execution_count": 26,
   "metadata": {},
   "outputs": [
    {
     "name": "stdout",
     "output_type": "stream",
     "text": [
      "0 1 2 3 \n",
      "0 1 2 \n",
      "0 1 \n",
      "0 \n"
     ]
    }
   ],
   "source": [
    "n = 4\n",
    "for row in range(n, 0, -1):\n",
    "    for col in range(0, row):\n",
    "        print(col, end=\" \")\n",
    "    print()\n"
   ]
  },
  {
   "cell_type": "markdown",
   "metadata": {},
   "source": [
    "13. PRIME NUMBERS\n",
    "* NATURAL NUMBER GT 1 HAS NO POSITIVE DIVISOR OTHER THAN 1 AND ITSELF\n",
    "* 1 IS NOT A PRIME NUMBER ,ITs UNIT DIGIT"
   ]
  },
  {
   "cell_type": "code",
   "execution_count": null,
   "metadata": {},
   "outputs": [],
   "source": [
    "lower = 5\n",
    "upper = 90\n",
    "for num in range(lower, upper+1):\n",
    "    # print(num , end=\" \")\n",
    "    if num > 1:\n",
    "        for i in range(2, num):\n",
    "            if (num % i) == 0:\n",
    "                break\n",
    "        else:\n",
    "            print(num, \"is the prime number\")\n",
    "            print()\n",
    "\n"
   ]
  },
  {
   "cell_type": "code",
   "execution_count": null,
   "metadata": {},
   "outputs": [],
   "source": [
    "for num  in range(10):\n",
    "    if(num > 1):\n",
    "        for i in range(2, num):\n",
    "            if (num % i)  == 0:\n",
    "                break\n",
    "        else:\n",
    "            print(num, \"i as a prime number\")\n",
    "\n"
   ]
  },
  {
   "cell_type": "markdown",
   "metadata": {},
   "source": [
    "15. EQUILATERAL TRIANGLE SHAPE STARS"
   ]
  },
  {
   "cell_type": "code",
   "execution_count": 32,
   "metadata": {},
   "outputs": [
    {
     "name": "stdout",
     "output_type": "stream",
     "text": [
      "      *       \n",
      "    *   *     \n",
      "  *       *   \n",
      "* * * * * * * \n"
     ]
    }
   ],
   "source": [
    "for row in range(1, 5):\n",
    "    for col in range(1 , 8):\n",
    "        if row == 4 or col+row == 5 or col - row == 3:\n",
    "            print(\"*\", end=\" \")\n",
    "        else:\n",
    "            print(end=\"  \")\n",
    "    print()"
   ]
  },
  {
   "cell_type": "code",
   "execution_count": null,
   "metadata": {},
   "outputs": [],
   "source": [
    "# PERFECT HALLOW SHAPE\n",
    "n = 10\n",
    "k = 2\n",
    "for row in range(1, n+1):\n",
    "    for col in range(1, 2 * n):\n",
    "        if(col + row == n + 1 or col - row == n-1):\n",
    "            print(\"*\", end=\" \")\n",
    "        elif row == n and col!= k:\n",
    "            print(\"*\", end =\" \")\n",
    "            k = k + 2\n",
    "        else:\n",
    "            print(end=\"  \")\n",
    "    print()"
   ]
  },
  {
   "cell_type": "markdown",
   "metadata": {},
   "source": [
    "16. PERFECT NUMBERS\n",
    "* perfect number rae positive integer that is equal to the sum of its positive divisors excluding the number itself\n",
    "* 6 => 1, 2, 3, 6 remainder are 0 \n",
    "* 1 + 2 + 3 = 6 is the perfect number"
   ]
  },
  {
   "cell_type": "code",
   "execution_count": null,
   "metadata": {},
   "outputs": [],
   "source": [
    "num = 6\n",
    "sum = 0\n",
    "for i in range(1, num):\n",
    "    if (num % i ) == 0 :\n",
    "        sum =  sum + i\n",
    "        # print(sum)\n",
    "if sum == num:\n",
    "        print(num, \"is the perfect number\")\n",
    "else:\n",
    "     print(num , \" is not the perfect number\")\n",
    "        "
   ]
  },
  {
   "cell_type": "code",
   "execution_count": null,
   "metadata": {},
   "outputs": [
    {
     "name": "stdout",
     "output_type": "stream",
     "text": [
      "6  is the perfect number\n"
     ]
    }
   ],
   "source": [
    "# SPECIFIC INTERVAL\n",
    "lower = 1\n",
    "upper = 10\n",
    "for num in range (lower, upper+1):\n",
    "    sum = 0\n",
    "    for i in range(1, num):\n",
    "        if(num % i )== 0:\n",
    "            sum = sum + i\n",
    "    if(num == sum):\n",
    "        print(num,\" is the perfect number\")\n",
    "\n",
    "    # else part doesnt add because we need to continue the program\n",
    "\n",
    "\n",
    "\n"
   ]
  },
  {
   "cell_type": "markdown",
   "metadata": {},
   "source": [
    "18 SWAPPIN NUMBER(WITHOUT 3RD VAR)"
   ]
  },
  {
   "cell_type": "code",
   "execution_count": null,
   "metadata": {},
   "outputs": [],
   "source": [
    "a = 10\n",
    "b = 5\n",
    "print(\"Before Swapping\")\n",
    "print(a, b)\n",
    "temp = a\n",
    "a = b\n",
    "b = temp\n",
    "print(\"After swapping: \")\n",
    "print(a, b)"
   ]
  },
  {
   "cell_type": "code",
   "execution_count": 101,
   "metadata": {},
   "outputs": [
    {
     "name": "stdout",
     "output_type": "stream",
     "text": [
      "Before swapping 1 5\n",
      "After swapping 5 1\n"
     ]
    }
   ],
   "source": [
    "# without 3 rd variable\n",
    "a = 1\n",
    "b = 5\n",
    "print(\"Before swapping\", a , b)\n",
    "a = a + b\n",
    "b = a - b\n",
    "a = a-b\n",
    "print(\"After swapping\", a , b)"
   ]
  },
  {
   "cell_type": "markdown",
   "metadata": {},
   "source": [
    "19.RIGHT ANGLE STAR SHAPE(using While loop)"
   ]
  },
  {
   "cell_type": "code",
   "execution_count": null,
   "metadata": {},
   "outputs": [
    {
     "name": "stdout",
     "output_type": "stream",
     "text": [
      "*\n",
      "**\n",
      "***\n",
      "****\n",
      "*****\n"
     ]
    }
   ],
   "source": [
    "num = 5\n",
    "row = 0 #initalization\n",
    "while row < num :\n",
    "    star = row + 1\n",
    "    while star > 0 :\n",
    "        print(\"*\", end=\"\")\n",
    "        star = star - 1 # (decreement)\n",
    "    row = row + 1 #increement\n",
    "    print()\n",
    "\n",
    "\n",
    "\n"
   ]
  },
  {
   "cell_type": "code",
   "execution_count": 114,
   "metadata": {},
   "outputs": [
    {
     "name": "stdout",
     "output_type": "stream",
     "text": [
      "* \n",
      "* * \n",
      "* * * \n",
      "* * * * \n",
      "* * * * * \n"
     ]
    }
   ],
   "source": [
    "num = 5\n",
    "row = 0\n",
    "while row < num:\n",
    "    col = row + 1\n",
    "    while col > 0:\n",
    "        print(\"*\", end =\" \")\n",
    "        col = col - 1\n",
    "    row = row + 1\n",
    "    print()"
   ]
  },
  {
   "cell_type": "markdown",
   "metadata": {},
   "source": [
    "20. PRYAMID SHAPE STAR (WHILE LOOP)"
   ]
  },
  {
   "cell_type": "code",
   "execution_count": 112,
   "metadata": {},
   "outputs": [
    {
     "name": "stdout",
     "output_type": "stream",
     "text": [
      "    * \n",
      "   * * \n",
      "  * * * \n",
      " * * * * \n",
      "* * * * * \n"
     ]
    }
   ],
   "source": [
    "num = 5\n",
    "row = 0\n",
    "while row < num:\n",
    "    space = num - row - 1\n",
    "    while space > 0:\n",
    "        print(end =\" \")\n",
    "        space = space - 1\n",
    "    star = row + 1\n",
    "    while star > 0:\n",
    "        print(\"*\", end= \" \")\n",
    "        star = star - 1\n",
    "    row = row + 1\n",
    "    print()\n",
    "    "
   ]
  },
  {
   "cell_type": "code",
   "execution_count": 123,
   "metadata": {},
   "outputs": [
    {
     "name": "stdout",
     "output_type": "stream",
     "text": [
      "  * \n",
      " * * \n",
      "* * * \n"
     ]
    }
   ],
   "source": [
    "num = 3\n",
    "row = 0\n",
    "while row < num:\n",
    "    space = num - row - 1\n",
    "    while space > 0:\n",
    "        print(end = \" \")\n",
    "        space = space - 1\n",
    "    star = row + 1\n",
    "    while star > 0:\n",
    "        print(\"*\", end =\" \")\n",
    "        star = star - 1\n",
    "    row = row + 1\n",
    "    print()"
   ]
  },
  {
   "cell_type": "markdown",
   "metadata": {},
   "source": [
    "21 . HOLLOW DAIMOND SHAPE STAR(FOR LOOP)"
   ]
  },
  {
   "cell_type": "code",
   "execution_count": 151,
   "metadata": {},
   "outputs": [
    {
     "name": "stdout",
     "output_type": "stream",
     "text": [
      "  *  \n",
      " * * \n",
      "*   *\n",
      " * * \n",
      "  *  \n"
     ]
    }
   ],
   "source": [
    "# n = 5\n",
    "for row in range(5):\n",
    "    for col in range(5):\n",
    "        if row + col == 2 or col - row == 2 or row - col == 2 or row + col == 6:\n",
    "            print(\"*\", end =\"\")\n",
    "        else:\n",
    "            print(end =\" \")\n",
    "    print()\n"
   ]
  },
  {
   "cell_type": "markdown",
   "metadata": {},
   "source": [
    "22.REVERSE THE STRING USING FOR LOOP"
   ]
  },
  {
   "cell_type": "code",
   "execution_count": 4,
   "metadata": {},
   "outputs": [
    {
     "name": "stdout",
     "output_type": "stream",
     "text": [
      "Reserved string: yddetolleh\n",
      "original string helloteddy\n"
     ]
    }
   ],
   "source": [
    "def reverse(string): #fn definition\n",
    "    reversed_string = \"\"\n",
    "    for i in string:\n",
    "        reversed_string = i + reversed_string\n",
    "    print(\"Reserved string:\" , reversed_string)\n",
    "    print(\"original string\", string)\n",
    "\n",
    "reverse(\"helloteddy\")"
   ]
  },
  {
   "cell_type": "markdown",
   "metadata": {},
   "source": [
    "23. PRINTING NUMBERS IN SQUARE SHAPE"
   ]
  },
  {
   "cell_type": "code",
   "execution_count": null,
   "metadata": {},
   "outputs": [
    {
     "name": "stdout",
     "output_type": "stream",
     "text": [
      "1\t2\t3\t4\t5\t\n",
      "16\t17\t18\t19\t6\t\n",
      "15\t24\t25\t20\t7\t\n",
      "14\t23\t22\t21\t8\t\n",
      "13\t12\t11\t10\t9\t\n"
     ]
    }
   ],
   "source": [
    "num = 5 #\n",
    "n_list = [[0 for x in range (num)]  for y in range(num)]\n",
    "n = 1\n",
    "low = 0 # 0\n",
    "high = num - 1 # 4 (n-1)\n",
    "\n",
    "\n",
    "count = int((num + 1)/ 2)\n",
    "for i in range (count):\n",
    "    for j in range(low , high+1):\n",
    "        n_list[i][j] = n\n",
    "        n = n + 1\n",
    "\n",
    "    for j in range(low + 1, high + 1):\n",
    "        n_list[j][high] = n\n",
    "        n = n + 1\n",
    "\n",
    "    for j in range (high - 1, low-1, -1):\n",
    "        n_list[high][j] = n\n",
    "        n = n + 1\n",
    "    \n",
    "    for j in range(high-1, low, -1):\n",
    "        n_list[j][low] = n\n",
    "        n = n + 1\n",
    "\n",
    "    low = low + 1\n",
    "    high = high - 1\n",
    "\n",
    "\n",
    "for i in range(num):\n",
    "    for j in range(num):\n",
    "        print(n_list[i][j], end=\"\\t\")\n",
    "    print()\n"
   ]
  },
  {
   "cell_type": "markdown",
   "metadata": {},
   "source": [
    "24. GCD  or HCM- (GREATES COMMON DIVISOR)"
   ]
  },
  {
   "cell_type": "code",
   "execution_count": 36,
   "metadata": {},
   "outputs": [
    {
     "name": "stdout",
     "output_type": "stream",
     "text": [
      "The gcf of two number 8 and 13 is 1\n"
     ]
    }
   ],
   "source": [
    "# ECULID'S ALGORITHM\n",
    "\n",
    "def computeGCD(x, y):\n",
    "    smaller = 0\n",
    "    if(x < y):\n",
    "        smaller = x\n",
    "    else:\n",
    "        smaller = y\n",
    "\n",
    "    gcd = 0\n",
    "    for i in range(1, smaller + 1):\n",
    "        if( x % i == 0) and (y % i == 0):\n",
    "            gcd = i\n",
    "    return gcd\n",
    "\n",
    "    \n",
    "number1 = 8\n",
    "number2 = 13\n",
    "print(\"The gcf of two number {} and {} is {}\".format(number1, number2, computeGCD(number1, number2)))\n"
   ]
  },
  {
   "cell_type": "markdown",
   "metadata": {},
   "source": [
    "25. NUMBERS IN PYRAMID SHAPE"
   ]
  },
  {
   "cell_type": "code",
   "execution_count": 28,
   "metadata": {},
   "outputs": [
    {
     "name": "stdout",
     "output_type": "stream",
     "text": [
      "                                    1   \n",
      "                                2   1   2   \n",
      "                            3   2   1   2   3   \n",
      "                        4   3   2   1   2   3   4   \n",
      "                    5   4   3   2   1   2   3   4   5   \n",
      "                6   5   4   3   2   1   2   3   4   5   6   \n",
      "            7   6   5   4   3   2   1   2   3   4   5   6   7   \n",
      "        8   7   6   5   4   3   2   1   2   3   4   5   6   7   8   \n",
      "    9   8   7   6   5   4   3   2   1   2   3   4   5   6   7   8   9   \n",
      "10  9   8   7   6   5   4   3   2   1   2   3   4   5   6   7   8   9   10  \n"
     ]
    }
   ],
   "source": [
    "num = 10 #\n",
    "for i in range (1, num + 1):\n",
    "    for j in range(1, num -i + 1):\n",
    "        print(format(\" \", \"<4\"), end=\"\")\n",
    "    for j in range(i, 0, - 1):\n",
    "        print(format(j, \"<4\"), end=\"\")\n",
    "    for j in range(2, i + 1):\n",
    "        print(format(j, \"<4\"), end=\"\")\n",
    "    print()"
   ]
  },
  {
   "cell_type": "code",
   "execution_count": 40,
   "metadata": {},
   "outputs": [
    {
     "name": "stdout",
     "output_type": "stream",
     "text": [
      "            1     \n",
      "         2     3     \n",
      "      4     5     6     \n",
      "   7     8     9     10    \n",
      "11    12    13    14    15    \n"
     ]
    }
   ],
   "source": [
    "num = 5\n",
    "n = 1\n",
    "for i in range(num):\n",
    "    for j in range (num -i - 1):\n",
    "        print(format(\" \", \"<3\"), end=\"\")\n",
    "    for i in range(i + 1):\n",
    "        print(format(n, \"<6\"), end= \"\")\n",
    "        n = n + 1\n",
    "    print()"
   ]
  },
  {
   "cell_type": "markdown",
   "metadata": {},
   "source": [
    "---------------------------\n",
    "26. FORMAT FUNCTION"
   ]
  },
  {
   "cell_type": "code",
   "execution_count": 21,
   "metadata": {},
   "outputs": [
    {
     "name": "stdout",
     "output_type": "stream",
     "text": [
      " 1     \n",
      " 2      3     \n",
      " 4      5      6     \n",
      " 7      8      9      10    \n",
      " 11     12     13     14     15    \n"
     ]
    }
   ],
   "source": [
    "num = 5\n",
    "n=1\n",
    "for i in range(1,num+1):\n",
    "    for j in range(1, i+1):\n",
    "        print(format(n,\"< 7\"),end = \"\")\n",
    "        n = n + 1\n",
    "\n",
    "    print()"
   ]
  },
  {
   "cell_type": "markdown",
   "metadata": {},
   "source": [
    "---------------------------------\n",
    "27. WHAT IS THE OUTPUT SERIES"
   ]
  },
  {
   "cell_type": "code",
   "execution_count": null,
   "metadata": {},
   "outputs": [
    {
     "name": "stdout",
     "output_type": "stream",
     "text": [
      "['abc', '123']\n"
     ]
    }
   ],
   "source": [
    "#27.EXAMPLE \n",
    "# ---------------------\n",
    "x = [] # empty is false / none/ list / tuple/false\n",
    "if x :\n",
    "    print(x, True)\n",
    "else:\n",
    "    print(x, False)\n",
    "\n",
    "# 28 EXAMPLE\n",
    "# -----------------\n",
    "p = (1, 10) # tuple value\n",
    "q = 0\n",
    "r = []\n",
    "if p or q and r:\n",
    "    print(\"True\")\n",
    "else:\n",
    "    print(\"False\")\n",
    "\n",
    "#29 EXAMPLE\n",
    "# ---------------------\n",
    "list1 = [\"abc\", \"123\"] #2element\n",
    "list = []\n",
    "for i in list1:\n",
    "    list.append(i)\n",
    "print(list)\n",
    "\n",
    "\n"
   ]
  },
  {
   "cell_type": "markdown",
   "metadata": {},
   "source": [
    "30. SELECTION SORT ALGORITHM\n",
    "* SORT  => BUILT IN LIST MENTHOD\n",
    "* SORTED => BUILT IN FUNCTION\n",
    "\n",
    "#### find minimum:\n",
    "\n",
    "5 15 3 12 17 0 index 0 to 5\n",
    "minimum num => in 0 th index (swap)\n",
    "\n",
    "#### find max\n",
    "5 15 3 12 17 0 index 0 to 5\n",
    "maximum num => in 0 th index (swap)\n",
    "\n"
   ]
  },
  {
   "cell_type": "code",
   "execution_count": 62,
   "metadata": {},
   "outputs": [
    {
     "name": "stdout",
     "output_type": "stream",
     "text": [
      "[56, 3, 2, 79, 6, 0]\n",
      "[0, 2, 3, 6, 56, 79]\n"
     ]
    }
   ],
   "source": [
    "list1 = [56, 3, 2, 79, 6, 0]\n",
    "print(list1)\n",
    "\n",
    "# methos 1 min method\n",
    "for i in range (len(list1)):\n",
    "    min_val = min(list1[i:])\n",
    "    # swapping\n",
    "    min_index = list1.index(min_val)\n",
    "    list1[i],list1[min_index] = list1[min_index], list1[i]\n",
    "    \n",
    "print(list1)\n",
    "\n"
   ]
  }
 ],
 "metadata": {
  "kernelspec": {
   "display_name": "Python 3",
   "language": "python",
   "name": "python3"
  },
  "language_info": {
   "codemirror_mode": {
    "name": "ipython",
    "version": 3
   },
   "file_extension": ".py",
   "mimetype": "text/x-python",
   "name": "python",
   "nbconvert_exporter": "python",
   "pygments_lexer": "ipython3",
   "version": "3.11.8"
  }
 },
 "nbformat": 4,
 "nbformat_minor": 2
}
