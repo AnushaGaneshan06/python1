{
 "cells": [
  {
   "cell_type": "markdown",
   "metadata": {},
   "source": [
    "# OPENING AND READING FILES \n",
    "\n",
    "-----------------------"
   ]
  },
  {
   "cell_type": "code",
   "execution_count": 1,
   "metadata": {},
   "outputs": [
    {
     "name": "stdout",
     "output_type": "stream",
     "text": [
      "current_directory:  c:\\Users\\HP\\Documents\\GitHub\\python\\09-File-Folder-Handing\n"
     ]
    }
   ],
   "source": [
    "# geeting current working directory\n",
    "\n",
    "import os\n",
    "\n",
    "# Current working directory \n",
    "current_directory = os.getcwd()\n",
    "print(\"current_directory: \", current_directory)"
   ]
  },
  {
   "cell_type": "code",
   "execution_count": 3,
   "metadata": {},
   "outputs": [
    {
     "name": "stdout",
     "output_type": "stream",
     "text": [
      "File and the directories in the directory. ['01_file_handling.ipynb', '02_file_handling.ipynb', 'example.txt', 'output.txt', 'test.txt']\n"
     ]
    }
   ],
   "source": [
    "# List and Files Directories in Directory\n",
    "\n",
    "import os\n",
    "\n",
    "files_and_directory = os.listdir(os.getcwd())\n",
    "print(\"File and the directories in the directory.\", files_and_directory)"
   ]
  },
  {
   "cell_type": "code",
   "execution_count": null,
   "metadata": {},
   "outputs": [
    {
     "name": "stdout",
     "output_type": "stream",
     "text": [
      "path exists\n"
     ]
    }
   ],
   "source": [
    "# check the directory path exists\n",
    "\n",
    "import os\n",
    "\n",
    "path = r\"C:\\Users\\HP\\Documents\\GitHub\\python\\09-File-Folder-Handing\\dummy_folder\"\n",
    "\n",
    "if os.path.exists(path):\n",
    "    print(\"path exists\")\n",
    "\n",
    "else:\n",
    "    print(\"pathe doesnt exits\")"
   ]
  },
  {
   "cell_type": "code",
   "execution_count": 6,
   "metadata": {},
   "outputs": [
    {
     "name": "stdout",
     "output_type": "stream",
     "text": [
      "Exists file!!\n"
     ]
    }
   ],
   "source": [
    "# checks the file path is exists\n",
    "\n",
    "import os \n",
    "\n",
    "path = \"dummy_folder\\dummy_file.txt\"\n",
    "\n",
    "if os.path.isfile(path):\n",
    "    print(\"Exists file!!\")\n",
    "else:\n",
    "    print(\"File doent exists!!\")"
   ]
  },
  {
   "cell_type": "code",
   "execution_count": 12,
   "metadata": {},
   "outputs": [],
   "source": [
    "# Creating a Directory\n",
    "\n",
    "import os\n",
    "\n",
    "os.mkdir(\"dummy_folder/new_directory\")"
   ]
  },
  {
   "cell_type": "code",
   "execution_count": 8,
   "metadata": {},
   "outputs": [],
   "source": [
    "# Removing a Directory\n",
    "\n",
    "import os\n",
    "\n",
    "os.rmdir(\"dummy_folder/new_directory\")"
   ]
  },
  {
   "cell_type": "code",
   "execution_count": null,
   "metadata": {},
   "outputs": [
    {
     "name": "stdout",
     "output_type": "stream",
     "text": [
      "current looking folder : dummy_folder\n",
      "\n",
      "\n",
      "SubFolder are : \n",
      "\t Subfolder : new_directory\n",
      "\n",
      "\n",
      "THE FILES ARE : \n",
      "\t File :  dummy_file.txt\n",
      "\n",
      "\n",
      "current looking folder : dummy_folder\\new_directory\n",
      "\n",
      "\n",
      "SubFolder are : \n",
      "\n",
      "\n",
      "THE FILES ARE : \n",
      "\n",
      "\n"
     ]
    }
   ],
   "source": [
    "for folder, sub_folder, files in os.walk(\"dummy_folder\"):\n",
    "    print(\"current looking folder : \" + folder)\n",
    "    print(\"\\n\")\n",
    "\n",
    "    print(\"SubFolder are : \")\n",
    "    for sub_fold in sub_folder:\n",
    "        print(\"\\t Subfolder : \" + sub_fold)\n",
    "    print('\\n')\n",
    "\n",
    "    print(\"THE FILES ARE : \")\n",
    "    for f in files:\n",
    "        print(\"\\t File : \" , f)\n",
    "    print(\"\\n\")\n",
    "\n"
   ]
  },
  {
   "cell_type": "markdown",
   "metadata": {},
   "source": [
    "### Moving Files in Python:\n",
    "- **Definition:** Moving files in Python involves transferring a file from one location to another or renaming it. This is commonly done using the `shutil.move()` function from the `shutil` module."
   ]
  },
  {
   "cell_type": "code",
   "execution_count": 16,
   "metadata": {},
   "outputs": [
    {
     "data": {
      "text/plain": [
       "'path to the file'"
      ]
     },
     "execution_count": 16,
     "metadata": {},
     "output_type": "execute_result"
    }
   ],
   "source": [
    "import shutil\n",
    "\n",
    "shutil.move('test.txt', 'path to the file')"
   ]
  }
 ],
 "metadata": {
  "kernelspec": {
   "display_name": "Python 3",
   "language": "python",
   "name": "python3"
  },
  "language_info": {
   "codemirror_mode": {
    "name": "ipython",
    "version": 3
   },
   "file_extension": ".py",
   "mimetype": "text/x-python",
   "name": "python",
   "nbconvert_exporter": "python",
   "pygments_lexer": "ipython3",
   "version": "3.11.8"
  }
 },
 "nbformat": 4,
 "nbformat_minor": 2
}
