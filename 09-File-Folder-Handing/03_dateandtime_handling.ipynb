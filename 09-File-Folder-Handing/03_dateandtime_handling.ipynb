{
 "cells": [
  {
   "cell_type": "markdown",
   "metadata": {},
   "source": [
    "# datetime module\n",
    "\n",
    "Python has the datetime module to help deal with timestamps in your code. Time values are represented with the time class. Times have attributes for hour, minute, second, and microsecond. They can also include time zone information. The arguments to initialize a time instance are optional, but the default of 0 is unlikely to be what you want.\n",
    "\n",
    "## time\n",
    "Let's take a look at how we can extract time information from the datetime module. We can create a timestamp by specifying datetime.time(hour,minute,second,microsecond)"
   ]
  },
  {
   "cell_type": "code",
   "execution_count": 2,
   "metadata": {},
   "outputs": [
    {
     "name": "stdout",
     "output_type": "stream",
     "text": [
      "04:30:01.000202\n",
      "hours :  4\n",
      "Minutes :  30\n",
      "seconds :  1\n",
      "microseconds : 202\n",
      "tzinfo : None\n"
     ]
    }
   ],
   "source": [
    "import datetime\n",
    "\n",
    "t = datetime.time(4, 30, 1, 202)\n",
    "\n",
    "print(t)\n",
    "print(\"hours : \", t.hour)\n",
    "print(\"Minutes : \", t.minute)\n",
    "print(\"seconds : \", t.second)\n",
    "print(\"microseconds :\" , t.microsecond)\n",
    "print(\"tzinfo :\" , t.tzinfo)"
   ]
  },
  {
   "cell_type": "markdown",
   "metadata": {},
   "source": [
    "**Note: A time instance only holds values of time, and not a date associated with the time.**\n",
    "\n",
    "We can also check the min and max values a time of day can have in the module:"
   ]
  },
  {
   "cell_type": "code",
   "execution_count": null,
   "metadata": {},
   "outputs": [
    {
     "name": "stdout",
     "output_type": "stream",
     "text": [
      "Earliest :  00:00:00\n",
      "Earliest :  23:59:59.999999\n",
      "Earliest :  0:00:00.000001\n"
     ]
    }
   ],
   "source": [
    "# The min and max class attributes reflect the valid range of times in a single day.\n",
    "\n",
    "print(\"Earliest : \", datetime.time.min)\n",
    "print(\"Earliest : \", datetime.time.max)\n",
    "print(\"Earliest : \", datetime.time.resolution)"
   ]
  },
  {
   "cell_type": "markdown",
   "metadata": {},
   "source": [
    "## Dates\n",
    "**datetime** (as you might suspect) also allows us to work with date timestamps. Calendar date values are represented with the date class. Instances have attributes for year, month, and day. It is easy to create a date representing today’s date using the today() class method."
   ]
  },
  {
   "cell_type": "code",
   "execution_count": 10,
   "metadata": {},
   "outputs": [
    {
     "name": "stdout",
     "output_type": "stream",
     "text": [
      "2024-12-05\n",
      "ctime Thu Dec  5 00:00:00 2024\n",
      "tuple :  time.struct_time(tm_year=2024, tm_mon=12, tm_mday=5, tm_hour=0, tm_min=0, tm_sec=0, tm_wday=3, tm_yday=340, tm_isdst=-1)\n",
      "ordinal :  739225\n",
      "Year :  2024\n",
      "month 12\n",
      "day :  5\n"
     ]
    }
   ],
   "source": [
    "import datetime\n",
    "\n",
    "today = datetime.date.today()\n",
    "\n",
    "print(today)\n",
    "\n",
    "# Convert the current date into a human-readable format using ctime()\n",
    "print(\"ctime\", today.ctime())\n",
    "\n",
    "\n",
    "# Convert the current date into a tuple representing (year, month, day)\n",
    "print(\"tuple : \", today.timetuple())\n",
    "\n",
    "## Convert the current date into the proleptic Gregorian ordinal.\n",
    "print(\"ordinal : \", today.toordinal())\n",
    "\n",
    "# Extract and print the year from the current date\n",
    "print(\"Year : \", today.year)\n",
    "\n",
    "# Extract and print the month from the current date\n",
    "print(\"month\", today.month)\n",
    "\n",
    "## Extract and print the day from the current date\n",
    "print(\"day : \", today.day)\n"
   ]
  },
  {
   "cell_type": "code",
   "execution_count": 11,
   "metadata": {},
   "outputs": [
    {
     "name": "stdout",
     "output_type": "stream",
     "text": [
      "Earliest :  0001-01-01\n",
      "Latest :  9999-12-31\n",
      "resolution :  1 day, 0:00:00\n"
     ]
    }
   ],
   "source": [
    "print(\"Earliest : \",datetime.date.min)\n",
    "print(\"Latest : \",datetime.date.max)\n",
    "print(\"resolution : \",datetime.date.resolution)"
   ]
  },
  {
   "cell_type": "markdown",
   "metadata": {},
   "source": [
    "Another way to create new date instances uses the replace() method of an existing date. For example, you can change the year, leaving the day and month alone."
   ]
  },
  {
   "cell_type": "code",
   "execution_count": 13,
   "metadata": {},
   "outputs": [
    {
     "name": "stdout",
     "output_type": "stream",
     "text": [
      "d1:  2019-03-11\n",
      "2024-02-18\n"
     ]
    }
   ],
   "source": [
    "d1 = datetime.date(2019, 3, 11)\n",
    "print(\"d1: \", d1)\n",
    "\n",
    "d2 = d1.replace(year=2009)\n",
    "\n",
    "d3 = d1.replace(day = 18, year = 2024, month=2)\n",
    "print(d3)"
   ]
  },
  {
   "cell_type": "markdown",
   "metadata": {},
   "source": [
    "### ARITHEMETIC"
   ]
  },
  {
   "cell_type": "code",
   "execution_count": null,
   "metadata": {},
   "outputs": [
    {
     "name": "stdout",
     "output_type": "stream",
     "text": [
      "Current date :  2024-12-05\n",
      "New date after the adding the 5 years :  2024-12-10\n",
      "2024-11-28\n",
      "326 days, 0:00:00\n"
     ]
    }
   ],
   "source": [
    "import datetime\n",
    "\n",
    "current_date = datetime.date.today()\n",
    "\n",
    "print(\"Current date : \", current_date)\n",
    "\n",
    "# Add 5 days to the current date\n",
    "new_date = current_date + datetime.timedelta(days=5)\n",
    "print(\"New date after the adding the 5 years : \", new_date)\n",
    "\n",
    "# Subtract 1 week from the current date\n",
    "previous_date = current_date - datetime.timedelta(weeks=1)\n",
    "print(previous_date)\n",
    "\n",
    "date1 = datetime.date(2024, 2, 10)\n",
    "date2 = datetime.date(2025, 1, 1)\n",
    "difference = date1 - date2\n",
    "print(difference)\n",
    "\n"
   ]
  }
 ],
 "metadata": {
  "kernelspec": {
   "display_name": "Python 3",
   "language": "python",
   "name": "python3"
  },
  "language_info": {
   "codemirror_mode": {
    "name": "ipython",
    "version": 3
   },
   "file_extension": ".py",
   "mimetype": "text/x-python",
   "name": "python",
   "nbconvert_exporter": "python",
   "pygments_lexer": "ipython3",
   "version": "3.11.8"
  }
 },
 "nbformat": 4,
 "nbformat_minor": 2
}
