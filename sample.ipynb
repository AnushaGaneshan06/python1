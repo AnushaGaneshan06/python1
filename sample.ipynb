{
 "cells": [
  {
   "cell_type": "code",
   "execution_count": null,
   "metadata": {},
   "outputs": [],
   "source": [
    "# 3.VARIABLE\n",
    "# -----------------------------\n",
    "\n",
    "# VARIABLE NAMES MUST BEGIN WITH A LETTER OR AN UNDERSCORE\n",
    "# VARIABLE NAMES CAN CONTAIN LETTERS, DIGITS, AND UNDERSCORES\n",
    "# VARIABLE NAMES ARE CASE-SENSITIVE\n",
    "# VARIABLE NAMES CANNOT BE PYTHON KEYWORDS\n",
    "# YOU CANNOT USE PYTHON RESERVED KEYWORDS (e.g., if, else, for, while, class, return, etc.) AS VARIABLE NAMES.VARIABLE NAMES CANNOT INCLUDE SPACES OR SPECIAL CHARACTERS SUCH AS @, #, !, ETC."
   ]
  },
  {
   "cell_type": "markdown",
   "metadata": {},
   "source": [
    "2.PRIMITIVES DATATYPES IN PYTHON "
   ]
  },
  {
   "cell_type": "code",
   "execution_count": null,
   "metadata": {},
   "outputs": [
    {
     "name": "stdout",
     "output_type": "stream",
     "text": [
      "<class 'int'> 5\n",
      "<class 'float'> 34.0\n",
      "<class 'bool'> True\n",
      "<class 'str'> jenni\n",
      "<class 'NoneType'> None\n"
     ]
    }
   ],
   "source": [
    "# 2.PRIMITIVE DATATYPES \n",
    "# ------------------------------------\n",
    "# THERE ARE MUTABLE THEY CAN'T CHANGE ONCE WE DECLARE\n",
    "# PRIMITIVES REPRESENT THE SINGLE VALUE\n",
    "\n",
    "# 2.1 int = > integer value \n",
    "a = 5\n",
    "print(type(a), a);\n",
    "\n",
    "# 2.2 float \n",
    "b = 34.0\n",
    "print(type(b), b);\n",
    "\n",
    "# 2.3 BOOLEAN\n",
    "c = True\n",
    "print(type(c), c);\n",
    "\n",
    "# 2.4  STRING VALUE \n",
    "\n",
    "d = \"jenni\"\n",
    "print(type(d), d);\n",
    "\n",
    "# 2.5 NONE \n",
    "\n",
    "e = None\n",
    "print(type(e), e);\n"
   ]
  },
  {
   "cell_type": "code",
   "execution_count": null,
   "metadata": {},
   "outputs": [
    {
     "data": {
      "text/plain": [
       "3"
      ]
     },
     "execution_count": 13,
     "metadata": {},
     "output_type": "execute_result"
    }
   ],
   "source": [
    "# 1. ARITHEMATIC OPERATION (TAKES ANS LAST)\n",
    "# ----------------------\n",
    "# ADDITION \n",
    "2 + 1\n",
    "# SUBSTRACTION \n",
    "# ----------------------\n",
    "2 - 1 \n",
    "# MULTIPLICATION\n",
    "# ---------------------\n",
    "2 * 2\n",
    "# DIVISION \n",
    "# ------------------\n",
    "221 / 2"
   ]
  },
  {
   "cell_type": "markdown",
   "metadata": {},
   "source": [
    "4.FUNCTION IN PYTHON"
   ]
  },
  {
   "cell_type": "code",
   "execution_count": 6,
   "metadata": {},
   "outputs": [
    {
     "name": "stdout",
     "output_type": "stream",
     "text": [
      "hi hello\n",
      "Anuhsa\n",
      "6\n"
     ]
    },
    {
     "data": {
      "text/plain": [
       "('Anuhsa', 2, 4)"
      ]
     },
     "execution_count": 6,
     "metadata": {},
     "output_type": "execute_result"
    }
   ],
   "source": [
    "def function(a, b, name):\n",
    "    print(\"hi hello\")\n",
    "    print(name)\n",
    "    print(a + b)\n",
    "    return name , a , b\n",
    "\n",
    "\n",
    "function(2, 4, \"Anuhsa\")\n",
    "# print()"
   ]
  },
  {
   "cell_type": "markdown",
   "metadata": {},
   "source": [
    "FUNCTION DEFINITION(accepting the arguments)"
   ]
  },
  {
   "cell_type": "code",
   "execution_count": 15,
   "metadata": {},
   "outputs": [
    {
     "name": "stdout",
     "output_type": "stream",
     "text": [
      "Hello the product name: chair and  table\n",
      "The total product are  30\n"
     ]
    },
    {
     "data": {
      "text/plain": [
       "'chair'"
      ]
     },
     "execution_count": 15,
     "metadata": {},
     "output_type": "execute_result"
    }
   ],
   "source": [
    "# FUNCTION DEFINITION\n",
    "\n",
    "def greeting(name, name2, total): # FUNTION DEFINITION WITH PARAMETERS\n",
    "    print(\"Hello the product name:\", name, \"and \", name2)\n",
    "    print(\"The total product are \", total)\n",
    "    return name\n",
    "\n",
    "name2 = \"table\" #FUNCTION CALLING \n",
    "greeting(\"chair\", name2, 30) # ARGUMENTS\n",
    "\n"
   ]
  },
  {
   "cell_type": "markdown",
   "metadata": {},
   "source": [
    "EXMAPLE\n",
    " \n",
    "EVEN NUMBER"
   ]
  },
  {
   "cell_type": "code",
   "execution_count": null,
   "metadata": {},
   "outputs": [
    {
     "data": {
      "text/plain": [
       "('The  number is the even number', 0)"
      ]
     },
     "execution_count": 22,
     "metadata": {},
     "output_type": "execute_result"
    }
   ],
   "source": [
    "def even_num_check(num):\n",
    "    if num % 2 == 0:\n",
    "        return(\"The  number is the even number\", num)\n",
    "    else:\n",
    "        return(\"the number is not a even number\", num)\n",
    "    \n",
    "\n",
    "even_num_check(4)\n",
    "\n"
   ]
  },
  {
   "cell_type": "code",
   "execution_count": 28,
   "metadata": {},
   "outputs": [
    {
     "name": "stdout",
     "output_type": "stream",
     "text": [
      "2 the is the even number\n",
      "4 the is the even number\n",
      "5 the  is not even number\n",
      "6 the is the even number\n",
      "6 the is the even number\n",
      "9 the  is not even number\n"
     ]
    }
   ],
   "source": [
    "\n",
    "# list of the number is even \n",
    "\n",
    "def list_num (num_list):\n",
    "    for number in num_list:\n",
    "        if number % 2 == 0:\n",
    "            print( number, \"the is the even number\")\n",
    "        else:\n",
    "            print(number,\"the  is not even number\")\n",
    "\n",
    "list_num([2, 4, 5 , 6, 6, 9])\n",
    "# list_num((3, 4, ,5 ,6 8))"
   ]
  },
  {
   "cell_type": "code",
   "execution_count": null,
   "metadata": {},
   "outputs": [
    {
     "data": {
      "text/plain": [
       "False"
      ]
     },
     "execution_count": 33,
     "metadata": {},
     "output_type": "execute_result"
    }
   ],
   "source": [
    "def even_check (list_num):\n",
    "    for number in list_num:\n",
    "        if number % 2 == 0:\n",
    "            return True\n",
    "        else:\n",
    "            return False\n",
    "        \n",
    "even_check([7, 4, 6, 8, 0, 7])\n",
    "# its checks the first number in list after wont\n"
   ]
  },
  {
   "cell_type": "code",
   "execution_count": 39,
   "metadata": {},
   "outputs": [
    {
     "data": {
      "text/plain": [
       "[2, 34]"
      ]
     },
     "execution_count": 39,
     "metadata": {},
     "output_type": "execute_result"
    }
   ],
   "source": [
    "def even_check(list_num):\n",
    "    even_number = []\n",
    "    for number in list_num:\n",
    "        if number % 2 == 0:\n",
    "            even_number.append(number)\n",
    "        else:\n",
    "            pass\n",
    "    return even_number\n",
    "    \n",
    "even_check([2, 34, 5])\n",
    "\n",
    "    "
   ]
  },
  {
   "cell_type": "code",
   "execution_count": 38,
   "metadata": {},
   "outputs": [
    {
     "name": "stdout",
     "output_type": "stream",
     "text": [
      "dadda\n"
     ]
    }
   ],
   "source": [
    "def movie_mane(name):\n",
    "    print(name)\n",
    "\n",
    "movie_mane(\"dadda\")"
   ]
  },
  {
   "cell_type": "markdown",
   "metadata": {},
   "source": [
    "POSITIONAL AND KEYWORD ARGUMENTS"
   ]
  },
  {
   "cell_type": "code",
   "execution_count": 11,
   "metadata": {},
   "outputs": [
    {
     "name": "stdout",
     "output_type": "stream",
     "text": [
      "3\n",
      "9\n",
      "1\n",
      "8\n"
     ]
    }
   ],
   "source": [
    "def numbers(a, b, e, d = 1, c = 10): # default parameters can overwrite\n",
    "    # once the default arguments start all should be the default one\n",
    "    # positional can be first and keyword rguments should be next\n",
    "    # non-default argument follows default argument\n",
    "    print(a + e)\n",
    "    print(c - d) \n",
    "    print(e % a)\n",
    "    print(a * b)\n",
    "\n",
    "numbers(2, 4, e = 1, c= 10 ,d = 1)"
   ]
  }
 ],
 "metadata": {
  "kernelspec": {
   "display_name": "Python 3",
   "language": "python",
   "name": "python3"
  },
  "language_info": {
   "codemirror_mode": {
    "name": "ipython",
    "version": 3
   },
   "file_extension": ".py",
   "mimetype": "text/x-python",
   "name": "python",
   "nbconvert_exporter": "python",
   "pygments_lexer": "ipython3",
   "version": "3.11.8"
  }
 },
 "nbformat": 4,
 "nbformat_minor": 2
}
