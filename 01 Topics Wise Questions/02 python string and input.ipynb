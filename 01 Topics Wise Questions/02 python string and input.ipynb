{
 "cells": [
  {
   "cell_type": "markdown",
   "metadata": {},
   "source": [
    "#  Python Input & Strings Questions:\n"
   ]
  },
  {
   "cell_type": "markdown",
   "metadata": {},
   "source": [
    "1.Write a Python program that asks the user to enter their name and age, and then prints out a message that says \"Hello, [name]! You are [age] years old.\"\n"
   ]
  },
  {
   "cell_type": "code",
   "execution_count": 1,
   "metadata": {},
   "outputs": [
    {
     "name": "stdout",
     "output_type": "stream",
     "text": [
      "Hello , ! You are  years old.\n"
     ]
    }
   ],
   "source": [
    "name = input(\"Enter the name: \")\n",
    "age = input(\"Enter the age: \")\n",
    "print(f\"Hello , {name}! You are {age} years old.\")"
   ]
  },
  {
   "cell_type": "markdown",
   "metadata": {},
   "source": [
    "2. Write a Python program that calculates the area of a rectangle. The program should ask the user to enter the length and width of the rectangle, and then print out the area.\n"
   ]
  },
  {
   "cell_type": "code",
   "execution_count": null,
   "metadata": {},
   "outputs": [],
   "source": [
    "\n",
    "lenght = int(input(\"Enter the lenght: \"))\n",
    "width = int(input(\"Enter the width: \"))\n",
    "area = lenght * width\n",
    "print(f\"The Area of the rectangle of lenght: {lenght} and width : {width} is {area}\")\n"
   ]
  },
  {
   "cell_type": "markdown",
   "metadata": {},
   "source": [
    "3. Write a Python program that asks the user to enter a string, and then prints out the length of the string.\n"
   ]
  },
  {
   "cell_type": "code",
   "execution_count": null,
   "metadata": {},
   "outputs": [],
   "source": [
    "string = input(\"Enter the string: \")\n",
    "lenght = len(string)\n",
    "print(f\"The lenght of string {string} is : {lenght}\")\n"
   ]
  },
  {
   "cell_type": "markdown",
   "metadata": {},
   "source": [
    "4.  Write a Python program that asks the user to enter two numbers, and then prints out whether the first number is greater than, less than, or equal to the second number.\n"
   ]
  },
  {
   "cell_type": "code",
   "execution_count": null,
   "metadata": {},
   "outputs": [],
   "source": [
    "a = input(\"Enter the number a : \")\n",
    "b = input(\"Enter the number 2 : \")\n",
    "if  a == b:\n",
    "    print(\"a and b are equal\")\n",
    "elif a > b:\n",
    "    print(f\"a : {a} is greater than b : {b}\")\n",
    "else:\n",
    "    print(f\"b : {b} is lesser than a : {a}\")\n"
   ]
  },
  {
   "cell_type": "markdown",
   "metadata": {},
   "source": [
    "5. Write a Python program that asks the user to enter a string, and then prints out the string in reverse order.\n"
   ]
  },
  {
   "cell_type": "code",
   "execution_count": null,
   "metadata": {},
   "outputs": [],
   "source": [
    "string = input(\"Enter the string: \")\n",
    "\n",
    "print(f\"The original string : {string}\")\n",
    "\n",
    "reverse_string = \"\"\n",
    "\n",
    "for i in string:\n",
    "    reverse_string = i + reverse_string\n",
    "print(f\"The reversed string : {reverse_string}\")\n",
    "\n"
   ]
  },
  {
   "cell_type": "markdown",
   "metadata": {},
   "source": [
    "6. Write a Python program that asks the user to enter a number, and then prints out whether the number is even or odd.\n"
   ]
  },
  {
   "cell_type": "code",
   "execution_count": null,
   "metadata": {},
   "outputs": [],
   "source": [
    "number = int(input(\"Enter the number: \"))\n",
    "\n",
    "if (number % 2) == 0 :\n",
    "    print(f\"The {number} is the even number\")\n",
    "else:\n",
    "    print(f\"The {number} is odd number\")"
   ]
  },
  {
   "cell_type": "markdown",
   "metadata": {},
   "source": [
    "7. Write a Python program that asks the user to enter a temperature in Fahrenheit, and then converts it to Celsius. The formula for converting Fahrenheit to Celsius is (F - 32) * 5/9.\n"
   ]
  },
  {
   "cell_type": "code",
   "execution_count": null,
   "metadata": {},
   "outputs": [],
   "source": [
    "Fahrenheit = int(input(\"Enter the temperature in fahrenheit : \"))\n",
    "\n",
    "celsius = round(Fahrenheit -32) * 5 / 9\n",
    "celsius = round(celsius, 2)\n",
    "\n",
    "print(f\"The conversion of fahenheit : {Fahrenheit} F  into celsius is : {celsius} C\")"
   ]
  },
  {
   "cell_type": "markdown",
   "metadata": {},
   "source": [
    "8. Write a Python program that calculates the average of three numbers. The program should ask the user to enter three numbers, and then print out their average.\n"
   ]
  },
  {
   "cell_type": "code",
   "execution_count": null,
   "metadata": {},
   "outputs": [],
   "source": [
    "try: \n",
    "    num1 = int(input(\"Enter the number 1 : \"))\n",
    "    num2 = int(input(\"Enter the number 2 : \"))\n",
    "    num3 = int(input(\"Enter the number 3 : \"))\n",
    "\n",
    "    average = (num1 + num2 + num3) / 3\n",
    "    average = round(average, 2)\n",
    "    print(f\"the average of 3 numbers is : {average}\")\n",
    "\n",
    "except ValueError:\n",
    "    print(\"Error\")"
   ]
  },
  {
   "cell_type": "markdown",
   "metadata": {},
   "source": [
    "9. Write a Python program that asks the user to enter a string, and then checks if the string contains the letter \"e\". If the string contains \"e\", print out a message that says \"The string contains the letter e.\" If the string does not contain \"e\", print out a message that says \"The string does not contain the letter e.\"\n"
   ]
  },
  {
   "cell_type": "code",
   "execution_count": null,
   "metadata": {},
   "outputs": [],
   "source": [
    "\n",
    "string = input(\"Enter the string: \")\n",
    "count = 0\n",
    "\n",
    "for letter in string:\n",
    "    if letter == \"e\":\n",
    "        count += 1\n",
    "\n",
    "if count > 0 :\n",
    "    print(f\"The {string} contain letter e :{count}\")\n",
    "else:  \n",
    "    print(f\"{string} not contain letter e\")\n"
   ]
  },
  {
   "cell_type": "markdown",
   "metadata": {},
   "source": [
    "10. Write a Python program that asks the user to enter a password. If the password contains less than 8 characters, print out a message that says \"Password too short.\" If the password contains 8 or more characters, print out a message that says \"Password accepted.\"\n"
   ]
  },
  {
   "cell_type": "code",
   "execution_count": null,
   "metadata": {},
   "outputs": [],
   "source": [
    "password = input(\"Enter the password: \")\n",
    "lenght = len(password)\n",
    "\n",
    "if lenght < 8 :\n",
    "    print(\"password is too short!!\")\n",
    "\n",
    "else: \n",
    "    print(\"password is accepted.\")\n"
   ]
  },
  {
   "cell_type": "markdown",
   "metadata": {},
   "source": [
    "11. Write a Python program that asks the user to enter a number between 1 and 10. If the user enters a number outside of this range, print out a message that says \"Invalid input.\" If the user enters a number within this range, print out a message that says \"Valid input.\"\n"
   ]
  },
  {
   "cell_type": "code",
   "execution_count": null,
   "metadata": {},
   "outputs": [],
   "source": [
    "integer = int(input(\"Enter the number between (1 - 10):\"))\n",
    "\n",
    "if 1 <= integer <= 10:\n",
    "         print(\"valid input\")\n",
    "else:\n",
    "         print(\"invalid input\")\n"
   ]
  },
  {
   "cell_type": "markdown",
   "metadata": {},
   "source": [
    "12. Write a Python program that asks the user to enter a sentence, and then counts the number of words in the sentence.\n"
   ]
  },
  {
   "cell_type": "code",
   "execution_count": null,
   "metadata": {},
   "outputs": [],
   "source": [
    "sentence = input(\"Enter the sentence : \")\n",
    "\n",
    "count = len(sentence.split())\n",
    "\n",
    "print(f\"The count of word in the given sentence is : {count}\")"
   ]
  },
  {
   "cell_type": "code",
   "execution_count": null,
   "metadata": {},
   "outputs": [],
   "source": [
    "sentence1 = input(\"Enter the sentence : \")\n",
    "count = 0\n",
    "\n",
    "for i in sentence1.split():\n",
    "    count += 1\n",
    "\n",
    "print(f\"The count of word in the given sentence is : {count}\")"
   ]
  },
  {
   "cell_type": "markdown",
   "metadata": {},
   "source": [
    "13. Write a Python program that asks the user to enter a string, and then prints out the string with all the vowels replaced by the letter \"x\".\n"
   ]
  },
  {
   "cell_type": "code",
   "execution_count": null,
   "metadata": {},
   "outputs": [],
   "source": [
    "string = input(\"Enter the string : \")\n",
    "\n",
    "new_string = \"\"\n",
    "\n",
    "for i in string:\n",
    "    if i in \"aeiouAEIOU\":\n",
    "        new_string += \"x\"\n",
    "    else:\n",
    "        new_string += i\n",
    "        \n",
    "\n",
    "print(new_string)"
   ]
  },
  {
   "cell_type": "markdown",
   "metadata": {},
   "source": [
    "14. Write a Python program that asks the user to enter a number, and then checks if the number is a multiple of 3. If the number is a multiple of 3, print out a message that says \"The number is a multiple of 3.\" If the number is not a multiple of 3, print out a message that says \"The number is not a multiple of 3.\"\n"
   ]
  },
  {
   "cell_type": "code",
   "execution_count": null,
   "metadata": {},
   "outputs": [],
   "source": [
    "number = int(input(\"Enter the number :\"))\n",
    "\n",
    "if (number % 3) == 0:\n",
    "    print(\"The number is a multiple of 3\")\n",
    "else:\n",
    "    print(\"The number is not a multiple of 3.\")"
   ]
  },
  {
   "cell_type": "markdown",
   "metadata": {},
   "source": [
    "15. Write a Python program that asks the user to enter a string, and then checks if the string starts with the letter \"a\". If the string starts with \"a\", print out a message that says \"The string starts with the letter a.\" If the string does not start with \"a\", print out a message that says \"The string does not start with the letter a.\"\n"
   ]
  },
  {
   "cell_type": "code",
   "execution_count": null,
   "metadata": {},
   "outputs": [],
   "source": [
    "string = input(\"Enter the string : \")\n",
    "\n",
    "if string and  string[0].lower() == \"a\":\n",
    "    print(\"The string starts with the letter a.\")\n",
    "else:\n",
    "    print(\"The string does not start with the letter a.\")\n"
   ]
  },
  {
   "cell_type": "code",
   "execution_count": null,
   "metadata": {},
   "outputs": [],
   "source": [
    "# method 2\n",
    "\n",
    "\n",
    "string = input(\"Enter the string : \")\n",
    "\n",
    "if string.lower().startswith(\"a\"):\n",
    "    print(\"The string starts with the letter a.\")\n",
    "else:\n",
    "    print(\"The string does not start with the letter a.\")\n"
   ]
  },
  {
   "cell_type": "markdown",
   "metadata": {},
   "source": [
    "16. Write a Python program that asks the user to enter a number between 1 and 100. If the number is a multiple of both 3 and 5, print out a message that says \"FizzBuzz\". If the number is a multiple of only 3, print out a message that says \"Fizz\". If the number is a multiple of only 5, print out a message that says \"Buzz\". If the number is not a multiple of 3 or 5, print out the number itself.\n"
   ]
  },
  {
   "cell_type": "code",
   "execution_count": null,
   "metadata": {},
   "outputs": [],
   "source": [
    "number = int(input(\"Enter the number between (1 - 100) : \"))\n",
    "\n",
    "if (number % 3) == 0 and (number % 5) == 0:\n",
    "    print(\"FizzBuzz\")\n",
    "\n",
    "elif (number % 3) == 0:\n",
    "    print(\"Fizz\")\n",
    "\n",
    "elif (number % 5) == 0:\n",
    "    print(\"Buzz\")\n",
    "\n",
    "else:\n",
    "    print(number)"
   ]
  },
  {
   "cell_type": "markdown",
   "metadata": {},
   "source": [
    "17. Write a Python program that asks the user to enter a string, and then checks if the string is a palindrome (i.e. the same forwards and backwards) without using any built-in string methods.\n"
   ]
  },
  {
   "cell_type": "code",
   "execution_count": null,
   "metadata": {},
   "outputs": [],
   "source": [
    "string = input(\"Enter the string: \")\n",
    "\n",
    "reversed_string = \"\"\n",
    "\n",
    "for i in string:\n",
    "    reversed_string = i + reversed_string\n",
    "# print(reversed_string)\n",
    "\n",
    "if string == reversed_string:\n",
    "    print(f\"palindrome: {reversed_string}\")\n",
    "else:\n",
    "    print(f\"not palindrome : {reversed_string}\")\n",
    "\n"
   ]
  },
  {
   "cell_type": "markdown",
   "metadata": {},
   "source": [
    "18. Write a Python program that asks the user to enter a password. If the password is \"password123\", print out a message that says \"Access granted.\" If the password is anything else, print out a message that says \"Access denied.\"\n"
   ]
  },
  {
   "cell_type": "code",
   "execution_count": null,
   "metadata": {},
   "outputs": [],
   "source": [
    "password = input(\"Enter the password : \")\n",
    "\n",
    "if  password == \"password123\":\n",
    "        print(\"Access granted\")\n",
    "else:\n",
    "        print(\"Access denied\")\n"
   ]
  },
  {
   "cell_type": "markdown",
   "metadata": {},
   "source": [
    "19. Write a Python program that asks the user to enter a number, and then prints out whether the number is positive, negative, or zero.\n"
   ]
  },
  {
   "cell_type": "code",
   "execution_count": null,
   "metadata": {},
   "outputs": [],
   "source": [
    "if number == 0:\n",
    "    print(\"the number is Zero!!\")\n",
    "elif number > 0:\n",
    "    print(\"number is positive digit.\")\n",
    "else:\n",
    "    print(\"number is negative digit.\")\n"
   ]
  },
  {
   "cell_type": "markdown",
   "metadata": {},
   "source": [
    "20.  Write a Python program that asks the user to enter a string, and then prints out whether the string is a palindrome (i.e. the same forwards and backwards).\n"
   ]
  },
  {
   "cell_type": "code",
   "execution_count": null,
   "metadata": {},
   "outputs": [],
   "source": [
    "string = input(\"Enter the string : \")\n",
    "\n",
    "reverse_string = string[:-1]\n",
    "\n",
    "if string == reverse_string:\n",
    "    print(\"The string is the palindrome!\")\n",
    "else:\n",
    "    print(\"The string is not the palindrome!!\")\n",
    "\n"
   ]
  }
 ],
 "metadata": {
  "kernelspec": {
   "display_name": "Python 3",
   "language": "python",
   "name": "python3"
  },
  "language_info": {
   "codemirror_mode": {
    "name": "ipython",
    "version": 3
   },
   "file_extension": ".py",
   "mimetype": "text/x-python",
   "name": "python",
   "nbconvert_exporter": "python",
   "pygments_lexer": "ipython3",
   "version": "3.11.8"
  }
 },
 "nbformat": 4,
 "nbformat_minor": 2
}
