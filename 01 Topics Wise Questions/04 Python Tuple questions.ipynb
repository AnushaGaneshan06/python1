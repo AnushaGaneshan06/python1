{
 "cells": [
  {
   "cell_type": "markdown",
   "metadata": {},
   "source": [
    "# 04 Python Tuple questions:"
   ]
  },
  {
   "cell_type": "markdown",
   "metadata": {},
   "source": [
    "1. What is a tuple in Python and how is it different from a list?\n"
   ]
  },
  {
   "cell_type": "markdown",
   "metadata": {},
   "source": [
    "| **Aspect**        | **Tuple**                                        | **List**                                        |\n",
    "|--------------------|-------------------------------------------------|------------------------------------------------|\n",
    "| **Mutability**     | Immutable: Cannot be modified.                  | Mutable: Elements can be modified.            |\n",
    "| **Syntax**         | Defined with `()` or no brackets.               | Defined with `[]`.                            |\n",
    "| **Performance**    | Faster due to immutability.                     | Slower as it supports modifications.          |\n",
    "| **Use Cases**      | Ideal for fixed collections.                    | Ideal for collections that change.            |\n",
    "| **Methods**        | Limited methods: `count()`, `index()`.          | Many methods: `append()`, `pop()`, `remove()`, `extend()`, `insert()`, `clear()`, etc. |\n"
   ]
  },
  {
   "cell_type": "markdown",
   "metadata": {},
   "source": [
    "### METHOD IN TUPLE"
   ]
  },
  {
   "cell_type": "markdown",
   "metadata": {},
   "source": [
    "| **Method**      | **Description**                                         | **Example**                                | **Output**     |\n",
    "|------------------|---------------------------------------------------------|--------------------------------------------|----------------|\n",
    "| `count(value)`   | Counts the occurrences of `value` in the tuple.         | `t = (1, 2, 2, 3)` <br> `t.count(2)`       | `2`            |\n",
    "| `index(value)`   | Returns the first index of `value` in the tuple.        | `t = (1, 2, 3)` <br> `t.index(2)`          | `1`            |"
   ]
  },
  {
   "cell_type": "markdown",
   "metadata": {},
   "source": [
    "-------------"
   ]
  },
  {
   "cell_type": "markdown",
   "metadata": {},
   "source": [
    "2. How do you create an empty tuple in Python?\n",
    "\n",
    "\n"
   ]
  },
  {
   "cell_type": "code",
   "execution_count": null,
   "metadata": {},
   "outputs": [],
   "source": [
    "tuple_items = ()\n",
    "print(f\"The tuple is empty: {tuple_items}\")\n",
    "\n",
    "tuple_items = tuple()\n",
    "print(f\"The tuple is empty: {tuple_items}\")"
   ]
  },
  {
   "cell_type": "markdown",
   "metadata": {},
   "source": [
    "3.  Can you modify or update elements in a tuple in Python?\n",
    "* No, you cannot directly modify or update elements in a tuple in Python because tuples are immutable. Once a tuple is created, its elements cannot be changed, added, or removed. Any attempt to do so will result in an error."
   ]
  },
  {
   "cell_type": "code",
   "execution_count": null,
   "metadata": {},
   "outputs": [],
   "source": [
    "tuple_items = (1, 2, 3, 4)\n",
    "\n",
    "tuple_items[0] = 10 # bject does not support item assignment (ERROR)\n",
    "print(tuple_items)"
   ]
  },
  {
   "cell_type": "markdown",
   "metadata": {},
   "source": [
    "* Workaround: Modifying a Tuple in Python\n",
    "        If you need to modify a tuple, you can convert it to a list, make the desired changes, and then convert it back to a tuple. markdoem"
   ]
  },
  {
   "cell_type": "code",
   "execution_count": null,
   "metadata": {},
   "outputs": [],
   "source": [
    "# step 1 : tuple list \n",
    "tuple_items = (1, 2, 4, 5, 6)\n",
    "\n",
    "# step 2: modify list \n",
    "my_list = list(tuple_items)\n",
    "\n",
    "# step3: modify var list \n",
    "\n",
    "my_list[0] = 100\n",
    "\n",
    "# step4: assign tuple \n",
    "tuple_items = tuple(my_list)\n",
    "\n",
    "# step5: print tuple \n",
    "print(tuple_items)"
   ]
  },
  {
   "cell_type": "markdown",
   "metadata": {},
   "source": [
    "4. How do you access elements from a tuple in Python using indexing?\n"
   ]
  },
  {
   "cell_type": "code",
   "execution_count": null,
   "metadata": {},
   "outputs": [],
   "source": [
    "tuple_items = (3, 4, 5, 7)\n",
    "\n",
    "print(tuple_items[0])\n",
    "print(tuple_items[1])\n",
    "print(tuple_items[-2])\n",
    "print(tuple_items[-1])"
   ]
  },
  {
   "cell_type": "markdown",
   "metadata": {},
   "source": [
    "5.  What is the difference between positive and negative indexing in Python tuples?\n"
   ]
  },
  {
   "cell_type": "markdown",
   "metadata": {},
   "source": [
    "tuple = (1, 2, 30, 67, 40, 3)\n",
    "| **Indexing Type**   | **Starts From**  | **Example**    | **Element Accessed** |\n",
    "|---------------------|------------------|----------------|----------------------|\n",
    "| Positive Indexing   | 0 (first)        | `my_tuple[2]`  | 30                   |\n",
    "| Negative Indexing   | -1 (last)        | `my_tuple[-2]` | 40                   |\n"
   ]
  },
  {
   "cell_type": "markdown",
   "metadata": {},
   "source": [
    "6. Can a tuple contain elements of different data types in Python?\n"
   ]
  },
  {
   "cell_type": "code",
   "execution_count": null,
   "metadata": {},
   "outputs": [],
   "source": [
    "tuple_items = (2, 3, \"hello\", 6.7, True)\n",
    "print(type(tuple_items[0]), tuple_items[0] )\n",
    "print(type(tuple_items[1]), tuple_items[1] )\n",
    "print(type(tuple_items[2]), tuple_items[2] )\n",
    "print(type(tuple_items[3]), tuple_items[3] )\n",
    "print(type(tuple_items[4]), tuple_items[4] )"
   ]
  },
  {
   "cell_type": "markdown",
   "metadata": {},
   "source": [
    "7. How do you unpack elements from a tuple into separate variables in Python?\n"
   ]
  },
  {
   "cell_type": "code",
   "execution_count": null,
   "metadata": {},
   "outputs": [],
   "source": [
    "tuple_items = (\"hello\", 3, 4, 5.5, False)\n",
    "\n",
    "string , num1, num2, float, boolean = tuple_items\n",
    "\n",
    "print(string)\n",
    "print(num1)\n",
    "print(num2)\n",
    "print(float)\n",
    "print(boolean)"
   ]
  },
  {
   "cell_type": "code",
   "execution_count": null,
   "metadata": {},
   "outputs": [],
   "source": [
    "# * operator to collect the remaining items into a list.\n",
    "\n",
    "first, *rest = tuple_items\n",
    "\n",
    "print(first)\n",
    "print(rest)"
   ]
  },
  {
   "cell_type": "markdown",
   "metadata": {},
   "source": [
    "8. Can you add or remove elements from a tuple in Python? If not, why?\n"
   ]
  },
  {
   "cell_type": "markdown",
   "metadata": {},
   "source": [
    "No, you cannot add or remove elements from a tuple in Python because tuples are **immutable**. Once created, their content and size cannot be changed.\n"
   ]
  },
  {
   "cell_type": "code",
   "execution_count": null,
   "metadata": {},
   "outputs": [],
   "source": [
    "# we can change tuple into the list to add and remove\n",
    "\n",
    "tuple_items = (2, 4, 6, 7, 8, 9, 0)\n",
    "\n",
    "list1 = list(tuple_items)\n",
    "\n",
    "list1.append(20)\n",
    "\n",
    "list1.remove(9)\n",
    "\n",
    "tuple_items = tuple(list1)\n",
    "\n",
    "print(tuple_items)"
   ]
  },
  {
   "cell_type": "markdown",
   "metadata": {},
   "source": [
    "9. How do you concatenate or combine two tuples in Python?\n"
   ]
  },
  {
   "cell_type": "code",
   "execution_count": 1,
   "metadata": {},
   "outputs": [
    {
     "name": "stdout",
     "output_type": "stream",
     "text": [
      "(4, 5, 6, 7, 8, 9, 0, 3)\n"
     ]
    }
   ],
   "source": [
    "tuple_items1 = (4, 5, 6, 7, 8)\n",
    "tuple_items2 = (9, 0, 3)\n",
    "\n",
    "add = tuple_items1 + tuple_items2\n",
    "\n",
    "print(add)\n"
   ]
  },
  {
   "cell_type": "markdown",
   "metadata": {},
   "source": [
    "10. How can you find the length of a tuple in Python?\n"
   ]
  },
  {
   "cell_type": "code",
   "execution_count": null,
   "metadata": {},
   "outputs": [],
   "source": [
    "tuple_items = (\"apple\", \"banana\", \"ginger\", \"beet\")\n",
    "\n",
    "lenght = len(tuple_items) # whole items\n",
    "\n",
    "lenght1 = len(tuple_items[0]) # index accessing \n",
    "\n",
    "print(lenght)\n",
    "print(lenght1)"
   ]
  },
  {
   "cell_type": "markdown",
   "metadata": {},
   "source": [
    "11. Can you sort a tuple in Python? If yes, how can you accomplish it?\n"
   ]
  },
  {
   "cell_type": "code",
   "execution_count": null,
   "metadata": {},
   "outputs": [],
   "source": [
    "tuple_items = (\"banana\", \"tomato\", \"chilli\", \"peach\", \"apple\")\n",
    "\n",
    "list1 = list(tuple_items)\n",
    "\n",
    "list1.sort()\n",
    "\n",
    "tuple_items = tuple(list1)\n",
    "\n",
    "print(tuple_items)"
   ]
  },
  {
   "cell_type": "code",
   "execution_count": null,
   "metadata": {},
   "outputs": [],
   "source": [
    "sort_tuple_items = sorted(tuple_items)\n",
    "\n",
    "print(sort_tuple_items)"
   ]
  },
  {
   "cell_type": "code",
   "execution_count": null,
   "metadata": {},
   "outputs": [],
   "source": [
    "# we can use the directly SORTED\n",
    "\n",
    "tuple_items = tuple(sorted(tuple_items))\n",
    "\n",
    "print(tuple_items)"
   ]
  },
  {
   "cell_type": "markdown",
   "metadata": {},
   "source": [
    "12. How do you convert a tuple into a list in Python?\n"
   ]
  },
  {
   "cell_type": "code",
   "execution_count": null,
   "metadata": {},
   "outputs": [],
   "source": [
    "tuple_items = (4, 5, 6, 7, 9)\n",
    "\n",
    "print(f\"Tuple items : {type(tuple_items)} : {tuple_items}\")\n",
    "\n",
    "list1 = list(tuple_items)\n",
    "\n",
    "print(f\"After the tuple to list: {type(list1)} : {list1}\")\n"
   ]
  },
  {
   "cell_type": "markdown",
   "metadata": {},
   "source": [
    "13. How do you convert a list into a tuple in Python?\n"
   ]
  },
  {
   "cell_type": "code",
   "execution_count": null,
   "metadata": {},
   "outputs": [],
   "source": [
    "tuple_items = (\"apple\", \"orange\")\n",
    "\n",
    "list1 = list(tuple_items)\n",
    "list1.append(\"ginger\")\n",
    "\n",
    "print(type(list1), list1)\n",
    "\n",
    "tuple_items = tuple(tuple_items)\n",
    "print(type(tuple_items), tuple_items)"
   ]
  },
  {
   "cell_type": "markdown",
   "metadata": {},
   "source": [
    "14. Can you create a tuple of tuples in Python? If yes, how can you access elements from nested tuples within the main tuple?\n"
   ]
  },
  {
   "cell_type": "code",
   "execution_count": 10,
   "metadata": {},
   "outputs": [
    {
     "name": "stdout",
     "output_type": "stream",
     "text": [
      "6\n",
      "9\n",
      "2\n",
      "9\n"
     ]
    }
   ],
   "source": [
    "nested_tuple_items = (\n",
    "    (3, 4, 5, 6),\n",
    "    (2, 4, (5, 6), 9),\n",
    "    (5, 6, 7, (9, 0))\n",
    ")\n",
    "\n",
    "print(nested_tuple_items[1][2][1])\n",
    "print(nested_tuple_items[1][3])\n",
    "print(nested_tuple_items[1][0])\n",
    "print(nested_tuple_items[2][3][0])\n"
   ]
  },
  {
   "cell_type": "markdown",
   "metadata": {},
   "source": [
    "15. How do you iterate over elements in a tuple using a for loop in Python?\n"
   ]
  },
  {
   "cell_type": "code",
   "execution_count": null,
   "metadata": {},
   "outputs": [],
   "source": [
    "tuple_items = (4, 5, 7, 8)\n",
    "\n",
    "for i in tuple_items:\n",
    "    print(i, end=\" \")\n",
    "    print(i * 2)"
   ]
  },
  {
   "cell_type": "code",
   "execution_count": null,
   "metadata": {},
   "outputs": [],
   "source": [
    "tuple_items = (\"anger\", \"smile\", \"cry\", \"extreme\")\n",
    "for items in tuple_items:\n",
    "    print(items)"
   ]
  },
  {
   "cell_type": "code",
   "execution_count": null,
   "metadata": {},
   "outputs": [],
   "source": [
    "tuple_items = (\"hello\", 4, 5.5, True, [8, 9, 0], (0, 8, 9), {\"key\":\"value\"})\n",
    "\n",
    "for items in tuple_items:\n",
    "    print(f\"{(type(items))} :  {items}\")"
   ]
  },
  {
   "cell_type": "code",
   "execution_count": null,
   "metadata": {},
   "outputs": [],
   "source": [
    "tuple1 = (\"apple\", \"avacado\", \"givi\", \"mandu\")\n",
    "for index, value in enumerate(tuple1):\n",
    "    print(f\"{index} : {value}\")"
   ]
  },
  {
   "cell_type": "markdown",
   "metadata": {},
   "source": [
    "16. Can a tuple be used as a key in a dictionary in Python? If yes, why?\n",
    "\n",
    "- **Tuples** are **immutable** and **hashable**, so they can be used as dictionary keys.\n",
    "- **Lists** (or any mutable object) cannot be used as dictionary keys because they are not hashable.\n",
    "\n"
   ]
  },
  {
   "cell_type": "code",
   "execution_count": null,
   "metadata": {},
   "outputs": [],
   "source": [
    "my_dict = {(\"apple\", \"banana\") : \"fruits\", (1, 2) : \"number\", (4.5, 6.7) : \"float\"}\n",
    "\n",
    "print(my_dict[((\"apple\", \"banana\"))])\n",
    "\n",
    "print(my_dict[(1, 2)])\n",
    "\n",
    "print(my_dict[(4.5, 6.7)])"
   ]
  },
  {
   "cell_type": "markdown",
   "metadata": {},
   "source": [
    "17. How do you check if a specific element exists in a tuple in Python?\n"
   ]
  },
  {
   "cell_type": "code",
   "execution_count": null,
   "metadata": {},
   "outputs": [],
   "source": [
    "existing_element = (3, 4, 5, 6, 7)\n",
    "\n",
    "for i in existing_element:\n",
    "    if i == 7:\n",
    "         print(f\"{i} present in the tuple : {existing_element}\")"
   ]
  },
  {
   "cell_type": "code",
   "execution_count": null,
   "metadata": {},
   "outputs": [],
   "source": [
    "if 7 in existing_element:\n",
    "        print(f\"7 present in the tuple : {existing_element}\")\n"
   ]
  },
  {
   "cell_type": "code",
   "execution_count": null,
   "metadata": {},
   "outputs": [],
   "source": [
    "if existing_element.index(6):\n",
    "    print(f\"6 present in the tuple : {existing_element}\")\n",
    "\n",
    "else:\n",
    "    print(\"not present\")"
   ]
  },
  {
   "cell_type": "markdown",
   "metadata": {},
   "source": [
    "18. What is the difference between a tuple and a named tuple in Python?\n",
    "\n",
    "| **Feature**         | **Tuple**                                   | **Named Tuple**                                      |\n",
    "|---------------------|---------------------------------------------|------------------------------------------------------|\n",
    "| **Access**          | By index: `tuple[0]`                        | By name: `namedtuple.name`                           |\n",
    "| **Syntax**          | `person = (\"John\", 25, \"Engineer\")`         | `Person = namedtuple(\"Person\", [\"name\", \"age\", \"occupation\"])` <br> `person = Person(\"John\", 25, \"Engineer\")` |\n",
    "| **Readability**     | Less readable                               | More readable due to named fields                    |\n",
    "| **Use Case**        | For simple collections                     | When you need named fields for clarity               |\n",
    "\n"
   ]
  },
  {
   "cell_type": "code",
   "execution_count": null,
   "metadata": {},
   "outputs": [],
   "source": [
    "#TUPLE \n",
    "\n",
    "person = (\"Jenni\", 27, \"CEO\")\n",
    "print(person[0])"
   ]
  },
  {
   "cell_type": "code",
   "execution_count": null,
   "metadata": {},
   "outputs": [],
   "source": [
    "# NAME TUPLE\n",
    "\n",
    "from collections import namedtuple\n",
    "\n",
    "Person = namedtuple(\"Person\", [\"name\", \"age\", \"job\"])\n",
    "\n",
    "person = Person(\"Jenni\", 27, \"CEO\")\n",
    "\n",
    "print(person)\n",
    "\n",
    "print(person.name)\n",
    "print(person.age)\n",
    "print(person.job)\n",
    "\n"
   ]
  },
  {
   "cell_type": "code",
   "execution_count": null,
   "metadata": {},
   "outputs": [],
   "source": [
    "from collections import namedtuple\n",
    "\n",
    "Fruits = namedtuple(\"Fruits\", [\"name\", \"color\", \"taste\"])\n",
    "\n",
    "fruits = Fruits(\"apple\", \"red\", \"sweet\")\n",
    "\n",
    "print(fruits)\n",
    "print(fruits.name)\n",
    "print(fruits.color)\n",
    "print(fruits.taste)"
   ]
  },
  {
   "cell_type": "markdown",
   "metadata": {},
   "source": [
    "19.  How do you count the occurrences of a specific element in a tuple?\n",
    "\n",
    "    The count() method checks how many times \"fan\" appears in the tuple tuple_items.\n",
    "\n"
   ]
  },
  {
   "cell_type": "code",
   "execution_count": null,
   "metadata": {},
   "outputs": [],
   "source": [
    "tuple_items = (\"telephone\", \"ionbox\", \"plate\", \"fan\", \"fan\", \"fan\")\n",
    "\n",
    "count1 = tuple_items.count(\"fan\")\n",
    "print(count1)"
   ]
  },
  {
   "cell_type": "markdown",
   "metadata": {},
   "source": [
    "20.  What are some use cases or advantages of using tuples in Python over other data structures?\n"
   ]
  },
  {
   "cell_type": "markdown",
   "metadata": {},
   "source": [
    "### Advantages of Tuples with Examples\n",
    "\n",
    "| **Advantage**         | **Explanation**                                   | **Example**                                   |\n",
    "|-----------------------|--------------------------------------------------|---------------------------------------------|\n",
    "| **Immutable**         | Data cannot be changed after creation.           | `coordinates = (10, 20)`                    |\n",
    "| **Faster**            | Faster than lists for fixed-size data.           | Processing `(1, 2, 3)` is quicker than `[1, 2, 3]`. |\n",
    "| **Memory Efficient**  | Uses less memory compared to lists.              | Useful for large datasets with fixed data.  |\n",
    "| **Hashable**          | Can be used as dictionary keys or in sets.       | `data = {(\"Alice\", 25): \"Engineer\"}`        |\n",
    "| **Multi-return Values**| Functions can return multiple values in one step.| `def get_info(): return (\"John\", 30)`       |\n",
    "\n",
    "### Examples:\n",
    "1. **Immutable**:\n",
    "   ```python\n",
    "   coordinates = (10, 20)\n",
    "   # coordinates[0] = 15  # This will cause an error because tuples are immutable.\n"
   ]
  },
  {
   "cell_type": "code",
   "execution_count": null,
   "metadata": {},
   "outputs": [],
   "source": [
    "# <!-- Immutable Data -->\n",
    "\n",
    "coordinates = (10, 15)\n",
    "\n",
    "coordinates[0] = 20 # ERROR\n",
    "\n",
    "print(coordinates)\n"
   ]
  },
  {
   "cell_type": "code",
   "execution_count": null,
   "metadata": {},
   "outputs": [],
   "source": [
    "#  TUPLE ARE FASTER THAN LIST \n",
    "\n",
    "faster_tuples = (4, 5, 6, 7)\n",
    "print(type(faster_tuples))"
   ]
  },
  {
   "cell_type": "code",
   "execution_count": null,
   "metadata": {},
   "outputs": [],
   "source": [
    "# DICTIONARY KEYS\n",
    "\n",
    "tuple_dict = {(\"alice\", \"harry\") : \"names\" , (\"float\", \"integer\") : \"datatypes\"}\n",
    "\n",
    "print(tuple_dict[(\"alice\", \"harry\")]) # keys output values"
   ]
  },
  {
   "cell_type": "code",
   "execution_count": null,
   "metadata": {},
   "outputs": [],
   "source": [
    "# Return Multiple Values from Functions: \n",
    "\n",
    "def get_user():\n",
    "    return \"john\", 20, \"student\"\n",
    "\n",
    "user = get_user()\n",
    "print(user)\n",
    "\n",
    "# Unpacking the tuple\n",
    "name , age, profession = get_user()\n",
    "print(name, age, profession)\n"
   ]
  },
  {
   "cell_type": "code",
   "execution_count": null,
   "metadata": {},
   "outputs": [],
   "source": [
    "# Read-Only Collections:\n",
    "\n",
    "days_week = (\"monday\", \"tuesday\", \"wednesday\", \"friday\", \"saturday\", \"sunday\")\n",
    "\n",
    "print(days_week[5])"
   ]
  }
 ],
 "metadata": {
  "kernelspec": {
   "display_name": "Python 3",
   "language": "python",
   "name": "python3"
  },
  "language_info": {
   "codemirror_mode": {
    "name": "ipython",
    "version": 3
   },
   "file_extension": ".py",
   "mimetype": "text/x-python",
   "name": "python",
   "nbconvert_exporter": "python",
   "pygments_lexer": "ipython3",
   "version": "3.11.8"
  }
 },
 "nbformat": 4,
 "nbformat_minor": 2
}
