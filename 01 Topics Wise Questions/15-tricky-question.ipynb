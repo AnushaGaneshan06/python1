{
 "cells": [
  {
   "cell_type": "markdown",
   "metadata": {},
   "source": [
    "01. Write a Python program to swap the values of two variables without using arithmetic or assignment operators.\n"
   ]
  },
  {
   "cell_type": "code",
   "execution_count": 1,
   "metadata": {},
   "outputs": [
    {
     "name": "stdout",
     "output_type": "stream",
     "text": [
      "before swapping  3 5\n",
      "after swapping thr variable :  5 3\n"
     ]
    }
   ],
   "source": [
    "def variable_swapping(a, b):\n",
    "\n",
    "    print(\"before swapping \", a , b)\n",
    "\n",
    "    a , b = b , a\n",
    "    print(\"after swapping thr variable : \", a, b)\n",
    "\n",
    "\n",
    "\n",
    "variable_swapping(3, 5)"
   ]
  },
  {
   "cell_type": "code",
   "execution_count": null,
   "metadata": {},
   "outputs": [
    {
     "name": "stdout",
     "output_type": "stream",
     "text": [
      "before swapping : a 1, b = 2\n",
      "a 2 b 1\n"
     ]
    }
   ],
   "source": [
    "def variable_swapping(a, b):\n",
    "    print(f\"before swapping : a {a}, b = {b}\")\n",
    "\n",
    "    a = a + b\n",
    "    b = a - b\n",
    "    a = a - b\n",
    "    \n",
    "    print(\"after swapping : \")\n",
    "    print(\"a\", a,\"b\", b)\n",
    "    \n",
    "variable_swapping(1, 2)"
   ]
  },
  {
   "cell_type": "markdown",
   "metadata": {},
   "source": [
    "02.  Write a program to check if a string is a valid email address according to a specific format.\n"
   ]
  },
  {
   "cell_type": "code",
   "execution_count": null,
   "metadata": {},
   "outputs": [],
   "source": [
    "def is_valid_email(email):\n",
    "\n",
    "\n",
    "\n",
    "\n",
    "\n",
    "    "
   ]
  }
 ],
 "metadata": {
  "kernelspec": {
   "display_name": "Python 3",
   "language": "python",
   "name": "python3"
  },
  "language_info": {
   "codemirror_mode": {
    "name": "ipython",
    "version": 3
   },
   "file_extension": ".py",
   "mimetype": "text/x-python",
   "name": "python",
   "nbconvert_exporter": "python",
   "pygments_lexer": "ipython3",
   "version": "3.11.8"
  }
 },
 "nbformat": 4,
 "nbformat_minor": 2
}
