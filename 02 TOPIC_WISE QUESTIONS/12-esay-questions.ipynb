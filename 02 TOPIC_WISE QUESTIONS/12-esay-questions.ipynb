{
 "cells": [
  {
   "cell_type": "markdown",
   "metadata": {},
   "source": [
    "# 12 EASY QUESTION IN PYTHON"
   ]
  },
  {
   "cell_type": "markdown",
   "metadata": {},
   "source": [
    "1. Write a Python program to swap two variables without using a temporary variable.\n"
   ]
  },
  {
   "cell_type": "code",
   "execution_count": null,
   "metadata": {},
   "outputs": [],
   "source": [
    "a = 10 \n",
    "b = 12\n",
    "print(f\"Before swapping :  {a}\")\n",
    "print(f\"Before swapping :  {b}\")\n",
    "# without using variable \n",
    "a = a + b\n",
    "print(a)\n",
    "\n",
    "b = a - b\n",
    "print(b)\n",
    "\n",
    "a = a - b\n",
    "print(a)\n",
    "\n",
    "print(f\"After swapping : {a}\")\n",
    "print(f\"After swapping : {b}\")\n",
    "\n"
   ]
  },
  {
   "cell_type": "markdown",
   "metadata": {},
   "source": [
    "2. Write a program to check if a given number is even or odd.\n"
   ]
  },
  {
   "cell_type": "code",
   "execution_count": null,
   "metadata": {},
   "outputs": [],
   "source": [
    "try:\n",
    "    number = int(input(\"Enter the number to check odd or even : \"))\n",
    "    if number <= 0:\n",
    "            print(\"Negative value  and zero is not valid \")\n",
    "    elif number % 2 == 0:\n",
    "            print(f\"The number is even number : {number}\")\n",
    "    else:\n",
    "            print(f\"The numebr is odd number: {number}\" )\n",
    "\n",
    "\n",
    "except ValueError:\n",
    "    print(\"Strings values are not allowed\")"
   ]
  },
  {
   "cell_type": "markdown",
   "metadata": {},
   "source": [
    "3. Write a Python program to find the maximum of three numbers.\n"
   ]
  },
  {
   "cell_type": "code",
   "execution_count": null,
   "metadata": {},
   "outputs": [],
   "source": [
    "list1 = [3, 4, 6]\n",
    "max_number = max(list1)\n",
    "print(max_number)"
   ]
  },
  {
   "cell_type": "code",
   "execution_count": null,
   "metadata": {},
   "outputs": [],
   "source": [
    "try:\n",
    "    num1 = int( input(\"enter the number 1 : \") )\n",
    "    num2 = int(input(\"enter the number 2 : \")) \n",
    "    num3 = int(input(\"enter the number 2 : \")) \n",
    "\n",
    "    if num1 >= num2 and num1 >= num3:\n",
    "        print(f\"Number 1 : {num1} is the greater\")\n",
    "\n",
    "    elif num2 >= num1 and num2 >= num3:\n",
    "        print(f\"Number 2 : {num2} is the greater\")\n",
    "\n",
    "    else:\n",
    "        print(f\"Number 3 : {num3} is the greater\")\n",
    "\n",
    "except ValueError:\n",
    "    print(\"Strings are not allowed\")\n"
   ]
  },
  {
   "cell_type": "markdown",
   "metadata": {},
   "source": [
    "4. Write a program to calculate the factorial of a number using a loop.\n"
   ]
  },
  {
   "cell_type": "code",
   "execution_count": null,
   "metadata": {},
   "outputs": [],
   "source": [
    "number = int(input(\"Enter the number to find factorial : \"))\n",
    "\n",
    "if number <= 0:\n",
    "    print(\"No negative value\")\n",
    "\n",
    "else:\n",
    "    factorial = 1\n",
    "    for i in range(1, number+1):\n",
    "        factorial *= i\n",
    "    print(factorial)"
   ]
  },
  {
   "cell_type": "code",
   "execution_count": null,
   "metadata": {},
   "outputs": [],
   "source": [
    "number = int(input(\"Enter the number to find factorial : \"))\n",
    "if number < 0:\n",
    "    print(\"no zero\")\n",
    "else:\n",
    "    factorial = 1\n",
    "    i = 1\n",
    "    while i <= number:\n",
    "        factorial *= i \n",
    "        i += 1\n",
    "    print(factorial)"
   ]
  },
  {
   "cell_type": "markdown",
   "metadata": {},
   "source": [
    "5. Write a Python program to check if a given year is a leap year.\n"
   ]
  },
  {
   "cell_type": "code",
   "execution_count": 1,
   "metadata": {},
   "outputs": [
    {
     "name": "stdout",
     "output_type": "stream",
     "text": [
      "no strings allows\n"
     ]
    }
   ],
   "source": [
    "try:\n",
    "    year = int(input(\"Enter the year to check it is leap year or not : \"))\n",
    "\n",
    "    if (year % 4 == 0 and year % 100 != 0) or year % 400 == 0:\n",
    "        print(f\"{year} is the leap year.\")\n",
    "    else:\n",
    "        print(f\"{year} is the not the leap year.\")\n",
    "\n",
    "except ValueError:\n",
    "    print(\"no strings allows\")"
   ]
  },
  {
   "cell_type": "markdown",
   "metadata": {},
   "source": [
    "6. Write a program to calculate the sum of all even numbers between 1 and 100.\n"
   ]
  },
  {
   "cell_type": "code",
   "execution_count": 4,
   "metadata": {},
   "outputs": [
    {
     "name": "stdout",
     "output_type": "stream",
     "text": [
      "The sum of even number 1 to 100 : 2550\n"
     ]
    }
   ],
   "source": [
    "sum = 0\n",
    "for i in range(1, 101):\n",
    "    if i % 2 == 0:\n",
    "        sum += i\n",
    "print(f\"The sum of even number 1 to 100 : {sum}\")\n"
   ]
  },
  {
   "cell_type": "code",
   "execution_count": 7,
   "metadata": {},
   "outputs": [
    {
     "name": "stdout",
     "output_type": "stream",
     "text": [
      "2550\n"
     ]
    }
   ],
   "source": [
    "sum = 0\n",
    "for i in range(2, 101, 2):\n",
    "    sum += i\n",
    "print(sum)\n"
   ]
  },
  {
   "cell_type": "markdown",
   "metadata": {},
   "source": [
    "7. Write a Python program to convert a temperature in Celsius to Fahrenheit.\n",
    "\n",
    "\n"
   ]
  },
  {
   "cell_type": "code",
   "execution_count": 9,
   "metadata": {},
   "outputs": [
    {
     "name": "stdout",
     "output_type": "stream",
     "text": [
      "The celcius : 45.0 C° is converetd to fahrenheit : 113.0 F°\n"
     ]
    }
   ],
   "source": [
    "celsius = float(input(\"Enter the celcius : \"))\n",
    "\n",
    "fahrenheit = (celsius * 9 / 5) + 32\n",
    "\n",
    "print(f\"The celcius : {celsius} C° is converetd to fahrenheit : {fahrenheit} F°\")"
   ]
  },
  {
   "cell_type": "code",
   "execution_count": 11,
   "metadata": {},
   "outputs": [
    {
     "name": "stdout",
     "output_type": "stream",
     "text": [
      "The fahrenheit : 777.0 F° is converetd to Celcius : 1341.0 C°\n"
     ]
    }
   ],
   "source": [
    "fahrenheit = float(input(\"Enter the fahrenheit to celcius: \"))\n",
    "\n",
    "celsius = round(9 / 5  * (fahrenheit - 32), 2)\n",
    "\n",
    "print(f\"The fahrenheit : {fahrenheit} F° is converetd to Celcius : {celsius} C°\")"
   ]
  },
  {
   "cell_type": "markdown",
   "metadata": {},
   "source": [
    "8. Write a program to print the multiplication table of a given number.\n"
   ]
  },
  {
   "cell_type": "code",
   "execution_count": 17,
   "metadata": {},
   "outputs": [
    {
     "name": "stdout",
     "output_type": "stream",
     "text": [
      "no zero or less than values\n"
     ]
    }
   ],
   "source": [
    "num = int(input(\"Enter the table number : \"))\n",
    "if num < 0:\n",
    "    print(\"no zero or less than values\")\n",
    "else:\n",
    "    print(f\"{num} Table :\")\n",
    "    for i in range(1, 11):\n",
    "        mul = i * num\n",
    "        print(f\" {i} x {num} = {mul}\")\n"
   ]
  },
  {
   "cell_type": "markdown",
   "metadata": {},
   "source": [
    "9. Write a Python program to find the length of a string without using the len() function.\n"
   ]
  },
  {
   "cell_type": "code",
   "execution_count": 21,
   "metadata": {},
   "outputs": [
    {
     "name": "stdout",
     "output_type": "stream",
     "text": [
      "3\n"
     ]
    }
   ],
   "source": [
    "word = input(\"Enter the word : \")\n",
    "count = 0\n",
    "for i in word:\n",
    "    count += 1\n",
    "print(count)\n"
   ]
  },
  {
   "cell_type": "markdown",
   "metadata": {},
   "source": [
    "10. Write a program to check if a given string is a palindrome.\n"
   ]
  },
  {
   "cell_type": "code",
   "execution_count": 32,
   "metadata": {},
   "outputs": [
    {
     "name": "stdout",
     "output_type": "stream",
     "text": [
      "madam : String is palindrome \n"
     ]
    }
   ],
   "source": [
    "string = input(\"Enter the string : \").lower()\n",
    "reverse_string = \"\"\n",
    "for i in string:\n",
    "    reverse_string = i + reverse_string\n",
    "\n",
    "if string == reverse_string:\n",
    "    print(f\"{string} : String is palindrome \")\n",
    "else:\n",
    "    print(f\"{reverse_string} : is the string is not the palindrome\") "
   ]
  }
 ],
 "metadata": {
  "kernelspec": {
   "display_name": "Python 3",
   "language": "python",
   "name": "python3"
  },
  "language_info": {
   "codemirror_mode": {
    "name": "ipython",
    "version": 3
   },
   "file_extension": ".py",
   "mimetype": "text/x-python",
   "name": "python",
   "nbconvert_exporter": "python",
   "pygments_lexer": "ipython3",
   "version": "3.11.8"
  }
 },
 "nbformat": 4,
 "nbformat_minor": 2
}
