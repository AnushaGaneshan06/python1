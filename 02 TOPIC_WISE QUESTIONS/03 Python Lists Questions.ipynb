{
 "cells": [
  {
   "cell_type": "markdown",
   "metadata": {},
   "source": [
    "# 03 Python Lists Questions:\n"
   ]
  },
  {
   "cell_type": "markdown",
   "metadata": {},
   "source": [
    "1. What is a list in Python and how is it different from other data structures?\n"
   ]
  },
  {
   "cell_type": "markdown",
   "metadata": {},
   "source": [
    "# Python Data Structures: Feature Comparison\n",
    "\n",
    "| **Feature**       | **List**                                   | **Tuple**                             | **Set**                              | **Dictionary**                       |\n",
    "|--------------------|--------------------------------------------|---------------------------------------|--------------------------------------|--------------------------------------|\n",
    "| **Ordered**       | Yes                                        | Yes                                   | No                                   | Yes (since Python 3.7)               |\n",
    "| **Mutable**       | Yes                                        | No                                    | Yes                                  | Yes                                  |\n",
    "| **Duplicates**    | Allowed                                    | Allowed                               | Not allowed                          | Keys: Not allowed, Values: Allowed   |\n",
    "| **Indexed Access**| Yes                                        | Yes                                   | No                                   | By key                               |\n",
    "| **Heterogeneous** | Yes                                        | Yes                                   | Yes                                  | Yes                                  |\n",
    "| **Syntax**        | `[1, 2, 3]`                                | `(1, 2, 3)`                           | `{1, 2, 3}`                          | `{'key': 'value'}`                   |\n",
    "| **Use Case**      | Dynamic collections of data with frequent changes, such as task lists or inventories. | Fixed collections of data that shouldn’t change, like coordinates or settings. | Managing unique items, such as removing duplicates or performing membership tests. | Mapping relationships between keys and values, such as databases, configurations, or lookups. |\n",
    "         |\n"
   ]
  },
  {
   "cell_type": "markdown",
   "metadata": {},
   "source": [
    "# Python List Methods with Examples\n",
    "\n",
    "| **Method**            | **Description**                                                                 | **Example**                                                | **Output**                   |\n",
    "|-----------------------|---------------------------------------------------------------------------------|------------------------------------------------------------|------------------------------|\n",
    "| `append(item)`        | Adds a single item to the end of the list.                                        | `my_list = [1, 2, 3]; my_list.append(4)`                   | `[1, 2, 3, 4]`               |\n",
    "| `extend(iterable)`    | Adds all elements of an iterable (list, tuple, etc.) to the end of the list.      | `my_list = [1, 2]; my_list.extend([3, 4])`                 | `[1, 2, 3, 4]`               |\n",
    "| `insert(index, item)` | Inserts an item at a specified index.                                            | `my_list = [1, 2, 3]; my_list.insert(1, 1.5)`              | `[1, 1.5, 2, 3]`             |\n",
    "| `remove(item)`        | Removes the first occurrence of a specified item from the list.                  | `my_list = [1, 2, 3, 4]; my_list.remove(2)`                | `[1, 3, 4]`                  |\n",
    "| `pop([index])`        | Removes and returns the item at the specified index (default is the last item). | `my_list = [1, 2, 3]; popped_item = my_list.pop(1)`         | `[1, 3]`, `popped_item = 2`  |\n",
    "| `index(item)`         | Returns the index of the first occurrence of the item.                           | `my_list = [1, 2, 3]; my_list.index(3)`                    | `2`                          |\n",
    "| `count(item)`         | Returns the number of times an item appears in the list.                         | `my_list = [1, 2, 2, 3]; my_list.count(2)`                 | `2`                          |\n",
    "| `sort()`              | Sorts the list in ascending order (in place).                                    | `my_list = [3, 1, 2]; my_list.sort()`                      | `[1, 2, 3]`                  |\n",
    "| `reverse()`           | Reverses the elements of the list in place.                                      | `my_list = [1, 2, 3]; my_list.reverse()`                   | `[3, 2, 1]`                  |\n",
    "| `copy()`              | Returns a shallow copy of the list.                                              | `my_list = [1, 2, 3]; new_list = my_list.copy()`            | `new_list = [1, 2, 3]`       |\n",
    "| `clear()`             | Removes all items from the list.                                                 | `my_list = [1, 2, 3]; my_list.clear()`                     | `my_list = []`               |\n",
    "\n"
   ]
  },
  {
   "cell_type": "markdown",
   "metadata": {},
   "source": [
    "2. How do you create an empty list in Python?\n"
   ]
  },
  {
   "cell_type": "code",
   "execution_count": null,
   "metadata": {},
   "outputs": [],
   "source": [
    "# METHOD 1\n",
    "# ------------------\n",
    "empty_list = []\n",
    "print(empty_list)\n",
    "\n",
    "# USING CONSTRUCTOR\n",
    "# ------------------\n",
    "empty_list = list()\n",
    "print(empty_list)"
   ]
  },
  {
   "cell_type": "markdown",
   "metadata": {},
   "source": [
    "3. How do you add elements to a list in Python?\n"
   ]
  },
  {
   "cell_type": "code",
   "execution_count": null,
   "metadata": {},
   "outputs": [],
   "source": [
    "# 5 WAYS TO ADD THE LIST \n",
    "# =======================\n",
    "\n",
    "# 1 WAY => APPEND() firts line\n",
    "# --------------------\n",
    "print(\"APPEND()\")\n",
    "mylist = [4, 6, 7, 9]\n",
    "mylist.append(4)\n",
    "print(mylist ,\"\\n\")\n",
    "\n",
    "\n",
    "# 2 ND WAY => INSERT()  based on the index value\n",
    "# ------------------\n",
    "print(\"INSERT()\")\n",
    "mylist = [5, 7, 8]\n",
    "mylist.insert(1, 3)\n",
    "print(mylist ,\"\\n\")\n",
    "\n",
    "\n",
    "# 3RD WAY => EXTEND() adds multiple elements\n",
    "# --------------------\n",
    "print(\"EXTEND()\")\n",
    "mylist.extend([6, 7, 9])\n",
    "print(mylist ,\"\\n\")\n",
    "\n",
    "\n",
    "# 4 TH WAY => OPERATOR + CONCATENATION\n",
    "# --------------------\n",
    "print(\"OPERATOR()\")\n",
    "mylist = mylist + [4, 6]\n",
    "print(mylist ,\"\\n\")\n",
    "\n",
    "\n",
    "# 5 TH WAY => MULTIPLYING A LIST\n",
    "# ---------------------\n",
    "print(\"MULTIPLE LIST()\")\n",
    "mylist = [6, 7]\n",
    "mylist = mylist * 2\n",
    "print(mylist)"
   ]
  },
  {
   "cell_type": "markdown",
   "metadata": {},
   "source": [
    "4. Can a list contain elements of different data types in Python?\n",
    "\n",
    "* Python lists are heterogeneous, meaning you can store a mix of data types, such as integers, strings, floats, booleans, other lists, or even complex objects, all within the same list.\n"
   ]
  },
  {
   "cell_type": "code",
   "execution_count": null,
   "metadata": {},
   "outputs": [],
   "source": [
    "my_list = [1, 4.5, \"Hello\", True, [2, 3], {\"key\": \"value\"}]\n",
    "print(type(my_list), my_list)\n",
    "\n",
    "print(type(my_list[0]), my_list[0])\n",
    "print(type(my_list[1]), my_list[1])\n",
    "print(type(my_list[2]), my_list[2])\n",
    "print(type(my_list[3]), my_list[3])\n",
    "print(type(my_list[4]), my_list[4])\n",
    "print(type(my_list[5]), my_list[5])"
   ]
  },
  {
   "cell_type": "markdown",
   "metadata": {},
   "source": [
    "5. How do you access elements from a list in Python using indexing?\n"
   ]
  },
  {
   "cell_type": "code",
   "execution_count": null,
   "metadata": {},
   "outputs": [],
   "source": [
    "# METHOD 1\n",
    "my_list = [3, 5, 60, 70, 10]\n",
    "print(my_list[0])\n",
    "print(my_list[1])\n",
    "print(my_list[-1])\n",
    "print(my_list[-2])"
   ]
  },
  {
   "cell_type": "code",
   "execution_count": null,
   "metadata": {},
   "outputs": [],
   "source": [
    "# METHOD 2 ---SLICING--------\n",
    "\n",
    "my_list = [\"apple\", \"orange\", \"lemon\", \"ginger\"]\n",
    "\n",
    "print(my_list[ 1 : 2])\n",
    "print(my_list[ : 2])\n",
    "print(my_list[0 : ])\n",
    "print(my_list[0 : : 2 ]) # START END STEP"
   ]
  },
  {
   "cell_type": "markdown",
   "metadata": {},
   "source": [
    "6. What is the difference between positive and negative indexing in Python lists?\n"
   ]
  },
  {
   "cell_type": "code",
   "execution_count": null,
   "metadata": {},
   "outputs": [],
   "source": [
    "my_list = [2, 5, 7, 8, 9, 10]\n",
    "print(\"POSITIVE INDEX : \",my_list[1]) # positive starts with 0\n",
    "print(\"NEGATIVE INDEX : \", my_list[-5]) # neagtive starts wuth 1"
   ]
  },
  {
   "cell_type": "markdown",
   "metadata": {},
   "source": [
    "7. How do you update or modify an element in a list in Python?\n"
   ]
  },
  {
   "cell_type": "code",
   "execution_count": null,
   "metadata": {},
   "outputs": [],
   "source": [
    "# INDEX VALUE(UPDATION)\n",
    "\n",
    "my_list = [34, 67, 11, 12, 13]\n",
    "my_list[0] = 12\n",
    "my_list[-1] = 123\n",
    "print(my_list)"
   ]
  },
  {
   "cell_type": "code",
   "execution_count": null,
   "metadata": {},
   "outputs": [],
   "source": [
    "# MODIFYING\n",
    "\n",
    "my_list = [2, 4, 6]\n",
    "my_list[2] = int(my_list[2] + 10)\n",
    "my_list[0] += my_list[2] + 10\n",
    "print(my_list)"
   ]
  },
  {
   "cell_type": "markdown",
   "metadata": {},
   "source": [
    "8. How do you remove elements from a list in Python?\n"
   ]
  },
  {
   "cell_type": "code",
   "execution_count": null,
   "metadata": {},
   "outputs": [],
   "source": [
    "my_list = [7, 8, 9, 5, 9, 1, 2, 4]\n",
    "my_list.pop() # last element\n",
    "my_list.remove(8)\n",
    "print(my_list)"
   ]
  },
  {
   "cell_type": "code",
   "execution_count": null,
   "metadata": {},
   "outputs": [],
   "source": [
    "my_list = [5, 6, 7]\n",
    "my_list.clear()\n",
    "print(my_list)"
   ]
  },
  {
   "cell_type": "code",
   "execution_count": null,
   "metadata": {},
   "outputs": [],
   "source": [
    "my_list = [8, 9, 0, 2, 1, 3]\n",
    "del my_list[4]\n",
    "del my_list[3 : 4] # 3 del only\n",
    "del my_list[: 4] # 0 to 3 del\n",
    "print(my_list)"
   ]
  },
  {
   "cell_type": "markdown",
   "metadata": {},
   "source": [
    "9. How can you check if a specific element exists in a list in Python?\n"
   ]
  },
  {
   "cell_type": "code",
   "execution_count": null,
   "metadata": {},
   "outputs": [],
   "source": [
    "list1 = [\"apple\", \"mango\", \"gova\", \"ginger\", \"brinjal\"]\n",
    "item = \"apple\"\n",
    "if item in list1:\n",
    "    print(f\"{item} is present in the list\")\n",
    "else:\n",
    "    print(f\"{item} is not in the list\")"
   ]
  },
  {
   "cell_type": "code",
   "execution_count": null,
   "metadata": {},
   "outputs": [],
   "source": [
    "number = [23, 34, 56, 67, 78, 89]\n",
    "\n",
    "print( 23 not in number)\n",
    "print( 40 not in number)"
   ]
  },
  {
   "cell_type": "markdown",
   "metadata": {},
   "source": [
    "10.  What is the difference between the append() and extend() methods in Python lists?\n"
   ]
  },
  {
   "cell_type": "code",
   "execution_count": null,
   "metadata": {},
   "outputs": [],
   "source": [
    "# APPEND () ADD THE ITEM TO THE LIST\n",
    "items = [\"silicon\", \"rubber\",\"lobster\", \"season\"]\n",
    "items.append(\"gipsum\")\n",
    "items.append([\"fixed\", \"paper\"]) # see the difference\n",
    "print(items)"
   ]
  },
  {
   "cell_type": "code",
   "execution_count": null,
   "metadata": {},
   "outputs": [],
   "source": [
    "# EXTEND() ADD THE WHOLE LIST  (iterable)\n",
    "items = [\"silicon\", \"rubber\",\"lobster\", \"season\"]\n",
    "items.extend([\"foster\", \"clone\"])\n",
    "print(items)"
   ]
  },
  {
   "cell_type": "markdown",
   "metadata": {},
   "source": [
    "11. How do you find the length of a list in Python?\n"
   ]
  },
  {
   "cell_type": "code",
   "execution_count": null,
   "metadata": {},
   "outputs": [],
   "source": [
    "my_list = [4, 5, 7, 8, 9]\n",
    "list1 = [\"date\", 18, 6.7]\n",
    "lenght = len(my_list)\n",
    "lenght1 = len(list1)\n",
    "print(lenght)\n",
    "print(lenght1)"
   ]
  },
  {
   "cell_type": "markdown",
   "metadata": {},
   "source": [
    "12. Can you have nested lists in Python? If yes, how do you access elements from nested lists?\n",
    "\n",
    "```python\n",
    "nested_list = [\n",
    "    [1, [10, 20], 3],           # Index 0\n",
    "    [4, 5, [30, 40]],           # Index 1\n",
    "    [7, [50, [60, 70]], 9]      # Index 2\n",
    "]                  ---> Index 1: 70\n"
   ]
  },
  {
   "cell_type": "code",
   "execution_count": null,
   "metadata": {},
   "outputs": [],
   "source": [
    "nested_list = [\n",
    "    [1, 2, 4, 6],\n",
    "    [1, [5, [7, 8], 3]],\n",
    "    [4, 5, [7, 8], 0]\n",
    "]\n",
    "print(\"steps by steps: \")\n",
    "print(nested_list[2])\n",
    "print(nested_list[2][2])\n",
    "print(nested_list[2][2][0])\n",
    "\n",
    "print(\"--------------------\")\n",
    "print(nested_list[1][1][1][1])"
   ]
  },
  {
   "cell_type": "markdown",
   "metadata": {},
   "source": [
    "13. How do you iterate over elements in a list using a for loop in Python?\n"
   ]
  },
  {
   "cell_type": "code",
   "execution_count": null,
   "metadata": {},
   "outputs": [],
   "source": [
    "list1 = [3, 4, 5, 6, 6, 7, 9]\n",
    "for i in list1:\n",
    "    print(i)"
   ]
  },
  {
   "cell_type": "code",
   "execution_count": null,
   "metadata": {},
   "outputs": [],
   "source": [
    "list1 = [\"apple\", \"banana\", \"ginger\"]\n",
    "\n",
    "for i in list1:\n",
    "    print(i)"
   ]
  },
  {
   "cell_type": "code",
   "execution_count": 99,
   "metadata": {},
   "outputs": [
    {
     "name": "stdout",
     "output_type": "stream",
     "text": [
      "0 : pineapple\n",
      "1 : aaple\n",
      "2 : banana\n"
     ]
    }
   ],
   "source": [
    "list1 = {\"aaple\", \"banana\", \"pineapple\"}\n",
    "\n",
    "for index , value in enumerate(list1):\n",
    "    print(f\"{index} : {value}\")"
   ]
  },
  {
   "cell_type": "code",
   "execution_count": 102,
   "metadata": {},
   "outputs": [
    {
     "name": "stdout",
     "output_type": "stream",
     "text": [
      "[11, 12, 14, 15, 16, 10]\n"
     ]
    }
   ],
   "source": [
    "list = [1, 2, 4, 5, 6,0]\n",
    "\n",
    "for i in range(len(list)):\n",
    "    list[i] += 10\n",
    "\n",
    "print(list)"
   ]
  },
  {
   "cell_type": "markdown",
   "metadata": {},
   "source": [
    "14. What is list slicing in Python? How does it work?\n",
    "\n",
    "    * start: The index where the slice starts (inclusive).\n",
    "    * end: The index where the slice ends (exclusive).\n",
    "    * step: The step size, i.e., how much to increment the index while slicing\n"
   ]
  },
  {
   "cell_type": "code",
   "execution_count": 107,
   "metadata": {},
   "outputs": [
    {
     "name": "stdout",
     "output_type": "stream",
     "text": [
      "[3, 7, 12]\n",
      "[3, 4, 6, 7, 9, 10]\n",
      "[4, 6, 7, 9, 10, 12]\n",
      "[3, 10]\n"
     ]
    }
   ],
   "source": [
    "list = [3, 4, 6, 7, 9, 10, 12]\n",
    "\n",
    "# print(list[1:3])\n",
    "print(list[0::3])\n",
    "print(list[:6])\n",
    "print(list[1:])\n",
    "print(list[0:6:5])"
   ]
  },
  {
   "cell_type": "markdown",
   "metadata": {},
   "source": [
    "15. Can you sort a list in Python? If yes, how can you accomplish it?\n"
   ]
  },
  {
   "cell_type": "code",
   "execution_count": 108,
   "metadata": {},
   "outputs": [
    {
     "name": "stdout",
     "output_type": "stream",
     "text": [
      "[1, 3, 4, 5, 6, 7, 8, 9]\n"
     ]
    }
   ],
   "source": [
    "sort_list = [5, 6, 7, 8, 9, 1, 3, 4]\n",
    "sort_list.sort()\n",
    "print(sort_list)"
   ]
  },
  {
   "cell_type": "code",
   "execution_count": 113,
   "metadata": {},
   "outputs": [
    {
     "name": "stdout",
     "output_type": "stream",
     "text": [
      "Descending order\n",
      "[9, 7, 6, 5, 4, 1, 0]\n"
     ]
    }
   ],
   "source": [
    "print(\"Descending order\")\n",
    "sort_list = [4, 5, 6, 7, 9, 0, 1]\n",
    "sort_list.sort(reverse=True)\n",
    "print(sort_list)"
   ]
  },
  {
   "cell_type": "code",
   "execution_count": 112,
   "metadata": {},
   "outputs": [
    {
     "name": "stdout",
     "output_type": "stream",
     "text": [
      "Acending Order\n",
      "[0, 1, 4, 5, 6, 7, 9]\n"
     ]
    }
   ],
   "source": [
    "print(\"Acending Order\")\n",
    "sort_list.sort(reverse=False)\n",
    "print(sort_list)"
   ]
  },
  {
   "cell_type": "markdown",
   "metadata": {},
   "source": [
    "16. What is the difference between the sort() and sorted() functions/methods in Python?\n",
    "\n",
    "\n",
    "| Feature                | `sort()`                            | `sorted()`                             |\n",
    "|------------------------|-------------------------------------|----------------------------------------|\n",
    "| **Modification**        | Modifies the list in place          | Returns a new sorted list              |\n",
    "| **Return Value**        | Returns `None`                      | Returns a sorted list                  |\n",
    "| **Works with**          | Only lists                          | Any iterable (list, tuple, set, etc.)  |\n",
    "| **Efficiency**          | More efficient                      | Slightly less efficient                |\n",
    "| **Example**             | `my_list = [3, 1, 2]`<br>`my_list.sort()` | `new_sorted_list = sorted(my_list)`    |\n",
    "| **Output**              | `[1, 2, 3]`                         | `[1, 2, 3]`<br>Original list: `[3, 1, 2]` |\n"
   ]
  },
  {
   "cell_type": "code",
   "execution_count": 116,
   "metadata": {},
   "outputs": [
    {
     "name": "stdout",
     "output_type": "stream",
     "text": [
      "[0, 1, 4, 5, 6, 7, 9]\n",
      "[9, 7, 6, 5, 4, 1, 0]\n"
     ]
    }
   ],
   "source": [
    "sorted_list = [6, 7, 2, 4]\n",
    "new_sorted_list = sorted(sort_list)\n",
    "print(new_sorted_list)\n",
    "print(sort_list)\n"
   ]
  },
  {
   "cell_type": "code",
   "execution_count": 121,
   "metadata": {},
   "outputs": [
    {
     "name": "stdout",
     "output_type": "stream",
     "text": [
      "['apple', 'orange', 'angle']\n",
      "['angle', 'apple', 'orange']\n"
     ]
    }
   ],
   "source": [
    "sorted_list = [\"apple\", \"orange\", \"angle\"]\n",
    "new_sorted1 = sorted(sorted_list)\n",
    "print(sorted_list)\n",
    "print(new_sorted1)"
   ]
  },
  {
   "cell_type": "markdown",
   "metadata": {},
   "source": [
    "17. How do you reverse the order of elements in a list in Python?\n"
   ]
  },
  {
   "cell_type": "code",
   "execution_count": 122,
   "metadata": {},
   "outputs": [
    {
     "name": "stdout",
     "output_type": "stream",
     "text": [
      "['keyboard', 'paper', 'pencil', 'ink']\n"
     ]
    }
   ],
   "source": [
    "my_list = [\"ink\", \"pencil\", \"paper\", \"keyboard\"]\n",
    "my_list.reverse()\n",
    "print(my_list)"
   ]
  },
  {
   "cell_type": "markdown",
   "metadata": {},
   "source": [
    "18. How can you count the occurrences of a specific element in a list?\n"
   ]
  },
  {
   "cell_type": "code",
   "execution_count": 123,
   "metadata": {},
   "outputs": [
    {
     "name": "stdout",
     "output_type": "stream",
     "text": [
      "1\n"
     ]
    }
   ],
   "source": [
    "my_list = [\"apple\", \"orangle\", \"peas\"]\n",
    "my_list_count = my_list.count(\"apple\")\n",
    "print(my_list_count)"
   ]
  },
  {
   "cell_type": "code",
   "execution_count": null,
   "metadata": {},
   "outputs": [
    {
     "name": "stdout",
     "output_type": "stream",
     "text": [
      "6\n"
     ]
    }
   ],
   "source": [
    "my_list = [1, 2, 3, 4, 5, 4, 5, 4 ,5 , 5, 5, 5]\n",
    "my_list_count = my_list.count(5)\n",
    "print(my_list_count)"
   ]
  },
  {
   "cell_type": "markdown",
   "metadata": {},
   "source": [
    "19. How do you clear or empty a list in Python?\n"
   ]
  },
  {
   "cell_type": "code",
   "execution_count": 127,
   "metadata": {},
   "outputs": [
    {
     "name": "stdout",
     "output_type": "stream",
     "text": [
      "[]\n"
     ]
    }
   ],
   "source": [
    "my_list = [3, 4, 5, 6, 7, 8, 9, 0]\n",
    "my_list.clear()\n",
    "print(my_list)"
   ]
  },
  {
   "cell_type": "markdown",
   "metadata": {},
   "source": [
    "20. Can you create a list of lists in Python? If yes, how can you access elements from nested lists within the main list?\n"
   ]
  },
  {
   "cell_type": "code",
   "execution_count": 128,
   "metadata": {},
   "outputs": [
    {
     "name": "stdout",
     "output_type": "stream",
     "text": [
      "9\n"
     ]
    }
   ],
   "source": [
    "my_list = [\n",
    "    [3, 4, 5, 6],\n",
    "    [6, 7, 8, 9],\n",
    "    [7, 5, 1, 2],\n",
    "    [9, [7, 6, 9], 4]\n",
    "]\n",
    "print(my_list[3][1][2])"
   ]
  }
 ],
 "metadata": {
  "kernelspec": {
   "display_name": "Python 3",
   "language": "python",
   "name": "python3"
  },
  "language_info": {
   "codemirror_mode": {
    "name": "ipython",
    "version": 3
   },
   "file_extension": ".py",
   "mimetype": "text/x-python",
   "name": "python",
   "nbconvert_exporter": "python",
   "pygments_lexer": "ipython3",
   "version": "3.11.8"
  }
 },
 "nbformat": 4,
 "nbformat_minor": 2
}
