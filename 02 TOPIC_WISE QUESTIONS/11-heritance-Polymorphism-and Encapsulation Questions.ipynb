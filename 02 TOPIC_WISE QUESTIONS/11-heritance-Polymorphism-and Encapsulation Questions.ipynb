{
 "cells": [
  {
   "cell_type": "markdown",
   "metadata": {},
   "source": [
    "# Python  inheritance, polymorphism, and encapsulation\n"
   ]
  },
  {
   "cell_type": "markdown",
   "metadata": {},
   "source": [
    "1. Question: Create a class called Shape with attributes color and filled. Implement subclasses Circle and Rectangle that inherit from Shape. Override the calculate_area method in each subclass to calculate the area of the respective shape. Demonstrate polymorphism by creating instances of both subclasses and calling the calculate_area method.\n"
   ]
  },
  {
   "cell_type": "code",
   "execution_count": null,
   "metadata": {
    "vscode": {
     "languageId": "plaintext"
    }
   },
   "outputs": [],
   "source": []
  }
 ],
 "metadata": {
  "language_info": {
   "name": "python"
  }
 },
 "nbformat": 4,
 "nbformat_minor": 2
}
