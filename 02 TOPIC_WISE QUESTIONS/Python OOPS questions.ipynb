{
 "cells": [
  {
   "cell_type": "markdown",
   "metadata": {},
   "source": [
    "# Python OOPS questions:"
   ]
  },
  {
   "cell_type": "markdown",
   "metadata": {},
   "source": [
    "1.   Question: Create a class called Rectangle with attributes length and width. Implement methods to calculate the area and perimeter of the rectangle."
   ]
  },
  {
   "cell_type": "code",
   "execution_count": 16,
   "metadata": {},
   "outputs": [
    {
     "name": "stdout",
     "output_type": "stream",
     "text": [
      "405\n",
      "810\n"
     ]
    }
   ],
   "source": [
    "class Rectangle():\n",
    "    def area(self, length, width):\n",
    "        self.lenght = length\n",
    "        self.width = width\n",
    "        self.area1 = self.lenght * self.width\n",
    "        print(self.area1)\n",
    "\n",
    "class Parameter():\n",
    "    def parameter(self, length, width):\n",
    "        self.length = length\n",
    "        self.width = width\n",
    "        self.parameter = 2 * (self.length * self.width)\n",
    "        print(self.parameter)\n",
    "\n",
    "\n",
    "obj_1 = Rectangle()\n",
    "obj_1.area(45, 9)\n",
    "\n",
    "obj_2 = Parameter()\n",
    "obj_2.parameter(45, 9)\n",
    "\n"
   ]
  },
  {
   "cell_type": "code",
   "execution_count": null,
   "metadata": {},
   "outputs": [
    {
     "name": "stdout",
     "output_type": "stream",
     "text": [
      "441\n",
      "882\n"
     ]
    }
   ],
   "source": [
    "class Rectangle():\n",
    "    def __init__(self, length,width):\n",
    "        self.length = length\n",
    "        self.width = width\n",
    "    \n",
    "    def area(self):\n",
    "        self.area = self.length * self.width\n",
    "        print(self.area)\n",
    "\n",
    "\n",
    "    def parameter(self):\n",
    "        self.parameter = 2 * (self.length * self.width)\n",
    "        print(self.parameter)\n",
    "\n",
    "    \n",
    "\n",
    "a = Rectangle(49, 9)\n",
    "a.parameter()\n",
    "\n"
   ]
  },
  {
   "cell_type": "markdown",
   "metadata": {},
   "source": []
  }
 ],
 "metadata": {
  "kernelspec": {
   "display_name": "Python 3",
   "language": "python",
   "name": "python3"
  },
  "language_info": {
   "codemirror_mode": {
    "name": "ipython",
    "version": 3
   },
   "file_extension": ".py",
   "mimetype": "text/x-python",
   "name": "python",
   "nbconvert_exporter": "python",
   "pygments_lexer": "ipython3",
   "version": "3.11.8"
  }
 },
 "nbformat": 4,
 "nbformat_minor": 2
}
