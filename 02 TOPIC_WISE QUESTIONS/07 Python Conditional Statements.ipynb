{
 "cells": [
  {
   "cell_type": "markdown",
   "metadata": {},
   "source": [
    "### 07 Python Conditional Statements Questions"
   ]
  },
  {
   "cell_type": "markdown",
   "metadata": {},
   "source": [
    " 1. Get user input using input(“Enter your age: ”). If user is 18 or older, give feedback: You are old enough to drive. If below 18 give feedback to wait for the missing amount of years. Output:\n",
    "                example:\n",
    "                    Enter your age: 30\n",
    "\n",
    "                    You are old enough to learn to drive.\n",
    "\n",
    "                    Output:\n",
    "\n",
    "                    Enter your age: 15\n",
    "\n",
    "                    You need 3 more years to learn to drive."
   ]
  },
  {
   "cell_type": "code",
   "execution_count": null,
   "metadata": {},
   "outputs": [],
   "source": [
    "age = int(input(\"Enter the age : \"))\n",
    "\n",
    "if age >= 18:\n",
    "    print(\" You are old enough to drive\")\n",
    "\n",
    "else:\n",
    "    wait = 18 - age\n",
    "    print(F\"You need to wait for {wait} years to drive\")\n"
   ]
  },
  {
   "cell_type": "markdown",
   "metadata": {},
   "source": [
    "2. Compare the values of my_age and your_age using if … else. Who is older (me or you)? Use input(“Enter your age: ”) to get the age as input. You can use a nested condition to print 'year' for 1 year difference in age, 'years' for bigger differences, and a custom text if my_age = your_age. Output:\n",
    "                example:\n",
    "\n",
    "                    Enter your age: 30\n",
    "\n",
    "                    You are 5 years older than me."
   ]
  },
  {
   "cell_type": "code",
   "execution_count": null,
   "metadata": {},
   "outputs": [],
   "source": [
    "my_age = int(input(\"Enter the age: \"))\n",
    "\n",
    "your_age = int(input(\"Enter the your age1 : \"))\n",
    "\n",
    "if my_age == your_age:\n",
    "    print(\"We both are equal\")\n",
    "\n",
    "elif my_age > your_age:\n",
    "    gap = abs(your_age - my_age)\n",
    "    if gap == 1:\n",
    "        print(f\"You are {gap} year younger than me\")\n",
    "    else:\n",
    "        print(f\"You are {gap} years younger than me.\")\n",
    "        \n",
    "else:\n",
    "    gap = abs(my_age - your_age)\n",
    "    if gap == 1:\n",
    "        print(f\"You are {gap} year younger than me\")\n",
    "    else:\n",
    "        print(f\"You are {gap} year younger than me\")"
   ]
  },
  {
   "cell_type": "markdown",
   "metadata": {},
   "source": [
    "  3. Get two numbers from the user using input prompt. If a is greater than b return a is greater than b, if a is less b return a is smaller than b, else a is equal to b. Output:\n",
    "                example:\n",
    "                    Enter number one: 4\n",
    "\n",
    "                    Enter number two: 3\n",
    "\n",
    "                    4 is greater than 3"
   ]
  },
  {
   "cell_type": "code",
   "execution_count": null,
   "metadata": {},
   "outputs": [],
   "source": [
    "def numbers():\n",
    "    a = int(input(\"Enter the number 1: \"))\n",
    "    b = int(input(\"Enter the number 2: \"))\n",
    "\n",
    "    if a > b:\n",
    "        return f\"a : {a} is greater than b : {b} \"\n",
    "\n",
    "    elif a < b:\n",
    "        return f\"a : {a} is lesser than b : {b} \"\n",
    "\n",
    "    else:\n",
    "        return f\"a : {a} and b : {b} equal\"\n",
    "\n",
    "\n",
    "\n",
    "result = numbers()\n",
    "print(result)\n",
    "\n"
   ]
  },
  {
   "cell_type": "markdown",
   "metadata": {},
   "source": [
    "   4. Write a code which gives grade to students according to theirs scores:\n",
    "                example:\n",
    "                    80-100, A\n",
    "\n",
    "                    70-89, B\n",
    "\n",
    "                    60-69, C\n",
    "\n",
    "                    50-59, D\n",
    "\n",
    "                    0-49, F"
   ]
  },
  {
   "cell_type": "code",
   "execution_count": 39,
   "metadata": {},
   "outputs": [
    {
     "name": "stdout",
     "output_type": "stream",
     "text": [
      "GRADE B\n"
     ]
    }
   ],
   "source": [
    "score = int(input(\"Enter the score : \"))\n",
    "\n",
    "if 80 <= score <= 100:\n",
    "    print(\"GRADE A\")\n",
    "\n",
    "elif 70 <= score < 80 :\n",
    "    print(\"GRADE B\")\n",
    "\n",
    "elif 60 <= score < 69:\n",
    "    print(\"GRADE C\")\n",
    "\n",
    "elif 50 <= score < 59:\n",
    "    print(\" GRADE D\")\n",
    "\n",
    "else:\n",
    "    print(\"GRADE F\")\n",
    "\n"
   ]
  },
  {
   "cell_type": "markdown",
   "metadata": {},
   "source": [
    "5. Check if the season is Autumn, Winter, Spring or Summer. If the user input is: September, October or November, the season is Autumn. December, January or February, the season is Winter. March, April or May, the season is Spring June, July or August, the season is Summer\n"
   ]
  },
  {
   "cell_type": "code",
   "execution_count": 43,
   "metadata": {},
   "outputs": [
    {
     "name": "stdout",
     "output_type": "stream",
     "text": [
      "The season is Summer 🔅🔅\n"
     ]
    }
   ],
   "source": [
    "def seasons():\n",
    "    month = input(\"Enter the month to the season: \").capitalize() #first letter captilize\n",
    "\n",
    "    autum = [\"September\", \"October\" , \"November\"]\n",
    "    winter = [\"Autumn\", \"December\", \"January\" , \"February\"]\n",
    "    spring = [\"March\", \"April\" , \"May\"]\n",
    "    summer = [\"June\", \"July\" ,\"August\"]\n",
    "\n",
    "    if month in autum:\n",
    "            print(\"The seanson is Autumn 🍂🥮\")\n",
    "\n",
    "    elif month in winter:\n",
    "            print(\"The season is Winter 😶‍🌫️🥶\")\n",
    "\n",
    "    elif month in spring:\n",
    "        print(\"The season is Spring ♨️♨️\")\n",
    "\n",
    "    elif month in summer:\n",
    "            print(\"The season is Summer 🔅🔅\")\n",
    "\n",
    "    else:\n",
    "        print(\"invalid\")\n",
    "\n",
    "seasons()\n",
    "\n",
    "\n"
   ]
  },
  {
   "cell_type": "markdown",
   "metadata": {},
   "source": [
    "  6. The following list contains some fruits:\n",
    "      * example:\n",
    "          fruits = ['banana', 'orange', 'mango', 'lemon']\n",
    "\n",
    "      * If a fruit doesn't exist in the list add the fruit to the list and print the modified list. If the fruit exists print('That fruit already exist in the list')\n"
   ]
  },
  {
   "cell_type": "code",
   "execution_count": 48,
   "metadata": {},
   "outputs": [
    {
     "name": "stdout",
     "output_type": "stream",
     "text": [
      "The modified list :  ['banana', 'orange', 'mango', 'lemon', 'yellow']\n"
     ]
    }
   ],
   "source": [
    "def add_fruits():\n",
    "    input_fruits = input(\"Enter the fruits name : \").lower()\n",
    "\n",
    "    fruits = ['banana', 'orange', 'mango', 'lemon']\n",
    "\n",
    "    if input_fruits not in fruits:\n",
    "        fruits.append(input_fruits)\n",
    "        print(f\"The modified list :  {fruits}\")\n",
    "    else:\n",
    "        print(\"That fruits is already exists\")\n",
    "\n",
    "add_fruits()"
   ]
  },
  {
   "cell_type": "markdown",
   "metadata": {},
   "source": [
    " 7. Here we have a person dictionary. Feel free to modify it!\n",
    "                    person={\n",
    "\n",
    "                    'first_name': 'Asabeneh',\n",
    "\n",
    "                    'last_name': 'Yetayeh',\n",
    "\n",
    "                    'age': 250,\n",
    "\n",
    "                    'country': 'Finland',\n",
    "\n",
    "                    'is_marred': True,\n",
    "\n",
    "                    'skills': ['JavaScript', 'React', 'Node', 'MongoDB', 'Python'],\n",
    "\n",
    "                    'address': {\n",
    "\n",
    "                    'street': 'Space street',\n",
    "\n",
    "                    'zipcode': '02210'\n",
    "                    }\n",
    "                    }\n",
    "                * Check if the person dictionary has skills key, if so print out the middle skill in the skills list.\n",
    "\n",
    "                * Check if the person dictionary has skills key, if so check if the person has 'Python' skill and print out the result.\n",
    "\n",
    "                * If a person skills has only JavaScript and React, print('He is a front end developer'), if the person skills has Node, Python, MongoDB, print('He is a backend developer'), if the person skills has React, Node and MongoDB, Print('He is a fullstack developer'), else print('unknown title') - for more accurate results more conditions can be nested!\n"
   ]
  },
  {
   "cell_type": "code",
   "execution_count": 1,
   "metadata": {},
   "outputs": [
    {
     "name": "stdout",
     "output_type": "stream",
     "text": [
      "The middle skill in the list: Node\n",
      "The person has the python skills\n",
      "He is a front end developer\n"
     ]
    }
   ],
   "source": [
    "person={\n",
    "\n",
    "        'first_name': 'Asabeneh',\n",
    "\n",
    "        'last_name': 'Yetayeh',\n",
    "\n",
    "        'age': 250,\n",
    "\n",
    "        'country': 'Finland',\n",
    "\n",
    "        'is_marred': True,\n",
    "\n",
    "        'skills': ['JavaScript', 'React', 'Node', 'MongoDB', 'Python'],\n",
    "\n",
    "        'address': {\n",
    "\n",
    "            'street': 'Space street',\n",
    "\n",
    "            'zipcode': '02210'\n",
    "        }\n",
    "\n",
    "            }\n",
    "\n",
    "# * Check if the person dictionary has skills key, if so print out the middle skill in the skills list.\n",
    "\n",
    "if \"skills\" in person:\n",
    "    # print(f\"{person['skills']}\") \n",
    "    skills = person[\"skills\"]\n",
    "    middle_index = len(skills) // 2\n",
    "    print(f\"The middle skill in the list: {skills[middle_index]}\")\n",
    "\n",
    "# * Check if the person dictionary has skills key, if so check if the person has 'Python' skill and print out the result.\n",
    "if \"skills\" in person and \"Python\" in  person[\"skills\"]:\n",
    "    print(\"The person has the python skills\")\n",
    "\n",
    "\n",
    "\n",
    "# * If a person skills has only JavaScript and React, print('He is a front end developer'), if the person skills has Node, Python, MongoDB, print('He is a backend developer'), if the person skills has React, Node and MongoDB, Print('He is a fullstack developer'), else print('unknown title') - for more accurate results more conditions can be nested!\n",
    "\n",
    "if \"skills\" in person:\n",
    "    skills = person[\"skills\"]\n",
    "\n",
    "    if {\"JavaScript\", \"React\"}.issubset(set(skills)):\n",
    "        print(\"He is a front end developer\")\n",
    "\n",
    "    elif {\"Node\", \"Python\", \"MongoDB\"}.issubset(set(skills)):\n",
    "        print(\"He is a backend developer\") \n",
    "\n",
    "    elif {\"React\", \"Node\" , \"MongoDB\"}.issubset(set(skills)):\n",
    "        print(\"He is a fullstack developer\")\n",
    "\n",
    "    else:\n",
    "        print('unknown title')\n",
    "\n",
    "\n"
   ]
  }
 ],
 "metadata": {
  "kernelspec": {
   "display_name": "Python 3",
   "language": "python",
   "name": "python3"
  },
  "language_info": {
   "codemirror_mode": {
    "name": "ipython",
    "version": 3
   },
   "file_extension": ".py",
   "mimetype": "text/x-python",
   "name": "python",
   "nbconvert_exporter": "python",
   "pygments_lexer": "ipython3",
   "version": "3.11.8"
  }
 },
 "nbformat": 4,
 "nbformat_minor": 2
}
