{
 "cells": [
  {
   "cell_type": "markdown",
   "metadata": {},
   "source": [
    "# Python OOPS questions:"
   ]
  },
  {
   "cell_type": "markdown",
   "metadata": {},
   "source": [
    "1.   Question: Create a class called Rectangle with attributes length and width. Implement methods to calculate the area and perimeter of the rectangle."
   ]
  },
  {
   "cell_type": "code",
   "execution_count": null,
   "metadata": {},
   "outputs": [],
   "source": [
    "class Rectangle():\n",
    "    def area(self, length, width):\n",
    "        self.lenght = length\n",
    "        self.width = width\n",
    "        self.area = self.lenght * self.width\n",
    "        print(self.area)\n",
    "\n",
    "class Parameter():\n",
    "    def parameter(self, length, width):\n",
    "        self.length = length\n",
    "        self.width = width\n",
    "        self.parameter = 2 * (self.length * self.width)\n",
    "        print(self.parameter)\n",
    "\n",
    "\n",
    "obj_1 = Rectangle()\n",
    "obj_1.area(45, 9)\n",
    "\n",
    "obj_2 = Parameter()\n",
    "obj_2.parameter(45, 9)\n",
    "\n"
   ]
  },
  {
   "cell_type": "code",
   "execution_count": null,
   "metadata": {},
   "outputs": [],
   "source": [
    "class Rectangle():\n",
    "    def __init__(self, length,width):\n",
    "        self.length = length\n",
    "        self.width = width\n",
    "    \n",
    "    def area(self):\n",
    "        self.area = self.length * self.width\n",
    "        print(self.area)\n",
    "\n",
    "\n",
    "    def parameter(self):\n",
    "        self.parameter = 2 * (self.length * self.width)\n",
    "        print(self.parameter)\n",
    "\n",
    "    \n",
    "\n",
    "a = Rectangle(49, 9)\n",
    "a.parameter()\n",
    "\n"
   ]
  },
  {
   "cell_type": "markdown",
   "metadata": {},
   "source": [
    "2. Question: Create a class called Circle with attribute radius. Implement methods to calculate the area and circumference of the circle.\n"
   ]
  },
  {
   "cell_type": "code",
   "execution_count": null,
   "metadata": {},
   "outputs": [],
   "source": [
    "class Circle():\n",
    "    pi = 3.14\n",
    "    def __init__(self, radius):\n",
    "        self.radius = radius\n",
    "        print(f\"The radius of the circle : {self.radius}\")\n",
    "\n",
    "    def area(self):\n",
    "        area = round((Circle.pi * self.radius ** 2), 2)\n",
    "        print(f\"The area of the circle :{area}\")\n",
    "    \n",
    "    def circumference(self):\n",
    "        circumference = round(2 * (self.pi * self.radius), 2)\n",
    "        print(f\"The circle circimference : {circumference}\")\n",
    "\n",
    "\n",
    "circle = Circle(5)\n",
    "circle.area()\n",
    "circle.circumference()\n",
    "\n",
    "    "
   ]
  },
  {
   "cell_type": "markdown",
   "metadata": {},
   "source": [
    "3. Question: Create a class called Employee with attributes name, age, and salary. Implement a method called increase_salary that takes a percentage increase as input and updates the employee's salary accordingly.\n"
   ]
  },
  {
   "cell_type": "code",
   "execution_count": null,
   "metadata": {},
   "outputs": [],
   "source": [
    "class Employee():\n",
    "    def __init__(self, name, age, salary):\n",
    "        self.name = name\n",
    "        self.age = age\n",
    "        self.salary = salary\n",
    "        print(f\"Employee List : name : {self.name}, age : {self.age}, salary : {self.salary:.2f} \")\n",
    "\n",
    "    def increase_salary(self, percentage):\n",
    "        increase = self.salary * (percentage / 100)\n",
    "        self.salary += increase\n",
    "        print(f\"{self.name}'s salary is increased by {percentage} % to {self.salary:.2f}\")\n",
    "\n",
    "employee = Employee(\"anndrew\", 23, 900000)\n",
    "employee.increase_salary(40)\n",
    "        "
   ]
  },
  {
   "cell_type": "markdown",
   "metadata": {},
   "source": [
    "4.  Question: Create a class called BankAccount with attributes account_number, holder_name, and balance. Implement methods to deposit and withdraw funds from the account.\n"
   ]
  },
  {
   "cell_type": "code",
   "execution_count": null,
   "metadata": {},
   "outputs": [],
   "source": [
    "class BankAccount():\n",
    "    def __init__(self, account_number, holder_name, balance):\n",
    "        self.account_number = account_number\n",
    "        self.holder_name = holder_name\n",
    "        self.balance = balance\n",
    "        print(f\"Bamk Account : The accounter name : {self.holder_name} and the account number : {self.account_number} , The account Balance : {self.balance}\")\n",
    "\n",
    "    def deposit(self, deposit_amount):\n",
    "        self.balance = int(self.balance + deposit_amount)\n",
    "\n",
    "        print(f\"The deposit amount : Rs: {deposit_amount} , The total balance : {self.balance}\")\n",
    "\n",
    "    def withdraw(self, withdraw_amount):\n",
    "        self.balance = self.balance - withdraw_amount\n",
    "        print(f\"The account number : {self.account_number} has the withdrawn amount : {withdraw_amount} and the total balance : {self.balance}\")\n",
    "\n",
    "\n",
    "    \n",
    "\n",
    "bankaccount = BankAccount(123456,\"dark\",100)\n",
    "bankaccount.deposit(100)\n",
    "bankaccount.withdraw(90)\n"
   ]
  },
  {
   "cell_type": "markdown",
   "metadata": {},
   "source": [
    "5.  Question: Create a class called Car with attributes  model, and year. Implement a method called start_engine that prints a message indicating the car has started.\n"
   ]
  },
  {
   "cell_type": "code",
   "execution_count": null,
   "metadata": {},
   "outputs": [],
   "source": [
    "class Car():\n",
    "    def __init__(self, model, year):\n",
    "        self.model = model\n",
    "        self.year = year\n",
    "        print(f\"Car Model = {self.model} , Year = {self.year} \")\n",
    "    \n",
    "    def start_engine(self):\n",
    "        print(f\"The {self.model} has started\")\n",
    "    \n",
    "\n",
    "car = Car(\"Hondai\", 2013)\n",
    "car.start_engine()\n",
    "\n"
   ]
  },
  {
   "cell_type": "markdown",
   "metadata": {},
   "source": [
    "6. Question: Create a class called Student with attributes name, age, and grades (a list of integers). Implement methods to calculate the average grade and determine if the student has passed (average grade >= 60).\n"
   ]
  },
  {
   "cell_type": "code",
   "execution_count": null,
   "metadata": {},
   "outputs": [],
   "source": [
    "class Student():\n",
    "    def __init__(self, name, age, grades):\n",
    "        self.name = name\n",
    "        self.age = age\n",
    "        self.grades = grades\n",
    "        print(f\"The Student name : {self.name} , age : {self.age}, Grade : {self.grades}\")\n",
    "\n",
    "    def average_grade(self):\n",
    "        average = sum(self.grades) / len(self.grades)\n",
    "\n",
    "        if average >= 80:\n",
    "            result = \"GRADE A\"\n",
    "        \n",
    "        elif 60 <= average <= 80 :\n",
    "            result = \"GRADE B\"\n",
    "\n",
    "        elif 40 <= average < 60 :\n",
    "            result = \"GARDE C\"\n",
    "        \n",
    "        else:\n",
    "            result = \"FAIL\"\n",
    "\n",
    "        print(f\"The Student name : {self.name} , age : {self.age}, average : {average}, result : {result}\")      \n",
    "\n",
    "\n",
    "\n",
    "    \n",
    "student = Student(\"john\", 12, [56, 78, 90, 76, 55])\n",
    "student = Student(\"john\", 12, [56, 8, 0, 6, 5])\n",
    "student = Student(\"john\", 12, [56, 98, 90, 96, 75])\n",
    "student.average_grade()\n",
    "\n",
    "\n",
    "        "
   ]
  },
  {
   "cell_type": "markdown",
   "metadata": {},
   "source": [
    "7. Question: Create a class called Book with attributes title, author, and year. Implement a method called get_age that returns the age of the book (current year - publication year).\n"
   ]
  },
  {
   "cell_type": "code",
   "execution_count": null,
   "metadata": {},
   "outputs": [],
   "source": [
    "class Book():\n",
    "    def __init__(self, title, author, year):\n",
    "        self.title = title\n",
    "        self.author = author\n",
    "        self.year = year\n",
    "        print(f\"The Book : {self.title}, Author : {self.author}, Year : {self.year}\")\n",
    "\n",
    "\n",
    "    def get_age(self, current_year):\n",
    "        age =  (current_year - self.year)\n",
    "        print(f\"The Book : {self.title} is {age} years since published\")\n",
    "        return age\n",
    "    \n",
    "\n",
    "\n",
    "book = Book(\"Harry Potter\", \"J.K Rowling\", 1991)\n",
    "book_age = book.get_age(2024) #avoiding the return value to clear"
   ]
  },
  {
   "cell_type": "markdown",
   "metadata": {},
   "source": [
    "8. Question: Create a class called Shape with an abstract method called calculate_area. Create two subclasses Rectangle and Triangle that inherit from Shape and implement the calculate_area method accordingly.\n"
   ]
  },
  {
   "cell_type": "code",
   "execution_count": null,
   "metadata": {},
   "outputs": [],
   "source": [
    "from abc import ABC, abstractmethod\n",
    "\n",
    "class Shape(ABC):\n",
    "    @abstractmethod\n",
    "    def calculate_area(self):\n",
    "        pass\n",
    "\n",
    "class Rectangle(Shape):\n",
    "    def __init__(self, lenght, width):\n",
    "        self.lenght = lenght\n",
    "        self.width = width\n",
    "\n",
    "    def calculate_area(self):\n",
    "        return self.lenght * self.width\n",
    "    \n",
    "\n",
    "class Triangle(Shape):\n",
    "    def __init__(self, lenght, height):\n",
    "        self.lenght = lenght\n",
    "        self.height = height\n",
    "\n",
    "    def calculate_area(self):\n",
    "        return 0.5 * self.lenght * self.height\n",
    "    \n",
    "\n",
    "rectangle = Rectangle(3, 4)\n",
    "print(f\"Area of rectangle : {rectangle.calculate_area()}\")\n",
    "\n",
    "triangle = Triangle(7, 7)\n",
    "print(f\"Area of Triangle : {triangle.calculate_area()}\")\n",
    "\n",
    "\n",
    "\n"
   ]
  },
  {
   "cell_type": "markdown",
   "metadata": {},
   "source": [
    "9. Question: Create a class called Person with attributes name and address. Create a subclass Student that inherits from Person and adds an attribute student_id. Implement a method in the Student class to display student information.\n"
   ]
  },
  {
   "cell_type": "code",
   "execution_count": null,
   "metadata": {},
   "outputs": [],
   "source": [
    "class Person:\n",
    "    def __init__(self, name, address):\n",
    "        self.name = name\n",
    "        self.address = address\n",
    "\n",
    "\n",
    "class Student(Person):\n",
    "    def student_id(self, id):\n",
    "        self.id = id\n",
    "        print(\"student id : \",self.id)\n",
    "\n",
    "    def display(self):\n",
    "         print(f\"Name : {self.name}, Address : {self.address}, Student id : {self.id}\")\n",
    "\n",
    "\n",
    "\n",
    "student = Student(\"jenni\", \"banglore\")\n",
    "student.student_id(78)\n",
    "student.display()\n",
    "\n",
    "        "
   ]
  },
  {
   "cell_type": "markdown",
   "metadata": {},
   "source": [
    "10.  Question: Create a class called Bank with a dictionary attribute accounts, where the keys are account numbers and the values are instances of a BankAccount class. Implement methods to add accounts, retrieve account information, and perform transactions like deposit and withdrawal.\n"
   ]
  },
  {
   "cell_type": "code",
   "execution_count": null,
   "metadata": {},
   "outputs": [],
   "source": [
    "class Bank():\n",
    "    dictionary = {}"
   ]
  }
 ],
 "metadata": {
  "kernelspec": {
   "display_name": "Python 3",
   "language": "python",
   "name": "python3"
  },
  "language_info": {
   "codemirror_mode": {
    "name": "ipython",
    "version": 3
   },
   "file_extension": ".py",
   "mimetype": "text/x-python",
   "name": "python",
   "nbconvert_exporter": "python",
   "pygments_lexer": "ipython3",
   "version": "3.11.8"
  }
 },
 "nbformat": 4,
 "nbformat_minor": 2
}
