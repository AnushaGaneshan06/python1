{
 "cells": [
  {
   "cell_type": "markdown",
   "metadata": {},
   "source": [
    "# 1. Python Function Problems:\n",
    "\n"
   ]
  },
  {
   "cell_type": "markdown",
   "metadata": {},
   "source": [
    "1. Problem: Write a Python function called calculate_average that takes a list of numbers as input and returns their average.\n"
   ]
  },
  {
   "cell_type": "code",
   "execution_count": 1,
   "metadata": {},
   "outputs": [
    {
     "data": {
      "text/plain": [
       "4"
      ]
     },
     "execution_count": 1,
     "metadata": {},
     "output_type": "execute_result"
    }
   ],
   "source": [
    "def calculate_average(num_list):\n",
    "    sum = 0\n",
    "    for i in num_list:\n",
    "        sum = sum + i \n",
    "    average = int(sum / len(num_list))\n",
    "    return average\n",
    "    \n",
    "calculate_average([3, 4, 5])\n",
    "    "
   ]
  },
  {
   "cell_type": "markdown",
   "metadata": {},
   "source": [
    "2. Problem: Write a Python function called find_largest that takes a list of numbers as input and returns the largest number in the list.\n"
   ]
  },
  {
   "cell_type": "code",
   "execution_count": null,
   "metadata": {},
   "outputs": [
    {
     "data": {
      "text/plain": [
       "8"
      ]
     },
     "execution_count": 15,
     "metadata": {},
     "output_type": "execute_result"
    }
   ],
   "source": [
    "#METHOD 1\n",
    "# -----------------\n",
    "def find_largest(num_list):\n",
    "    max_value = max(num_list)\n",
    "    return max_value\n",
    "\n",
    "find_largest([3, 5, 6, 8, 1])"
   ]
  },
  {
   "cell_type": "code",
   "execution_count": 18,
   "metadata": {},
   "outputs": [
    {
     "data": {
      "text/plain": [
       "7"
      ]
     },
     "execution_count": 18,
     "metadata": {},
     "output_type": "execute_result"
    }
   ],
   "source": [
    "# METHOD 2\n",
    "# --------------------\n",
    "def max_find(num_list):\n",
    "    largest = num_list[0]\n",
    "    for i in num_list:\n",
    "        if i > largest:\n",
    "            largest = i\n",
    "    return largest\n",
    "\n",
    "max_find([3, 5, 6, 7])"
   ]
  },
  {
   "cell_type": "markdown",
   "metadata": {},
   "source": [
    "3. Problem: Write a Python function called reverse_string that takes a string as input and returns the reverse of the string.\n"
   ]
  },
  {
   "cell_type": "code",
   "execution_count": 29,
   "metadata": {},
   "outputs": [
    {
     "data": {
      "text/plain": [
       "'olleh'"
      ]
     },
     "execution_count": 29,
     "metadata": {},
     "output_type": "execute_result"
    }
   ],
   "source": [
    "def reverse_string(string):\n",
    "    rev_string = \"\"\n",
    "    for i in string:\n",
    "        rev_string =  i + rev_string\n",
    "    return rev_string\n",
    "\n",
    "\n",
    "\n",
    "reverse_string(\"hello\")    "
   ]
  },
  {
   "cell_type": "markdown",
   "metadata": {},
   "source": [
    "4.  Problem: Write a Python function called count_vowels that takes a string as input and returns the count of vowels (a, e, i, o, u) in the string.\n"
   ]
  },
  {
   "cell_type": "code",
   "execution_count": null,
   "metadata": {},
   "outputs": [
    {
     "data": {
      "text/plain": [
       "2"
      ]
     },
     "execution_count": 30,
     "metadata": {},
     "output_type": "execute_result"
    }
   ],
   "source": [
    "def count_vowels(string):\n",
    "    vowels = \"aeiou\"\n",
    "    count = 0\n",
    "    for i in string:\n",
    "        if i in vowels:\n",
    "            count = count + 1\n",
    "    return count\n",
    "    \n",
    "count_vowels(\"apple\")"
   ]
  },
  {
   "cell_type": "markdown",
   "metadata": {},
   "source": [
    "5. Problem: Write a Python function called is_prime that takes an integer as input and returns True if it is a prime number, False otherwise.\n"
   ]
  },
  {
   "cell_type": "code",
   "execution_count": 32,
   "metadata": {},
   "outputs": [
    {
     "data": {
      "text/plain": [
       "True"
      ]
     },
     "execution_count": 32,
     "metadata": {},
     "output_type": "execute_result"
    }
   ],
   "source": [
    "def prime_function(integer):\n",
    "    if integer % 2 == 0:\n",
    "        return True\n",
    "    else:\n",
    "        return False\n",
    "\n",
    "prime_function(4)\n"
   ]
  },
  {
   "cell_type": "code",
   "execution_count": 40,
   "metadata": {},
   "outputs": [
    {
     "name": "stdout",
     "output_type": "stream",
     "text": [
      "the num is not the prime number 3\n",
      "the prime number 4\n",
      "the prime number 6\n",
      "the num is not the prime number 3\n",
      "the prime number 12\n"
     ]
    }
   ],
   "source": [
    "def prime_function(integer):\n",
    "    for i in integer:\n",
    "        if i % 2 == 0:\n",
    "            print(\"the prime number\", i)\n",
    "        else:\n",
    "            print(\"the num is not the prime number\", i)\n",
    "\n",
    "prime_function([3, 4, 6, 3, 12])\n"
   ]
  },
  {
   "cell_type": "markdown",
   "metadata": {},
   "source": [
    "6. Problem: Write a Python function called remove_duplicates that takes a list as input and returns a new list with duplicates removed.\n"
   ]
  },
  {
   "cell_type": "code",
   "execution_count": 43,
   "metadata": {},
   "outputs": [
    {
     "data": {
      "text/plain": [
       "[2, 4, 3, 1]"
      ]
     },
     "execution_count": 43,
     "metadata": {},
     "output_type": "execute_result"
    }
   ],
   "source": [
    "def remove_duplicates(number):\n",
    "    new_list = []\n",
    "    for i in number:\n",
    "        if i not in new_list:\n",
    "            new_list.append(i)\n",
    "    \n",
    "    return new_list\n",
    "\n",
    "remove_duplicates([2, 4, 3, 4, 2, 1, 2, 4 ,3 ,3])\n"
   ]
  },
  {
   "cell_type": "markdown",
   "metadata": {},
   "source": [
    "7. Problem: Write a Python function called factorial that takes a positive integer as input and returns its factorial.\n"
   ]
  },
  {
   "cell_type": "code",
   "execution_count": null,
   "metadata": {},
   "outputs": [
    {
     "data": {
      "text/plain": [
       "2"
      ]
     },
     "execution_count": 50,
     "metadata": {},
     "output_type": "execute_result"
    }
   ],
   "source": [
    "def factorial(number):\n",
    "    if number == 0:\n",
    "        return 1\n",
    "    else:\n",
    "        return number * factorial(number-1)\n",
    "\n",
    "factorial(2)\n"
   ]
  },
  {
   "cell_type": "code",
   "execution_count": null,
   "metadata": {},
   "outputs": [
    {
     "name": "stdout",
     "output_type": "stream",
     "text": [
      "The factorial  is is 24\n"
     ]
    }
   ],
   "source": [
    "def factorial(number):\n",
    "    if number < 0:\n",
    "        return \"invalid\"\n",
    "    elif number == 0 or number == 1:\n",
    "        return 1\n",
    "    else:\n",
    "        return number * factorial(number - 1)\n",
    "    \n",
    "result = factorial(4)\n",
    "print(\"The factorial is\", result)"
   ]
  },
  {
   "cell_type": "markdown",
   "metadata": {},
   "source": [
    "8. Problem: Write a Python function called is_palindrome that takes a string as input and returns True if it is a palindrome (reads the same forwards and backwards), False otherwise.\n"
   ]
  },
  {
   "cell_type": "code",
   "execution_count": 8,
   "metadata": {},
   "outputs": [
    {
     "data": {
      "text/plain": [
       "('The string is the palindrome', 'mom')"
      ]
     },
     "execution_count": 8,
     "metadata": {},
     "output_type": "execute_result"
    }
   ],
   "source": [
    "def is_palindrome(string):\n",
    "    string = string.lower()\n",
    "    reverse_string = \"\"\n",
    "    for i in string:\n",
    "        reverse_string = i + reverse_string \n",
    "    if reverse_string == string:\n",
    "        return(\"The string is the palindrome\", string)\n",
    "    else:\n",
    "        return (\"the string is not the palindrome\", string)\n",
    "\n",
    "is_palindrome(\"Mom\")"
   ]
  },
  {
   "cell_type": "markdown",
   "metadata": {},
   "source": [
    "9. Problem: Write a Python function called find_common_elements that takes two lists as input and returns a new list containing the common elements between the two lists.\n"
   ]
  },
  {
   "cell_type": "code",
   "execution_count": null,
   "metadata": {},
   "outputs": [
    {
     "data": {
      "text/plain": [
       "[1, 3, 5, 7]"
      ]
     },
     "execution_count": 13,
     "metadata": {},
     "output_type": "execute_result"
    }
   ],
   "source": [
    "def find_common_elements(list1, list2):\n",
    "    new_list = []\n",
    "    for i in list1:\n",
    "        for j in list2:\n",
    "            if i == j:\n",
    "                new_list.append(i)           \n",
    "            else:\n",
    "                pass\n",
    "\n",
    "    return new_list\n",
    "\n",
    "find_common_elements([1, 3, 4, 5, 6, 7], [5, 3, 2, 7, 1])"
   ]
  },
  {
   "cell_type": "code",
   "execution_count": null,
   "metadata": {},
   "outputs": [
    {
     "name": "stdout",
     "output_type": "stream",
     "text": [
      "[2]\n"
     ]
    }
   ],
   "source": [
    "#method 2\n",
    "\n",
    "def find_common_elements(list1, list2):\n",
    "    return list(set(list1) & set(list2))\n",
    "\n",
    "\n",
    "new_list = find_common_elements([2, 3, 4, 5], [2, 7, 8, 9])\n",
    "print(new_list)\n"
   ]
  },
  {
   "cell_type": "code",
   "execution_count": null,
   "metadata": {},
   "outputs": [
    {
     "data": {
      "text/plain": [
       "[2, 4]"
      ]
     },
     "execution_count": 17,
     "metadata": {},
     "output_type": "execute_result"
    }
   ],
   "source": [
    "def find_common_elements(list1, list2):\n",
    "    # [expression for item in iterable if condition]\n",
    "    return [element for element in list1 if element in list2]\n",
    "\n",
    "find_common_elements([2, 4, 5,6], [7, 4, 2, 9])"
   ]
  },
  {
   "cell_type": "markdown",
   "metadata": {},
   "source": [
    "11. Problem: Write a Python function called binary_search that takes a sorted list and a target value as input and returns the index of the target value in the list, or -1 if it is not found.\n"
   ]
  },
  {
   "cell_type": "code",
   "execution_count": null,
   "metadata": {},
   "outputs": [
    {
     "name": "stdout",
     "output_type": "stream",
     "text": [
      "3\n"
     ]
    }
   ],
   "source": [
    "def binary_search(list1, target):\n",
    "    left, right=0, len(list1) -1\n",
    "    while left <= right:\n",
    "        mid = (left + right) // 2\n",
    "        if list1[mid] == target:\n",
    "            return mid\n",
    "        elif list1[mid] < target:\n",
    "            left = mid + 1\n",
    "        else:\n",
    "            right = mid - 1\n",
    "\n",
    "    return -1\n",
    "\n",
    "result = binary_search([1, 3, 5, 7], 7)\n",
    "\n",
    "print(result)"
   ]
  },
  {
   "cell_type": "markdown",
   "metadata": {},
   "source": [
    "12. Problem: Write a Python function called capitalize_words that takes a sentence as input and returns the sentence with the first letter of each word capitalized.\n"
   ]
  },
  {
   "cell_type": "code",
   "execution_count": null,
   "metadata": {},
   "outputs": [
    {
     "data": {
      "text/plain": [
       "'Merry Curie'"
      ]
     },
     "execution_count": 2,
     "metadata": {},
     "output_type": "execute_result"
    }
   ],
   "source": [
    "def capitalize_words(word):\n",
    "\n",
    "    return word.title()\n",
    "\n",
    "capitalize_words(\"merry curie\")"
   ]
  },
  {
   "cell_type": "code",
   "execution_count": null,
   "metadata": {},
   "outputs": [
    {
     "data": {
      "text/plain": [
       "'Harry Potter Is The Movie Has The 9 Parts '"
      ]
     },
     "execution_count": 8,
     "metadata": {},
     "output_type": "execute_result"
    }
   ],
   "source": [
    "def capitalize_word(sentence):\n",
    "    capitalize_new = ''.join(word.capitalize() for word in sentence.spilt())\n",
    "    return capitalize_new\n",
    "\n",
    "\n",
    "capitalize_words(\"harry potter is the movie has the 9 parts \")"
   ]
  },
  {
   "cell_type": "markdown",
   "metadata": {},
   "source": [
    "13. Problem: Write a Python function called find_missing_number that takes a list of consecutive numbers (with one number missing) as input and returns the missing number.\n"
   ]
  },
  {
   "cell_type": "code",
   "execution_count": null,
   "metadata": {},
   "outputs": [],
   "source": [
    "# def find_missin_number():\n"
   ]
  },
  {
   "cell_type": "markdown",
   "metadata": {},
   "source": [
    "14. Problem: Write a Python function called find_longest_word that takes a sentence as input and returns the longest word in the sentence.\n"
   ]
  },
  {
   "cell_type": "code",
   "execution_count": 5,
   "metadata": {},
   "outputs": [
    {
     "data": {
      "text/plain": [
       "'yyyyyyyyyyyyyyy'"
      ]
     },
     "execution_count": 5,
     "metadata": {},
     "output_type": "execute_result"
    }
   ],
   "source": [
    "def find_longest_word(sentence):\n",
    "    split = sentence.split()\n",
    "    longest_word = max(split, key=len)\n",
    " \n",
    "    return longest_word\n",
    "\n",
    "find_longest_word(\"hi this the person yyyyyyyyyyyyyyy\")\n"
   ]
  },
  {
   "cell_type": "markdown",
   "metadata": {},
   "source": [
    "14. Problem: Write a Python function called is_anagram that takes two strings as input and returns True if they are anagrams (contain the same characters in a different order), False otherwise."
   ]
  },
  {
   "cell_type": "code",
   "execution_count": 12,
   "metadata": {},
   "outputs": [
    {
     "name": "stdout",
     "output_type": "stream",
     "text": [
      "True\n",
      "False\n"
     ]
    }
   ],
   "source": [
    "def is_anagram(string1, strings2):\n",
    "    string1 = string1.lower()\n",
    "    string2 = strings2.lower()\n",
    "\n",
    "    return sorted(string1) == sorted(string2)\n",
    "\n",
    "\n",
    "print(is_anagram(\"listen\", \"Slient\"))\n",
    "print(is_anagram(\"hello\", \"world\"))"
   ]
  },
  {
   "cell_type": "markdown",
   "metadata": {},
   "source": [
    "16. Problem: Write a Python function called merge_sorted_lists that takes two sorted lists as input and returns a new list that merges the two lists while maintaining the sorted order.\n"
   ]
  },
  {
   "cell_type": "code",
   "execution_count": null,
   "metadata": {},
   "outputs": [
    {
     "data": {
      "text/plain": [
       "[1, 2, 3, 4, 5, 7, 8, 9]"
      ]
     },
     "execution_count": 10,
     "metadata": {},
     "output_type": "execute_result"
    }
   ],
   "source": [
    "def merge_sorted_lists(list1, list2):\n",
    "    merge_list = sorted(list1 + list2)\n",
    "    return merge_list\n",
    "\n",
    "merge_sorted_lists([2, 3, 4, 5], [1,7, 8, 9 ])\n",
    "\n"
   ]
  },
  {
   "cell_type": "code",
   "execution_count": 17,
   "metadata": {},
   "outputs": [
    {
     "data": {
      "text/plain": [
       "[1, 2, 4, 5, 6]"
      ]
     },
     "execution_count": 17,
     "metadata": {},
     "output_type": "execute_result"
    }
   ],
   "source": [
    "def merge_sorted_list(list1, list2):\n",
    "    merge_list = []\n",
    "    i, j = 0 , 0\n",
    "    while i < len(list1) and j < len(list2):\n",
    "        if list1[i] < list2[j]:\n",
    "            merge_list.append(list1[i])\n",
    "            i = i + 1\n",
    "        else:\n",
    "            merge_list.append(list2[j])\n",
    "            j = j + 1\n",
    "\n",
    "    return merge_list\n",
    "\n",
    "\n",
    "\n",
    "merge_sorted_list([2, 4, 6], [1, 5, 8])\n",
    "    "
   ]
  },
  {
   "cell_type": "markdown",
   "metadata": {},
   "source": [
    "# Advance function"
   ]
  },
  {
   "cell_type": "markdown",
   "metadata": {},
   "source": [
    "* PYTHON CITIZENSHIP\n",
    "1. In Python, functions are first-class citizens, meaning they can be assigned to variables, passed as arguments to other functions, and returned from other functions. \n",
    "2. This allows you to treat functions like any other value, making your code more flexible and reusable. \n",
    "3. You can create, pass around, and manipulate functions in powerful ways."
   ]
  },
  {
   "cell_type": "code",
   "execution_count": 23,
   "metadata": {},
   "outputs": [
    {
     "name": "stdout",
     "output_type": "stream",
     "text": [
      "25\n"
     ]
    }
   ],
   "source": [
    "def square(x):\n",
    "    return x ** 2\n",
    "\n",
    "\n",
    "f = square # assigning the variable to fn\n",
    "result = f(5) # calling the function to the assign variable\n",
    "print(result)"
   ]
  },
  {
   "cell_type": "code",
   "execution_count": null,
   "metadata": {},
   "outputs": [],
   "source": [
    "def function(name):\n",
    "    return name\n",
    "\n",
    "def function_value(name1, value):\n",
    "    return name1(value)\n",
    "\n",
    "result = function_value(\"anusha\")\n",
    "\n"
   ]
  },
  {
   "cell_type": "markdown",
   "metadata": {},
   "source": [
    "------------------------------------\n",
    "# 2. Python dictionary questions:\n"
   ]
  },
  {
   "cell_type": "code",
   "execution_count": 1,
   "metadata": {},
   "outputs": [
    {
     "name": "stdout",
     "output_type": "stream",
     "text": [
      "Alice\n",
      "Engineer\n"
     ]
    }
   ],
   "source": [
    "# Creating a dictionary\n",
    "my_dict = {\"name\": \"Alice\", \"age\": 25, \"city\": \"New York\"}\n",
    "\n",
    "# Accessing values\n",
    "print(my_dict[\"name\"])  # Output: Alice\n",
    "\n",
    "# Adding a new key-value pair\n",
    "my_dict[\"job\"] = \"Engineer\"\n",
    "\n",
    "# Updating a value\n",
    "my_dict[\"age\"] = 26\n",
    "\n",
    "# Removing a key-value pair\n",
    "del my_dict[\"city\"]\n",
    "\n",
    "# Using a method to fetch a key\n",
    "print(my_dict.get(\"job\", \"Not Found\"))  # Output: Engineer\n"
   ]
  },
  {
   "cell_type": "markdown",
   "metadata": {},
   "source": [
    "2. How do you create an empty dictionary in Python?\n"
   ]
  },
  {
   "cell_type": "code",
   "execution_count": 8,
   "metadata": {},
   "outputs": [],
   "source": [
    "my_dict = {}"
   ]
  },
  {
   "cell_type": "markdown",
   "metadata": {},
   "source": [
    "3. How do you create a dictionary with initial key-value pairs in Python?\n"
   ]
  },
  {
   "cell_type": "code",
   "execution_count": 10,
   "metadata": {},
   "outputs": [
    {
     "name": "stdout",
     "output_type": "stream",
     "text": [
      "{'name': 'anni', 'age': 67, 'city': 'newyork'}\n"
     ]
    }
   ],
   "source": [
    "my_dict = {\"name\": \"anni\", \"age\": 67, \"city\": \"newyork\"}\n",
    "print(my_dict)"
   ]
  },
  {
   "cell_type": "markdown",
   "metadata": {},
   "source": [
    "4.  Can a dictionary contain duplicate keys in Python?\n"
   ]
  },
  {
   "cell_type": "code",
   "execution_count": 12,
   "metadata": {},
   "outputs": [
    {
     "name": "stdout",
     "output_type": "stream",
     "text": [
      "{'name': 'ravi', 'age': 25, 'city': 'mumbai'}\n"
     ]
    }
   ],
   "source": [
    "my_dict  = {\"name\": \"ravi\", \"age\": 35, \"city\":\"mumbai\", \"age\": 25}\n",
    "print(my_dict)"
   ]
  },
  {
   "cell_type": "markdown",
   "metadata": {},
   "source": [
    "5. How do you access values from a dictionary using keys in Python?\n"
   ]
  },
  {
   "cell_type": "code",
   "execution_count": null,
   "metadata": {},
   "outputs": [
    {
     "name": "stdout",
     "output_type": "stream",
     "text": [
      "25\n",
      "ravi\n"
     ]
    }
   ],
   "source": [
    "# 2 ways to done \n",
    "key = my_dict[\"name\"]\n",
    "key1 = my_dict.get(\"age\")\n",
    "\n",
    "print(key1)\n",
    "print(key)"
   ]
  }
 ],
 "metadata": {
  "kernelspec": {
   "display_name": "Python 3",
   "language": "python",
   "name": "python3"
  },
  "language_info": {
   "codemirror_mode": {
    "name": "ipython",
    "version": 3
   },
   "file_extension": ".py",
   "mimetype": "text/x-python",
   "name": "python",
   "nbconvert_exporter": "python",
   "pygments_lexer": "ipython3",
   "version": "3.11.8"
  }
 },
 "nbformat": 4,
 "nbformat_minor": 2
}
