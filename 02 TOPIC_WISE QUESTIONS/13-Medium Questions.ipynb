{
 "cells": [
  {
   "cell_type": "markdown",
   "metadata": {},
   "source": [
    "# Medium Questions:\n"
   ]
  },
  {
   "cell_type": "markdown",
   "metadata": {},
   "source": [
    "1.   Write a Python program to count the number of vowels in a given string.\n"
   ]
  },
  {
   "cell_type": "code",
   "execution_count": 4,
   "metadata": {},
   "outputs": [
    {
     "name": "stdout",
     "output_type": "stream",
     "text": [
      "The number of vowels the string  appls has 1 \n"
     ]
    }
   ],
   "source": [
    "string = input(\"Enter the string to count the vowels : \")\n",
    "count = 0\n",
    "for char in string:\n",
    "    if char in \"AEIOUaeiou\":\n",
    "        count += 1\n",
    "print(f\"The number of vowels the string  {string} has {count} \")"
   ]
  },
  {
   "cell_type": "markdown",
   "metadata": {},
   "source": [
    "2. Write a program to find the second-largest number in a list of integers.\n"
   ]
  },
  {
   "cell_type": "code",
   "execution_count": null,
   "metadata": {},
   "outputs": [
    {
     "name": "stdout",
     "output_type": "stream",
     "text": [
      "[98, 66, 22, 20, 10, 7, 5, 4]\n",
      "66\n",
      "the second largest number :  None\n"
     ]
    }
   ],
   "source": [
    "def find_second_largest(numbers):\n",
    "    if len(numbers) < 2:\n",
    "        return \"list contain atleast 2  digit number.\"\n",
    "    \n",
    "    # decending order\n",
    "    unique_numbers = list(set(numbers))\n",
    "    unique_numbers.sort(reverse=True)\n",
    "\n",
    "    print(unique_numbers)\n",
    "\n",
    "    if len(unique_numbers) < 2:\n",
    "        print (\"There is no second largest number in the list\")\n",
    "    return unique_numbers[1]\n",
    "\n",
    "\n",
    "# numbers = [ 10, 20, 22, 4, 5, 7, 7, 98, 66]\n",
    "# numbers = [ 10] # 1st return\n",
    "numbers = [7, 7, 7]\n",
    "result = find_second_largest(numbers)\n",
    "print(\"the second largest number : \", result)\n"
   ]
  },
  {
   "cell_type": "markdown",
   "metadata": {},
   "source": [
    "3. Write a Python program to find the prime numbers between 1 and 100.\n"
   ]
  },
  {
   "cell_type": "code",
   "execution_count": null,
   "metadata": {},
   "outputs": [
    {
     "name": "stdout",
     "output_type": "stream",
     "text": [
      "1 to 100 prime numbes :\n",
      "2 3 5 7 11 13 17 19 23 29 31 37 41 43 47 53 59 61 67 71 73 79 83 89 97 "
     ]
    }
   ],
   "source": [
    "def prime_number(numbers):\n",
    "    if numbers <= 1:\n",
    "        return False\n",
    "\n",
    "    for i in range(2, int(numbers ** 0.5) + 1):\n",
    "        if numbers % i == 0:\n",
    "            return False\n",
    "    return True\n",
    "\n",
    "print(\"1 to 100 prime numbes :\")\n",
    "\n",
    "for num in range(1, 101):\n",
    "    if prime_number(num):\n",
    "        print(num, end = \" \")"
   ]
  },
  {
   "cell_type": "markdown",
   "metadata": {},
   "source": [
    "4. Write a program to find the sum of all elements in a list.\n"
   ]
  },
  {
   "cell_type": "code",
   "execution_count": null,
   "metadata": {},
   "outputs": [
    {
     "name": "stdout",
     "output_type": "stream",
     "text": [
      "52\n"
     ]
    }
   ],
   "source": [
    "list1 = [3, 4, 5, 6, 7, 8, 9, 10]\n",
    "\n",
    "sum = 0\n",
    "\n",
    "for i in list1:\n",
    "    sum += i\n",
    "print(sum)"
   ]
  },
  {
   "cell_type": "code",
   "execution_count": 17,
   "metadata": {},
   "outputs": [
    {
     "name": "stdout",
     "output_type": "stream",
     "text": [
      "sum of the list :  45\n"
     ]
    }
   ],
   "source": [
    "def sum_list(list1):\n",
    "    sum = 0\n",
    "\n",
    "    for i in list1:\n",
    "        sum += i\n",
    "\n",
    "    print(\"sum of the list : \", sum)\n",
    "\n",
    "sum_list([2, 3, 4, 5, 6, 7, 8, 10])\n"
   ]
  },
  {
   "cell_type": "markdown",
   "metadata": {},
   "source": [
    "5. Write a Python program to find the factorial of a number using recursion.\n"
   ]
  },
  {
   "cell_type": "code",
   "execution_count": 21,
   "metadata": {},
   "outputs": [
    {
     "name": "stdout",
     "output_type": "stream",
     "text": [
      "120\n"
     ]
    }
   ],
   "source": [
    "def factorial(n):\n",
    "    if n < 0:\n",
    "        print(\"no lesser than zero!!\")\n",
    "    result = 1\n",
    "    \n",
    "    for i in range(1, n + 1):\n",
    "        result *= i\n",
    "\n",
    "    return result\n",
    "\n",
    "num = 5\n",
    "print(factorial(num))\n",
    "\n"
   ]
  },
  {
   "cell_type": "code",
   "execution_count": 24,
   "metadata": {},
   "outputs": [
    {
     "name": "stdout",
     "output_type": "stream",
     "text": [
      "120\n"
     ]
    }
   ],
   "source": [
    "def factorial_recursive(n):\n",
    "    if n < 0:\n",
    "        return \"factorial is not defines for negative number!!\"\n",
    "    if n == 0 or n == 1:\n",
    "        return 1\n",
    "    \n",
    "    return n * factorial_recursive(n - 1)\n",
    "\n",
    "print(factorial_recursive(5))"
   ]
  },
  {
   "cell_type": "markdown",
   "metadata": {},
   "source": [
    "6.  Write a program to remove duplicates from a list.\n"
   ]
  },
  {
   "cell_type": "code",
   "execution_count": null,
   "metadata": {},
   "outputs": [
    {
     "name": "stdout",
     "output_type": "stream",
     "text": [
      "{2, 3, 4, 5, 6, 7, 8, 9}\n"
     ]
    }
   ],
   "source": [
    "list1 = [5, 6, 7, 8, 9, 2, 4, 3, 3, 3]\n",
    "\n",
    "set1 = set(list1)\n",
    "\n",
    "print(set1)"
   ]
  },
  {
   "cell_type": "code",
   "execution_count": 33,
   "metadata": {},
   "outputs": [
    {
     "name": "stdout",
     "output_type": "stream",
     "text": [
      "[5, 6, 7, 8, 9, 2, 4, 3]\n"
     ]
    }
   ],
   "source": [
    "list1 = [5, 6, 7, 8, 9, 2, 4, 3, 3, 3]\n",
    "result = []\n",
    "for i in list1:\n",
    "    if i not in result:\n",
    "        result.append(i)\n",
    "print(result)\n",
    "\n"
   ]
  },
  {
   "cell_type": "markdown",
   "metadata": {},
   "source": [
    "7. Write a Python program to reverse a string.\n"
   ]
  },
  {
   "cell_type": "code",
   "execution_count": 37,
   "metadata": {},
   "outputs": [
    {
     "data": {
      "text/plain": [
       "('not palindrome', 'ereht')"
      ]
     },
     "execution_count": 37,
     "metadata": {},
     "output_type": "execute_result"
    }
   ],
   "source": [
    "def palindrome(string):\n",
    "    reversed_string = \"\"\n",
    "    for i in string:\n",
    "        reversed_string = i + reversed_string\n",
    "\n",
    "    if reversed_string == string:\n",
    "        return \"palindrome string\", reversed_string\n",
    "    else:\n",
    "        return \"not palindrome\", reversed_string\n",
    "\n",
    "\n",
    "string = input(\"enter the string : \")\n",
    "palindrome(string)\n"
   ]
  },
  {
   "cell_type": "markdown",
   "metadata": {},
   "source": [
    "8. Write a program to check if a given number is a perfect number.\n"
   ]
  },
  {
   "cell_type": "code",
   "execution_count": 39,
   "metadata": {},
   "outputs": [
    {
     "name": "stdout",
     "output_type": "stream",
     "text": [
      "perfect squrae 28\n"
     ]
    }
   ],
   "source": [
    "def is_perfect_number(n):\n",
    "    if n <= 1:\n",
    "        return False\n",
    "    divisor_sum = 0\n",
    "\n",
    "    for i in range(1, n):\n",
    "        if n % i == 0:\n",
    "            divisor_sum += i\n",
    "    \n",
    "    if n == divisor_sum:\n",
    "        return n\n",
    "    \n",
    "num = int(input(\"enter the number : \"))\n",
    "if is_perfect_number(num):\n",
    "    print(\"perfect squrae\", num)\n",
    "else:\n",
    "    print(\"Not the perfecr number : \", num)\n"
   ]
  },
  {
   "cell_type": "markdown",
   "metadata": {},
   "source": [
    "8.  Write a Python program to find the largest and smallest elements in a list.\n"
   ]
  },
  {
   "cell_type": "code",
   "execution_count": 42,
   "metadata": {},
   "outputs": [
    {
     "name": "stdout",
     "output_type": "stream",
     "text": [
      "[1, 2, 2, 4, 5, 6, 7, 8, 99]\n",
      "1\n",
      "99\n"
     ]
    }
   ],
   "source": [
    "list1 = [7, 6, 8, 99, 2, 2, 4, 1, 5]\n",
    "\n",
    "sorted_list = sorted(list1)\n",
    "\n",
    "print(sorted_list)\n",
    "\n",
    "if len(list1) < 0:\n",
    "    print(\"has 2 values ..\")\n",
    "\n",
    "\n",
    "print(sorted_list[0])\n",
    "print(sorted_list[len(list1) - 1])"
   ]
  },
  {
   "cell_type": "code",
   "execution_count": 43,
   "metadata": {},
   "outputs": [
    {
     "name": "stdout",
     "output_type": "stream",
     "text": [
      "1 99\n"
     ]
    }
   ],
   "source": [
    "smallest = min(list1)\n",
    "largest = max(list1)\n",
    "print(smallest, largest)"
   ]
  },
  {
   "cell_type": "markdown",
   "metadata": {},
   "source": [
    "10. Write a program to generate the Fibonacci sequence up to a given number.\n"
   ]
  },
  {
   "cell_type": "code",
   "execution_count": 48,
   "metadata": {},
   "outputs": [
    {
     "name": "stdout",
     "output_type": "stream",
     "text": [
      "0\n",
      "1\n",
      "1\n",
      "2\n",
      "3\n",
      "5\n",
      "8\n",
      "13\n",
      "21\n",
      "34\n",
      "55\n"
     ]
    }
   ],
   "source": [
    "n = 11\n",
    "\n",
    "a = 0\n",
    "b = 1\n",
    "for i in range(n):\n",
    "    print(a)\n",
    "    temp = a + b\n",
    "    a = b\n",
    "    b = temp\n",
    "\n"
   ]
  }
 ],
 "metadata": {
  "kernelspec": {
   "display_name": "Python 3",
   "language": "python",
   "name": "python3"
  },
  "language_info": {
   "codemirror_mode": {
    "name": "ipython",
    "version": 3
   },
   "file_extension": ".py",
   "mimetype": "text/x-python",
   "name": "python",
   "nbconvert_exporter": "python",
   "pygments_lexer": "ipython3",
   "version": "3.11.8"
  }
 },
 "nbformat": 4,
 "nbformat_minor": 2
}
