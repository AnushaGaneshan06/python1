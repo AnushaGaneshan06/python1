{
 "cells": [
  {
   "cell_type": "markdown",
   "metadata": {},
   "source": [
    "# 05 Python Sets questions:"
   ]
  },
  {
   "cell_type": "markdown",
   "metadata": {},
   "source": [
    "| **S.No.** | **Method**                      | **Description**                                                                                                                                                                | **Example**                           |\n",
    "|-----------|----------------------------------|------------------------------------------------------------------------------------------------------------------------------------------------------------------------------|----------------------------------------|\n",
    "| 1         | `add()`                         | **Adds a single element to the set.**<br>If the element already exists, the set remains unchanged.                                                                             | `my_set.add(6)`                        |\n",
    "| 2         | `remove()`                      | **Removes a specified element from the set.**<br>Raises a `KeyError` if the element is not found.                                                                              | `my_set.remove(3)`                     |\n",
    "| 3         | `discard()`                     | **Removes a specified element from the set.**<br>Unlike `remove()`, it does not raise an error if the element does not exist.                                                  | `my_set.discard(3)`                    |\n",
    "| 4         | `pop()`                         | **Removes and returns an arbitrary element from the set.**<br>If the set is empty, it raises a `KeyError`.                                                                    | `my_set.pop()`                         |\n",
    "| 5         | `clear()`                       | **Removes all elements from the set.**<br>Leaves it empty.                                                                                                                   | `my_set.clear()`                       |\n",
    "| 6         | `copy()`                        | **Returns a shallow copy of the set.**<br>This copy is independent of the original set.                                                                                       | `new_set = my_set.copy()`              |\n",
    "| 7         | `union()`                       | **Returns a new set containing all unique elements from both sets.**<br>This operation can also be performed using the `|` operator.<br>Combines two sets and removes duplicates. | `set1.union(set2)` or `set1 | set2`    |\n",
    "| 8         | `intersection()`                | **Returns a new set containing only the elements that are common to both sets.**<br>This operation can also be performed using the `&` operator.                              | `set1.intersection(set2)`              |\n",
    "| 9         | `difference()`                  | **Returns a new set containing elements that are in the first set but not in the second set.**<br>This operation can also be performed using the `-` operator.                 | `set1.difference(set2)`                |\n",
    "| 10        | `symmetric_difference()`        | **Returns a new set containing elements that are in either of the sets but not in both.**<br>This operation can also be performed using the `^` operator.                      | `set1.symmetric_difference(set2)`      |\n",
    "| 11        | `isdisjoint()`                  | **Checks if the two sets have no common elements.**<br>Returns `True` if they don't, otherwise `False`.                                                                       | `set1.isdisjoint(set2)`                |\n",
    "| 12        | `issubset()`                    | **Checks if the current set is a subset of another.**<br>All elements of this set must exist in the other set.                                                                | `set1.issubset(set2)`                  |\n",
    "| 13        | `issuperset()`                  | **Checks if the current set is a superset of another.**<br>This set must contain all elements of the other set.                                                               | `set1.issuperset(set2)`                |\n",
    "| 14        | `update()`                      | **Adds all elements from another iterable (e.g., a list, set, or tuple) to the current set.**<br>Modifies it in place.                                                        | `set1.update(set2)`                    |\n",
    "| 15        | `intersection_update()`         | **Updates the current set, keeping only elements that are common to it and another set.**<br>Performs an in-place intersection.                                               | `set1.intersection_update(set2)`       |\n",
    "| 16        | `difference_update()`           | **Updates the current set, removing elements found in another set.**<br>Performs an in-place difference.                                                                      | `set1.difference_update(set2)`         |\n",
    "| 17        | `symmetric_difference_update()` | **Updates the current set with elements that are in either set but not both.**<br>Performs an in-place symmetric difference.                                                  | `set1.symmetric_difference_update(set2)` |\n"
   ]
  },
  {
   "cell_type": "markdown",
   "metadata": {},
   "source": [
    "---------------------"
   ]
  },
  {
   "cell_type": "markdown",
   "metadata": {},
   "source": [
    "\n",
    "1.  What is a set in Python and what are its key characteristics?\n"
   ]
  },
  {
   "cell_type": "markdown",
   "metadata": {},
   "source": [
    "## What is a Set in Python and What Are Its Key Characteristics?\n",
    "\n",
    "A **set** in Python is an unordered collection of unique elements. Unlike lists or tuples, sets do not allow duplicate values and they do not maintain the order of insertion. Sets are highly useful for membership tests, eliminating duplicates, and performing mathematical operations like union, intersection, and difference.\n",
    "\n",
    "## Key Characteristics of a Python Set:\n",
    "\n",
    "1. **Unordered**: The elements in a set are not stored in any particular order. You cannot access elements by index as you would in a list.\n",
    "2. **Unique Elements**: A set automatically removes any duplicate elements. If you try to add a duplicate item, it will be ignored.\n",
    "3. **Mutable**: Sets are mutable, meaning you can add and remove elements after the set is created.\n",
    "4. **No Indexing or Slicing**: Since sets are unordered, you cannot access individual elements by index or perform slicing operations.\n",
    "5. **Iterable**: Sets can be iterated over in loops, but the order of elements during iteration is not guaranteed.\n",
    "\n",
    "## Set Operations:\n",
    "\n",
    "- **Union (`|`)**: Combines two sets, keeping only unique elements.\n",
    "- **Intersection (`&`)**: Finds elements that are common in both sets.\n",
    "- **Difference (`-`)**: Finds elements that are in one set but not in another.\n",
    "- **Symmetric Difference (`^`)**: Finds elements that are in either of the sets but not in both.\n",
    "\n",
    "Sets are commonly used in Python for tasks that require handling unique values, such as removing duplicates from a list or performing mathematical set operations.\n"
   ]
  },
  {
   "cell_type": "markdown",
   "metadata": {},
   "source": [
    "------------------"
   ]
  },
  {
   "cell_type": "markdown",
   "metadata": {},
   "source": [
    "2. How do you create an empty set in Python?\n"
   ]
  },
  {
   "cell_type": "code",
   "execution_count": null,
   "metadata": {},
   "outputs": [],
   "source": [
    "set_value = set()\n",
    "print(set_value)"
   ]
  },
  {
   "cell_type": "markdown",
   "metadata": {},
   "source": [
    "3. Can a set contain duplicate elements in Python?\n",
    "\n",
    "    * sets always contain unique elements, and any attempt to add a duplicate value will not change the set."
   ]
  },
  {
   "cell_type": "code",
   "execution_count": null,
   "metadata": {},
   "outputs": [],
   "source": [
    "my_set = {3, 4, 5, 6, 6,7, 8, 9, 1, 2, 4, 5, 5}\n",
    "print(my_set)"
   ]
  },
  {
   "cell_type": "markdown",
   "metadata": {},
   "source": [
    "4. How do you create a set with initial elements in Python?\n"
   ]
  },
  {
   "cell_type": "code",
   "execution_count": null,
   "metadata": {},
   "outputs": [],
   "source": [
    "# METHOD \n",
    "print(\"SET : \")\n",
    "my_set = {4, 5, 6, 7}\n",
    "print(my_set, \"\\n\")\n",
    "\n",
    "#METHOD 2\n",
    "# CREATING THE SET FROM THE LIST \n",
    "print(\"CREATING THE SET FROM THE LIST : \")\n",
    "my_set = set([1, 2, 3, 3, 4, 5, 5, 5, 5, 6])\n",
    "print(my_set, \"\\n\")\n",
    "\n",
    "#METHOD 3\n",
    "# CREATING THE TUPLE TO SET\n",
    "print(\"CREATING THE TUPLE TO SET : \")\n",
    "my_set = set((5, 5, 5,5,6, 7, 8, 9, 2, 5,))\n",
    "print(my_set)\n"
   ]
  },
  {
   "cell_type": "markdown",
   "metadata": {},
   "source": [
    "5. How do you add elements to a set in Python?\n"
   ]
  },
  {
   "cell_type": "code",
   "execution_count": null,
   "metadata": {},
   "outputs": [],
   "source": [
    "#SINGLE ELMENT\n",
    "my_set = {3, 4, 5, 7, 7}\n",
    "my_set.add(8)\n",
    "print(my_set)"
   ]
  },
  {
   "cell_type": "code",
   "execution_count": null,
   "metadata": {},
   "outputs": [],
   "source": [
    "# MULTIPLE ELEMENT\n",
    "\n",
    "my_set.update([1, 6, 0])\n",
    "print(my_set)"
   ]
  },
  {
   "cell_type": "markdown",
   "metadata": {},
   "source": [
    "6. How do you remove elements from a set in Python?\n"
   ]
  },
  {
   "cell_type": "code",
   "execution_count": null,
   "metadata": {},
   "outputs": [],
   "source": [
    "my_set = {\"apple\", \"banana\", \"gova\", \"ginger\"}\n",
    "my_set.remove(\"gova\")\n",
    "print(my_set)"
   ]
  },
  {
   "cell_type": "code",
   "execution_count": null,
   "metadata": {},
   "outputs": [],
   "source": [
    "my_set.discard(\"apple\")\n",
    "print(my_set)"
   ]
  },
  {
   "cell_type": "code",
   "execution_count": null,
   "metadata": {},
   "outputs": [],
   "source": [
    "my_set.pop()\n",
    "print(my_set) "
   ]
  },
  {
   "cell_type": "code",
   "execution_count": null,
   "metadata": {},
   "outputs": [],
   "source": [
    "my_set.clear()\n",
    "print(my_set)"
   ]
  },
  {
   "cell_type": "markdown",
   "metadata": {},
   "source": [
    "7. Can you access elements from a set using indexing in Python? Why or why not?\n",
    "\n",
    "        No, you cannot access elements from a set using indexing in Python. This is because sets are unordered collections, meaning the elements in a set do not have a specific order or position.\n",
    "\n"
   ]
  },
  {
   "cell_type": "code",
   "execution_count": null,
   "metadata": {},
   "outputs": [],
   "source": [
    "my_set = {8, 9, 0, 1, 2, 3, 4, 5}\n",
    "print(my_set[0]) #ERROR APPEARS"
   ]
  },
  {
   "cell_type": "code",
   "execution_count": null,
   "metadata": {},
   "outputs": [],
   "source": [
    "my_set = {5, 6, 7, 8, 9, 0}\n",
    "\n",
    "for element in my_set:\n",
    "    print(element)"
   ]
  },
  {
   "cell_type": "code",
   "execution_count": null,
   "metadata": {},
   "outputs": [],
   "source": [
    "# CONVERT LIST TO INDEXING\n",
    "\n",
    "my_set = {0, 9, 8, 7,6 ,5 ,4 , 3, 4, 2, 1}\n",
    "\n",
    "my_list = list(my_set)\n",
    "\n",
    "print(my_list[:3])\n",
    "\n",
    "print(my_list[0])"
   ]
  },
  {
   "cell_type": "markdown",
   "metadata": {},
   "source": [
    "8.  How do you find the length of a set in Python?\n"
   ]
  },
  {
   "cell_type": "code",
   "execution_count": null,
   "metadata": {},
   "outputs": [],
   "source": [
    "my_set = {3, 4, 5, 6, 7, 8, 9,0}\n",
    "\n",
    "lenght = len(my_set)\n",
    "\n",
    "print(lenght)"
   ]
  },
  {
   "cell_type": "markdown",
   "metadata": {},
   "source": [
    "9. Can you perform mathematical operations like union, intersection, and difference on sets in Python? If yes, how?\n"
   ]
  },
  {
   "cell_type": "markdown",
   "metadata": {},
   "source": [
    "    UNION SECTION"
   ]
  },
  {
   "cell_type": "code",
   "execution_count": null,
   "metadata": {},
   "outputs": [],
   "source": [
    "#METHOD 1\n",
    "\n",
    "set1 = {1, 2, 3, 5,4 }\n",
    "set2 = {7, 8, 9, 0}\n",
    "\n",
    "union = set1 | set2\n",
    "\n",
    "print(union)"
   ]
  },
  {
   "cell_type": "code",
   "execution_count": null,
   "metadata": {},
   "outputs": [],
   "source": [
    "# METHOD 2\n",
    "\n",
    "union = set1.union(set2)\n",
    "print(union)"
   ]
  },
  {
   "cell_type": "markdown",
   "metadata": {},
   "source": [
    "    INTERSECTION"
   ]
  },
  {
   "cell_type": "code",
   "execution_count": null,
   "metadata": {},
   "outputs": [],
   "source": [
    "set1 = {\"apple\", \"orange\", \"gova\", \"juice\"}\n",
    "set2 = {\"grape\", \"gova\", \"groove\", \"juice\"}\n",
    "\n",
    "intersection  = set1 & set2\n",
    "\n",
    "print(intersection)"
   ]
  },
  {
   "cell_type": "code",
   "execution_count": null,
   "metadata": {},
   "outputs": [],
   "source": [
    "intersection = set1.intersection(set2)\n",
    "print(intersection)"
   ]
  },
  {
   "cell_type": "markdown",
   "metadata": {},
   "source": [
    "    DIFFERENCE"
   ]
  },
  {
   "cell_type": "code",
   "execution_count": null,
   "metadata": {},
   "outputs": [],
   "source": [
    "set1 = {1, 2, 0, 4}\n",
    "set2 = {8, 9, 0, 6}\n",
    "\n",
    "difference = set1 - set2\n",
    "\n",
    "# set1 prints\n",
    "\n",
    "print(difference)"
   ]
  },
  {
   "cell_type": "code",
   "execution_count": null,
   "metadata": {},
   "outputs": [],
   "source": [
    "difference = set1.difference(set2)\n",
    "print(difference)"
   ]
  },
  {
   "cell_type": "markdown",
   "metadata": {},
   "source": [
    "    Symmetric Difference"
   ]
  },
  {
   "cell_type": "code",
   "execution_count": null,
   "metadata": {},
   "outputs": [],
   "source": [
    "set1 = {5, 6, 7, 8, 9}\n",
    "set2 = {1, 2, 9, 8, 7}\n",
    "\n",
    "symmetric_difference = set1 ^ set2\n",
    "\n",
    "# different data prints\n",
    "\n",
    "print(symmetric_difference)\n"
   ]
  },
  {
   "cell_type": "code",
   "execution_count": null,
   "metadata": {},
   "outputs": [],
   "source": [
    "symmetric_difference = set1.symmetric_difference(set2)\n",
    "print(symmetric_difference)"
   ]
  },
  {
   "cell_type": "markdown",
   "metadata": {},
   "source": [
    "10. How do you check if an element exists in a set in Python?\n"
   ]
  },
  {
   "cell_type": "code",
   "execution_count": null,
   "metadata": {},
   "outputs": [],
   "source": [
    "my_set = {3, 4, 5, 6, 8, 7, 8, 1, 2}\n",
    "\n",
    "for element in my_set:\n",
    "    if element == 8:\n",
    "        print(element)\n",
    "   "
   ]
  },
  {
   "cell_type": "code",
   "execution_count": null,
   "metadata": {},
   "outputs": [],
   "source": [
    "if 9 not in my_set:\n",
    "    print(True)\n",
    "else:\n",
    "    print(True)"
   ]
  },
  {
   "cell_type": "code",
   "execution_count": null,
   "metadata": {},
   "outputs": [],
   "source": [
    "print(8 in my_set)\n",
    "print(1 in my_set)"
   ]
  },
  {
   "cell_type": "markdown",
   "metadata": {},
   "source": [
    "11. What is the difference between a set and a frozenset in Python?\n"
   ]
  },
  {
   "cell_type": "markdown",
   "metadata": {},
   "source": [
    "| Feature              | **Set** Example                                      | **Frozenset** Example                                    |\n",
    "|----------------------|------------------------------------------------------|----------------------------------------------------------|\n",
    "| **Definition**        | A **set** is a **mutable** collection of unique elements. | A **frozenset** is an **immutable** set.                |\n",
    "| **Mutability**        | `my_set = {1, 2, 3}`<br>`my_set.add(4)`              | `my_frozenset = frozenset([10, 20, 30])`                 |\n",
    "| **Adding Elements**   | `my_set.add(5)`<br>`print(my_set)`  # Output: {1, 2, 3, 4, 5} | Cannot add elements to a frozenset                      |\n",
    "| **Removing Elements** | `my_set.remove(2)`<br>`print(my_set)`  # Output: {1, 3, 4, 5} | Cannot remove elements from a frozenset                   |\n",
    "| **Hashability**       | `# my_set cannot be used as a dictionary key`         | `my_dict = {my_frozenset: 'value'}`  # Frozenset can be used as a key  |\n"
   ]
  },
  {
   "cell_type": "code",
   "execution_count": null,
   "metadata": {},
   "outputs": [],
   "source": [
    "my_frozenset = frozenset([10, 20, 30, 40])\n",
    "\n",
    "print(type(my_frozenset), my_frozenset)\n",
    "\n",
    "my_dict = {my_frozenset : \"works Dictionary set\"}\n",
    "print(my_dict)"
   ]
  },
  {
   "cell_type": "code",
   "execution_count": null,
   "metadata": {},
   "outputs": [],
   "source": [
    "my_frozenset1 = frozenset([1, 4, 5, 6, 7, 8])\n",
    "my_frozenset2 = frozenset([1, 2, 3, 4, 5, 6])\n",
    "\n",
    "print(my_frozenset1)\n",
    "print(my_frozenset2)\n",
    "\n",
    "union = my_frozenset | my_frozenset2\n",
    "print(union)\n",
    "\n",
    "intersection = my_frozenset1 & my_frozenset2\n",
    "print(intersection)"
   ]
  },
  {
   "cell_type": "markdown",
   "metadata": {},
   "source": [
    "12. How do you iterate over elements in a set using a for loop in Python?\n"
   ]
  },
  {
   "cell_type": "code",
   "execution_count": null,
   "metadata": {},
   "outputs": [],
   "source": [
    "my_set = {2, 3, 4, 5, 6, 7, 8,1, 2}\n",
    "\n",
    "for i in my_set:\n",
    "    print(i)"
   ]
  },
  {
   "cell_type": "code",
   "execution_count": null,
   "metadata": {},
   "outputs": [],
   "source": [
    "my_set = {\"apple\", \"orange\", \"kiwi\"}\n",
    "\n",
    "for index, value in enumerate(my_set):\n",
    "    print(f\"{index}:{value}\")"
   ]
  },
  {
   "cell_type": "markdown",
   "metadata": {},
   "source": [
    "13.  Can a set contain elements of different data types in Python?\n",
    "\n"
   ]
  },
  {
   "cell_type": "code",
   "execution_count": 92,
   "metadata": {},
   "outputs": [
    {
     "name": "stdout",
     "output_type": "stream",
     "text": [
      "<class 'bool'> : False\n",
      "<class 'int'> : 1\n",
      "<class 'int'> : 2\n",
      "<class 'float'> : 6.7\n",
      "<class 'str'> : hello\n"
     ]
    }
   ],
   "source": [
    "my_set = {1, 2, \"hello\", 6.7, True, False}\n",
    "\n",
    "for element in my_set:\n",
    "    print(f\"{type(element)} : {element}\")"
   ]
  },
  {
   "cell_type": "markdown",
   "metadata": {},
   "source": [
    "14. How do you check if two sets are equal in Python?\n"
   ]
  },
  {
   "cell_type": "code",
   "execution_count": 93,
   "metadata": {},
   "outputs": [
    {
     "name": "stdout",
     "output_type": "stream",
     "text": [
      "sets are equal\n"
     ]
    }
   ],
   "source": [
    "set1 = {1, 3, 4, 5, 7, 9}\n",
    "set2 = {1, 3, 4, 5, 7, 9}\n",
    "\n",
    "if set1 == set2:\n",
    "    print(\"sets are equal\")\n",
    "else:\n",
    "    print(\"not equal\")"
   ]
  },
  {
   "cell_type": "markdown",
   "metadata": {},
   "source": [
    "15. How do you check if one set is a subset or superset of another set in Python?\n",
    "\n",
    "* <=: Subset (A is a subset of B)\n",
    "\n",
    "* <: Proper Subset (A is a proper subset of B)\n",
    "\n",
    "* >=: Superset (A is a superset of B)\n",
    "\n",
    "* >: Proper Superset (A is a proper superset of B)\n",
    "\n",
    "* ==: Equal Sets (A is equal to B)\n"
   ]
  },
  {
   "cell_type": "markdown",
   "metadata": {},
   "source": [
    "    <= SUBSET"
   ]
  },
  {
   "cell_type": "code",
   "execution_count": 101,
   "metadata": {},
   "outputs": [
    {
     "name": "stdout",
     "output_type": "stream",
     "text": [
      "set1 is subset of set2\n"
     ]
    }
   ],
   "source": [
    "set1 = {\"apple\", \"banana\"}\n",
    "set2 = {\"apple\", \"banana\", \"cherry\"}\n",
    "\n",
    "if set1 <= set2:\n",
    "    print(\"set1 is subset of set2\")\n",
    "else:\n",
    "    print(\"bot the subset\")"
   ]
  },
  {
   "cell_type": "markdown",
   "metadata": {},
   "source": [
    "     Proper Subset (<)"
   ]
  },
  {
   "cell_type": "code",
   "execution_count": 120,
   "metadata": {},
   "outputs": [
    {
     "name": "stdout",
     "output_type": "stream",
     "text": [
      "set1 is proper set of set2\n"
     ]
    }
   ],
   "source": [
    "set1 = {\"apple\", \"banana\"}\n",
    "set2 = {\"apple\", \"banana\", \"giwi\"}\n",
    "\n",
    "if set1 < set2:\n",
    "    print(\"set1 is proper set of set2\")\n",
    "else:\n",
    "    print(\"no subset\")"
   ]
  },
  {
   "cell_type": "markdown",
   "metadata": {},
   "source": [
    "    Superset (>=)"
   ]
  },
  {
   "cell_type": "code",
   "execution_count": 123,
   "metadata": {},
   "outputs": [
    {
     "name": "stdout",
     "output_type": "stream",
     "text": [
      "not superset\n"
     ]
    }
   ],
   "source": [
    "# set2 contains \"banana\", which is not in set1. Hence, set1 is not a superset of set2.\n",
    "\n",
    "set1 = {\"apple\", \"giwi\"}\n",
    "set2 = {\"apple\", \"banana\"}\n",
    "\n",
    "if set1 >= set2:\n",
    "    print(\"set2 (apple, banana) are present in set1. Hence, set1 is a superset of set2.\")\n",
    "else:\n",
    "    print(\"not superset\")"
   ]
  },
  {
   "cell_type": "markdown",
   "metadata": {},
   "source": [
    "16. How do you create a shallow copy or clone of a set in Python?\n",
    "* A **shallow copy** duplicates the set itself but references the same elements, sufficient for sets as they only store immutable elements.\n"
   ]
  },
  {
   "cell_type": "code",
   "execution_count": 124,
   "metadata": {},
   "outputs": [
    {
     "name": "stdout",
     "output_type": "stream",
     "text": [
      "{2, 3, 4, 5}\n",
      "{2, 3, 4, 5}\n"
     ]
    }
   ],
   "source": [
    "original_set = {3, 2, 4, 5}\n",
    "\n",
    "copy_set = original_set.copy()\n",
    "\n",
    "print(original_set)\n",
    "print(copy_set)"
   ]
  },
  {
   "cell_type": "code",
   "execution_count": 126,
   "metadata": {},
   "outputs": [
    {
     "name": "stdout",
     "output_type": "stream",
     "text": [
      "{8, 4, 5, 6}\n",
      "{8, 4, 5, 6}\n"
     ]
    }
   ],
   "source": [
    "original_set = {4, 5, 6, 8}\n",
    "\n",
    "copy_set = set(original_set)\n",
    "\n",
    "print(original_set)\n",
    "print(copy_set)"
   ]
  },
  {
   "cell_type": "markdown",
   "metadata": {},
   "source": [
    "17.  How do you clear or empty a set in Python?\n"
   ]
  },
  {
   "cell_type": "code",
   "execution_count": 127,
   "metadata": {},
   "outputs": [
    {
     "name": "stdout",
     "output_type": "stream",
     "text": [
      "set()\n"
     ]
    }
   ],
   "source": [
    "set1 = {\"ravi\", \"harry\", \"rowoon\", \"jackie\"}\n",
    "\n",
    "set1.clear()\n",
    "\n",
    "print(set1)\n"
   ]
  },
  {
   "cell_type": "markdown",
   "metadata": {},
   "source": [
    "18. Can you sort a set in Python? If not, why?"
   ]
  },
  {
   "cell_type": "code",
   "execution_count": null,
   "metadata": {},
   "outputs": [
    {
     "name": "stdout",
     "output_type": "stream",
     "text": [
      "['angel', 'bibi', 'jenni', 'lisa', 'momo', 'rosie']\n",
      "['angel', 'bibi', 'jenni', 'lisa', 'momo', 'rosie']\n"
     ]
    }
   ],
   "source": [
    "set1 = {\"jenni\", \"momo\", \"lisa\", \"rosie\", \"angel\", \"bibi\"}\n",
    "\n",
    "sort_set = list(set1)\n",
    "\n",
    "sort_set.sort()\n",
    "print(sort_set)\n",
    "\n",
    "sorted_list =set(sort_set)\n",
    "\n",
    "print(sort_set)"
   ]
  },
  {
   "cell_type": "code",
   "execution_count": 150,
   "metadata": {},
   "outputs": [
    {
     "name": "stdout",
     "output_type": "stream",
     "text": [
      "['anthem', 'guitar', 'music', 'notes', 'quotes', 'stroke']\n"
     ]
    }
   ],
   "source": [
    "# sorted\n",
    "\n",
    "set1 = {\"music\", \"guitar\", \"notes\", \"quotes\", \"stroke\", \"anthem\"}\n",
    "\n",
    "sorted_list = sorted(set1)\n",
    "\n",
    "print(sorted_list)"
   ]
  },
  {
   "cell_type": "markdown",
   "metadata": {},
   "source": [
    "19. How do you convert a set into a list or tuple in Python?\n"
   ]
  },
  {
   "cell_type": "code",
   "execution_count": 152,
   "metadata": {},
   "outputs": [
    {
     "name": "stdout",
     "output_type": "stream",
     "text": [
      "<class 'set'> {1, 2, 3, 4, 5, 6, 7, 8}\n",
      "<class 'list'> [1, 2, 3, 4, 5, 6, 7, 8]\n",
      "<class 'tuple'> (1, 2, 3, 4, 5, 6, 7, 8)\n"
     ]
    }
   ],
   "source": [
    "set1 = {1, 2, 3, 4, 5, 6, 7, 8}\n",
    "print(type(set1), set1)\n",
    "\n",
    "list_change = list(set1)\n",
    "print(type(list_change), list_change)\n",
    "\n",
    "tuple_change = tuple(set1)\n",
    "print(type(tuple_change), tuple_change)"
   ]
  },
  {
   "cell_type": "markdown",
   "metadata": {},
   "source": [
    "20. What are some common use cases or advantages of using sets in Python?\n"
   ]
  },
  {
   "cell_type": "markdown",
   "metadata": {},
   "source": [
    "| **Use Case**                | **Description**                           | **Example**                                                                 |\n",
    "|-----------------------------|-------------------------------------------|-----------------------------------------------------------------------------|\n",
    "| **Eliminating Duplicates**   | Remove duplicate elements.                | `my_list = [1, 2, 2, 3]` → `unique_elements = set(my_list)`  # {1, 2, 3} |\n",
    "| **Membership Testing**       | Check if an item exists in a set.         | `my_set = {1, 2, 3}` → `3 in my_set`  # True                                 |\n",
    "| **Set Operations**           | Perform union, intersection, difference. | `set_a = {1, 2}`<br>`set_b = {2, 3}` → `set_a | set_b`  # {1, 2, 3}         |\n",
    "| **Removing Redundant Data**  | Remove repeated data.                     | `emails = {\"a\", \"b\", \"a\"}` → `print(emails)`  # {'a', 'b'}                |\n",
    "| **Comparing Sets**           | Compare sets for equality or subset.      | `set1 = {1, 2}`<br>`set2 = {1, 2, 3}` → `set1 < set2`  # True               |\n",
    "| **Handling Large Datasets**  | Remove duplicates in large datasets.      | `dataset = [1, 2, 2, 3]` → `unique_data = set(dataset)`  # {1, 2, 3}       |\n"
   ]
  }
 ],
 "metadata": {
  "kernelspec": {
   "display_name": "Python 3",
   "language": "python",
   "name": "python3"
  },
  "language_info": {
   "codemirror_mode": {
    "name": "ipython",
    "version": 3
   },
   "file_extension": ".py",
   "mimetype": "text/x-python",
   "name": "python",
   "nbconvert_exporter": "python",
   "pygments_lexer": "ipython3",
   "version": "3.11.8"
  }
 },
 "nbformat": 4,
 "nbformat_minor": 2
}
