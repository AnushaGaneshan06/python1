{
 "cells": [
  {
   "cell_type": "markdown",
   "metadata": {},
   "source": [
    "# Python Variables & Operators Questions:"
   ]
  },
  {
   "cell_type": "markdown",
   "metadata": {},
   "source": [
    "1. Create two variables, x and y, and assign them the values 5 and 7, respectively"
   ]
  },
  {
   "cell_type": "code",
   "execution_count": null,
   "metadata": {},
   "outputs": [],
   "source": [
    "x = 3\n",
    "y = 5\n",
    "print(x, y)"
   ]
  },
  {
   "cell_type": "markdown",
   "metadata": {},
   "source": [
    "2. Calculate the sum of x and y and store it in a new variable called z."
   ]
  },
  {
   "cell_type": "code",
   "execution_count": null,
   "metadata": {},
   "outputs": [],
   "source": [
    "x = 4\n",
    "y = 1.2\n",
    "z = x + y\n",
    "print(z)"
   ]
  },
  {
   "cell_type": "markdown",
   "metadata": {},
   "source": [
    "3. What is the difference between a variable and a constant in Python? Provide an example of each.\n",
    "-------------"
   ]
  },
  {
   "cell_type": "markdown",
   "metadata": {},
   "source": [
    "**Variable**: A name that holds a value, and you can change that value anytime.\n",
    "\n",
    "**Constant**: A name for a value that you should not change, though Python doesn't stop you from doing so. We use all uppercase letters to show it's a constant.\n"
   ]
  },
  {
   "cell_type": "markdown",
   "metadata": {},
   "source": [
    "4. Create a variable called my_string and assign it the value \"Hello, world!\". Use indexing to print the first character of the string.\n",
    "\n"
   ]
  },
  {
   "cell_type": "code",
   "execution_count": null,
   "metadata": {},
   "outputs": [],
   "source": [
    "my_string = \"Hello world!!\"\n",
    "print(my_string[0])"
   ]
  },
  {
   "cell_type": "markdown",
   "metadata": {},
   "source": [
    "5. What is dynamic typing in Python? Explain with an example.\n",
    "* Dynamic typing means you don't have to tell Python what type of value a variable will hold. Python automatically figures out the type based on the value you assign to the variable. Also, a variable's type can change during the program.\n"
   ]
  },
  {
   "cell_type": "code",
   "execution_count": null,
   "metadata": {},
   "outputs": [],
   "source": [
    "x = \"hello\"\n",
    "print(type(x), x)\n",
    "\n",
    "x = 67\n",
    "print(type(x), x)\n",
    "\n",
    "x = [2, 3, 4, 9]\n",
    "print(type(x), x)"
   ]
  },
  {
   "cell_type": "markdown",
   "metadata": {},
   "source": [
    "6. What is the difference between the '==' operator and the 'is' operator in Python? Explain with an example.\n",
    "--------------\n",
    "\n",
    "**1. == Operator (Equality Operator):**\n",
    "\n",
    "- **Purpose**: The `==` operator checks if the values of two objects are the same, i.e., if they are **equal**.\n",
    "- **What it compares**: It compares the **content** of the objects to see if they are equal.\n",
    "\n",
    "**2. is Operator (Identity Operator):**\n",
    "\n",
    "- **Purpose**: The `is` operator checks if two references point to the **same object** in memory (i.e., if they are the **same object**).\n",
    "- **What it compares**: It compares the **identity** of the objects (whether they are the same object, not just the same value).\n",
    "boolean value: True or False\n",
    "\n"
   ]
  },
  {
   "cell_type": "code",
   "execution_count": null,
   "metadata": {},
   "outputs": [],
   "source": [
    "a = [2, 3, 5, 6]\n",
    "b = [5, 7, 8, 9]\n",
    "c = [2, 3, 5, 6] # assign opertaion\n",
    "\n",
    "# == operator checks 2 value are equal\n",
    "\n",
    "print(f\"a == b : {a == b}\")\n",
    "print(f\"a == c: {a == c}\")\n"
   ]
  },
  {
   "cell_type": "code",
   "execution_count": null,
   "metadata": {},
   "outputs": [],
   "source": [
    "# is operator\n",
    "\n",
    "print(f\"a is b : {a is b}\")\n",
    "print(f\"a is c : {a is c}\")"
   ]
  },
  {
   "cell_type": "code",
   "execution_count": 1,
   "metadata": {},
   "outputs": [
    {
     "name": "stdout",
     "output_type": "stream",
     "text": [
      " == store the different memory: True\n"
     ]
    },
    {
     "ename": "NameError",
     "evalue": "name 'c' is not defined",
     "output_type": "error",
     "traceback": [
      "\u001b[1;31m---------------------------------------------------------------------------\u001b[0m",
      "\u001b[1;31mNameError\u001b[0m                                 Traceback (most recent call last)",
      "Cell \u001b[1;32mIn[1], line 4\u001b[0m\n\u001b[0;32m      2\u001b[0m b \u001b[38;5;241m=\u001b[39m \u001b[38;5;124m\"\u001b[39m\u001b[38;5;124mdifferent storage\u001b[39m\u001b[38;5;124m\"\u001b[39m\n\u001b[0;32m      3\u001b[0m \u001b[38;5;28mprint\u001b[39m(\u001b[38;5;124mf\u001b[39m\u001b[38;5;124m\"\u001b[39m\u001b[38;5;124m == store the different memory: \u001b[39m\u001b[38;5;132;01m{\u001b[39;00ma\u001b[38;5;250m \u001b[39m\u001b[38;5;241m==\u001b[39m\u001b[38;5;250m \u001b[39mb\u001b[38;5;132;01m}\u001b[39;00m\u001b[38;5;124m\"\u001b[39m)\n\u001b[1;32m----> 4\u001b[0m a \u001b[38;5;241m=\u001b[39m \u001b[43mc\u001b[49m\n\u001b[0;32m      5\u001b[0m \u001b[38;5;28mprint\u001b[39m( a \u001b[38;5;129;01mis\u001b[39;00m b)\n\u001b[0;32m      6\u001b[0m \u001b[38;5;28mprint\u001b[39m(\u001b[38;5;124mf\u001b[39m\u001b[38;5;124m\"\u001b[39m\u001b[38;5;124mis store same memory : \u001b[39m\u001b[38;5;132;01m{\u001b[39;00ma\u001b[38;5;250m \u001b[39m\u001b[38;5;129;01mis\u001b[39;00m\u001b[38;5;250m \u001b[39mc\u001b[38;5;132;01m}\u001b[39;00m\u001b[38;5;124m\"\u001b[39m)\n",
      "\u001b[1;31mNameError\u001b[0m: name 'c' is not defined"
     ]
    }
   ],
   "source": [
    "a = \"different storage\"\n",
    "b = \"different storage\"\n",
    "print(f\" == store the different memory: {a == b}\")\n",
    "a = c\n",
    "print( a is b)\n",
    "print(f\"is store same memory : {a is c}\")\n",
    "\n"
   ]
  },
  {
   "cell_type": "markdown",
   "metadata": {},
   "source": [
    "7. What is the 'not' operator in Python? Provide an example.\n",
    "\n",
    "* not returns True if the operand is False, and it returns False if the operand is True.\n"
   ]
  },
  {
   "cell_type": "code",
   "execution_count": null,
   "metadata": {},
   "outputs": [],
   "source": [
    "x = True\n",
    "y = False\n",
    "\n",
    "print(not x)\n",
    "print(not y)"
   ]
  },
  {
   "cell_type": "code",
   "execution_count": null,
   "metadata": {},
   "outputs": [],
   "source": [
    "a = 5\n",
    "b = 0\n",
    "\n",
    "if not  a == b:\n",
    "    print(\" a is not equal to b\")\n",
    "else:\n",
    "    print(\"a is equal to b\")"
   ]
  },
  {
   "cell_type": "code",
   "execution_count": null,
   "metadata": {},
   "outputs": [],
   "source": [
    "is_rainning = False\n",
    "\n",
    "if not is_rainning:\n",
    "    print(\"false: its not raining\")\n",
    "else:\n",
    "    print(\"True: its raining\")"
   ]
  },
  {
   "cell_type": "markdown",
   "metadata": {},
   "source": [
    "8. What is the difference between a variable and a constant in Python? Provide an example of each.\n"
   ]
  },
  {
   "cell_type": "code",
   "execution_count": null,
   "metadata": {},
   "outputs": [],
   "source": [
    "# variable example\n",
    "a = 45\n",
    "a = 34\n",
    "print(a)"
   ]
  },
  {
   "cell_type": "code",
   "execution_count": null,
   "metadata": {},
   "outputs": [],
   "source": [
    "# constants\n",
    "\n",
    "MAX_USERS = 100\n",
    "PI = 3.14159\n",
    "GRAVITY = 9.81\n",
    "\n",
    "current_user = 50\n",
    "\n",
    "if current_user > MAX_USERS:\n",
    "    print(\"Error: maximum user limit reached!\")\n",
    "else:\n",
    "    print(f\"current number of user is {current_user}, within the limit\")\n",
    "\n",
    "radius = 2\n",
    "area = PI * (radius ** 2)\n",
    "print(area)"
   ]
  },
  {
   "cell_type": "markdown",
   "metadata": {},
   "source": [
    "9. What is dynamic typing in Python? Explain with an example.\n",
    "\n",
    " Dynamic Typing in Python\n",
    "\n",
    "- **Dynamic typing** means that variable types are determined at **runtime**, and you don't need to explicitly declare the type of a variable.\n",
    "- Variables can **change type** during program execution, based on the assigned value.\n",
    "- While dynamic typing offers **flexibility**, it may lead to **runtime errors** if operations involve incompatible types.\n"
   ]
  },
  {
   "cell_type": "code",
   "execution_count": null,
   "metadata": {},
   "outputs": [
    {
     "name": "stdout",
     "output_type": "stream",
     "text": [
      "0\n",
      "Dynamic typing leads the type error 105\n"
     ]
    }
   ],
   "source": [
    "a = 5\n",
    "a = 0\n",
    "print(a)\n",
    "\n",
    "x = 10\n",
    "y = \"5\"\n",
    "\n",
    "result = str(x) + y #no error\n",
    "result = x + y # leads error\n",
    "print(f\"Dynamic typing leads the type error {result}\")"
   ]
  },
  {
   "cell_type": "markdown",
   "metadata": {},
   "source": [
    "10. Write a Python program to find the area of a rectangle using variables. Assume the length and width of the rectangle are 4 and 5, respectively.\n"
   ]
  },
  {
   "cell_type": "code",
   "execution_count": null,
   "metadata": {},
   "outputs": [],
   "source": [
    "lenght = 4\n",
    "width = 5\n",
    "area = lenght * width\n",
    "print(f\"The area of the rectangle of lenght : {lenght} and width : {width} is {area}\")"
   ]
  },
  {
   "cell_type": "markdown",
   "metadata": {},
   "source": [
    "11. Create a variable called my_float and assign it the value 3.14159. Print the variable and its data type.\n"
   ]
  },
  {
   "cell_type": "code",
   "execution_count": null,
   "metadata": {},
   "outputs": [],
   "source": [
    "my_float = 3.14159\n",
    "print(type(my_float), my_float)"
   ]
  },
  {
   "cell_type": "markdown",
   "metadata": {},
   "source": [
    "12. Write a Python program that calculates the sum of two numbers using variables. Assume the numbers are 10 and 20, respectively.\n"
   ]
  },
  {
   "cell_type": "code",
   "execution_count": null,
   "metadata": {},
   "outputs": [],
   "source": [
    "a = 10\n",
    "b = 20\n",
    "calculates = a + b\n",
    "print(calculates)"
   ]
  },
  {
   "cell_type": "markdown",
   "metadata": {},
   "source": [
    "13. Write a Python program that calculates the average of three numbers using variables. Assume the numbers are 10, 20, and 30, respectively.\n"
   ]
  },
  {
   "cell_type": "code",
   "execution_count": null,
   "metadata": {},
   "outputs": [],
   "source": [
    "a = 10\n",
    "b = 20 \n",
    "c = 30\n",
    "average = (a + b + c) // 3 # //no float\n",
    "print(average)\n"
   ]
  },
  {
   "cell_type": "markdown",
   "metadata": {},
   "source": [
    "14. What is the modulus operator in Python? Provide an example.\n"
   ]
  },
  {
   "cell_type": "code",
   "execution_count": null,
   "metadata": {},
   "outputs": [],
   "source": [
    "a = 10\n",
    "b = 2\n",
    "\n",
    "modulus = a % b\n",
    "print(f\"The remainder of the division : {modulus}\")"
   ]
  },
  {
   "cell_type": "markdown",
   "metadata": {},
   "source": [
    "15. What is the identity operator in Python? Explain with an example.\n"
   ]
  },
  {
   "cell_type": "code",
   "execution_count": null,
   "metadata": {},
   "outputs": [],
   "source": [
    "a = 5\n",
    "c = a\n",
    "print(f\" identity opertaor : {a is c}\")"
   ]
  },
  {
   "cell_type": "code",
   "execution_count": null,
   "metadata": {},
   "outputs": [],
   "source": [
    "a = [1, 3, 4, 5]\n",
    "b = [5, 6, 6, 7]\n",
    "\n",
    "print(a is not b)"
   ]
  },
  {
   "cell_type": "markdown",
   "metadata": {},
   "source": [
    "16. Write a Python program that swaps the values of two variables using variables. Assume the variables are x=5 and y=10.\n"
   ]
  },
  {
   "cell_type": "code",
   "execution_count": null,
   "metadata": {},
   "outputs": [],
   "source": [
    "x = 5\n",
    "y = 10\n",
    "print(f\" After swapping : {x, y}\")\n",
    "temp = x\n",
    "x = y\n",
    "y = temp\n",
    "print(f\" After swapping : {x, y}\")"
   ]
  },
  {
   "cell_type": "code",
   "execution_count": null,
   "metadata": {},
   "outputs": [],
   "source": [
    "a = 6\n",
    "b = 10\n",
    "print(f\" Before swapping : {a, b}\")\n",
    "\n",
    "a, b = b , a\n",
    "print(f\" After swapping : {a, b}\")"
   ]
  },
  {
   "cell_type": "markdown",
   "metadata": {},
   "source": [
    "17. What is the difference between the 'and' operator and the 'or' operator in Python? Explain with an example.\n"
   ]
  },
  {
   "cell_type": "code",
   "execution_count": null,
   "metadata": {},
   "outputs": [],
   "source": [
    "a = 15\n",
    "b = 20\n",
    "c = 30\n",
    "d = -10\n",
    "\n",
    "# and operator\n",
    "# ------------------\n",
    "\n",
    "if ( a > 10 and b < 30) and (c == 30 and d < 0):\n",
    "    print(\"AND condition 1 is True\")\n",
    "\n",
    "else:\n",
    "    print(\"AND condition 2 is False\")\n",
    "\n",
    "# or operator\n",
    "# -----------------\n",
    "\n",
    "if (a > 20 or b < 30) or (c != 30 or d > 0):\n",
    "    print(\"OR condition 1 True\")\n",
    "else:\n",
    "    print(\"OR condition2 is False\")\n",
    "\n",
    "# combine operator\n",
    "# ------------------\n",
    "\n",
    "if (a > 20 or b < 30) and (c != 30 or d > 0):\n",
    "    print(\"OR & AND condition 1 True\")\n",
    "else:\n",
    "    print(\"OR & AND condition2 is False\")\n",
    "\n",
    "\n"
   ]
  },
  {
   "cell_type": "markdown",
   "metadata": {},
   "source": [
    "18. What is the 'not' operator in Python? Provide an example.\n"
   ]
  },
  {
   "cell_type": "code",
   "execution_count": null,
   "metadata": {},
   "outputs": [],
   "source": [
    "age = 29\n",
    "\n",
    "if not age < 18:\n",
    "    print(\"You are 18 years old\")\n",
    "else:\n",
    "    print(\"you are younger than 18\")"
   ]
  }
 ],
 "metadata": {
  "kernelspec": {
   "display_name": "Python 3",
   "language": "python",
   "name": "python3"
  },
  "language_info": {
   "codemirror_mode": {
    "name": "ipython",
    "version": 3
   },
   "file_extension": ".py",
   "mimetype": "text/x-python",
   "name": "python",
   "nbconvert_exporter": "python",
   "pygments_lexer": "ipython3",
   "version": "3.11.8"
  }
 },
 "nbformat": 4,
 "nbformat_minor": 2
}
