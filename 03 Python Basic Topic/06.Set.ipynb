{
 "cells": [
  {
   "cell_type": "markdown",
   "metadata": {},
   "source": [
    "### ***06 Set in python***"
   ]
  },
  {
   "cell_type": "markdown",
   "metadata": {},
   "source": [
    "A set is an unordered collection of unique elements. Sets are useful when you want to store multiple items but don't need to keep track of their order or allow duplicates.\n",
    "\n",
    "Sets are mutable, which means you can modify them after creation (add, remove, etc.)."
   ]
  },
  {
   "cell_type": "markdown",
   "metadata": {},
   "source": [
    "#### ***1. Creation of sets***"
   ]
  },
  {
   "cell_type": "markdown",
   "metadata": {},
   "source": [
    "**set = {} this is not set its dict**"
   ]
  },
  {
   "cell_type": "code",
   "execution_count": 30,
   "metadata": {},
   "outputs": [
    {
     "name": "stdout",
     "output_type": "stream",
     "text": [
      "<class 'set'>\n",
      "{1, 2, 3, 4, 5, 6}\n",
      "{True, 10, 4, 'jenni'}\n"
     ]
    }
   ],
   "source": [
    "# Sets creates with curly braces\n",
    "\n",
    "my_set = {1, 2, 3, 4, 5}\n",
    "print(type(my_set))\n",
    "\n",
    "# Empty set\n",
    "\n",
    "my_set = set()\n",
    "\n",
    "# DUPLICATE SET ARE NOT ALLOWED\n",
    "\n",
    "list_data = {3, 1, 3, 4, 5, 2, 6, 4, 3, 2}\n",
    "print(list_data)\n",
    "\n",
    "list_data = {10, 4, \"jenni\", True, 10, 1}\n",
    "print(list_data)\n",
    "\n"
   ]
  },
  {
   "cell_type": "markdown",
   "metadata": {},
   "source": [
    "#### ***2. Method in Sets***"
   ]
  },
  {
   "cell_type": "code",
   "execution_count": 12,
   "metadata": {},
   "outputs": [
    {
     "name": "stdout",
     "output_type": "stream",
     "text": [
      "{2, 3, 100, 4, 5}\n",
      "{2, 100, 4, 5}\n",
      "{2, 100, 4}\n",
      "{100, 4}\n",
      "set()\n",
      "{4, 5, 6}\n"
     ]
    }
   ],
   "source": [
    "my_set = {3, 2, 2, 4, 3, 3, 5}\n",
    "\n",
    "# ADDING THE ELEMENT\n",
    "my_set.add(100)\n",
    "print(my_set)\n",
    "\n",
    "\n",
    "# REMOVE THE ELEMENT\n",
    "my_set.remove(3)\n",
    "print(my_set)\n",
    "\n",
    "# DISCARD THE ELEMENT\n",
    "my_set.discard(5)\n",
    "print(my_set)\n",
    "\n",
    "# POP THE ELEMENT (\"POP FIRST ELEMENT\")\n",
    "my_set.pop()\n",
    "print(my_set)\n",
    "\n",
    "# CLEAR THE ELEMENT\n",
    "my_set.clear()\n",
    "print(my_set)\n",
    "\n",
    "#UPDATE THE ELEMENT\n",
    "my_set.update({4, 5, 6})\n",
    "print(my_set)"
   ]
  },
  {
   "cell_type": "markdown",
   "metadata": {},
   "source": [
    "#### ***3.Set Methods***"
   ]
  },
  {
   "cell_type": "markdown",
   "metadata": {},
   "source": [
    "    Set Union"
   ]
  },
  {
   "cell_type": "code",
   "execution_count": 20,
   "metadata": {},
   "outputs": [
    {
     "name": "stdout",
     "output_type": "stream",
     "text": [
      "{1, 2, 3, 6, 7, 8}\n"
     ]
    }
   ],
   "source": [
    "set_a = {1, 2, 3, 3, 8, 6}\n",
    "set_b = {3, 6, 7}\n",
    "\n",
    "print(set_a.union(set_b))\n"
   ]
  },
  {
   "cell_type": "markdown",
   "metadata": {},
   "source": [
    "    Set Intersection"
   ]
  },
  {
   "cell_type": "code",
   "execution_count": 16,
   "metadata": {},
   "outputs": [
    {
     "name": "stdout",
     "output_type": "stream",
     "text": [
      "{3}\n"
     ]
    }
   ],
   "source": [
    "print(set_a.intersection(set_b))"
   ]
  },
  {
   "cell_type": "markdown",
   "metadata": {},
   "source": [
    "    Difference"
   ]
  },
  {
   "cell_type": "code",
   "execution_count": 17,
   "metadata": {},
   "outputs": [
    {
     "name": "stdout",
     "output_type": "stream",
     "text": [
      "{1, 2}\n"
     ]
    }
   ],
   "source": [
    "print(set_a.difference(set_b))"
   ]
  },
  {
   "cell_type": "markdown",
   "metadata": {},
   "source": [
    "    Symmeteric "
   ]
  },
  {
   "cell_type": "code",
   "execution_count": 21,
   "metadata": {},
   "outputs": [
    {
     "name": "stdout",
     "output_type": "stream",
     "text": [
      "{1, 2, 7, 8}\n"
     ]
    }
   ],
   "source": [
    "print(set_a.symmetric_difference(set_b))"
   ]
  },
  {
   "cell_type": "markdown",
   "metadata": {},
   "source": [
    "    copy"
   ]
  },
  {
   "cell_type": "code",
   "execution_count": 22,
   "metadata": {},
   "outputs": [
    {
     "name": "stdout",
     "output_type": "stream",
     "text": [
      "{1, 2, 3, 6, 8}\n"
     ]
    }
   ],
   "source": [
    "copy_set = set_a.copy()\n",
    "print(copy_set)"
   ]
  },
  {
   "cell_type": "code",
   "execution_count": 23,
   "metadata": {},
   "outputs": [
    {
     "name": "stdout",
     "output_type": "stream",
     "text": [
      "False\n",
      "True\n",
      "False\n"
     ]
    }
   ],
   "source": [
    "print(set_a.issubset({1, 2, 3, 4, 5}))  # Output: True\n",
    "\n",
    "# Superset check\n",
    "print(set_a.issuperset({2, 3}))  # Output: True\n",
    "\n",
    "# Disjoint sets check\n",
    "print(set_a.isdisjoint({7, 8}))"
   ]
  },
  {
   "cell_type": "markdown",
   "metadata": {},
   "source": [
    "#### ***4. Set Function***"
   ]
  },
  {
   "cell_type": "code",
   "execution_count": null,
   "metadata": {},
   "outputs": [],
   "source": [
    "set_a = {4, 5, 6, 4, 2}\n",
    "set_b = {0, 9, 8, 6, 4}"
   ]
  },
  {
   "cell_type": "markdown",
   "metadata": {},
   "source": [
    "    len"
   ]
  },
  {
   "cell_type": "code",
   "execution_count": 24,
   "metadata": {},
   "outputs": [
    {
     "name": "stdout",
     "output_type": "stream",
     "text": [
      "5\n"
     ]
    }
   ],
   "source": [
    "print(len(set_a))"
   ]
  },
  {
   "cell_type": "markdown",
   "metadata": {},
   "source": [
    "    del (whole set)"
   ]
  },
  {
   "cell_type": "code",
   "execution_count": 25,
   "metadata": {},
   "outputs": [],
   "source": [
    "del set_a\n"
   ]
  },
  {
   "cell_type": "markdown",
   "metadata": {},
   "source": [
    "    Sorted"
   ]
  },
  {
   "cell_type": "code",
   "execution_count": 29,
   "metadata": {},
   "outputs": [
    {
     "name": "stdout",
     "output_type": "stream",
     "text": [
      "[3, 4, 5, 6]\n"
     ]
    }
   ],
   "source": [
    "set_1 = {4, 5, 6, 3}\n",
    "print(sorted(set_1))"
   ]
  }
 ],
 "metadata": {
  "kernelspec": {
   "display_name": "Python 3",
   "language": "python",
   "name": "python3"
  },
  "language_info": {
   "codemirror_mode": {
    "name": "ipython",
    "version": 3
   },
   "file_extension": ".py",
   "mimetype": "text/x-python",
   "name": "python",
   "nbconvert_exporter": "python",
   "pygments_lexer": "ipython3",
   "version": "3.11.8"
  }
 },
 "nbformat": 4,
 "nbformat_minor": 2
}
