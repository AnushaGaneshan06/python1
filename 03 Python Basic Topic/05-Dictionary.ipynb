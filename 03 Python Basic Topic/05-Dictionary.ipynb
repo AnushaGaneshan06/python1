{
 "cells": [
  {
   "cell_type": "markdown",
   "metadata": {},
   "source": [
    "## ***05 Dictionary in Python***"
   ]
  },
  {
   "cell_type": "markdown",
   "metadata": {},
   "source": [
    "In Python, a dictionary is a collection of key-value pairs. Dictionaries are mutable, unordered, and written using **curly braces {}**. Each key is unique, and it maps to a corresponding value."
   ]
  },
  {
   "cell_type": "markdown",
   "metadata": {},
   "source": [
    "* **😊KEYS ARE IMUTABLE AND VALUES ARE MUTABLE**\n",
    "* **ONE KEY HAVE ONE VALUE, FINAL VALUE WILL BE ASSIGN**"
   ]
  },
  {
   "cell_type": "markdown",
   "metadata": {},
   "source": [
    "#### ***1.Creating Dictionary***"
   ]
  },
  {
   "cell_type": "code",
   "execution_count": null,
   "metadata": {},
   "outputs": [],
   "source": [
    "my_dict = {\n",
    "    \"name\" : \"jenni\",\n",
    "    \"age\" : 11,\n",
    "    \"city\" : \"bangalore\"\n",
    "\n",
    "}\n",
    "print(my_dict)\n",
    "\n",
    "\n",
    "# EMPTY STRING\n",
    "\n",
    "dict1 = {}\n",
    "print(dict1, type(dict1))\n",
    "\n",
    "del dict1\n",
    "\n",
    "# # CONSTRUCTOR\n",
    "# my_dict1 = dict()\n",
    "# print(my_dict1, type(my_dict1))\n",
    "\n"
   ]
  },
  {
   "cell_type": "markdown",
   "metadata": {},
   "source": [
    "#### ***2. Accessing Value***"
   ]
  },
  {
   "cell_type": "code",
   "execution_count": null,
   "metadata": {},
   "outputs": [],
   "source": [
    "# AS INDEX HERE WE CAN ACCESS THE KEYS \n",
    "\n",
    "my_dict = {\n",
    "        \"name\" : \"jenni\",\n",
    "        \"age\" : 23,\n",
    "        \"city\" : \"bangalore\",\n",
    "        \"name\" : \"rubyjena\"\n",
    "}\n",
    "\n",
    "print(my_dict)\n",
    "\n",
    "# KEY (case sentensity)\n",
    "\n",
    "print(my_dict[\"name\"])\n",
    "\n",
    "\n",
    "# -------------\n",
    "\n",
    "# ANOTHER METHOD TO CRAETE THE DICT(CONSTRUCTOR)\n",
    "\n",
    "# my_dict1 = dict({\n",
    "#     \"name\" : \"jenni\",\n",
    "#     \"age\" : 23,\n",
    "#     \"city\" : \"bangalore\"\n",
    "# })\n",
    "# print(my_dict1)\n",
    "\n",
    "\n",
    "# GET METHOD \n",
    "\n",
    "print(my_dict.get(\"names\", \"NOT found\"))\n",
    "print(my_dict.get(\"name\", \"NOT found\"))\n",
    "print(my_dict.get(\"city\"))\n",
    "\n"
   ]
  },
  {
   "cell_type": "code",
   "execution_count": null,
   "metadata": {},
   "outputs": [],
   "source": [
    "data = {\n",
    "    1 : \"jan\", \n",
    "    2 : \"rak\",\n",
    "    0 : \"mohi\"\n",
    "}\n",
    "\n",
    "print(data[0]) #keys value"
   ]
  },
  {
   "cell_type": "markdown",
   "metadata": {},
   "source": [
    "#### ***3. Mutable***"
   ]
  },
  {
   "cell_type": "markdown",
   "metadata": {},
   "source": [
    "    Adding and Updating items"
   ]
  },
  {
   "cell_type": "code",
   "execution_count": null,
   "metadata": {},
   "outputs": [],
   "source": [
    "my_dict = {\n",
    "        \"name\" : \"jenni\",\n",
    "        \"age\" : 23,\n",
    "        \"city\" : \"bangalore\",\n",
    "}\n",
    "\n",
    "my_dict[\"name\"] = \"rabi\"\n",
    "my_dict[\"phone num\"] = {222, 8989, 2782}\n",
    "# nested dict\n",
    "my_dict[\"city\"] = {\"home\" : \"coimbatore\", \"current\" : \"chennai\" }\n",
    "print(my_dict[\"city\"][\"home\"]) #specific\n",
    "print(my_dict)\n",
    "\n"
   ]
  },
  {
   "cell_type": "markdown",
   "metadata": {},
   "source": [
    "    del"
   ]
  },
  {
   "cell_type": "code",
   "execution_count": null,
   "metadata": {},
   "outputs": [],
   "source": [
    "my_dict = {\n",
    "        \"name\" : \"jenni\",\n",
    "        \"age\" : 23,\n",
    "        \"city\" : \"bangalore\",\n",
    "}\n",
    "del my_dict[\"name\"]\n",
    "print(my_dict)\n"
   ]
  },
  {
   "cell_type": "markdown",
   "metadata": {},
   "source": [
    "    remove items"
   ]
  },
  {
   "cell_type": "code",
   "execution_count": null,
   "metadata": {},
   "outputs": [],
   "source": [
    "my_dict = {\n",
    "        \"name\" : \"jenni\",\n",
    "        \"age\" : 23,\n",
    "        \"city\" : \"bangalore\",\n",
    "}\n",
    "last_items = my_dict.popitem()\n",
    "last_items = my_dict.pop(\"age\")\n",
    "print(last_items)"
   ]
  },
  {
   "cell_type": "markdown",
   "metadata": {},
   "source": [
    "    clear"
   ]
  },
  {
   "cell_type": "code",
   "execution_count": null,
   "metadata": {},
   "outputs": [],
   "source": [
    "my_dict.clear()\n",
    "print(my_dict)"
   ]
  },
  {
   "cell_type": "markdown",
   "metadata": {},
   "source": [
    "    keys access"
   ]
  },
  {
   "cell_type": "code",
   "execution_count": null,
   "metadata": {},
   "outputs": [],
   "source": [
    "my_dict = {\n",
    "        \"name\" : \"jenni\",\n",
    "        \"age\" : 23,\n",
    "        \"city\" : \"bangalore\",\n",
    "}\n",
    "\n",
    "print(my_dict.keys())"
   ]
  },
  {
   "cell_type": "markdown",
   "metadata": {},
   "source": [
    "    Value Access"
   ]
  },
  {
   "cell_type": "code",
   "execution_count": null,
   "metadata": {},
   "outputs": [],
   "source": [
    "print(my_dict.values())"
   ]
  },
  {
   "cell_type": "markdown",
   "metadata": {},
   "source": [
    "    Item Access"
   ]
  },
  {
   "cell_type": "code",
   "execution_count": null,
   "metadata": {},
   "outputs": [],
   "source": [
    "#list of all items in form of tuples\n",
    "print(my_dict.items()) "
   ]
  },
  {
   "cell_type": "code",
   "execution_count": null,
   "metadata": {},
   "outputs": [],
   "source": [
    "my_dict1 = my_dict.copy()\n",
    "print(my_dict1)"
   ]
  },
  {
   "cell_type": "markdown",
   "metadata": {},
   "source": [
    "    length "
   ]
  },
  {
   "cell_type": "code",
   "execution_count": null,
   "metadata": {},
   "outputs": [],
   "source": [
    "print(len(my_dict1))"
   ]
  },
  {
   "cell_type": "markdown",
   "metadata": {},
   "source": [
    "#### ***4. Iteratable***"
   ]
  },
  {
   "cell_type": "code",
   "execution_count": null,
   "metadata": {},
   "outputs": [],
   "source": [
    "# print keys\n",
    "for i in my_dict:\n",
    "    print(i) \n",
    "\n",
    "# print values\n",
    "\n",
    "for i in my_dict:\n",
    "    print(my_dict[i]) #\n",
    "    \n",
    "# items keys and values\n",
    "\n",
    "for i in my_dict.items():\n",
    "    print(i)"
   ]
  },
  {
   "cell_type": "code",
   "execution_count": null,
   "metadata": {},
   "outputs": [],
   "source": [
    "# Iterate through keys\n",
    "\n",
    "for key in my_dict1.keys():\n",
    "    print(key)\n",
    "\n",
    "# Iterate through values\n",
    "for value in my_dict.values():\n",
    "    print(value)\n",
    "\n",
    "for item in my_dict.items():\n",
    "    print(item)"
   ]
  },
  {
   "cell_type": "markdown",
   "metadata": {},
   "source": [
    "#### ***5.Other accessable function***"
   ]
  },
  {
   "cell_type": "code",
   "execution_count": null,
   "metadata": {},
   "outputs": [],
   "source": [
    "my_dict = {\n",
    "        \"name\" : \"jenni\",\n",
    "        \"age\" : 23,\n",
    "        \"city\" : \"bangalore\",\n",
    "}\n"
   ]
  },
  {
   "cell_type": "markdown",
   "metadata": {},
   "source": [
    "    setdefault"
   ]
  },
  {
   "cell_type": "code",
   "execution_count": 76,
   "metadata": {},
   "outputs": [
    {
     "name": "stdout",
     "output_type": "stream",
     "text": [
      "829892\n",
      "{'name': 'jenni', 'age': 23, 'city': 'bangalore', 'phone': '829892'}\n"
     ]
    }
   ],
   "source": [
    "print(my_dict.setdefault(\"phone\" , \"829892\"))\n",
    "print(my_dict)\n"
   ]
  },
  {
   "cell_type": "markdown",
   "metadata": {},
   "source": [
    "    formkeys"
   ]
  },
  {
   "cell_type": "code",
   "execution_count": 77,
   "metadata": {},
   "outputs": [
    {
     "name": "stdout",
     "output_type": "stream",
     "text": [
      "{'a': 0, 'b': 0}\n"
     ]
    }
   ],
   "source": [
    "new_dict = my_dict.fromkeys([\"a\", \"b\"], 0)\n",
    "print(new_dict)"
   ]
  },
  {
   "cell_type": "markdown",
   "metadata": {},
   "source": [
    "    Sorted"
   ]
  },
  {
   "cell_type": "code",
   "execution_count": 80,
   "metadata": {},
   "outputs": [
    {
     "name": "stdout",
     "output_type": "stream",
     "text": [
      "[('age', 23), ('city', 'bangalore'), ('name', 'jenni'), ('phone', '829892')]\n"
     ]
    }
   ],
   "source": [
    "sorted_dict = sorted(my_dict.items())\n",
    "print(sorted_dict)"
   ]
  }
 ],
 "metadata": {
  "kernelspec": {
   "display_name": "Python 3",
   "language": "python",
   "name": "python3"
  },
  "language_info": {
   "codemirror_mode": {
    "name": "ipython",
    "version": 3
   },
   "file_extension": ".py",
   "mimetype": "text/x-python",
   "name": "python",
   "nbconvert_exporter": "python",
   "pygments_lexer": "ipython3",
   "version": "3.11.8"
  }
 },
 "nbformat": 4,
 "nbformat_minor": 2
}
