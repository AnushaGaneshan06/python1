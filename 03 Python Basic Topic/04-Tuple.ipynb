{
 "cells": [
  {
   "cell_type": "markdown",
   "metadata": {},
   "source": [
    "# ***04 Tuple in python***"
   ]
  },
  {
   "cell_type": "markdown",
   "metadata": {},
   "source": [
    "A tuple in Python is an **immutable**, **ordered collection of items**. It can contain elements of mixed data types, including integers, floats, strings, lists, and even other tuples. Tuples are immutable, meaning their elements cannot be changed once created."
   ]
  },
  {
   "cell_type": "markdown",
   "metadata": {},
   "source": [
    "### ***1. Tuple Creation***"
   ]
  },
  {
   "cell_type": "code",
   "execution_count": null,
   "metadata": {},
   "outputs": [],
   "source": [
    "# EMPTY TUPLE\n",
    "\n",
    "tuple_list = ()\n",
    "\n",
    "# CONSRUCTOR \n",
    "\n",
    "tuple_list = tuple()\n",
    "print(tuple_list)\n",
    "\n",
    "# TUPLE WITH ELEMENT DIFFERENT DATATYPE\n",
    "\n",
    "tuple_list = (1, \"HELLO\", 3.3, True, {\"key\": \"value\"}, [3,4, 5])\n",
    "\n",
    "# CONSTRUCTOR TUPLE\n",
    "\n",
    "contructor = tuple(1, 3, 3)\n",
    "print(contructor)\n"
   ]
  },
  {
   "cell_type": "markdown",
   "metadata": {},
   "source": [
    "**Tuple cannot take single value instead can use (,)**"
   ]
  },
  {
   "cell_type": "code",
   "execution_count": null,
   "metadata": {},
   "outputs": [],
   "source": [
    "# Single ELEMENT TUPLE\n",
    "\n",
    "single_element_tuple = (42) \n",
    "#its not consider as tuple its a single tp resolve we put ,\n",
    "print(single_element_tuple, type(single_element_tuple))\n",
    "\n",
    "# RESOLVED METHOD\n",
    "\n",
    "single_element_tuple =(42, )\n",
    "print(single_element_tuple, type(single_element_tuple))"
   ]
  },
  {
   "cell_type": "markdown",
   "metadata": {},
   "source": [
    "**The function call tuple(1, 3, 3) is invalid because tuple() does not accept multiple arguments like that. It expects a single iterable as its input. If multiple values are needed, they should be enclosed in a list, tuple, or another iterable.**"
   ]
  },
  {
   "cell_type": "markdown",
   "metadata": {},
   "source": [
    "#### **2. IMMUTABILITY IN TUPLES:**\n",
    "* Elements cannot be added, removed, or modified after the tuple is created.\n",
    "* However, if a tuple contains mutable elements (like lists), those mutable elements can be changed.\n",
    "\n"
   ]
  },
  {
   "cell_type": "code",
   "execution_count": null,
   "metadata": {},
   "outputs": [],
   "source": [
    "t = (3, 3, 2)\n",
    "t[0] = 0  \n",
    "# cannot change by indexing value "
   ]
  },
  {
   "cell_type": "markdown",
   "metadata": {},
   "source": [
    "#### ***3. FUNCTION***"
   ]
  },
  {
   "cell_type": "markdown",
   "metadata": {},
   "source": [
    "    INDEXING"
   ]
  },
  {
   "cell_type": "code",
   "execution_count": 40,
   "metadata": {},
   "outputs": [
    {
     "name": "stdout",
     "output_type": "stream",
     "text": [
      "7\n",
      "3\n",
      "<class 'tuple'>\n",
      "1\n"
     ]
    }
   ],
   "source": [
    "# INDEXING\n",
    "\n",
    "tuple1 = (7, 8, 6, 3, 8)\n",
    "print(tuple1[0])\n",
    "print(tuple1[-2])\n",
    "\n",
    "# Type function\n",
    "\n",
    "print(type(tuple1))\n",
    "\n",
    "\n",
    "# SEARCH USING INDEXING\n",
    "\n",
    "print(tuple1.index(8)) \n",
    "# element postion \n",
    "# repitation of element not consider \n"
   ]
  },
  {
   "cell_type": "markdown",
   "metadata": {},
   "source": [
    "        DUPLICATE ITEMS ARE ALLOWED"
   ]
  },
  {
   "cell_type": "code",
   "execution_count": null,
   "metadata": {},
   "outputs": [],
   "source": [
    "tuple1 = (4, 4, 5, 2, 4)\n",
    "print(tuple1)"
   ]
  },
  {
   "cell_type": "markdown",
   "metadata": {},
   "source": [
    "    SCLINIG"
   ]
  },
  {
   "cell_type": "code",
   "execution_count": null,
   "metadata": {},
   "outputs": [],
   "source": [
    "tuple1 = (5, 4, 2, 1, 4, 7)\n",
    "print(tuple1[4:])\n",
    "print(tuple1[1:4])\n",
    "print(tuple1[:5])\n",
    "print(tuple1[:-5])\n",
    "print(tuple1[-1:])\n",
    "print(tuple1[0: 2 : ])"
   ]
  },
  {
   "cell_type": "markdown",
   "metadata": {},
   "source": [
    "    LENGTH"
   ]
  },
  {
   "cell_type": "code",
   "execution_count": null,
   "metadata": {},
   "outputs": [],
   "source": [
    "print(len(tuple1))"
   ]
  },
  {
   "cell_type": "markdown",
   "metadata": {},
   "source": [
    "    NESTING OF TUPLES"
   ]
  },
  {
   "cell_type": "code",
   "execution_count": 47,
   "metadata": {},
   "outputs": [
    {
     "name": "stdout",
     "output_type": "stream",
     "text": [
      "(('apple', 'cherry'), (1, 2, 3))\n",
      "('apple', 'cherry')\n",
      "cherry\n",
      "2\n",
      "5\n",
      "('apple', 'cherry', 'apple', 'cherry')\n",
      "jennijennijennijennijenni\n"
     ]
    }
   ],
   "source": [
    "tuple1 = (\"apple\", \"cherry\")\n",
    "tuple2 = (1, 2, 3)\n",
    "tuple3 = (tuple1, tuple2)\n",
    "\n",
    "print(tuple3)\n",
    "print(tuple3[0])\n",
    "print(tuple3[0][1])\n",
    "print(len(tuple3))\n",
    "\n",
    "# concatenation \n",
    "tuple3 = tuple1 + tuple2\n",
    "print(len(tuple3))\n",
    "\n",
    "# REPITATION \n",
    "tuple3 = tuple1 * 2\n",
    "print(tuple3)\n",
    "\n",
    "tuple3 = (\"jenni\")* 5\n",
    "print(tuple3)\n"
   ]
  },
  {
   "cell_type": "markdown",
   "metadata": {},
   "source": [
    "    MIN AND MAX FUNCTION"
   ]
  },
  {
   "cell_type": "code",
   "execution_count": 36,
   "metadata": {},
   "outputs": [
    {
     "name": "stdout",
     "output_type": "stream",
     "text": [
      "1\n",
      "4\n",
      "8\n"
     ]
    }
   ],
   "source": [
    "tuple1 = (3, 4, 1)\n",
    "\n",
    "print(min(tuple1))\n",
    "\n",
    "print(max(tuple1))\n",
    "\n",
    "print(sum(tuple1))\n"
   ]
  },
  {
   "cell_type": "markdown",
   "metadata": {},
   "source": [
    "    COUNT FUNCTION"
   ]
  },
  {
   "cell_type": "code",
   "execution_count": 39,
   "metadata": {},
   "outputs": [
    {
     "name": "stdout",
     "output_type": "stream",
     "text": [
      "5\n"
     ]
    }
   ],
   "source": [
    "tuple1= (4, 4, 4, 2, 2, 1, 3, 4, 4)\n",
    "print(tuple1.count(4))"
   ]
  },
  {
   "cell_type": "code",
   "execution_count": 49,
   "metadata": {},
   "outputs": [
    {
     "name": "stdout",
     "output_type": "stream",
     "text": [
      "[1, 2, 2, 3, 4, 4, 4, 4, 4]\n"
     ]
    }
   ],
   "source": [
    "tuple1= (4, 4, 4, 2, 2, 1, 3, 4, 4)\n",
    "sorted_tuple = sorted(tuple1)\n",
    "print(sorted_tuple)"
   ]
  },
  {
   "cell_type": "markdown",
   "metadata": {},
   "source": [
    "    tuple Iterable"
   ]
  },
  {
   "cell_type": "code",
   "execution_count": 51,
   "metadata": {},
   "outputs": [
    {
     "name": "stdout",
     "output_type": "stream",
     "text": [
      "10\n",
      "1\n",
      "2\n"
     ]
    }
   ],
   "source": [
    "t= (10, 1, 2)\n",
    "iterate = iter(t)\n",
    "\n",
    "print(next(iterate))\n",
    "print(next(iterate))\n",
    "print(next(iterate))"
   ]
  },
  {
   "cell_type": "markdown",
   "metadata": {},
   "source": [
    "    CONVERSION OF TUPLE"
   ]
  },
  {
   "cell_type": "code",
   "execution_count": 55,
   "metadata": {},
   "outputs": [
    {
     "name": "stdout",
     "output_type": "stream",
     "text": [
      "[1, 2, 3]\n",
      "{1, 2, 3}\n",
      "app\n"
     ]
    }
   ],
   "source": [
    "# tuple to list\n",
    "\n",
    "tuple1 = (1, 2, 3)\n",
    "print(list(tuple1))\n",
    "\n",
    "# tuple to set\n",
    "print(set(tuple1))\n",
    "\n",
    "tuple1 = (\"a\", \"p\", \"p\" )\n",
    "print(\"\".join(tuple1))"
   ]
  },
  {
   "cell_type": "markdown",
   "metadata": {},
   "source": [
    "**Hashable tuples are useful in sets and as dictionary keys.**\n",
    "\n",
    "\n",
    "\n",
    "\n"
   ]
  }
 ],
 "metadata": {
  "kernelspec": {
   "display_name": "Python 3",
   "language": "python",
   "name": "python3"
  },
  "language_info": {
   "codemirror_mode": {
    "name": "ipython",
    "version": 3
   },
   "file_extension": ".py",
   "mimetype": "text/x-python",
   "name": "python",
   "nbconvert_exporter": "python",
   "pygments_lexer": "ipython3",
   "version": "3.11.8"
  }
 },
 "nbformat": 4,
 "nbformat_minor": 2
}
