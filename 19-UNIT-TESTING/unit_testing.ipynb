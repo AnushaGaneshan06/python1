{
 "cells": [
  {
   "cell_type": "markdown",
   "metadata": {},
   "source": [
    "# 1.UNIT TESTING\n"
   ]
  },
  {
   "cell_type": "markdown",
   "metadata": {},
   "source": [
    "| **Method**                | **Checks That**                |\n",
    "|---------------------------|---------------------------------|\n",
    "| `assertEqual(a, b)`       | `a == b`                       |\n",
    "| `assertNotEqual(a, b)`    | `a != b`                       |\n",
    "| `assertTrue(x)`           | `bool(x) is True`              |\n",
    "| `assertFalse(x)`          | `bool(x) is False`             |\n",
    "| `assertIs(a, b)`          | `a is b`                       |\n",
    "| `assertIsNot(a, b)`       | `a is not b`                   |\n",
    "| `assertIsNone(x)`         | `x is None`                    |\n",
    "| `assertIsNotNone(x)`      | `x is not None`                |\n",
    "| `assertIn(a, b)`          | `a in b`                       |\n",
    "| `assertNotIn(a, b)`       | `a not in b`                   |\n",
    "| `assertIsInstance(a, b)`  | `isinstance(a, b)`             |\n",
    "| `assertNotIsInstance(a, b)` | `not isinstance(a, b)`        |\n"
   ]
  },
  {
   "cell_type": "markdown",
   "metadata": {},
   "source": [
    "METHOD FOR SIMPEL UNITTEST :\n",
    "\n",
    "**STEP 1 :**\n",
    "* CREATE THE CODE YOU NEED TO WRITTTEN ON THE PYTHON FILE\n",
    "\n",
    "**STEP 2:**\n",
    "* CREATE THE FILE OF MODEULE TO PASS THE TEST CASES, \n",
    "* WHERE YOU WRITE THE TEST(TEST.PY) THE CODE OF (TEST_CAP.PY) \n",
    "\n",
    "**STEP 3:**\n",
    "* IMPORT THE UNITTEST MODEULE\n",
    "* IMPORT THE MAIN MODULE CODE FILE (TEST_CAP.PY)\n",
    "\n",
    "**STEP 4:**\n",
    "* STANDARDIZE DEFINITION DECLARE THE UNITTEST:\n",
    "* MAIN FILE NAME:(TEST.PY)\n",
    "- class Testpy(unittest.TestCase):\n",
    "\n",
    "**STEP 5:**\n",
    "* BY USING (TEST_)  DEFINE THE UNITEST:\n",
    "* CAN ACCESS THE METHOD OR FUNCTION\n",
    "- EX:\n",
    "def test_.add()\n",
    "\n",
    "**STEP 6:**\n",
    "* CAN ADD THE UNITETS METHOD TO MANUPLIATE THE TEST CAESES"
   ]
  },
  {
   "cell_type": "markdown",
   "metadata": {},
   "source": [
    "1. **HOW IT CAN RUN IN TERMINAL**\n",
    "\n",
    "        python -m unittest filename.py"
   ]
  },
  {
   "cell_type": "markdown",
   "metadata": {},
   "source": [
    "2. **Running Test Cases Directly with** \n",
    "* `if __name__ == \"__main__\":`\n",
    "\n",
    "    **Code Example:**\n",
    "    ```python\n",
    "    if __name__ == \"__main__\":\n",
    "        unittest.main()\n",
    "\n",
    "* here terminal :\n",
    "    **python filename.py**\n"
   ]
  },
  {
   "cell_type": "code",
   "execution_count": null,
   "metadata": {},
   "outputs": [
    {
     "name": "stdout",
     "output_type": "stream",
     "text": [
      "13\n",
      "-1\n",
      "42\n",
      "6\n"
     ]
    }
   ],
   "source": [
    "# creating the tst cases in the another modules\n",
    "\n",
    "def add(a, b):\n",
    "    return a + b\n",
    "\n",
    "\n",
    "def substract(a, b):\n",
    "    return a - b\n",
    "\n",
    "def multiple(a, b):\n",
    "    return a * b\n",
    "\n",
    "def divide(a, b):\n",
    "    try:\n",
    "        if b == 0:\n",
    "            raise ValueError\n",
    "        return a % b\n",
    "    except ValueError:\n",
    "        print(\"no zero\")\n",
    "\n",
    "    \n",
    "\n",
    "print(add(6, 7))\n",
    "print(substract(6, 7))\n",
    "print(multiple(6, 7))\n",
    "print(divide(6, 9))\n",
    "\n"
   ]
  }
 ],
 "metadata": {
  "kernelspec": {
   "display_name": "Python 3",
   "language": "python",
   "name": "python3"
  },
  "language_info": {
   "codemirror_mode": {
    "name": "ipython",
    "version": 3
   },
   "file_extension": ".py",
   "mimetype": "text/x-python",
   "name": "python",
   "nbconvert_exporter": "python",
   "pygments_lexer": "ipython3",
   "version": "3.11.8"
  }
 },
 "nbformat": 4,
 "nbformat_minor": 2
}
