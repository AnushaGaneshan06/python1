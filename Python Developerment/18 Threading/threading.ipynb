{
 "cells": [
  {
   "cell_type": "markdown",
   "metadata": {},
   "source": [
    "# Threading "
   ]
  },
  {
   "cell_type": "markdown",
   "metadata": {},
   "source": [
    "**Threading** in Python is a technique that allows **concurrent execution** of multiple threads within a **single process**, enabling tasks to run in parallel. It is commonly used for I/O-bound tasks to improve efficiency and responsiveness."
   ]
  },
  {
   "cell_type": "markdown",
   "metadata": {},
   "source": [
    "### Thread Life Cycle in Python\n",
    "\n",
    "1. **New**: \n",
    "    - The thread is in this state when it's first created but hasn't started yet.\n",
    "    - You create a thread object using the `Thread` class constructor, providing the target function/method that the thread will execute.\n",
    "\n",
    "2. **Runnable/Ready**:\n",
    "    - After creating a thread object and calling its `start()` method, the thread becomes runnable.\n",
    "    - The thread scheduler selects the thread to run, and it enters the running state whenever the CPU becomes available.\n",
    "\n",
    "3. **Running**:\n",
    "    - The thread is actively executing its task.\n",
    "    - In Python, this typically means that the thread is executing the code inside its `run()` method.\n",
    "\n",
    "4. **Blocked/Waiting**:\n",
    "    - The thread can transition to a blocked/waiting state when it needs to wait for some event or resource.\n",
    "    - Common reasons for a thread to block include I/O operations (e.g., reading from a file, waiting for user input) or synchronization primitives (e.g., acquiring a lock).\n",
    "\n",
    "5. **Terminated**:\n",
    "    - The thread completes its task or encounters an error and exits.\n",
    "    - When a thread finishes execution, it enters the terminated state and cannot be started again.\n"
   ]
  },
  {
   "cell_type": "code",
   "execution_count": 3,
   "metadata": {},
   "outputs": [
    {
     "name": "stdout",
     "output_type": "stream",
     "text": [
      "current_executing_threading :  <_MainThread(MainThread, started 8596)>\n",
      "------------------------\n",
      "Name of the thread :  MainThread\n",
      "------------------------\n",
      "Identification Number :  8596\n"
     ]
    },
    {
     "name": "stderr",
     "output_type": "stream",
     "text": [
      "C:\\Users\\HP\\AppData\\Local\\Temp\\ipykernel_11324\\2442990090.py:4: DeprecationWarning: getName() is deprecated, get the name attribute instead\n",
      "  print(\"Name of the thread : \", threading.current_thread().getName())\n"
     ]
    }
   ],
   "source": [
    "import threading\n",
    "print(\"current_executing_threading : \", threading.current_thread())\n",
    "print(\"------------------------\")\n",
    "print(\"Name of the thread : \", threading.current_thread().getName())\n",
    "print(\"------------------------\")\n",
    "print(\"Identification Number : \", threading.current_thread().ident)"
   ]
  },
  {
   "cell_type": "code",
   "execution_count": null,
   "metadata": {},
   "outputs": [
    {
     "name": "stdout",
     "output_type": "stream",
     "text": [
      "current executing thread :  my_new_thread\n"
     ]
    },
    {
     "name": "stderr",
     "output_type": "stream",
     "text": [
      "C:\\Users\\HP\\AppData\\Local\\Temp\\ipykernel_11324\\3111986196.py:3: DeprecationWarning: getName() is deprecated, get the name attribute instead\n",
      "  print(\"current executing thread : \", current_thread().getName())\n"
     ]
    }
   ],
   "source": [
    "from threading import * \n",
    "\n",
    "print(\"current executing thread : \", current_thread().getName())\n",
    "\n",
    "current_thread().setName(\"my_new_thread\")\n",
    "print(\"------------------------\")\n",
    "print(\"current executing thread : \", current_thread().getName())"
   ]
  },
  {
   "cell_type": "markdown",
   "metadata": {},
   "source": [
    "## INHERIT FROM THE THREAD CLASS"
   ]
  },
  {
   "cell_type": "code",
   "execution_count": null,
   "metadata": {},
   "outputs": [
    {
     "name": "stdout",
     "output_type": "stream",
     "text": [
      "hello\n",
      "hello\n",
      "hello\n",
      "hello\n",
      "hello\n",
      "hi\n",
      "hi\n",
      "hi\n",
      "hi\n",
      "hi\n",
      "1733811862.8173497\n"
     ]
    }
   ],
   "source": [
    "# WITHOUT THE THREAD CLASS \n",
    "\n",
    "\n",
    "import time\n",
    "\n",
    "# function one \n",
    "# each function runs separately \n",
    "\n",
    "class Hello():\n",
    "    def run(self):\n",
    "        for i in range(5):\n",
    "            print(\"hello\")\n",
    "            time.sleep(1)\n",
    "t1 = Hello()\n",
    "t1.run()\n",
    "\n",
    "# function 2\n",
    "# hi fn need to wait for the hello() even there are not interact each other\n",
    "\n",
    "class Hi():\n",
    "    def run(self):\n",
    "        for i in range(5):\n",
    "            print(\"hi\")\n",
    "            time.sleep(1)\n",
    "\n",
    "t2 = Hi()\n",
    "t2.run()\n",
    "\n",
    "end_time = time.time()\n",
    "print(\"THE END TIME : \",end_time)\n",
    "\n",
    "\n"
   ]
  },
  {
   "cell_type": "code",
   "execution_count": null,
   "metadata": {},
   "outputs": [],
   "source": [
    "# WITH THREADING\n",
    "\n",
    "from threading import Thread\n",
    "\n",
    "class Hello():\n",
    "    def run(self)"
   ]
  }
 ],
 "metadata": {
  "kernelspec": {
   "display_name": "Python 3",
   "language": "python",
   "name": "python3"
  },
  "language_info": {
   "codemirror_mode": {
    "name": "ipython",
    "version": 3
   },
   "file_extension": ".py",
   "mimetype": "text/x-python",
   "name": "python",
   "nbconvert_exporter": "python",
   "pygments_lexer": "ipython3",
   "version": "3.11.8"
  }
 },
 "nbformat": 4,
 "nbformat_minor": 2
}
