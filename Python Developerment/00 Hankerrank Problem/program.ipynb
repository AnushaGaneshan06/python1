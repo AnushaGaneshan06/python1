{
 "cells": [
  {
   "cell_type": "markdown",
   "metadata": {},
   "source": [
    "## 1. Simple Array Sum"
   ]
  },
  {
   "cell_type": "code",
   "execution_count": null,
   "metadata": {},
   "outputs": [],
   "source": [
    "def array_simple(ar):\n",
    "    sum = 0\n",
    "    for i in ar:\n",
    "        sum += i\n",
    "    return sum\n",
    "\n",
    "if __name__ == \"__main__\":\n",
    "\n",
    "    list1 = [2, 3, 5, 6, 7, 7]\n",
    "    listsum = array_simple(list1)\n",
    "    print(listsum)\n"
   ]
  },
  {
   "cell_type": "markdown",
   "metadata": {},
   "source": [
    "## 2. TRIPLET COMPARSION "
   ]
  },
  {
   "cell_type": "code",
   "execution_count": null,
   "metadata": {},
   "outputs": [],
   "source": [
    "\n",
    "def compareTriplets(a, b):\n",
    "    # Write your code here\n",
    "    alice = bob = 0\n",
    "    for i in range(3):\n",
    "        if a[i] > b[i]:\n",
    "            print(\"Alice received one points \")\n",
    "            alice += 1\n",
    "            \n",
    "        elif a[i] < b[i]:\n",
    "            print(\"received one points\")\n",
    "            bob += 1\n",
    "            \n",
    "    return alice, bob\n",
    "        \n",
    "        \n",
    "\n",
    "result = compareTriplets([5, 6, 7], [3, 6, 10])\n",
    "print(result)"
   ]
  },
  {
   "cell_type": "markdown",
   "metadata": {},
   "source": [
    "## 03. A Very Big Sum\n"
   ]
  },
  {
   "cell_type": "code",
   "execution_count": 9,
   "metadata": {},
   "outputs": [
    {
     "name": "stdout",
     "output_type": "stream",
     "text": [
      "5000000015\n"
     ]
    }
   ],
   "source": [
    "def aVeryBigSum(ar):\n",
    "    # Write your code here\n",
    "    \n",
    "    sum = 0\n",
    "    for i in ar:\n",
    "        sum += i\n",
    "    return sum\n",
    "\n",
    "\n",
    "\n",
    "list1 = [1000000001 , 1000000002 , 1000000003 , 1000000004,  1000000005]\n",
    "result = aVeryBigSum(list1)\n",
    "print(result)\n",
    "\n"
   ]
  },
  {
   "cell_type": "markdown",
   "metadata": {},
   "source": [
    "## 4. Diagonal Difference\n"
   ]
  },
  {
   "cell_type": "code",
   "execution_count": 14,
   "metadata": {},
   "outputs": [
    {
     "name": "stdout",
     "output_type": "stream",
     "text": [
      "2\n"
     ]
    }
   ],
   "source": [
    "def diagnal(arr):\n",
    "    n = len(arr)\n",
    "    left_daignal = 0\n",
    "    right_daignal = 0\n",
    "    for i in range(n):\n",
    "        left_daignal += arr[i][i] # primary daignal [1][1] [2][2]\n",
    "        right_daignal += arr[i][n - 1 - i]\n",
    "    return abs(left_daignal - right_daignal)\n",
    "\n",
    "\n",
    "arr1 = (\n",
    "    [1, 2 ,3],\n",
    "    [4, 5, 6],\n",
    "    [9 , 8, 9 ]\n",
    ")\n",
    "result = diagnal(arr1)\n",
    "print(result)\n"
   ]
  },
  {
   "cell_type": "markdown",
   "metadata": {},
   "source": [
    "## 05. Plus Minus\n"
   ]
  },
  {
   "cell_type": "code",
   "execution_count": 16,
   "metadata": {},
   "outputs": [
    {
     "name": "stdout",
     "output_type": "stream",
     "text": [
      "0.625\n",
      "0.25\n",
      "0.125\n",
      "None\n"
     ]
    }
   ],
   "source": [
    "def plusMinus(arr):\n",
    "    # Write your code here\n",
    "    n = len(arr)\n",
    "    pos = neg = zero = 0\n",
    "    for i in range(n):\n",
    "        if arr[i] > 0:\n",
    "                pos += 1\n",
    "        elif  arr[i] < 0:\n",
    "                neg += 1\n",
    "        else:\n",
    "                zero += 1\n",
    "          \n",
    "    print(pos / n)\n",
    "    print(neg / n)\n",
    "    print(zero / n)\n",
    "\n",
    "result = plusMinus([1, 1, -3, 0, 3, 3, -1, 1])\n",
    "print(result)"
   ]
  },
  {
   "cell_type": "markdown",
   "metadata": {},
   "source": [
    "## 06. STAIRCASE"
   ]
  },
  {
   "cell_type": "code",
   "execution_count": 17,
   "metadata": {},
   "outputs": [
    {
     "name": "stdout",
     "output_type": "stream",
     "text": [
      "    #\n",
      "   ##\n",
      "  ###\n",
      " ####\n",
      "#####\n"
     ]
    }
   ],
   "source": [
    "def staircase(n):\n",
    "    # Write your code here\n",
    "    for row in range(1, n + 1):\n",
    "        s = \"#\" * row\n",
    "        print(s.rjust(n))\n",
    "\n",
    "staircase(5)"
   ]
  },
  {
   "cell_type": "code",
   "execution_count": 18,
   "metadata": {},
   "outputs": [
    {
     "name": "stdout",
     "output_type": "stream",
     "text": [
      "    #\n",
      "   ##\n",
      "  ###\n",
      " ####\n",
      "#####\n"
     ]
    }
   ],
   "source": [
    "def staircase(n):\n",
    "    for row in range(1, n+1):\n",
    "        for col in range(n - row):\n",
    "            print(\" \", end =\"\")\n",
    "        for col in range(row ):\n",
    "            print(\"#\", end = \"\")\n",
    "        print()\n",
    "\n",
    "staircase(5)"
   ]
  },
  {
   "cell_type": "markdown",
   "metadata": {},
   "source": [
    "## 07. Mini-Max Sum"
   ]
  },
  {
   "cell_type": "code",
   "execution_count": 19,
   "metadata": {},
   "outputs": [
    {
     "name": "stdout",
     "output_type": "stream",
     "text": [
      "21 27\n"
     ]
    }
   ],
   "source": [
    "def max_min_sum(arr) :\n",
    "    s = 0\n",
    "    minimum = 999999999999\n",
    "    maximum = 0\n",
    "    n = len(arr)\n",
    "    for i in range(n):\n",
    "            s += arr[i]\n",
    "            minimum = min(minimum, arr[i]) # compare\n",
    "            maximum = max(maximum, arr[i])\n",
    "        \n",
    "    print(s - maximum, s - minimum)\n",
    "\n",
    "result = max_min_sum([8, 9, 6, 3, 4])"
   ]
  },
  {
   "cell_type": "markdown",
   "metadata": {},
   "source": [
    "## 10. BIRTHADY CANDLE"
   ]
  },
  {
   "cell_type": "code",
   "execution_count": 21,
   "metadata": {},
   "outputs": [
    {
     "name": "stdout",
     "output_type": "stream",
     "text": [
      "2\n"
     ]
    }
   ],
   "source": [
    "def birthdayCakeCandles(arr):\n",
    "    # Write your code here\n",
    "    n = len(arr)\n",
    "    maxi = 0\n",
    "    count = 0\n",
    "    for i in range(n):\n",
    "        if arr[i] > maxi:\n",
    "            maxi = arr[i]\n",
    "            count = 1\n",
    "        elif arr[i] == maxi:\n",
    "            count += 1\n",
    "    return count\n",
    "\n",
    "result = birthdayCakeCandles([4, 4, 1, 2, 3])\n",
    "print(result)"
   ]
  },
  {
   "cell_type": "markdown",
   "metadata": {},
   "source": [
    "## 11. TIME CONVERISION"
   ]
  },
  {
   "cell_type": "code",
   "execution_count": null,
   "metadata": {},
   "outputs": [],
   "source": [
    "def timeConversion(s):\n",
    "    # Write your code here\n",
    "    #slicing\n",
    "    meridian = s[-2 :]\n",
    "    if meridian == \"PM\" and s[:2] != \"12\":\n",
    "        s = str(12 + int(s[:2])) + s[2 :]\n",
    "    if meridian == \"AM\" and s[:2] == \"12\":\n",
    "        s = \"00\" + s[2:]\n",
    "    return s[:-2]\n",
    "        "
   ]
  },
  {
   "cell_type": "markdown",
   "metadata": {},
   "source": [
    "## 12. GRADE OPERATION "
   ]
  },
  {
   "cell_type": "code",
   "execution_count": 1,
   "metadata": {},
   "outputs": [
    {
     "name": "stdout",
     "output_type": "stream",
     "text": [
      "[75, 67, 40, 33]\n"
     ]
    }
   ],
   "source": [
    "def gradingStudents(grades):\n",
    "    res = []\n",
    "    for grade in grades:\n",
    "        if grade >= 38:\n",
    "            mod5 = grade % 5\n",
    "            if mod5 >= 3:\n",
    "                grade += (5 - mod5)\n",
    "        res.append(grade)\n",
    "    return res\n",
    "\n",
    "# Example grades\n",
    "grades = [73, 67, 38, 33]\n",
    "result = gradingStudents(grades)\n",
    "print(result)  # Output: [75, 67, 40, 33]\n"
   ]
  },
  {
   "cell_type": "code",
   "execution_count": 12,
   "metadata": {},
   "outputs": [
    {
     "name": "stdout",
     "output_type": "stream",
     "text": [
      "055\n"
     ]
    }
   ],
   "source": [
    "a = \"0\"\n",
    "b = int(5)\n",
    "c = 5\n",
    "print (a +str(b) + str(c))"
   ]
  }
 ],
 "metadata": {
  "kernelspec": {
   "display_name": "Python 3",
   "language": "python",
   "name": "python3"
  },
  "language_info": {
   "codemirror_mode": {
    "name": "ipython",
    "version": 3
   },
   "file_extension": ".py",
   "mimetype": "text/x-python",
   "name": "python",
   "nbconvert_exporter": "python",
   "pygments_lexer": "ipython3",
   "version": "3.11.8"
  }
 },
 "nbformat": 4,
 "nbformat_minor": 2
}
