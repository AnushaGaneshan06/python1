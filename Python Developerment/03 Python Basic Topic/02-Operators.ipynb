{
 "cells": [
  {
   "cell_type": "markdown",
   "metadata": {},
   "source": [
    "# ***02 OPERATOR IN PYTHON***"
   ]
  },
  {
   "cell_type": "markdown",
   "metadata": {},
   "source": [
    "---------"
   ]
  },
  {
   "cell_type": "markdown",
   "metadata": {},
   "source": [
    "#### 1. ***Arithematic Operator***"
   ]
  },
  {
   "cell_type": "markdown",
   "metadata": {},
   "source": [
    "* **Operator** is the special symbol that perform the **operation on operands**.\n",
    "\n",
    "* **Operand** are value or the variable which opertion applied"
   ]
  },
  {
   "cell_type": "markdown",
   "metadata": {},
   "source": [
    "#### ***List of Arithemetic Operations:***\n"
   ]
  },
  {
   "cell_type": "markdown",
   "metadata": {},
   "source": [
    "\n",
    "\n",
    "1. **Addition & Unary (+)**\n",
    "\n",
    "2. **Subtraction & Unary (-)**\n",
    "\n",
    "3. **Multiplication (*)**\n",
    "\n",
    "4. **Division (/)**\n",
    "\n",
    "5. **Floor Division (//)**\n",
    "\n",
    "6. **Modulus (%)**\n",
    "\n",
    "7. **Power (**)**\n"
   ]
  },
  {
   "cell_type": "markdown",
   "metadata": {},
   "source": [
    "* ***ADDITION AND UNARY PLUS OPERATOR***"
   ]
  },
  {
   "cell_type": "code",
   "execution_count": null,
   "metadata": {},
   "outputs": [],
   "source": [
    "num1 = 30\n",
    "num2 = 10\n",
    "\n",
    "print(num2 + num1)"
   ]
  },
  {
   "cell_type": "code",
   "execution_count": null,
   "metadata": {},
   "outputs": [],
   "source": [
    "str1 = \"hello \"\n",
    "str2 = \"world !!\"\n",
    "\n",
    "print(str1 + str2)"
   ]
  },
  {
   "cell_type": "code",
   "execution_count": null,
   "metadata": {},
   "outputs": [],
   "source": [
    "# UNARY OPERATOR\n",
    "\n",
    "num = +7\n",
    "print(num)"
   ]
  },
  {
   "cell_type": "markdown",
   "metadata": {},
   "source": [
    "*  ***SUBTRACTION AND UNARY MINUS OPERATOR***\n"
   ]
  },
  {
   "cell_type": "code",
   "execution_count": null,
   "metadata": {},
   "outputs": [],
   "source": [
    "num1 = 12\n",
    "num2 = 34\n",
    "\n",
    "print(num1 - num2)"
   ]
  },
  {
   "cell_type": "code",
   "execution_count": null,
   "metadata": {},
   "outputs": [],
   "source": [
    "num1 = 7.6\n",
    "num2 = 8.9\n",
    "print(num1 - num2)\n",
    "print(round(num1 - num2))"
   ]
  },
  {
   "cell_type": "code",
   "execution_count": null,
   "metadata": {},
   "outputs": [],
   "source": [
    "result = (10 + 5) - (7 + 5)\n",
    "print(result)"
   ]
  },
  {
   "cell_type": "code",
   "execution_count": null,
   "metadata": {},
   "outputs": [],
   "source": [
    "# Unary Minus\n",
    "\n",
    "num = 10\n",
    "result = -num\n",
    "print(result)"
   ]
  },
  {
   "cell_type": "code",
   "execution_count": null,
   "metadata": {},
   "outputs": [],
   "source": [
    "x = 12 \n",
    "y = -7\n",
    "z = x + y\n",
    "print(z)"
   ]
  },
  {
   "cell_type": "markdown",
   "metadata": {},
   "source": [
    "* ***Multiplication***"
   ]
  },
  {
   "cell_type": "code",
   "execution_count": null,
   "metadata": {},
   "outputs": [],
   "source": [
    "num1 = 6\n",
    "num2 = 10\n",
    "print(num1 * num2)"
   ]
  },
  {
   "cell_type": "code",
   "execution_count": null,
   "metadata": {},
   "outputs": [],
   "source": [
    "# Expression \n",
    "result = ( 3 + 5) * (5 - 3)\n",
    "print(result)"
   ]
  },
  {
   "cell_type": "markdown",
   "metadata": {},
   "source": [
    "* ***Division(Remainder)***"
   ]
  },
  {
   "cell_type": "code",
   "execution_count": null,
   "metadata": {},
   "outputs": [],
   "source": [
    "num1 = 34\n",
    "num2 = 4\n",
    "print(num1 / num2)"
   ]
  },
  {
   "cell_type": "code",
   "execution_count": null,
   "metadata": {},
   "outputs": [],
   "source": [
    "num1 = 14\n",
    "num2 = 2\n",
    "print(num1 / num2)"
   ]
  },
  {
   "cell_type": "markdown",
   "metadata": {},
   "source": [
    "* ***Floor Divisor(Divisor)***"
   ]
  },
  {
   "cell_type": "code",
   "execution_count": null,
   "metadata": {},
   "outputs": [],
   "source": [
    "num1 = 10\n",
    "num2 = 2\n",
    "result = num1 / num2\n",
    "print(result)"
   ]
  },
  {
   "cell_type": "code",
   "execution_count": null,
   "metadata": {},
   "outputs": [],
   "source": [
    "# SPEACIAL CASES:\n",
    "\n",
    "num1 = 10\n",
    "result = num / 0\n",
    "print(result)\n"
   ]
  },
  {
   "cell_type": "code",
   "execution_count": null,
   "metadata": {},
   "outputs": [],
   "source": [
    "# Negative floor Divisor\n",
    "\n",
    "num1 = -10\n",
    "num2 = 3\n",
    "result = num1 // num2 # truckate\n",
    "print(result)"
   ]
  },
  {
   "cell_type": "markdown",
   "metadata": {},
   "source": [
    "### ***Precedence and Associativity of Arithmetic Operator***"
   ]
  },
  {
   "cell_type": "markdown",
   "metadata": {},
   "source": [
    "| Operator | Precedence | Associativity |\n",
    "|----------|------------|---------------|\n",
    "| `()`     | Highest    | Left-to-right |\n",
    "| `**`     | High       | Right-to-left |\n",
    "| `*`, `/`, `+`, `-` | Medium   | Left-to-right |\n",
    "| `==`, `!=`, `>`, `<` | Lower    | Left-to-right |\n",
    "| `and`, `or` | Low      | Left-to-right |\n"
   ]
  },
  {
   "cell_type": "code",
   "execution_count": 3,
   "metadata": {},
   "outputs": [
    {
     "data": {
      "text/plain": [
       "32"
      ]
     },
     "execution_count": 3,
     "metadata": {},
     "output_type": "execute_result"
    }
   ],
   "source": [
    "# Precendence (high pirority)\n",
    "2 + 6 * 4\n",
    "\n",
    "(2 + 6 ) * 4"
   ]
  },
  {
   "cell_type": "code",
   "execution_count": 4,
   "metadata": {},
   "outputs": [
    {
     "data": {
      "text/plain": [
       "2417851639229258349412352"
      ]
     },
     "execution_count": 4,
     "metadata": {},
     "output_type": "execute_result"
    }
   ],
   "source": [
    "# Associate\n",
    "\n",
    "2 + 5 - 1 # left to right evalution\n",
    "\n",
    "# exponent\n",
    "\n",
    "2 ** 3 ** 4 # right to left"
   ]
  },
  {
   "cell_type": "markdown",
   "metadata": {},
   "source": [
    "-----"
   ]
  },
  {
   "cell_type": "markdown",
   "metadata": {},
   "source": [
    "### 2. ***Comparison (Relational) Operators***\n",
    "   "
   ]
  },
  {
   "cell_type": "markdown",
   "metadata": {},
   "source": [
    "| Operator | Description                |\n",
    "|----------|----------------------------|\n",
    "| `==`     | Equal to                   |\n",
    "| `!=`     | Not equal to               |\n",
    "| `>`      | Greater than               |\n",
    "| `<`      | Less than                  |\n",
    "| `>=`     | Greater than or equal to   |\n",
    "| `<=`     | Less than or equal to      |\n"
   ]
  },
  {
   "cell_type": "code",
   "execution_count": 5,
   "metadata": {},
   "outputs": [
    {
     "name": "stdout",
     "output_type": "stream",
     "text": [
      "False\n"
     ]
    }
   ],
   "source": [
    "# EQUAL TO \n",
    "x = 10\n",
    "y = 20\n",
    "\n",
    "print(x == y)"
   ]
  },
  {
   "cell_type": "code",
   "execution_count": 6,
   "metadata": {},
   "outputs": [
    {
     "name": "stdout",
     "output_type": "stream",
     "text": [
      "True\n"
     ]
    }
   ],
   "source": [
    "# NOT EQUAL TO\n",
    "\n",
    "x = 10\n",
    "y = -100\n",
    "\n",
    "print(x != y)"
   ]
  },
  {
   "cell_type": "code",
   "execution_count": 9,
   "metadata": {},
   "outputs": [
    {
     "name": "stdout",
     "output_type": "stream",
     "text": [
      "False\n",
      "False\n"
     ]
    }
   ],
   "source": [
    "# LESSER THAN\n",
    "x = 10\n",
    "y = 40\n",
    "print( x > y)\n",
    "\n",
    "# GREATER THAN OR EQUAL\n",
    "x = 5\n",
    "y = 10\n",
    "print(x >= y)\n"
   ]
  },
  {
   "cell_type": "markdown",
   "metadata": {},
   "source": [
    "-----"
   ]
  },
  {
   "cell_type": "markdown",
   "metadata": {},
   "source": [
    "### ***3. Logical Operator***"
   ]
  },
  {
   "cell_type": "markdown",
   "metadata": {},
   "source": [
    "| Operator | Description       | Example                             | Result |\n",
    "|----------|-------------------|-------------------------------------|--------|\n",
    "| `and`    | Logical AND       | `True and False`                    | `False`|\n",
    "| `or`     | Logical OR        | `True or False`                     | `True` |\n",
    "| `not`    | Logical NOT       | `not True`                          | `False`|\n"
   ]
  },
  {
   "cell_type": "code",
   "execution_count": 17,
   "metadata": {},
   "outputs": [
    {
     "name": "stdout",
     "output_type": "stream",
     "text": [
      "Access Denied\n",
      "Not granted\n"
     ]
    }
   ],
   "source": [
    "age =  1\n",
    "has_subscription = True\n",
    "password = \"correct\"\n",
    "\n",
    "if age >= 18:\n",
    "    eligible_age = True\n",
    "else:\n",
    "    eligible_age = False\n",
    "\n",
    "has_value_subscription  = has_subscription\n",
    "\n",
    "is_password = (password == \"correct\")\n",
    "\n",
    "if eligible_age and has_value_subscription and is_password:\n",
    "    print(\"Access Granted\")\n",
    "else:\n",
    "    print(\"Access Denied\")\n",
    "\n",
    "# incorrect password\n",
    "password = \"incorrect\"\n",
    "if eligible_age and has_value_subscription and is_password:\n",
    "    print(\"access Granted\")\n",
    "else:\n",
    "    print(\"Not granted\")\n"
   ]
  },
  {
   "cell_type": "code",
   "execution_count": 19,
   "metadata": {},
   "outputs": [
    {
     "name": "stdout",
     "output_type": "stream",
     "text": [
      "Denied wrong password username\n"
     ]
    }
   ],
   "source": [
    "# not and or\n",
    "\n",
    "stored_name = \"Anu\"\n",
    "stored_password = \"pass123\"\n",
    "\n",
    "#userinput\n",
    "input_username = \"An\"\n",
    "password_user = \"pass123\"\n",
    "\n",
    "if not (input_username == stored_name and stored_password == password_user):\n",
    "    print(\"Denied wrong password username\")\n",
    "\n",
    "else:\n",
    "    print(\"accessed !! Welcome\")\n",
    "\n",
    "\n"
   ]
  },
  {
   "cell_type": "markdown",
   "metadata": {},
   "source": [
    "-----"
   ]
  },
  {
   "cell_type": "markdown",
   "metadata": {},
   "source": [
    "### ***4.Assignment Operator***"
   ]
  },
  {
   "cell_type": "markdown",
   "metadata": {},
   "source": [
    "| Operator | Description                | Example   |\n",
    "|----------|----------------------------|-----------|\n",
    "| `=`      | Assign value               | `x = 5`   |\n",
    "| `+=`     | Add and assign             | `x += 3`  |\n",
    "| `-=`     | Subtract and assign        | `x -= 2`  |\n",
    "| `*=`     | Multiply and assign        | `x *= 2`  |\n",
    "| `/=`     | Divide and assign          | `x /= 3`  |\n",
    "| `//=`    | Floor divide and assign    | `x //= 4` |\n",
    "| `%=`     | Modulus and assign         | `x %= 5`  |\n",
    "| `**=`    | Exponentiate and assign    | `x **= 2` |\n"
   ]
  },
  {
   "cell_type": "code",
   "execution_count": 20,
   "metadata": {},
   "outputs": [
    {
     "name": "stdout",
     "output_type": "stream",
     "text": [
      "Initial Balance :  1000\n",
      "The total amount after deposit is :  1500\n",
      "After withdraw , the total balance :  1000\n",
      "After the interest rate balance :  1060.0\n",
      "After monthly fee balance:  1030.0\n",
      "After the floor division :  515.0\n",
      "After the modulus :  15.0\n",
      "After the exponent:  225.0\n"
     ]
    }
   ],
   "source": [
    "# Asssign value\n",
    "balance = 1000\n",
    "print(\"Initial Balance : \" , balance)\n",
    "\n",
    "# Deposit amount +=\n",
    "deposit_amount = 500\n",
    "balance +=  deposit_amount\n",
    "print(\"The total amount after deposit is : \", balance)\n",
    "\n",
    "#Withdraw the amount\n",
    "withdraw_amount = 500\n",
    "balance -= withdraw_amount\n",
    "print(\"After withdraw , the total balance : \", balance) \n",
    "\n",
    "# Apply interest\n",
    "interset_rate = 1.06\n",
    "balance *= interset_rate\n",
    "print(\"After the interest rate balance : \", balance)\n",
    "\n",
    "#monthly fee\n",
    "monthly_fee = 30\n",
    "balance -= monthly_fee\n",
    "print(\"After monthly fee balance: \", balance)\n",
    "\n",
    "#simple floor division\n",
    "balance //= 2\n",
    "print(\"After the floor division : \", balance)\n",
    "\n",
    "# modulus\n",
    "balance %= 100\n",
    "print(\"After the modulus : \", balance)\n",
    "\n",
    "#power or exponent\n",
    "balance **= 2\n",
    "print(\"After the exponent: \", balance)"
   ]
  },
  {
   "cell_type": "markdown",
   "metadata": {},
   "source": [
    "---------"
   ]
  },
  {
   "cell_type": "markdown",
   "metadata": {},
   "source": [
    "### 5. ***Bitwise Operators***\n",
    "   "
   ]
  },
  {
   "cell_type": "markdown",
   "metadata": {},
   "source": [
    "Works on bits or binary number and we first convert into the binary bytes eg. 5 to 0101"
   ]
  },
  {
   "cell_type": "markdown",
   "metadata": {},
   "source": [
    "| Operator | Description          | Example     | Result (x = 5, y = 3) |\n",
    "|----------|----------------------|-------------|-----------------------|\n",
    "| `&`      | Bitwise AND          | `x & y`     | `1`                   |\n",
    "|  \"1\"      | Bitwise OR           | `x 1 y`     | `7`                   |\n",
    "| `^`      | Bitwise XOR          | `x ^ y`     | `6`                   |\n",
    "| `~`      | Bitwise NOT          | `~x`        | `-6`                  |\n",
    "| `<<`     | Left shift           | `x << 1`    | `10`                  |\n",
    "| `>>`     | Right shift          | `x >> 1`    | `2`                   |\n"
   ]
  },
  {
   "cell_type": "code",
   "execution_count": 25,
   "metadata": {},
   "outputs": [
    {
     "name": "stdout",
     "output_type": "stream",
     "text": [
      "4\n",
      "5\n",
      "1\n",
      "-6\n",
      "20\n",
      "1\n"
     ]
    }
   ],
   "source": [
    "a , b = 5, 4\n",
    "print(a & b)\n",
    "print(a | b)\n",
    "print(a ^ b)\n",
    "print(~a)\n",
    "print(a << 2)\n",
    "print(a >> 2)"
   ]
  },
  {
   "cell_type": "markdown",
   "metadata": {},
   "source": [
    "----------"
   ]
  },
  {
   "cell_type": "markdown",
   "metadata": {},
   "source": [
    "\n",
    "## 6. ***Identity Operators***\n",
    "  "
   ]
  },
  {
   "cell_type": "markdown",
   "metadata": {},
   "source": [
    "- `is` : Identity test (checks if two variables refer to the same object)\n",
    "- `is not` : Identity test (checks if two variables do not refer to the same object)"
   ]
  },
  {
   "cell_type": "code",
   "execution_count": 33,
   "metadata": {},
   "outputs": [
    {
     "name": "stdout",
     "output_type": "stream",
     "text": [
      "True\n",
      "True\n",
      "False\n",
      "True\n"
     ]
    }
   ],
   "source": [
    "a = [5, 7, 8, 9]\n",
    "b = a\n",
    "c = [5, 7, 8, 9]\n",
    "\n",
    "print(a is b) # points the same object\n",
    "print(a is not c) #points different object false\n",
    "\n",
    "# False because a and c are different objects, despite having the same values\n",
    "print(a is  c)\n",
    "\n",
    "print( b is not c)\n",
    "\n"
   ]
  },
  {
   "cell_type": "markdown",
   "metadata": {},
   "source": [
    "### 7. ***Membership Operators***\n",
    "  \n",
    "\n"
   ]
  },
  {
   "cell_type": "markdown",
   "metadata": {},
   "source": [
    "- `in` : Checks if a value is present in a sequence (list, tuple, etc.)\n",
    "- `not in` : Checks if a value is not present in a sequence"
   ]
  },
  {
   "cell_type": "code",
   "execution_count": 34,
   "metadata": {},
   "outputs": [
    {
     "name": "stdout",
     "output_type": "stream",
     "text": [
      "0\n",
      "1\n",
      "2\n",
      "3\n"
     ]
    }
   ],
   "source": [
    "list1 = [4, 6, 7, 9]\n",
    "for i in range(len(list1)):\n",
    "    print(i)"
   ]
  },
  {
   "cell_type": "code",
   "execution_count": 39,
   "metadata": {},
   "outputs": [
    {
     "name": "stdout",
     "output_type": "stream",
     "text": [
      "apple\n"
     ]
    }
   ],
   "source": [
    "fruits = [\"apple\", \"mongo\", \"cherry\"]\n",
    "for fruit in fruits:\n",
    "    if fruit not in [\"mongo\", \"cherry\"]:\n",
    "        print(fruit)"
   ]
  },
  {
   "cell_type": "code",
   "execution_count": 35,
   "metadata": {},
   "outputs": [
    {
     "name": "stdout",
     "output_type": "stream",
     "text": [
      "True\n"
     ]
    }
   ],
   "source": [
    "text = \"Hello world\"\n",
    "\n",
    "print(\"Hello\" in text) #true or false"
   ]
  },
  {
   "cell_type": "markdown",
   "metadata": {},
   "source": [
    "-------"
   ]
  },
  {
   "cell_type": "markdown",
   "metadata": {},
   "source": [
    "### 8. ***Ternary (Conditional) Operator***\n",
    "   "
   ]
  },
  {
   "cell_type": "markdown",
   "metadata": {},
   "source": [
    "- `x if condition else y` : Conditional expression (if the condition is True, return `x`; otherwise, return `y`)\n",
    "\n",
    "- value_if_true if condition else value_if_false"
   ]
  },
  {
   "cell_type": "code",
   "execution_count": 41,
   "metadata": {},
   "outputs": [
    {
     "name": "stdout",
     "output_type": "stream",
     "text": [
      "Adult\n"
     ]
    }
   ],
   "source": [
    "age = 18\n",
    "\n",
    "status = \"Adult\" if age >= 18 else \"Minor\"\n",
    "\n",
    "print(status)"
   ]
  },
  {
   "cell_type": "code",
   "execution_count": 43,
   "metadata": {},
   "outputs": [
    {
     "name": "stdout",
     "output_type": "stream",
     "text": [
      "Child\n"
     ]
    }
   ],
   "source": [
    "age = 10\n",
    "\n",
    "status = \"Adult\" if age >= 18 else \"Teenager\" if age >= 13 else \"Child\"\n",
    "\n",
    "print(status)"
   ]
  },
  {
   "cell_type": "markdown",
   "metadata": {},
   "source": [
    "----"
   ]
  }
 ],
 "metadata": {
  "kernelspec": {
   "display_name": "Python 3",
   "language": "python",
   "name": "python3"
  },
  "language_info": {
   "codemirror_mode": {
    "name": "ipython",
    "version": 3
   },
   "file_extension": ".py",
   "mimetype": "text/x-python",
   "name": "python",
   "nbconvert_exporter": "python",
   "pygments_lexer": "ipython3",
   "version": "3.11.8"
  }
 },
 "nbformat": 4,
 "nbformat_minor": 2
}
