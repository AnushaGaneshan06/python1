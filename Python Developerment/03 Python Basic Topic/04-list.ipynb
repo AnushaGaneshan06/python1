{
 "cells": [
  {
   "cell_type": "markdown",
   "metadata": {},
   "source": [
    "# ***LIST IN PYTHON***"
   ]
  },
  {
   "cell_type": "markdown",
   "metadata": {},
   "source": [
    "A list in Python is an ordered, mutable collection of elements. It allows duplication and can store mixed data types. Lists are fundamental to Python programming and are used extensively for data manipulation."
   ]
  },
  {
   "cell_type": "markdown",
   "metadata": {},
   "source": [
    "### **1. LIST METHOD**"
   ]
  },
  {
   "cell_type": "markdown",
   "metadata": {},
   "source": [
    "* ***List Creation***"
   ]
  },
  {
   "cell_type": "code",
   "execution_count": null,
   "metadata": {},
   "outputs": [],
   "source": [
    "# Empty List\n",
    "\n",
    "empty_list = []\n",
    "\n",
    "# list with element\n",
    "\n",
    "list1 = [\"fruits\", \"orange\", \"dates\"]\n",
    "\n",
    "# CREATION WITH CONSTRUCTOR\n",
    "list1 = list((\"apple\", \"orange\", \"grape\")) # from tuple\n",
    "\n",
    "list2 = list(\"String\") #from string\n",
    "\n",
    "# MIXED DATA TYPES\n",
    "\n",
    "list3 = [\"string\", 22, 2.0, (9, 0), {4, 6}, True, {\"key\" : \"value\"} ]\n",
    "\n",
    "print(type(list3[4]), list3[4])\n",
    "\n",
    "\n"
   ]
  },
  {
   "cell_type": "markdown",
   "metadata": {},
   "source": [
    "* ***Accesssing and Manipulating list element***"
   ]
  },
  {
   "cell_type": "markdown",
   "metadata": {},
   "source": [
    "        Indexing"
   ]
  },
  {
   "cell_type": "code",
   "execution_count": null,
   "metadata": {},
   "outputs": [],
   "source": [
    "my_list = [\"a\", \"b\", \"c\"]\n",
    "print(my_list[0])\n",
    "print(my_list[-1])"
   ]
  },
  {
   "cell_type": "markdown",
   "metadata": {},
   "source": [
    "    Slicing"
   ]
  },
  {
   "cell_type": "code",
   "execution_count": null,
   "metadata": {},
   "outputs": [],
   "source": [
    "my_list = [1, 3, 5, 4, \"apple\", 5, 2.3]\n",
    "\n",
    "print(my_list[1:])\n",
    "\n",
    "print(my_list[4 : 5])\n",
    "\n",
    "print(my_list[ : -1])"
   ]
  },
  {
   "cell_type": "markdown",
   "metadata": {},
   "source": [
    "    Updating Element"
   ]
  },
  {
   "cell_type": "code",
   "execution_count": null,
   "metadata": {},
   "outputs": [],
   "source": [
    "# UPDATE ELEMENT\n",
    "my_list  = [4, 6, 7, 2, 5, 0]\n",
    "update = my_list[0] = 3\n",
    "print(my_list)\n",
    "\n",
    "# DELETING ELEMENT\n",
    "del my_list[1]\n",
    "print(my_list)\n",
    "\n",
    "# APPEND ELEMENT\n",
    "my_list.append(7)\n",
    "print(my_list)\n",
    "\n",
    "# EXTEND ELEMENT\n",
    "my_list.extend([5, 8, 9])\n",
    "print(my_list)\n",
    "\n",
    "# INSERT ELEMENT (INDEX, ITEM)\n",
    "my_list.insert(4, \"apple\")\n",
    "print(my_list)\n",
    "\n",
    "#REMOVE THE ELEMENT\n",
    "my_list.remove(2) #element remove\n",
    "print(my_list)\n",
    "\n",
    "\n",
    "# POP ELEMENT Last Element\n",
    "my_list.pop()\n",
    "print(my_list)\n",
    "\n",
    "# COUNT ELEMENT\n",
    "count = my_list.count(0)\n",
    "print(count)\n",
    "\n",
    "\n",
    "#CLEAR \n",
    "my_list.clear()\n",
    "print(my_list)\n",
    "\n",
    "\n"
   ]
  },
  {
   "cell_type": "markdown",
   "metadata": {},
   "source": [
    "    Sort and Sorted"
   ]
  },
  {
   "cell_type": "code",
   "execution_count": null,
   "metadata": {},
   "outputs": [],
   "source": [
    "my_list = [4, 5, 8, 0, 1 , 2]\n",
    "decending = sorted(my_list, reverse=True)\n",
    "ascending = sorted(my_list)\n",
    "print(decending, ascending)"
   ]
  },
  {
   "cell_type": "code",
   "execution_count": null,
   "metadata": {},
   "outputs": [],
   "source": [
    "# SORT \n",
    "\n",
    "my_list.sort()\n",
    "print(my_list)\n",
    "\n",
    "\n",
    "# CUSTOM LIST\n",
    "\n",
    "list1 = [\"apple\", \"banana\", \"cherry\"]\n",
    "list1.sort(key=len)\n",
    "print(my_list)\n",
    "\n",
    "# REVERSE LITS\n",
    "\n",
    "list1.reverse()\n",
    "print(list1)\n",
    "\n"
   ]
  },
  {
   "cell_type": "markdown",
   "metadata": {},
   "source": [
    "    COPY AND SHALLOW COPY"
   ]
  },
  {
   "cell_type": "code",
   "execution_count": null,
   "metadata": {},
   "outputs": [],
   "source": [
    "my_list = [5, 5, 4]\n",
    "\n",
    "copy = my_list.copy()\n",
    "\n",
    "print(copy)"
   ]
  },
  {
   "cell_type": "markdown",
   "metadata": {},
   "source": [
    "### ***2. BUILT IN FUCNTION IN LIST***"
   ]
  },
  {
   "cell_type": "code",
   "execution_count": null,
   "metadata": {},
   "outputs": [],
   "source": [
    "# LENGHT\n",
    "\n",
    "my_list = [6, 7, 2 , 1, 4]\n",
    "lenght = len(my_list)\n",
    "print(lenght)"
   ]
  },
  {
   "cell_type": "code",
   "execution_count": null,
   "metadata": {},
   "outputs": [],
   "source": [
    "list_name = [4, 6, 7, 8]\n",
    "\n",
    "# SUM\n",
    "sum1 = sum(list_name)\n",
    "print(sum1)\n",
    "\n",
    "# MIN AND MAX\n",
    "\n",
    "# minimum = min(list_name)\n",
    "# print(minimum)\n",
    "\n",
    "maximun = max(list_name)\n",
    "print(maximun)"
   ]
  },
  {
   "cell_type": "markdown",
   "metadata": {},
   "source": [
    "    The zip() function combines two or more iterable"
   ]
  },
  {
   "cell_type": "code",
   "execution_count": 68,
   "metadata": {},
   "outputs": [
    {
     "name": "stdout",
     "output_type": "stream",
     "text": [
      "<zip object at 0x000001F79C5CA480>\n",
      "[('apple', 0), ('cherry', 1), ('pine', 2)]\n"
     ]
    }
   ],
   "source": [
    "# NOTE : Unequal Lengths: If the lists have unequal lengths, zip() stops at the shortest length.\n",
    "\n",
    "\n",
    "list1 = [0, 1, 2]\n",
    "list2 = [\"apple\", \"cherry\", \"pine\", \"jack\"]\n",
    "\n",
    "zipped = zip(list2 , list1)\n",
    "\n",
    "print(zipped)\n",
    "\n",
    "# Convert the zip object to a list to see the output\n",
    "zipped_list = list(zipped)\n",
    "print(zipped_list)"
   ]
  },
  {
   "cell_type": "markdown",
   "metadata": {},
   "source": [
    "       ZIP ITERTABLE"
   ]
  },
  {
   "cell_type": "code",
   "execution_count": 69,
   "metadata": {},
   "outputs": [
    {
     "name": "stdout",
     "output_type": "stream",
     "text": [
      "[(0, 'apple', True), (1, 'cherry', False)]\n"
     ]
    }
   ],
   "source": [
    "list1 = [0, 1, 2]\n",
    "list2 = [\"apple\", \"cherry\", \"pine\", \"jack\"]\n",
    "list3 = [True, False]\n",
    "\n",
    "zipped = list(zip(list1, list2, list3))\n",
    "\n",
    "print(zipped)"
   ]
  },
  {
   "cell_type": "markdown",
   "metadata": {},
   "source": [
    "     UNZIPPED"
   ]
  },
  {
   "cell_type": "code",
   "execution_count": 74,
   "metadata": {},
   "outputs": [
    {
     "name": "stdout",
     "output_type": "stream",
     "text": [
      "[1, 2, 3]\n",
      "['a', 'b', 'c']\n"
     ]
    }
   ],
   "source": [
    "zipped_list = [(1, 'a'), (2, 'b'), (3, 'c')]\n",
    "list1, list2 = zip(*zipped_list)\n",
    "\n",
    "print(list(list1))  # Output: [1, 2, 3]\n",
    "print(list(list2))"
   ]
  },
  {
   "cell_type": "markdown",
   "metadata": {},
   "source": [
    "    ENUMERATE "
   ]
  },
  {
   "cell_type": "code",
   "execution_count": 76,
   "metadata": {},
   "outputs": [
    {
     "name": "stdout",
     "output_type": "stream",
     "text": [
      "0: apple\n",
      "1: banana\n",
      "2: cherry\n",
      "1 : apple\n",
      "2 : banana\n",
      "3 : cherry\n"
     ]
    }
   ],
   "source": [
    "fruits = [\"apple\", \"banana\", \"cherry\"]\n",
    "\n",
    "for index, fruit in enumerate(fruits):\n",
    "    print(f\"{index}: {fruit}\")\n",
    "\n",
    "\n",
    "# Custom start index\n",
    "for index, fruit in enumerate(fruits, start=1):\n",
    "    print(f\"{index} : {fruit}\")"
   ]
  },
  {
   "cell_type": "markdown",
   "metadata": {},
   "source": [
    "    NESTED LIST"
   ]
  },
  {
   "cell_type": "code",
   "execution_count": 78,
   "metadata": {},
   "outputs": [
    {
     "name": "stdout",
     "output_type": "stream",
     "text": [
      "3\n"
     ]
    }
   ],
   "source": [
    "nested_list = [\n",
    "    [2, 3, 4, 6],\n",
    "    [2, 3, 4, 6],\n",
    "    [2, 3, 4, 6]\n",
    "]\n",
    "\n",
    "print(nested_list[0][1])"
   ]
  }
 ],
 "metadata": {
  "kernelspec": {
   "display_name": "Python 3",
   "language": "python",
   "name": "python3"
  },
  "language_info": {
   "codemirror_mode": {
    "name": "ipython",
    "version": 3
   },
   "file_extension": ".py",
   "mimetype": "text/x-python",
   "name": "python",
   "nbconvert_exporter": "python",
   "pygments_lexer": "ipython3",
   "version": "3.11.8"
  }
 },
 "nbformat": 4,
 "nbformat_minor": 2
}
