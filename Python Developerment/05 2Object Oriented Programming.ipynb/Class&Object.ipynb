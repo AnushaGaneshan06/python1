{
 "cells": [
  {
   "cell_type": "markdown",
   "metadata": {},
   "source": [
    "# ***Class and object***"
   ]
  },
  {
   "cell_type": "markdown",
   "metadata": {},
   "source": [
    "A **class** in Python is a **template** for creating objects (instances).  \n",
    "It defines **attributes** (data) and **methods** (functions) that the objects created from the class will have.  \n",
    "Classes enable **object-oriented programming** by **encapsulating both data and behavior** into a single structure.\n",
    "\n"
   ]
  },
  {
   "cell_type": "markdown",
   "metadata": {},
   "source": [
    "    Whatever we are creating in the python is the object that is  istance of the  specific class"
   ]
  },
  {
   "cell_type": "code",
   "execution_count": null,
   "metadata": {},
   "outputs": [],
   "source": [
    "# built in type :\n",
    "\n",
    "def hello():\n",
    "    print(\"hello\")\n",
    "    \n",
    "print(type(hello))  # class function is the object of class called hello\n",
    "\n",
    "x = 1\n",
    "print(type(x)) # object of class int"
   ]
  },
  {
   "cell_type": "markdown",
   "metadata": {},
   "source": [
    "    Every Creating are object in the python"
   ]
  },
  {
   "cell_type": "code",
   "execution_count": null,
   "metadata": {},
   "outputs": [],
   "source": [
    "x = 1\n",
    "y = \"hello\"\n",
    "\n",
    "print(x + y) # not define object od int and object of string not concatinate"
   ]
  },
  {
   "cell_type": "markdown",
   "metadata": {},
   "source": [
    "    The method access the object."
   ]
  },
  {
   "cell_type": "code",
   "execution_count": null,
   "metadata": {},
   "outputs": [],
   "source": [
    "# Whenvever the (.) presents is the METHOD \n",
    "string = \"hello\"\n",
    "x = 1\n",
    "print(x.upper())  # int' object has no attribute 'upper'\n",
    "print(string.upper())"
   ]
  },
  {
   "cell_type": "markdown",
   "metadata": {},
   "source": [
    "## ***1.CREATING THE OWN CLASS***"
   ]
  },
  {
   "cell_type": "markdown",
   "metadata": {},
   "source": [
    "#### `1. Method`\n",
    "* ***Method is the function inside the class***\n",
    "* A **method** in Python is a function defined inside a class.  \n",
    "Instance methods take `self` as the first parameter to access the instance's attributes and methods.  \n",
    "Class methods use `cls` and are bound to the class, while static methods don’t take `self` or `cls`.\n"
   ]
  },
  {
   "cell_type": "markdown",
   "metadata": {},
   "source": [
    "#### `2. __init__ Method`:\n",
    "* ***special method that instantiate the object when it is created whenever created the object it automatically careted***\n",
    "\n",
    "* The `__init__` method in Python is a **special method** used to **initialize objects** when they are created.  \n",
    "* It is **automatically called** when a new instance of a class is instantiated.  \n",
    "* This method allows **setting initial values** for the object's attributes at the time of creation.\n"
   ]
  },
  {
   "cell_type": "markdown",
   "metadata": {},
   "source": [
    "### **`3. self`**\n",
    " * ***is the first parameter of instance methods in a class.***  \n",
    " * ***It represents the instance of the class itself, allowing you to access attributes and methods within the class.***\n",
    "* ***self ensures each object can reference its own data.***\n"
   ]
  },
  {
   "cell_type": "code",
   "execution_count": null,
   "metadata": {},
   "outputs": [],
   "source": [
    "class Dog:\n",
    "    def __init__(self, name): # attributes\n",
    "        self.name = name  # define attribute\n",
    "        print(name)\n",
    "\n",
    "    def add_one(self, x):\n",
    "        return x + 1\n",
    "\n",
    "    def bark(self):\n",
    "        print(\"bark\")\n",
    "\n",
    "d = Dog(\"anu\")\n",
    "d2 = Dog(\"bill\") # instance of class\n",
    "\n",
    "\n",
    "# calling the method \n",
    "# -----------------\n",
    "d.bark() \n",
    "print(d.add_one(3))\n",
    "\n",
    "# --------------\n",
    "print(type(d))\n",
    "print(d)"
   ]
  },
  {
   "cell_type": "code",
   "execution_count": 25,
   "metadata": {},
   "outputs": [
    {
     "name": "stdout",
     "output_type": "stream",
     "text": [
      "name : bob, age: 33\n"
     ]
    }
   ],
   "source": [
    "class Person:\n",
    "    def __init__(self, name, age): \n",
    "    # init is the method to initialize the object\n",
    "        self.name = name # name attribute inititalization\n",
    "        self.age = age\n",
    "\n",
    "    def display_info(self):\n",
    "        print(f\"name : {self.name}, age: {self.age}\")\n",
    "\n",
    "\n",
    "# Creating the object of the class person or\n",
    "# init method is the instance of class itself \n",
    "\n",
    "person = Person(\"bob\", 33)\n",
    "\n",
    "# calling the method to display the information\n",
    "person.display_info()\n",
    "\n",
    "        "
   ]
  },
  {
   "cell_type": "code",
   "execution_count": 30,
   "metadata": {},
   "outputs": [
    {
     "name": "stdout",
     "output_type": "stream",
     "text": [
      "jim\n",
      "34\n"
     ]
    }
   ],
   "source": [
    "class Person2:\n",
    "    def __init__(self, name, age):\n",
    "        self.name = name\n",
    "        self.age = age\n",
    "\n",
    "    def get_name(self): # visible pass the attribute\n",
    "        return self.name\n",
    "    \n",
    "    def get_age(self):\n",
    "        return self.age\n",
    "    \n",
    "    # modify\n",
    "    def set_age(self, age):\n",
    "        self.age = age\n",
    "    \n",
    "person2 = Person2(\"jim\", 35)\n",
    "print(person2.get_name())\n",
    "\n",
    "# modify\n",
    "person2.set_age(34)\n",
    "\n",
    "print(person2.get_age())\n"
   ]
  },
  {
   "cell_type": "markdown",
   "metadata": {},
   "source": [
    "    MULTIPLE CLASS"
   ]
  },
  {
   "cell_type": "code",
   "execution_count": 43,
   "metadata": {},
   "outputs": [
    {
     "name": "stdout",
     "output_type": "stream",
     "text": [
      "tim\n"
     ]
    },
    {
     "data": {
      "text/plain": [
       "44.5"
      ]
     },
     "execution_count": 43,
     "metadata": {},
     "output_type": "execute_result"
    }
   ],
   "source": [
    "class Student:\n",
    "    def __init__(self, name , age, grade):\n",
    "        self.name = name\n",
    "        self.age = age\n",
    "        self.grade = grade\n",
    "\n",
    "    def get_grade(self):\n",
    "        return self.grade\n",
    "    \n",
    "\n",
    "class Course:\n",
    "    def __init__(self,name, max_student):\n",
    "        self.name = name\n",
    "        self.max_student = max_student\n",
    "        self.student = [] # declare attribut without in parameter\n",
    "        \n",
    "    \n",
    "    def add_student(self, student):\n",
    "        if len(self.student) < self.max_student:\n",
    "            self.student.append(student)\n",
    "            return True\n",
    "        return False\n",
    "    \n",
    "    def get_average_garde(self):\n",
    "        value = 0\n",
    "        for students in self.student:\n",
    "            value += students.get_grade()\n",
    "            return value / len(self.student)\n",
    "\n",
    "\n",
    "student1 = Student(\"tim\", 23, 89)\n",
    "student2 = Student(\"dam\", 21, 49)\n",
    "student3 = Student(\"oct\", 21, 99)\n",
    "\n",
    "course = Course(\"science\", 2)\n",
    "\n",
    "course.add_student(student1)\n",
    "course.add_student(student2)\n",
    "course.add_student(student3)\n",
    "\n",
    "print(course.student[0].name)\n",
    "\n",
    "course.get_average_garde()\n",
    "\n",
    "\n"
   ]
  }
 ],
 "metadata": {
  "kernelspec": {
   "display_name": "Python 3",
   "language": "python",
   "name": "python3"
  },
  "language_info": {
   "codemirror_mode": {
    "name": "ipython",
    "version": 3
   },
   "file_extension": ".py",
   "mimetype": "text/x-python",
   "name": "python",
   "nbconvert_exporter": "python",
   "pygments_lexer": "ipython3",
   "version": "3.11.8"
  }
 },
 "nbformat": 4,
 "nbformat_minor": 2
}
