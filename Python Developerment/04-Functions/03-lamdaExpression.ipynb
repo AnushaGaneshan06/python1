{
 "cells": [
  {
   "cell_type": "markdown",
   "metadata": {},
   "source": [
    "# ***02 Lambda expression in python***"
   ]
  },
  {
   "cell_type": "markdown",
   "metadata": {},
   "source": [
    "**In Python, a lambda is a way to create small, anonymous functions in a single line of code.**\n",
    "\n",
    "**A lambda function can have any number of arguments but only a single expression, which is evaluated and returned.**"
   ]
  },
  {
   "cell_type": "markdown",
   "metadata": {},
   "source": [
    "| Feature        | `map`                | `filter`             | `reduce`                |\n",
    "|----------------|----------------------|----------------------|-------------------------|\n",
    "| Purpose        | Transforms elements. | Filters elements.    | Combines elements.      |\n",
    "| Output         | Modified iterable.   | Filtered iterable.   | Single value.           |\n",
    "| Example        | `map(f, [1, 2, 3])`  | `filter(f, [1, 2, 3])` | `reduce(f, [1, 2, 3])`  |\n"
   ]
  },
  {
   "cell_type": "markdown",
   "metadata": {},
   "source": [
    "    SYNTAX\n",
    "**lambda arguments**: expression\n"
   ]
  },
  {
   "cell_type": "markdown",
   "metadata": {},
   "source": [
    "    key characteristics:"
   ]
  },
  {
   "cell_type": "markdown",
   "metadata": {},
   "source": [
    "* Anonymous : A **lamba** function does not need a name (but can we assign to one if needed)\n",
    "\n",
    "\n",
    "* Compact :Write in single\n",
    "\n",
    "* Cannot contain multiple statement or complex logic\n",
    "\n"
   ]
  },
  {
   "cell_type": "markdown",
   "metadata": {},
   "source": [
    "    We use lambda when we not define the function only use the value of the arguments to opertaion"
   ]
  },
  {
   "cell_type": "code",
   "execution_count": 3,
   "metadata": {},
   "outputs": [
    {
     "name": "stdout",
     "output_type": "stream",
     "text": [
      "7\n"
     ]
    }
   ],
   "source": [
    "# variable to add and the lambda and the x is the parameter and colon(:) is expression that return thr value \n",
    "\n",
    "add_1 = lambda x , y: x + y\n",
    "print(add_1(3, 4))\n",
    "\n",
    "\n",
    "\n",
    "def add_1(x, y):\n",
    "    return(x + y) # above lambda code and this fn are same\n",
    "\n"
   ]
  },
  {
   "cell_type": "markdown",
   "metadata": {},
   "source": [
    "### ***1. map function***"
   ]
  },
  {
   "cell_type": "markdown",
   "metadata": {},
   "source": [
    "In Python, the map function is a **built-in higher-order function used to apply a specified function to each item of an iterable (like a list, tuple, etc.)** and return an iterator with the results."
   ]
  },
  {
   "cell_type": "markdown",
   "metadata": {},
   "source": [
    "    Take some list or iterable object and apply  the function to every single value inside it"
   ]
  },
  {
   "cell_type": "code",
   "execution_count": 8,
   "metadata": {},
   "outputs": [
    {
     "name": "stdout",
     "output_type": "stream",
     "text": [
      "[25, 36, 64, 81, 9, 16, 36, 1]\n"
     ]
    }
   ],
   "source": [
    "my_number = [5, 6, 8, 9, 3, 4, 6, 1 ]\n",
    "\n",
    "def square(x):\n",
    "    return x ** 2\n",
    "\n",
    "squares = list(map(square, my_number))\n",
    "print(squares)"
   ]
  },
  {
   "cell_type": "code",
   "execution_count": 10,
   "metadata": {},
   "outputs": [
    {
     "name": "stdout",
     "output_type": "stream",
     "text": [
      "[25, 36, 64, 81, 9, 16, 36, 1]\n"
     ]
    }
   ],
   "source": [
    "# instead of function definition \n",
    "# LAMBDA FUNCTION \n",
    "\n",
    "squares = list(map(lambda x : x ** 2 , my_number))\n",
    "print(squares)\n",
    "\n"
   ]
  },
  {
   "cell_type": "code",
   "execution_count": 12,
   "metadata": {},
   "outputs": [
    {
     "name": "stdout",
     "output_type": "stream",
     "text": [
      "[10, 13, 15, 10]\n"
     ]
    }
   ],
   "source": [
    "list1 = [4, 6, 7, 8]\n",
    "list2 = [6, 7, 8, 2]\n",
    "\n",
    "combines = list(map(lambda x, y : x + y, list1, list2))\n",
    "print(combines)"
   ]
  },
  {
   "cell_type": "code",
   "execution_count": 14,
   "metadata": {},
   "outputs": [
    {
     "name": "stdout",
     "output_type": "stream",
     "text": [
      "[1, 3, 4, 5] <class 'int'>\n"
     ]
    }
   ],
   "source": [
    "# 1. Convert a List of Strings to Integers python Copy code\n",
    "\n",
    "list1 = [\"1\", \"3\", \"4\", \"5\"]\n",
    "\n",
    "integer = list(map(lambda x : int(x), list1))\n",
    "\n",
    "print(integer, type(integer[0]))"
   ]
  },
  {
   "cell_type": "code",
   "execution_count": 15,
   "metadata": {},
   "outputs": [
    {
     "name": "stdout",
     "output_type": "stream",
     "text": [
      "['sethasetha', 'ramarama', 'thevatheva']\n"
     ]
    }
   ],
   "source": [
    "# 2. Apply a Function to Each Element  python Copy code\n",
    "\n",
    "def function1(name):\n",
    "    return name * 2\n",
    "\n",
    "name = [\"setha\", \"rama\", \"theva\"]\n",
    "\n",
    "names = list(map( function1, name))\n",
    "print(names)\n"
   ]
  },
  {
   "cell_type": "code",
   "execution_count": 16,
   "metadata": {},
   "outputs": [
    {
     "name": "stdout",
     "output_type": "stream",
     "text": [
      "['Hello', 'Hi', 'Jerry', 'Tom']\n"
     ]
    }
   ],
   "source": [
    "words = [\"hello\", \"hi\", \"jerry\", \"tom\"]\n",
    "\n",
    "cap = list(map(lambda word : word.capitalize(), words ))\n",
    "\n",
    "print(cap)"
   ]
  },
  {
   "cell_type": "markdown",
   "metadata": {},
   "source": [
    "### ***2. Filter function***"
   ]
  },
  {
   "cell_type": "markdown",
   "metadata": {},
   "source": [
    "Same as map that apply every single value inside of list / iterable object.\n",
    "\n",
    "**Difference:**\n",
    "`if dunction is true return and store the value False reject it`"
   ]
  },
  {
   "cell_type": "code",
   "execution_count": 17,
   "metadata": {},
   "outputs": [
    {
     "name": "stdout",
     "output_type": "stream",
     "text": [
      "[4, 6]\n"
     ]
    }
   ],
   "source": [
    "my_number = [4, 5, 6, 7, 9]\n",
    "\n",
    "even = list(filter(lambda x : x % 2 == 0 , my_number))\n",
    "\n",
    "print(even)"
   ]
  },
  {
   "cell_type": "code",
   "execution_count": 19,
   "metadata": {},
   "outputs": [
    {
     "name": "stdout",
     "output_type": "stream",
     "text": [
      "[6, 1, 2, 3]\n"
     ]
    }
   ],
   "source": [
    "def is_positive(x):\n",
    "    return x > 0\n",
    "\n",
    "number = [-5, 6, 1, 2, 3, -9]\n",
    "positive_numbers = list(filter(is_positive , number))\n",
    "print(positive_numbers)"
   ]
  },
  {
   "cell_type": "code",
   "execution_count": 20,
   "metadata": {},
   "outputs": [
    {
     "name": "stdout",
     "output_type": "stream",
     "text": [
      "['pollen', 'filter']\n"
     ]
    }
   ],
   "source": [
    "words = [\"cat\", \"dog\", \"pollen\", \"filter\"]\n",
    "\n",
    "lenght = list(filter(lambda x : len(x) > 3, words))\n",
    "print(lenght)"
   ]
  },
  {
   "cell_type": "code",
   "execution_count": 21,
   "metadata": {},
   "outputs": [
    {
     "name": "stdout",
     "output_type": "stream",
     "text": [
      "[9, 0, 3, 6]\n"
     ]
    }
   ],
   "source": [
    "number = [9, 0, 3, 5, 6, 7]\n",
    "\n",
    "divisor_3 = list(filter(lambda x : x % 3 == 0, number))\n",
    "\n",
    "print(divisor_3)"
   ]
  },
  {
   "cell_type": "markdown",
   "metadata": {},
   "source": [
    "### ***3. Sorted function***"
   ]
  },
  {
   "cell_type": "markdown",
   "metadata": {},
   "source": [
    "    key function"
   ]
  },
  {
   "cell_type": "code",
   "execution_count": 26,
   "metadata": {},
   "outputs": [
    {
     "name": "stdout",
     "output_type": "stream",
     "text": [
      "[(1, 'b', 'aello'), (3, 'c', 'ok'), (2, 'a', 'world')]\n"
     ]
    }
   ],
   "source": [
    "values = [(1, \"b\", \"aello\"), (2, \"a\", \"world\"), (3, \"c\", \"ok\")]\n",
    "\n",
    "sorted_value = list(sorted(values, key=lambda x :x[2] + x[1]))\n",
    "# sort based on the index value in tuple 2 changes\n",
    "\n",
    "print(sorted_value)"
   ]
  },
  {
   "cell_type": "markdown",
   "metadata": {},
   "source": [
    "### ***4. Reduce function***"
   ]
  },
  {
   "cell_type": "markdown",
   "metadata": {},
   "source": [
    "    Its Going to reduce down some kind of iterable object to a single value"
   ]
  },
  {
   "cell_type": "code",
   "execution_count": 28,
   "metadata": {},
   "outputs": [
    {
     "name": "stdout",
     "output_type": "stream",
     "text": [
      "720\n"
     ]
    }
   ],
   "source": [
    "from functools import reduce\n",
    "my_list = [1,2 , 3, 4, 5, 6]\n",
    "\n",
    "product = reduce(lambda x, y : x * y, my_list)\n",
    "\n",
    "print(product)"
   ]
  },
  {
   "cell_type": "code",
   "execution_count": 29,
   "metadata": {},
   "outputs": [
    {
     "name": "stdout",
     "output_type": "stream",
     "text": [
      "39\n"
     ]
    }
   ],
   "source": [
    "from functools import reduce\n",
    "\n",
    "numbers = [4, 5, 6, 7, 8, 9]\n",
    "\n",
    "sum_of_numbers = reduce(lambda acc, x : acc + x, numbers)\n",
    "\n",
    "print(sum_of_numbers)\n",
    "\n",
    "# -----------------------------\n",
    "# numbers = [4, 5, 6, 7, 8, 9]:\n",
    "\n",
    "# 4 + 5 = 9\n",
    "# 9 + 6 = 15\n",
    "# 15 + 7 = 22\n",
    "# 22 + 8 = 30\n",
    "# 30 + 9 = 39\n",
    "# ----------------------------------\n",
    "\n",
    "# TAKING WHATEVER WAS RETURNED FROM THE LAST CALL \n",
    "# PASSING THAT AS THE NEST ACCUMULATOR\n",
    "# THEN ADDING IN WHATEVER THAT ADDITIONAL VALUE OR PROCESS\n"
   ]
  },
  {
   "cell_type": "code",
   "execution_count": 36,
   "metadata": {},
   "outputs": [
    {
     "name": "stdout",
     "output_type": "stream",
     "text": [
      "9\n"
     ]
    }
   ],
   "source": [
    "from functools import reduce\n",
    "numbers = [4, 5, 6, 7, 8, 9]\n",
    "\n",
    "max_value = reduce(lambda acc, x : acc if acc > x else x, numbers)\n",
    "\n",
    "#inline if statement\n",
    "\n",
    "print(max_value)"
   ]
  },
  {
   "cell_type": "code",
   "execution_count": 38,
   "metadata": {},
   "outputs": [
    {
     "name": "stdout",
     "output_type": "stream",
     "text": [
      "9\n"
     ]
    }
   ],
   "source": [
    "from functools import reduce\n",
    "\n",
    "number = [6, 7, 8, 9, 1]\n",
    "\n",
    "max = reduce(lambda x , y: x if x > y else y, number)\n",
    "\n",
    "print(max)"
   ]
  },
  {
   "cell_type": "code",
   "execution_count": 40,
   "metadata": {},
   "outputs": [
    {
     "name": "stdout",
     "output_type": "stream",
     "text": [
      "apple is law\n"
     ]
    }
   ],
   "source": [
    "from functools import reduce\n",
    "\n",
    "words = [\"apple\", \"is\", \"law\"]\n",
    "\n",
    "sentence = reduce(lambda x , y : x + \" \" + y, words)\n",
    "\n",
    "print(sentence)"
   ]
  },
  {
   "cell_type": "code",
   "execution_count": 41,
   "metadata": {},
   "outputs": [
    {
     "name": "stdout",
     "output_type": "stream",
     "text": [
      "178\n"
     ]
    }
   ],
   "source": [
    "#sum of square\n",
    "\n",
    "from functools import reduce\n",
    "\n",
    "numbers = [4, 5, 6, 7, 8]\n",
    "\n",
    "square_num = reduce(lambda x , y : x + y ** 2, numbers)\n",
    "\n",
    "print(square_num)"
   ]
  },
  {
   "cell_type": "markdown",
   "metadata": {},
   "source": [
    "#### ***5.Zip function***"
   ]
  },
  {
   "cell_type": "code",
   "execution_count": 3,
   "metadata": {},
   "outputs": [
    {
     "name": "stdout",
     "output_type": "stream",
     "text": [
      "[('name', 'del'), ('kiran', 'apple'), ('harsh', 'ms')]\n"
     ]
    }
   ],
   "source": [
    "names = [\"name\", \"kiran\", \"harsh\"]\n",
    "\n",
    "comps = [\"del\", \"apple\", \"ms\"]\n",
    "\n",
    "zipped = list(zip(names, comps))\n",
    "print(zipped)"
   ]
  },
  {
   "cell_type": "code",
   "execution_count": 6,
   "metadata": {},
   "outputs": [
    {
     "name": "stdout",
     "output_type": "stream",
     "text": [
      "name del\n",
      "kiran apple\n",
      "harsh ms\n"
     ]
    }
   ],
   "source": [
    "names = [\"name\", \"kiran\", \"harsh\"]\n",
    "\n",
    "comps = [\"del\", \"apple\", \"ms\", \"pop\"]\n",
    "\n",
    "zipped = list(zip(names, comps))\n",
    "\n",
    "for (a, b) in zipped:\n",
    "    print(a, b)"
   ]
  },
  {
   "cell_type": "markdown",
   "metadata": {},
   "source": [
    "#### ***6.All() and any() function***"
   ]
  },
  {
   "cell_type": "markdown",
   "metadata": {},
   "source": [
    "* **ANY()**\n",
    "        `Return True if bool(x) is True for any x in the iterable.If the iterable is empty, return False.`\n"
   ]
  },
  {
   "cell_type": "markdown",
   "metadata": {},
   "source": [
    "*  ALL()\n",
    "`Return True if bool(x) is True for all values x in the iterable.If the iterable is empty, return True.`"
   ]
  },
  {
   "cell_type": "code",
   "execution_count": 16,
   "metadata": {},
   "outputs": [
    {
     "name": "stdout",
     "output_type": "stream",
     "text": [
      "False\n",
      "False\n"
     ]
    }
   ],
   "source": [
    "x = [True, False, True, False]\n",
    "\n",
    "y = [False, False]\n",
    "\n",
    "print(any(x))\n",
    "\n",
    "print(all(y)) # all is not true "
   ]
  },
  {
   "cell_type": "code",
   "execution_count": 19,
   "metadata": {},
   "outputs": [
    {
     "name": "stdout",
     "output_type": "stream",
     "text": [
      "at leat one number is even\n"
     ]
    }
   ],
   "source": [
    "number = [12, 56, 2, 4, 5, 17, 18]\n",
    "\n",
    "even = lambda x : x % 2 == 0\n",
    "\n",
    "result = [even(numbers) for numbers in number]\n",
    "\n",
    "if any(result):\n",
    "    print(\"at leat one number is even\")\n",
    "\n",
    "else:\n",
    "    print(\"bo number is even\")\n",
    "\n",
    "\n",
    "if all(result):\n",
    "    print(\"All the number are even!!\")"
   ]
  },
  {
   "cell_type": "code",
   "execution_count": null,
   "metadata": {},
   "outputs": [],
   "source": []
  }
 ],
 "metadata": {
  "kernelspec": {
   "display_name": "Python 3",
   "language": "python",
   "name": "python3"
  },
  "language_info": {
   "codemirror_mode": {
    "name": "ipython",
    "version": 3
   },
   "file_extension": ".py",
   "mimetype": "text/x-python",
   "name": "python",
   "nbconvert_exporter": "python",
   "pygments_lexer": "ipython3",
   "version": "3.11.8"
  }
 },
 "nbformat": 4,
 "nbformat_minor": 2
}
