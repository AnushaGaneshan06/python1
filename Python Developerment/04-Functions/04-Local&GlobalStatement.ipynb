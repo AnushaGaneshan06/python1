{
 "cells": [
  {
   "cell_type": "markdown",
   "metadata": {},
   "source": [
    "### ***Local and Global variable***"
   ]
  },
  {
   "cell_type": "markdown",
   "metadata": {},
   "source": [
    "- **Local Variable**: A variable declared inside a function and accessible only within that function. It exists only during the function's execution.  \n",
    "- **Global Variable**: A variable declared outside any function and accessible throughout the program, including inside functions (unless shadowed by a local variable).  \n"
   ]
  },
  {
   "cell_type": "code",
   "execution_count": 5,
   "metadata": {},
   "outputs": [
    {
     "name": "stdout",
     "output_type": "stream",
     "text": [
      "34\n",
      "34\n",
      "10\n"
     ]
    }
   ],
   "source": [
    "a = 10  # global variable\n",
    "b = 10\n",
    "\n",
    "def display():\n",
    "    a = 34 # a will print local varible\n",
    "    print(a)\n",
    "    def show(): # local variable\n",
    "        print(a)\n",
    "    show()\n",
    "    def show2():\n",
    "        print(b) # search inside if not it serach outside \n",
    "    show2()\n",
    "\n",
    "display()"
   ]
  },
  {
   "cell_type": "markdown",
   "metadata": {},
   "source": [
    "***NO block scope in python***"
   ]
  },
  {
   "cell_type": "code",
   "execution_count": 6,
   "metadata": {},
   "outputs": [
    {
     "name": "stdout",
     "output_type": "stream",
     "text": [
      "11\n"
     ]
    }
   ],
   "source": [
    "a, b = 5, 6\n",
    "\n",
    "if a< b :\n",
    "    c = a + b\n",
    "print(c) # we cant use c every where its local scope"
   ]
  },
  {
   "cell_type": "markdown",
   "metadata": {},
   "source": [
    "### ***Global Keyword***"
   ]
  },
  {
   "cell_type": "markdown",
   "metadata": {},
   "source": [
    "    no modify the global varibal"
   ]
  },
  {
   "cell_type": "markdown",
   "metadata": {},
   "source": [
    "    But want to modify use global varibale"
   ]
  },
  {
   "cell_type": "code",
   "execution_count": 11,
   "metadata": {},
   "outputs": [
    {
     "name": "stdout",
     "output_type": "stream",
     "text": [
      "11\n",
      "---GL---- 11\n"
     ]
    }
   ],
   "source": [
    "a = 10 #global\n",
    "\n",
    "def display():\n",
    "    global a\n",
    "    a = a + 1 # while modify it wont consider the global value leads error\n",
    "    print(a)\n",
    "\n",
    "display()\n",
    "\n",
    "print(\"---GL----\", a)"
   ]
  },
  {
   "cell_type": "code",
   "execution_count": 13,
   "metadata": {},
   "outputs": [
    {
     "name": "stdout",
     "output_type": "stream",
     "text": [
      "31\n",
      "---GL---- 31\n"
     ]
    }
   ],
   "source": [
    "def display():\n",
    "    a = 20\n",
    "    def show():\n",
    "        global a\n",
    "        a = 30\n",
    "        a = a + 1 \n",
    "        print(a)\n",
    "    show()\n",
    "\n",
    "display()\n",
    "\n",
    "print(\"---GL----\", a)"
   ]
  }
 ],
 "metadata": {
  "kernelspec": {
   "display_name": "Python 3",
   "language": "python",
   "name": "python3"
  },
  "language_info": {
   "codemirror_mode": {
    "name": "ipython",
    "version": 3
   },
   "file_extension": ".py",
   "mimetype": "text/x-python",
   "name": "python",
   "nbconvert_exporter": "python",
   "pygments_lexer": "ipython3",
   "version": "3.11.8"
  }
 },
 "nbformat": 4,
 "nbformat_minor": 2
}
