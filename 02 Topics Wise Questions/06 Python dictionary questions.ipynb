{
 "cells": [
  {
   "cell_type": "markdown",
   "metadata": {},
   "source": [
    "# 06 Python dictionary questions:"
   ]
  },
  {
   "cell_type": "markdown",
   "metadata": {},
   "source": [
    "### METHODS IN PYTHON"
   ]
  },
  {
   "cell_type": "markdown",
   "metadata": {},
   "source": [
    "| **Method**           | **Description**                                           | **Example**                                                 |\n",
    "|----------------------|-----------------------------------------------------------|-------------------------------------------------------------|\n",
    "| `clear()`            | Removes all items from the dictionary.                    | `person.clear()` (removes all items from `person`)          |\n",
    "| `copy()`             | Creates a copy of the dictionary.                         | `new_person = person.copy()` (copies `person` to `new_person`) |\n",
    "| `fromkeys()`         | Creates a dictionary with specified keys and default values. | `dict.fromkeys(['a', 'b'], 0)` (creates `{'a': 0, 'b': 0}`)   |\n",
    "| `get()`              | Gets the value for a key, or a default value if the key doesn't exist. | `person.get('age', 30)` (returns 30 if 'age' is not found)    |\n",
    "| `items()`            | Returns a list of key-value pairs.                        | `person.items()` (returns `[('name', 'Alice'), ('age', 25)]`)  |\n",
    "| `keys()`             | Returns all the keys in the dictionary.                   | `person.keys()` (returns `['name', 'age']`)                  |\n",
    "| `pop()`              | Removes a key-value pair and returns its value.           | `person.pop('age')` (removes 'age' and returns its value)    |\n",
    "| `popitem()`          | Removes and returns a random key-value pair.              | `person.popitem()` (removes a random key-value pair)         |\n",
    "| `setdefault()`       | Gets the value for a key, or adds the key with a default value if it doesn't exist. | `person.setdefault('city', 'New York')` (adds 'city' if not present) |\n",
    "| `update()`           | Updates the dictionary with new key-value pairs.          | `person.update({'age': 26})` (updates 'age' to 26)          |\n",
    "| `values()`           | Returns all the values in the dictionary.                 | `person.values()` (returns `['Alice', 25]`)                  |\n"
   ]
  },
  {
   "cell_type": "markdown",
   "metadata": {},
   "source": [
    "1. What is a dictionary in Python and what are its key characteristics?\n"
   ]
  },
  {
   "cell_type": "markdown",
   "metadata": {},
   "source": [
    "| **Characteristic**      | **Description**                                                                                   | **Example**                                                              |\n",
    "|-------------------------|---------------------------------------------------------------------------------------------------|--------------------------------------------------------------------------|\n",
    "| **Key-Value Pairs**      | A dictionary stores data as key-value pairs.                                                      | `person = {\"name\": \"Alice\", \"age\": 25}`                                  |\n",
    "| **Unique Keys**          | Keys must be unique. If the same key appears, its value is overwritten with the latest one.       | `person = {\"name\": \"Alice\", \"age\": 25, \"name\": \"Bob\"}` (key \"name\" is overwritten) |\n",
    "| **Unordered**            | Dictionaries do not guarantee order of elements (except in Python 3.7+ where order is preserved). | `person = {\"name\": \"Alice\", \"age\": 25, \"city\": \"New York\"}` (the order may vary) |\n",
    "| **Mutable**              | Dictionaries are mutable, meaning they can be changed (values added, removed, or updated).        | `person[\"age\"] = 26` (update value), `person[\"city\"] = \"Los Angeles\"` (add new key-value) |\n",
    "| **Immutable Keys**       | Keys must be immutable (e.g., strings, numbers, tuples), but values can be of any type.          | `person = {1: \"Alice\", (2, 3): \"Bob\"}` (keys are integers and tuples)   |\n",
    "| **Efficient Lookup**     | Lookup of values by key is efficient, typically O(1) time complexity.                             | `person[\"name\"]` retrieves `\"Alice\"` efficiently                           |\n"
   ]
  },
  {
   "cell_type": "markdown",
   "metadata": {},
   "source": [
    "2. How do you create an empty dictionary in Python?\n"
   ]
  },
  {
   "cell_type": "code",
   "execution_count": null,
   "metadata": {},
   "outputs": [],
   "source": [
    "#METHOD 1\n",
    "my_dict = {}\n",
    "print(my_dict)\n",
    "\n",
    "# METHOD 2 (CONSTRUCTOR)\n",
    "my_dict = dict()\n",
    "print(my_dict)"
   ]
  },
  {
   "cell_type": "markdown",
   "metadata": {},
   "source": [
    "3. How do you create a dictionary with initial key-value pairs in Python?\n"
   ]
  },
  {
   "cell_type": "code",
   "execution_count": null,
   "metadata": {},
   "outputs": [],
   "source": [
    "my_dict = {\"name\" :\"Annie\", \"age\" : \"29\", \"job\": \"CEO\"}\n",
    "\n",
    "print(my_dict[\"name\"])\n",
    "print(my_dict)"
   ]
  },
  {
   "cell_type": "code",
   "execution_count": null,
   "metadata": {},
   "outputs": [],
   "source": [
    "#CONSTRUCTOR\n",
    "\n",
    "my_dict = dict(name = \"annie\", age = 29, job=\"CEO\")\n",
    "print(my_dict)\n",
    "print(my_dict[\"name\"])"
   ]
  },
  {
   "cell_type": "code",
   "execution_count": null,
   "metadata": {},
   "outputs": [],
   "source": [
    "# ZIP PACKAGE\n",
    "\n",
    "keys = {\"name\", \"age\", \"job\"}\n",
    "value = {\"annie\", 27, \"CEO\"}\n",
    "\n",
    "my_dict = dict(zip(keys, value))\n",
    "print(my_dict.keys())\n",
    "print(my_dict)"
   ]
  },
  {
   "cell_type": "markdown",
   "metadata": {},
   "source": [
    "4. Can a dictionary contain duplicate keys in Python?\n",
    "\n",
    "   - **A dictionary can only have one entry for each key.**\n",
    "   - **If you assign a new value to an existing key, the value is updated, not duplicated.**\n",
    "\n"
   ]
  },
  {
   "cell_type": "code",
   "execution_count": null,
   "metadata": {},
   "outputs": [],
   "source": [
    "my_dict = {\"name\" :\"annie\", \"age\" :29, \"Job\" : \"CEO\", \"name\":\"Andy\" }\n",
    "\n",
    "print(my_dict)\n"
   ]
  },
  {
   "cell_type": "markdown",
   "metadata": {},
   "source": [
    "5. How do you access values from a dictionary using keys in Python?\n",
    "\n",
    "\n"
   ]
  },
  {
   "cell_type": "markdown",
   "metadata": {},
   "source": [
    "| **Method**       | **Description**                                                                 | **Example**                                                 | **Behavior if Key Doesn't Exist**          |\n",
    "|------------------|---------------------------------------------------------------------------------|-------------------------------------------------------------|--------------------------------------------|\n",
    "| **Indexing (`[]`)** | Accesses the value using the key inside square brackets.                        | `my_dict[\"name\"]`  →  `\"Alice\"`                            | Raises `KeyError` if the key doesn't exist. |\n",
    "| **`get()`**      | Accesses the value using the key. Returns a default value if the key doesn't exist. | `my_dict.get(\"name\")`  →  `\"Alice\"`<br> `my_dict.get(\"job\", \"Not Available\")` → `\"Not Available\"` | Returns `None` (or the provided default) if the key doesn't exist. |\n"
   ]
  },
  {
   "cell_type": "markdown",
   "metadata": {},
   "source": [
    " **Using Key Indexing (Square Brackets):**   "
   ]
  },
  {
   "cell_type": "code",
   "execution_count": null,
   "metadata": {},
   "outputs": [],
   "source": [
    "my_dict = {\"name\" : \"sandy\", \"age\": 40, \"job\" : \"Trainer\"}\n",
    "\n",
    "print(my_dict[\"name\"])\n",
    "print(my_dict[\"age\"])\n",
    "print(my_dict[\"job\"])"
   ]
  },
  {
   "cell_type": "markdown",
   "metadata": {},
   "source": [
    "**Using the get() Method:**"
   ]
  },
  {
   "cell_type": "code",
   "execution_count": 1,
   "metadata": {},
   "outputs": [
    {
     "name": "stdout",
     "output_type": "stream",
     "text": [
      "sandy\n",
      "40\n",
      "Trainer\n",
      "None\n"
     ]
    }
   ],
   "source": [
    "my_dict = {\"name\" : \"sandy\", \"age\": 40, \"job\" : \"Trainer\"}\n",
    "\n",
    "print(my_dict.get(\"name\"))\n",
    "print(my_dict.get(\"age\"))\n",
    "print(my_dict.get(\"job\"))\n",
    "print(my_dict.get(\"place\")) # if key is not presence it return the none"
   ]
  },
  {
   "cell_type": "markdown",
   "metadata": {},
   "source": [
    "6. How do you add or update key-value pairs in a dictionary in Python?\n"
   ]
  },
  {
   "cell_type": "code",
   "execution_count": null,
   "metadata": {},
   "outputs": [],
   "source": [
    "# ADDING THE KEYS AND VALUE\n",
    "\n",
    "my_dict = {\"fruits\" :\"apple\", \"veggie\" : \"brinjal\"}\n",
    "\n",
    "my_dict[\"sweet\"] = \"chocolate\"\n",
    "\n",
    "my_dict[\"spicy\"] = \"chilli\"\n",
    "\n",
    "print(my_dict)"
   ]
  },
  {
   "cell_type": "code",
   "execution_count": 2,
   "metadata": {},
   "outputs": [
    {
     "name": "stdout",
     "output_type": "stream",
     "text": [
      "{'fruits': 'apple', 'veggie': 'brinjal', 'sweet': 'chocolate', 'spicy': 'chilli'}\n"
     ]
    }
   ],
   "source": [
    "# UPDATING METHOD\n",
    "\n",
    "# Adding or updating multiple key-value pairs\n",
    "\n",
    "my_dict = {\"fruits\" :\"apple\", \"veggie\" : \"brinjal\"}\n",
    "\n",
    "my_dict.update({\"sweet\":\"chocolate\", \"spicy\" : \"chilli\"})\n",
    "\n",
    "print(my_dict)\n"
   ]
  },
  {
   "cell_type": "markdown",
   "metadata": {},
   "source": [
    "7. How do you remove key-value pairs from a dictionary in Python?\n",
    "\n",
    "\n",
    "\n",
    "| **Method**      | **Description**                                      | **Example**                                              | **Effect**                                                |\n",
    "|-----------------|------------------------------------------------------|----------------------------------------------------------|----------------------------------------------------------|\n",
    "| **`del`**       | Removes a specific key-value pair by key.            | `del my_dict[\"age\"]`                                     | Removes the key `'age'` and its value.                   |\n",
    "| **`pop()`**     | Removes a specific key-value pair and returns the value. | `my_dict.pop(\"age\")`                                     | Removes the key `'age'` and returns its value.           |\n",
    "| **`popitem()`** | Removes and returns an arbitrary key-value pair.     | `my_dict.popitem()`                                      | Removes and returns a random key-value pair.              |\n",
    "| **`clear()`**   | Removes all key-value pairs from the dictionary.     | `my_dict.clear()`                                        | Clears the dictionary, leaving it empty.                  |\n",
    "\n"
   ]
  },
  {
   "cell_type": "markdown",
   "metadata": {},
   "source": [
    "**del-Method**"
   ]
  },
  {
   "cell_type": "code",
   "execution_count": null,
   "metadata": {},
   "outputs": [],
   "source": [
    "my_dict = {\"fruits\" :\"apple\", \"veggie\" : \"brinjal\"}\n",
    "\n",
    "del my_dict[\"fruits\"]\n",
    "\n",
    "print(my_dict)\n"
   ]
  },
  {
   "cell_type": "markdown",
   "metadata": {},
   "source": [
    "**pop () Method**\n"
   ]
  },
  {
   "cell_type": "code",
   "execution_count": null,
   "metadata": {},
   "outputs": [],
   "source": [
    "my_dict = {\"fruits\" :\"apple\", \"veggie\" : \"brinjal\"}\n",
    "\n",
    "my_dict.pop(\"veggie\")\n",
    "\n",
    "print(my_dict)\n"
   ]
  },
  {
   "cell_type": "markdown",
   "metadata": {},
   "source": [
    "**popitem() Method**"
   ]
  },
  {
   "cell_type": "code",
   "execution_count": null,
   "metadata": {},
   "outputs": [],
   "source": [
    "my_dict = {\"fruits\" :\"apple\", \"veggie\" : \"brinjal\", \"sweet\" :\"chocolate\", \"spicy\": \"chilli\"}\n",
    "\n",
    "item = my_dict.popitem() # lst itme poped\n",
    "\n",
    "print(my_dict)\n",
    "\n",
    "print(item) # poped item printed"
   ]
  },
  {
   "cell_type": "markdown",
   "metadata": {},
   "source": [
    "**CLEAR() METHOD**"
   ]
  },
  {
   "cell_type": "code",
   "execution_count": null,
   "metadata": {},
   "outputs": [],
   "source": [
    "my_dict = {\"fruits\" :\"apple\", \"veggie\" : \"brinjal\", \"sweet\" :\"chocolate\", \"spicy\": \"chilli\"}\n",
    "\n",
    "my_dict.clear()\n",
    "\n",
    "print(my_dict)"
   ]
  },
  {
   "cell_type": "markdown",
   "metadata": {},
   "source": [
    "8.  Can you access elements from a dictionary using indexing in Python? Why or why not?\n",
    "\n",
    "* Key-Based Access: Dictionaries use keys to access values, not positional indices.\n",
    "* Unordered Nature: Dictionaries are unordered collections, so indexing is not supported.\n"
   ]
  },
  {
   "cell_type": "code",
   "execution_count": 3,
   "metadata": {},
   "outputs": [
    {
     "ename": "KeyError",
     "evalue": "0",
     "output_type": "error",
     "traceback": [
      "\u001b[1;31m---------------------------------------------------------------------------\u001b[0m",
      "\u001b[1;31mKeyError\u001b[0m                                  Traceback (most recent call last)",
      "Cell \u001b[1;32mIn[3], line 3\u001b[0m\n\u001b[0;32m      1\u001b[0m my_dict \u001b[38;5;241m=\u001b[39m {\u001b[38;5;124m\"\u001b[39m\u001b[38;5;124mname\u001b[39m\u001b[38;5;124m\"\u001b[39m : \u001b[38;5;124m\"\u001b[39m\u001b[38;5;124mAnnie\u001b[39m\u001b[38;5;124m\"\u001b[39m, \u001b[38;5;124m\"\u001b[39m\u001b[38;5;124mage\u001b[39m\u001b[38;5;124m\"\u001b[39m: \u001b[38;5;241m29\u001b[39m}\n\u001b[1;32m----> 3\u001b[0m \u001b[38;5;28mprint\u001b[39m(\u001b[43mmy_dict\u001b[49m\u001b[43m[\u001b[49m\u001b[38;5;241;43m0\u001b[39;49m\u001b[43m]\u001b[49m) \u001b[38;5;66;03m# ERROR CODE\u001b[39;00m\n",
      "\u001b[1;31mKeyError\u001b[0m: 0"
     ]
    }
   ],
   "source": [
    "my_dict = {\"name\" : \"Annie\", \"age\": 29}\n",
    "\n",
    "print(my_dict[0]) # ERROR CODE"
   ]
  },
  {
   "cell_type": "code",
   "execution_count": 4,
   "metadata": {},
   "outputs": [
    {
     "name": "stdout",
     "output_type": "stream",
     "text": [
      "name : Annie\n",
      "age : 29\n",
      "job : CEO\n"
     ]
    }
   ],
   "source": [
    "# CAN CONVERT TO LIST AND INDEX VALUE\n",
    "\n",
    "my_dict = {\"name\" : \"Annie\", \"age\": 29, \"job\": \"CEO\"}\n",
    "\n",
    "keys = list(my_dict.keys())\n",
    "values = list(my_dict.values())\n",
    "\n",
    "for keys, values in my_dict.items():\n",
    "    print(f\"{keys} : {values}\")\n",
    "\n",
    "\n"
   ]
  },
  {
   "cell_type": "markdown",
   "metadata": {},
   "source": [
    "9. How do you find the number of key-value pairs in a dictionary in Python?\n"
   ]
  },
  {
   "cell_type": "code",
   "execution_count": null,
   "metadata": {},
   "outputs": [],
   "source": [
    "my_dict = {\"name\" : \"sona\", \"age\" : 27, \"job\" : \"tainer\"}\n",
    "\n",
    "lenght = len(my_dict)\n",
    "\n",
    "keys = len(my_dict.keys())\n",
    "print(keys)\n",
    "\n",
    "values = len(my_dict.values())\n",
    "print(values)\n",
    "\n",
    "print(lenght)"
   ]
  },
  {
   "cell_type": "code",
   "execution_count": null,
   "metadata": {},
   "outputs": [],
   "source": [
    "my_dict = {\"name\" : \"sona\", \"age\" : 27, \"job\" : \"tainer\"}\n",
    "\n",
    "count = 0\n",
    "\n",
    "for keys in my_dict.items():\n",
    "    count += 1\n",
    "\n",
    "print(count)"
   ]
  },
  {
   "cell_type": "markdown",
   "metadata": {},
   "source": [
    "10. How do you iterate over keys, values, and key-value pairs in a dictionary in Python?\n"
   ]
  },
  {
   "cell_type": "code",
   "execution_count": null,
   "metadata": {},
   "outputs": [],
   "source": [
    "my_dict = {\"name\" : \"sona\", \"age\" : 27, \"job\" : \"tainer\"}\n",
    "\n",
    "for keys, values in my_dict.items():\n",
    "    print(f\"{keys} : {values}\")"
   ]
  },
  {
   "cell_type": "code",
   "execution_count": null,
   "metadata": {},
   "outputs": [],
   "source": [
    "my_dict = {\"name\" : \"sona\", \"age\" : 27, \"job\" : \"tainer\"}\n",
    "\n",
    "for keys, values in zip(my_dict.keys(), my_dict.values()):\n",
    "    print(f\"{keys} : {values}\")"
   ]
  },
  {
   "cell_type": "markdown",
   "metadata": {},
   "source": [
    "11. How do you check if a specific key exists in a dictionary in Python?\n"
   ]
  },
  {
   "cell_type": "code",
   "execution_count": null,
   "metadata": {},
   "outputs": [],
   "source": [
    "my_dict = {\"name\" : \"sona\", \"age\" : 27, \"job\" : \"tainer\"}\n",
    "\n",
    "if \"name\" in my_dict :\n",
    "    print(f\"name exist\")\n",
    "\n",
    "else:\n",
    "    print(\"not\")\n",
    "\n",
    "if my_dict.get(\"job\"):\n",
    "    print(\"there\")\n",
    "else:\n",
    "    print(\"not there\")\n"
   ]
  },
  {
   "cell_type": "markdown",
   "metadata": {},
   "source": [
    "12. Can a dictionary have values of different data types in Python?\n"
   ]
  },
  {
   "cell_type": "code",
   "execution_count": null,
   "metadata": {},
   "outputs": [],
   "source": [
    "my_dict = {\"city\" : \"coimbatore\", \"country\" : \"india\", \"date\" : 14 , \"population\" : 90.767, \"list\" : [3, 4, 6], \"tuple\": (6, 7, 8)}\n",
    "\n",
    "for keys, values in my_dict.items():\n",
    "    print(f\"{keys} : {values}\", type(values))"
   ]
  },
  {
   "cell_type": "markdown",
   "metadata": {},
   "source": [
    "13. How do you retrieve a list of all keys or values from a dictionary in Python?\n"
   ]
  },
  {
   "cell_type": "code",
   "execution_count": null,
   "metadata": {},
   "outputs": [],
   "source": [
    "my_dict = {\"city\" : \"coimbatore\", \"country\" : \"india\", \"date\" : 14 , \"population\" : 90.767, \"list\" : [3, 4, 6], \"tuple\": (6, 7, 8)}\n",
    "\n",
    "keys = my_dict.keys()\n",
    "print(keys)\n",
    "\n",
    "value = my_dict.values()\n",
    "print(value)"
   ]
  },
  {
   "cell_type": "code",
   "execution_count": null,
   "metadata": {},
   "outputs": [],
   "source": [
    "# Extract all keys using a list comprehension\n",
    "\n",
    "keys = [keys for keys in my_dict] #\"For each key in my_dict, add that key to the list.\"\n",
    "print(keys)\n",
    "\n",
    "value = [values for values in my_dict.values()]\n",
    "print(value)\n",
    "    "
   ]
  },
  {
   "cell_type": "markdown",
   "metadata": {},
   "source": [
    "14. Can you sort a dictionary in Python? If not, why?\n"
   ]
  },
  {
   "cell_type": "code",
   "execution_count": 5,
   "metadata": {},
   "outputs": [
    {
     "name": "stdout",
     "output_type": "stream",
     "text": [
      "{'age': 16, 'job': 'developer', 'name': 'annie'}\n"
     ]
    }
   ],
   "source": [
    "my_dict = {\"name\": \"annie\", \"age\" : 16, \"job\":\"developer\"}\n",
    "\n",
    "sorted_items = dict(sorted(my_dict.items()))\n",
    "print(sorted_items)"
   ]
  },
  {
   "cell_type": "code",
   "execution_count": 6,
   "metadata": {},
   "outputs": [
    {
     "name": "stdout",
     "output_type": "stream",
     "text": [
      "[('age', 16), ('job', 'developer'), ('name', 'annie')]\n"
     ]
    }
   ],
   "source": [
    "my_dict = {\"name\": \"annie\", \"age\" : 16, \"job\":\"developer\"}\n",
    "\n",
    "sorted_items = list(my_dict.items())\n",
    "\n",
    "sorted_items.sort()\n",
    "\n",
    "print(sorted_items)"
   ]
  },
  {
   "cell_type": "markdown",
   "metadata": {},
   "source": [
    "15. How do you merge or combine two dictionaries in Python?\n"
   ]
  },
  {
   "cell_type": "code",
   "execution_count": 7,
   "metadata": {},
   "outputs": [
    {
     "name": "stdout",
     "output_type": "stream",
     "text": [
      "{'name': 'annie', 'age': 16, 'job': 'developer', 'city': 'coimbatore', 'country': 'india', 'date': 14, 'population': 90.767, 'list': [3, 4, 6], 'tuple': (6, 7, 8)}\n"
     ]
    }
   ],
   "source": [
    "my_dict1 = {\"name\": \"annie\", \"age\" : 16, \"job\":\"developer\"}\n",
    "my_dict2 = {\"city\" : \"coimbatore\", \"country\" : \"india\", \"date\" : 14 , \"population\" : 90.767, \"list\" : [3, 4, 6], \"tuple\": (6, 7, 8)}\n",
    "\n",
    "my_dict1.update(my_dict2)\n",
    "\n",
    "print(my_dict1)\n",
    "\n"
   ]
  },
  {
   "cell_type": "code",
   "execution_count": 8,
   "metadata": {},
   "outputs": [
    {
     "name": "stdout",
     "output_type": "stream",
     "text": [
      "{'name': 'annie', 'age': 16, 'job': 'developer', 'city': 'coimbatore', 'country': 'india', 'date': 14, 'population': 90.767, 'list': [3, 4, 6], 'tuple': (6, 7, 8)}\n",
      "{'name': 'annie', 'age': 16, 'job': 'developer', 'city': 'coimbatore', 'country': 'india', 'date': 14, 'population': 90.767, 'list': [3, 4, 6], 'tuple': (6, 7, 8)}\n"
     ]
    }
   ],
   "source": [
    "my_dict1 = {\"name\": \"annie\", \"age\" : 16, \"job\":\"developer\"}\n",
    "my_dict2 = {\"city\" : \"coimbatore\", \"country\" : \"india\", \"date\" : 14 , \"population\" : 90.767, \"list\" : [3, 4, 6], \"tuple\": (6, 7, 8)}\n",
    "\n",
    "merge = {**my_dict1 , **my_dict2}\n",
    "\n",
    "print(merge)\n",
    "\n",
    "operator = my_dict1 | my_dict2\n",
    "print(operator)"
   ]
  },
  {
   "cell_type": "markdown",
   "metadata": {},
   "source": [
    "16. How do you create a shallow copy or clone of a dictionary in Python?\n"
   ]
  },
  {
   "cell_type": "code",
   "execution_count": null,
   "metadata": {},
   "outputs": [],
   "source": [
    "my_dict1= {\"name\" : \"sona\", \"age\" : 27, \"job\" : \"tainer\"}\n",
    "\n",
    "shallow_copy = my_dict1.copy()\n",
    "print(shallow_copy)\n"
   ]
  },
  {
   "cell_type": "code",
   "execution_count": null,
   "metadata": {},
   "outputs": [],
   "source": [
    "my_dict2 = {\"name\": \"annie\", \"age\" : 16, \"job\":\"developer\"}\n",
    "\n",
    "shallow_copy = my_dict2.copy() \n",
    "\n",
    "my_dict2[\"name\"] = \"new_name\" #value change\n",
    "\n",
    "\n",
    "print(my_dict2)\n",
    "print(shallow_copy)\n",
    " # no affect\n",
    "# Changes to the original dictionary won't affect the shallow copy, and vice versa, for top-level keys."
   ]
  },
  {
   "cell_type": "markdown",
   "metadata": {},
   "source": [
    "17. Can a dictionary have nested dictionaries as values in Python? If yes, how do you access elements from nested dictionaries?\n"
   ]
  },
  {
   "cell_type": "code",
   "execution_count": null,
   "metadata": {},
   "outputs": [],
   "source": [
    "my_dict = {\n",
    "    \"name\" : \"sona\", \n",
    "    \"age\" : 29, \n",
    "    \"address\" : {\n",
    "                \"city\":\"los Agelses\",\n",
    "                \"country\" : \"London\",\n",
    "                \"zip\" : 123490\n",
    "\n",
    "\n",
    "        }, \n",
    "    \"job\" : \"trainer\"\n",
    "}\n",
    "\n",
    "city = my_dict[\"address\"][\"city\"]\n",
    "print(city)\n",
    "\n",
    "country = my_dict.get(\"address\", {}).get(\"country\", \"default value\") #dictionary.get(key, default_value)\n",
    "\n",
    "print(country)"
   ]
  },
  {
   "cell_type": "markdown",
   "metadata": {},
   "source": [
    "18. How do you clear or empty a dictionary in Python?\n"
   ]
  },
  {
   "cell_type": "code",
   "execution_count": null,
   "metadata": {},
   "outputs": [],
   "source": [
    "my_dict = {\n",
    "    \"name\" : \"sona\", \n",
    "    \"age\" : 29, \n",
    "    \"address\" : {\n",
    "                \"city\":\"los Agelses\",\n",
    "                \"country\" : \"London\",\n",
    "                \"zip\" : 123490\n",
    "\n",
    "\n",
    "        }, \n",
    "    \"job\" : \"trainer\"\n",
    "}\n",
    "\n",
    "my_dict.clear()\n",
    "print(my_dict)\n"
   ]
  },
  {
   "cell_type": "markdown",
   "metadata": {},
   "source": [
    "19. How do you convert a dictionary into a list or tuple in Python?\n"
   ]
  },
  {
   "cell_type": "code",
   "execution_count": null,
   "metadata": {},
   "outputs": [],
   "source": [
    "my_dict = {\n",
    "    \"name\" : \"sona\", \n",
    "    \"age\" : 29, \n",
    "    \"address\" : {\n",
    "                \"city\":\"los Agelses\",\n",
    "                \"country\" : \"London\",\n",
    "                \"zip\" : 123490\n",
    "\n",
    "\n",
    "        }, \n",
    "    \"job\" : \"trainer\"\n",
    "}\n",
    "\n",
    "list1 = list(my_dict)\n",
    "list1[0] = \"anndy\"\n",
    "print(list1)\n",
    "print(type(list1), \"LIST CONVERSION\")\n",
    "\n",
    "tuple1 =  tuple(my_dict)\n",
    "print(type(tuple1), \"TUPLE CONVERSION\")"
   ]
  },
  {
   "cell_type": "code",
   "execution_count": null,
   "metadata": {},
   "outputs": [],
   "source": [
    "value = list(my_dict.values())\n",
    "\n",
    "print(value, type(value))"
   ]
  },
  {
   "cell_type": "code",
   "execution_count": null,
   "metadata": {},
   "outputs": [],
   "source": [
    "key = tuple(my_dict.keys())\n",
    "print(key)"
   ]
  },
  {
   "cell_type": "code",
   "execution_count": null,
   "metadata": {},
   "outputs": [],
   "source": [
    "item = list(my_dict.items())\n",
    "print(item, type(item))\n",
    "\n",
    "item = tuple(my_dict.items())\n",
    "print(item, type(item))"
   ]
  },
  {
   "cell_type": "markdown",
   "metadata": {},
   "source": [
    "20. What are some common use cases or advantages of using dictionaries in Python?\n"
   ]
  },
  {
   "cell_type": "markdown",
   "metadata": {},
   "source": [
    "| **Use Case/Advantage**                     | **Explanation**                                                                 |\n",
    "|-------------------------------------------|---------------------------------------------------------------------------------|\n",
    "| **Fast Lookups**                          | Dictionaries allow quick access to values via keys, making them ideal for lookups.|\n",
    "| **Flexible Data Storage**                 | Can store data in key-value pairs, making them versatile for different data types.|\n",
    "| **Easy to Modify**                        | You can easily add, update, or remove key-value pairs.                           |\n",
    "| **Associative Arrays**                    | Useful for representing real-world data where keys represent unique identifiers. |\n",
    "| **Handling Missing Data**                 | `get()` method allows specifying default values when keys are missing.           |\n",
    "| **Efficient Mapping**                     | Excellent for mapping one set of values (keys) to another (values).              |\n",
    "| **Data Aggregation**                      | Can be used for counting or summing up occurrences, like frequency tables.       |\n",
    "| **Nested Data Structures**                | Can hold complex structures like lists or other dictionaries as values.         |\n",
    "| **Uniqueness of Keys**                    | Automatically handles uniqueness of keys, ensuring no duplicate keys.           |\n"
   ]
  }
 ],
 "metadata": {
  "kernelspec": {
   "display_name": "Python 3",
   "language": "python",
   "name": "python3"
  },
  "language_info": {
   "codemirror_mode": {
    "name": "ipython",
    "version": 3
   },
   "file_extension": ".py",
   "mimetype": "text/x-python",
   "name": "python",
   "nbconvert_exporter": "python",
   "pygments_lexer": "ipython3",
   "version": "3.11.8"
  }
 },
 "nbformat": 4,
 "nbformat_minor": 2
}
