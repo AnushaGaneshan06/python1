{
 "cells": [
  {
   "cell_type": "markdown",
   "metadata": {},
   "source": [
    "# Python Control Statements Questions"
   ]
  },
  {
   "cell_type": "markdown",
   "metadata": {},
   "source": [
    "1. Iterate 0 to 10 using for loop, do the same using while loop.\n"
   ]
  },
  {
   "cell_type": "code",
   "execution_count": null,
   "metadata": {},
   "outputs": [],
   "source": [
    "i = 0\n",
    "while i <= 10:\n",
    "    print(i)\n",
    "    i += 1\n"
   ]
  },
  {
   "cell_type": "markdown",
   "metadata": {},
   "source": [
    "2. Iterate 10 to 0 using for loop, do the same using while loop.\n"
   ]
  },
  {
   "cell_type": "code",
   "execution_count": null,
   "metadata": {},
   "outputs": [],
   "source": [
    "i = 10\n",
    "\n",
    "while i >= 0:\n",
    "    print(i)\n",
    "    i -= 1"
   ]
  },
  {
   "cell_type": "markdown",
   "metadata": {},
   "source": [
    "3.  Write a loop that makes seven calls to print(), so we get on the output the following triangle:\n",
    "                #\n",
    "\n",
    "                ##\n",
    "\n",
    "                ###\n",
    "\n",
    "                ####\n",
    "\n",
    "                #####\n",
    "\n",
    "                ######\n",
    "\n",
    "                #######"
   ]
  },
  {
   "cell_type": "code",
   "execution_count": null,
   "metadata": {},
   "outputs": [],
   "source": [
    "i = 2\n",
    "while i <= 7:\n",
    "    print(\"#\" *  i)\n",
    "    i += 1\n"
   ]
  },
  {
   "cell_type": "code",
   "execution_count": null,
   "metadata": {},
   "outputs": [],
   "source": [
    "i = 2\n",
    "while i <= 7:\n",
    "    j = 1\n",
    "    while j <= i:\n",
    "        print(\"#\", end = \"\")\n",
    "        j += 1\n",
    "\n",
    "    print()\n",
    "    i +=1\n",
    "\n"
   ]
  },
  {
   "cell_type": "markdown",
   "metadata": {},
   "source": [
    "4. Use nested loops to create the following:\n",
    "                # # # # # # # #\n",
    "\n",
    "                # # # # # # # #\n",
    "\n",
    "                # # # # # # # #\n",
    "\n",
    "                # # # # # # # #\n",
    "\n",
    "                # # # # # # # #\n",
    "\n",
    "                # # # # # # # #\n",
    "\n",
    "                # # # # # # # #\n",
    "\n",
    "                # # # # # # # #"
   ]
  },
  {
   "cell_type": "code",
   "execution_count": null,
   "metadata": {},
   "outputs": [],
   "source": [
    "for row in range(1, 9):\n",
    "    for col in range(1, 9):\n",
    "        print(\"#\", end = \" \")\n",
    "\n",
    "    print()"
   ]
  },
  {
   "cell_type": "code",
   "execution_count": null,
   "metadata": {},
   "outputs": [],
   "source": [
    "i = 1\n",
    "while i <= 7:\n",
    "    j = 1\n",
    "    while j <= 7:\n",
    "        print(\"#\", end = \" \")\n",
    "        j += 1\n",
    "\n",
    "    print()\n",
    "    i += 1"
   ]
  },
  {
   "cell_type": "markdown",
   "metadata": {},
   "source": [
    "5. Print the following pattern:\n",
    "                0 x 0 = 0\n",
    "\n",
    "                1 x 1 = 1\n",
    "\n",
    "                2 x 2 = 4\n",
    "\n",
    "                3 x 3 = 9\n",
    "\n",
    "                4 x 4 = 16\n",
    "\n",
    "                5 x 5 = 25\n",
    "\n",
    "                6 x 6 = 36\n",
    "\n",
    "                7 x 7 = 49\n",
    "\n",
    "                8 x 8 = 64\n",
    "\n",
    "                9 x 9 = 81\n",
    "\n",
    "                10 x 10= 100\n"
   ]
  },
  {
   "cell_type": "code",
   "execution_count": null,
   "metadata": {},
   "outputs": [],
   "source": [
    "for i in range(11):\n",
    "    multi = i * i\n",
    "    print(f\"{i} x {i} = {multi}\")"
   ]
  },
  {
   "cell_type": "code",
   "execution_count": null,
   "metadata": {},
   "outputs": [],
   "source": [
    "i = 0\n",
    "while i <= 10:\n",
    "    multi = i * i\n",
    "    print(f\"{i} x {i} = {multi}\")\n",
    "    i += 1"
   ]
  },
  {
   "cell_type": "markdown",
   "metadata": {},
   "source": [
    "6. Iterate through the list, ['Python', 'Numpy','Pandas','Django', 'Flask'] using a for loop and print out the items.\n"
   ]
  },
  {
   "cell_type": "code",
   "execution_count": null,
   "metadata": {},
   "outputs": [],
   "source": [
    "items = ['Python', 'Numpy','Pandas','Django', 'Flask']\n",
    "for i in items:\n",
    "    print(i) \n"
   ]
  },
  {
   "cell_type": "code",
   "execution_count": null,
   "metadata": {},
   "outputs": [],
   "source": [
    "items = ['Python', 'Numpy','Pandas','Django', 'Flask']\n",
    "i = 0\n",
    "while i < len(items):\n",
    "    print(items[i])\n",
    "    i += 1"
   ]
  },
  {
   "cell_type": "markdown",
   "metadata": {},
   "source": [
    "7.  Use for loop to iterate from 0 to 100 and print only even numbers\n"
   ]
  },
  {
   "cell_type": "code",
   "execution_count": null,
   "metadata": {},
   "outputs": [],
   "source": [
    "for i in range(0, 100):\n",
    "    if i % 2 == 0 :\n",
    "        print(i)"
   ]
  },
  {
   "cell_type": "code",
   "execution_count": null,
   "metadata": {},
   "outputs": [],
   "source": [
    "for i in range(0, 100, 2):\n",
    "    print(i)"
   ]
  },
  {
   "cell_type": "code",
   "execution_count": null,
   "metadata": {},
   "outputs": [],
   "source": [
    "i = 1\n",
    "while i <= 100:\n",
    "    if i % 2 == 0:\n",
    "        print(i)\n",
    "    i += 1"
   ]
  },
  {
   "cell_type": "markdown",
   "metadata": {},
   "source": [
    "8. Use for loop to iterate from 0 to 100 and print only odd numbers\n"
   ]
  },
  {
   "cell_type": "code",
   "execution_count": null,
   "metadata": {},
   "outputs": [],
   "source": [
    "for i in range(1, 100, 2):\n",
    "    if i % 2 != 0:\n",
    "        print(i)"
   ]
  },
  {
   "cell_type": "code",
   "execution_count": null,
   "metadata": {},
   "outputs": [],
   "source": [
    "for i in range(100):\n",
    "    if i % 2 != 0:\n",
    "        print(i)"
   ]
  },
  {
   "cell_type": "code",
   "execution_count": null,
   "metadata": {},
   "outputs": [],
   "source": [
    "i = 0\n",
    "while i <= 100:\n",
    "    if i % 2 != 0:\n",
    "        print(i)\n",
    "    i += 1"
   ]
  },
  {
   "cell_type": "markdown",
   "metadata": {},
   "source": [
    "9.  Use for loop to iterate from 0 to 100 and print the sum of all numbers.\n",
    "                output: The sum of all numbers is 5050."
   ]
  },
  {
   "cell_type": "code",
   "execution_count": 48,
   "metadata": {},
   "outputs": [
    {
     "name": "stdout",
     "output_type": "stream",
     "text": [
      "Sum of all number:  5050\n"
     ]
    }
   ],
   "source": [
    "sum = 0\n",
    "for i in range(0, 101):\n",
    "    sum += i \n",
    "print(\"Sum of all number: \", sum)"
   ]
  },
  {
   "cell_type": "code",
   "execution_count": 51,
   "metadata": {},
   "outputs": [
    {
     "name": "stdout",
     "output_type": "stream",
     "text": [
      "5050\n"
     ]
    }
   ],
   "source": [
    "sum = 0\n",
    "i = 0\n",
    "while i <= 100:\n",
    "    sum += i\n",
    "    i += 1\n",
    "print(sum)"
   ]
  },
  {
   "cell_type": "markdown",
   "metadata": {},
   "source": [
    "10. Use for loop to iterate from 0 to 100 and print the sum of all evens and the sum of all odds.\n"
   ]
  },
  {
   "cell_type": "code",
   "execution_count": 55,
   "metadata": {},
   "outputs": [
    {
     "name": "stdout",
     "output_type": "stream",
     "text": [
      "Even number : 2550\n",
      "Even number : 2500\n"
     ]
    }
   ],
   "source": [
    "even_sum = 0\n",
    "odd_sum = 0\n",
    "for i in range(0, 101):\n",
    "    if i % 2 == 0:\n",
    "        even_sum += i\n",
    "    else:\n",
    "        odd_sum += i\n",
    "\n",
    "\n",
    "print(\"Even number :\", even_sum)\n",
    "print(\"Even number :\", odd_sum)\n",
    "\n",
    "  \n"
   ]
  },
  {
   "cell_type": "code",
   "execution_count": 57,
   "metadata": {},
   "outputs": [
    {
     "name": "stdout",
     "output_type": "stream",
     "text": [
      "Even number:  2550\n",
      "odd number:  2500\n"
     ]
    }
   ],
   "source": [
    "even_sum = 0\n",
    "odd_sum = 0\n",
    "i = 0\n",
    "while i <= 100:\n",
    "    if i % 2 == 0:\n",
    "        even_sum += i\n",
    "    else:\n",
    "        odd_sum += i\n",
    "\n",
    "    i += 1\n",
    "print(\"Even number: \", even_sum)\n",
    "print(\"odd number: \", odd_sum)"
   ]
  }
 ],
 "metadata": {
  "kernelspec": {
   "display_name": "Python 3",
   "language": "python",
   "name": "python3"
  },
  "language_info": {
   "codemirror_mode": {
    "name": "ipython",
    "version": 3
   },
   "file_extension": ".py",
   "mimetype": "text/x-python",
   "name": "python",
   "nbconvert_exporter": "python",
   "pygments_lexer": "ipython3",
   "version": "3.11.8"
  }
 },
 "nbformat": 4,
 "nbformat_minor": 2
}
