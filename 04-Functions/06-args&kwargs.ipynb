{
 "cells": [
  {
   "cell_type": "markdown",
   "metadata": {},
   "source": [
    "## ****ARGS AND ** KWARGS***"
   ]
  },
  {
   "cell_type": "markdown",
   "metadata": {},
   "source": [
    "    *ARGS = > ARBITARY POSITIONAL \n",
    "    ** KWARGS => ARBITARY KEYWORD ARGUMENTS"
   ]
  },
  {
   "cell_type": "markdown",
   "metadata": {},
   "source": [
    "- **`*args` (Arguments)**: Allows a function to accept any number of positional arguments as a tuple.  \n",
    "- **`**kwargs` (Keyword Arguments)**: Allows a function to accept any number of keyword arguments as a dictionary.  \n"
   ]
  },
  {
   "cell_type": "code",
   "execution_count": 4,
   "metadata": {},
   "outputs": [
    {
     "name": "stdout",
     "output_type": "stream",
     "text": [
      "sum is  3\n",
      "sum is  16\n",
      "sum is  71\n"
     ]
    }
   ],
   "source": [
    "# POSITIONAL ARGUMENT SHOULD BE TUPLE NOT THE LIST\n",
    "# tuple are immutable so cant change it again\n",
    "def add(*args):\n",
    "    sum = 0\n",
    "    for i in args:\n",
    "        sum += i\n",
    "    print(\"sum is \", sum)\n",
    "\n",
    "\n",
    "# passing different argument in the same name\n",
    "add(1, 2)\n",
    "add(6, 6, 4)\n",
    "add(1, 2, 3, 4, 5, 56)"
   ]
  },
  {
   "cell_type": "code",
   "execution_count": 5,
   "metadata": {},
   "outputs": [
    {
     "ename": "TypeError",
     "evalue": "display() missing 1 required keyword-only argument: 'name'",
     "output_type": "error",
     "traceback": [
      "\u001b[1;31m---------------------------------------------------------------------------\u001b[0m",
      "\u001b[1;31mTypeError\u001b[0m                                 Traceback (most recent call last)",
      "Cell \u001b[1;32mIn[5], line 4\u001b[0m\n\u001b[0;32m      1\u001b[0m \u001b[38;5;28;01mdef\u001b[39;00m \u001b[38;5;21mdisplay\u001b[39m(\u001b[38;5;241m*\u001b[39margs, name):\n\u001b[0;32m      2\u001b[0m     \u001b[38;5;28mprint\u001b[39m(args, name)\n\u001b[1;32m----> 4\u001b[0m \u001b[43mdisplay\u001b[49m\u001b[43m(\u001b[49m\u001b[38;5;241;43m1\u001b[39;49m\u001b[43m,\u001b[49m\u001b[38;5;124;43m\"\u001b[39;49m\u001b[38;5;124;43mjiho\u001b[39;49m\u001b[38;5;124;43m\"\u001b[39;49m\u001b[43m)\u001b[49m\n",
      "\u001b[1;31mTypeError\u001b[0m: display() missing 1 required keyword-only argument: 'name'"
     ]
    }
   ],
   "source": [
    "def display(*args, name):\n",
    "    print(args, name)\n",
    "\n",
    "display(1,\"jiho\")  # EEROR"
   ]
  },
  {
   "cell_type": "markdown",
   "metadata": {},
   "source": [
    "    # *args takes all the tuple values as the argument \n",
    "    # so we need keyword argument to initail the next parameter"
   ]
  },
  {
   "cell_type": "code",
   "execution_count": 10,
   "metadata": {},
   "outputs": [
    {
     "name": "stdout",
     "output_type": "stream",
     "text": [
      "(1, 2, 3, 4) jiho\n"
     ]
    }
   ],
   "source": [
    "def display(*args, name):\n",
    "    print(args, name)\n",
    "\n",
    "display(1,2, 3, 4, name=\"jiho\") \n",
    "# 1 to 4 pass to args and name keywrod args pass to name parameter"
   ]
  },
  {
   "cell_type": "markdown",
   "metadata": {},
   "source": [
    "    To solve the issue  "
   ]
  },
  {
   "cell_type": "markdown",
   "metadata": {},
   "source": [
    "#### ***First is the positional argument and next is the ARGS arguments to  not get consfuse***"
   ]
  },
  {
   "cell_type": "code",
   "execution_count": 15,
   "metadata": {},
   "outputs": [
    {
     "name": "stdout",
     "output_type": "stream",
     "text": [
      "2\n",
      "57\n",
      "add the tuple2\n",
      "92\n",
      "9.0\n",
      "20\n"
     ]
    }
   ],
   "source": [
    "def add(a, *numbers):\n",
    "    print(a)\n",
    "    sum = 0\n",
    "    for i in numbers:\n",
    "        sum += i\n",
    "    print(sum)\n",
    "\n",
    "add(2, 45, 6, 4, 2)\n",
    "add(\"add the tuple2\", 0, 16, 14, 62)\n",
    "add(9.0, 4, 1, 6, 9)\n",
    "        "
   ]
  },
  {
   "cell_type": "markdown",
   "metadata": {},
   "source": [
    "    aribitary keyword arguments"
   ]
  },
  {
   "cell_type": "code",
   "execution_count": 16,
   "metadata": {},
   "outputs": [
    {
     "name": "stdout",
     "output_type": "stream",
     "text": [
      "name rama\n",
      "age 22\n",
      "depth cse\n",
      "name rila\n",
      "depth cse\n"
     ]
    }
   ],
   "source": [
    "# KWARGS ARE PASSED ONLY AS DICTIONARY KEYS AND VALUES PAIRS\n",
    "\n",
    "def info_person(**kwargs):\n",
    "    for key, value in kwargs.items():\n",
    "        print(key, value)\n",
    "\n",
    "\n",
    "info_person(name = \"rama\", age = 22, depth = \"cse\")\n",
    "info_person(name = \"rila\",depth = \"cse\")"
   ]
  },
  {
   "cell_type": "markdown",
   "metadata": {},
   "source": [
    "    args and kwargs combine"
   ]
  },
  {
   "cell_type": "code",
   "execution_count": 18,
   "metadata": {},
   "outputs": [
    {
     "name": "stdout",
     "output_type": "stream",
     "text": [
      "(3, 4)\n",
      "name rama\n",
      "age 22\n",
      "depth cse\n",
      "()\n",
      "name rila\n",
      "depth cse\n"
     ]
    }
   ],
   "source": [
    "def info_person(*args,**kwargs):\n",
    "    print(args)\n",
    "    for key, value in kwargs.items():\n",
    "        print(key, value)\n",
    "\n",
    "\n",
    "info_person(3, 4,name = \"rama\", age = 22, depth = \"cse\")\n",
    "info_person(name = \"rila\",depth = \"cse\") #not passed not error"
   ]
  },
  {
   "cell_type": "markdown",
   "metadata": {},
   "source": [
    "    (normal arg , *args, **kwargs) syntax "
   ]
  },
  {
   "cell_type": "code",
   "execution_count": 21,
   "metadata": {},
   "outputs": [
    {
     "name": "stdout",
     "output_type": "stream",
     "text": [
      "Normal arguments : 2\n",
      "args (Positional Arguments) : \n",
      "7\n",
      "8\n",
      "9\n",
      "0\n",
      "222\n",
      "Kwargs (Keyword Arguments : )\n",
      "key1 keywords\n",
      "key2 keyword2\n",
      "key3 keyword3\n"
     ]
    }
   ],
   "source": [
    "def example(normal_args, *args, **kwargs):\n",
    "    print(f\"Normal arguments : {normal_args}\")\n",
    "\n",
    "    print(\"args (Positional Arguments) : \")\n",
    "    for i in args:\n",
    "        print(i)\n",
    "\n",
    "    print(\"Kwargs (Keyword Arguments : )\")\n",
    "    for key, value in kwargs.items():\n",
    "        print(key, value)\n",
    "\n",
    "\n",
    "example(2, 7,8, 9, 0, 222, key1 = \"keywords\", key2 = \"keyword2\", key3 = \"keyword3\")"
   ]
  }
 ],
 "metadata": {
  "kernelspec": {
   "display_name": "Python 3",
   "language": "python",
   "name": "python3"
  },
  "language_info": {
   "codemirror_mode": {
    "name": "ipython",
    "version": 3
   },
   "file_extension": ".py",
   "mimetype": "text/x-python",
   "name": "python",
   "nbconvert_exporter": "python",
   "pygments_lexer": "ipython3",
   "version": "3.11.8"
  }
 },
 "nbformat": 4,
 "nbformat_minor": 2
}
