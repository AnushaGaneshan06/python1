{
 "cells": [
  {
   "cell_type": "markdown",
   "metadata": {},
   "source": [
    "## **Function In Python**"
   ]
  },
  {
   "cell_type": "markdown",
   "metadata": {},
   "source": [
    "* **function** is a reusable block of code designed to perform a specific task.\n",
    "\n",
    "* We need function to do the **specific task** again and again\n",
    "\n",
    "*  **function** is the block of statement that perform specific task when it is **called**"
   ]
  },
  {
   "cell_type": "markdown",
   "metadata": {},
   "source": [
    "-----"
   ]
  },
  {
   "cell_type": "markdown",
   "metadata": {},
   "source": [
    "#### 1. ***SYNTAX***"
   ]
  },
  {
   "cell_type": "markdown",
   "metadata": {},
   "source": [
    "            Define the function\n",
    "* define the **def** **function_name** **(parameter)**\n",
    "and the function body and **return expression**\n",
    "\n",
    "\n",
    "        called the function\n",
    "\n",
    "* call by its function name with its **arguments**"
   ]
  },
  {
   "cell_type": "markdown",
   "metadata": {},
   "source": [
    "## 2. ***Two types of Function***"
   ]
  },
  {
   "cell_type": "markdown",
   "metadata": {},
   "source": [
    "    1.Built in function\n",
    "    2. User define function    "
   ]
  },
  {
   "cell_type": "code",
   "execution_count": null,
   "metadata": {},
   "outputs": [],
   "source": [
    "def greet(): # function definition\n",
    "    print(\"anndy\")\n",
    "    print(\"Good morning\")\n",
    "\n",
    "# can use againa nd again\n",
    "\n",
    "greet() # function called\n",
    "greet() \n",
    "greet() "
   ]
  },
  {
   "cell_type": "code",
   "execution_count": null,
   "metadata": {},
   "outputs": [],
   "source": [
    "def avg(a ,b ,c): # formal parameters\n",
    "    \n",
    "    return (a + b + c) / 3\n",
    "\n",
    "a1 = 2\n",
    "b1 = 3\n",
    "c1 = 6\n",
    "\n",
    "result = avg(a1 , b1, c1) # positional arguments\n",
    "print(result)\n",
    "\n",
    "avg(3, 4, 6) # actual parameter "
   ]
  },
  {
   "cell_type": "code",
   "execution_count": null,
   "metadata": {},
   "outputs": [],
   "source": [
    "# NON RETURN FUNCTION\n",
    "def display(a = \"HI\"): # default parameter\n",
    "\n",
    "    print(a, \"Welcome!!\")\n",
    "\n",
    "display()"
   ]
  },
  {
   "cell_type": "code",
   "execution_count": null,
   "metadata": {},
   "outputs": [],
   "source": [
    "def hello_func(greeting, name= \"ruby\"):\n",
    "    return '{} {}.'.format(greeting, name)\n",
    "\n",
    "hello_func(\"hii\", name = \"cory\")"
   ]
  },
  {
   "cell_type": "markdown",
   "metadata": {},
   "source": [
    "    keyword arguments"
   ]
  },
  {
   "cell_type": "code",
   "execution_count": null,
   "metadata": {},
   "outputs": [],
   "source": [
    "def avg(a, b, c):\n",
    "    return (a, b, c)\n",
    "\n",
    "result = avg(a = 2, c = 3, b = 5)  \n",
    "# parameter name by value\n",
    "print(result)"
   ]
  },
  {
   "cell_type": "markdown",
   "metadata": {},
   "source": [
    "## ***3.Local and Global Variable***"
   ]
  },
  {
   "cell_type": "markdown",
   "metadata": {},
   "source": [
    "    Local variable"
   ]
  },
  {
   "cell_type": "code",
   "execution_count": null,
   "metadata": {},
   "outputs": [],
   "source": [
    "def function1():\n",
    "    n = 3 #local variable\n",
    "    print(\"the number : \", n)\n",
    "\n",
    "def function2():\n",
    "    n = 10\n",
    "    print(\"value n2 : \", n)\n",
    "    function1() \n",
    "    # when n is comment there is no acces fun2 to fun1\n",
    "\n",
    "#main\n",
    "function2()"
   ]
  },
  {
   "cell_type": "markdown",
   "metadata": {},
   "source": [
    "    Global Variable"
   ]
  },
  {
   "cell_type": "code",
   "execution_count": null,
   "metadata": {},
   "outputs": [],
   "source": [
    "n = 10 #global variable\n",
    "\n",
    "def function1():\n",
    "    print(n)\n",
    "\n",
    "def function2():\n",
    "    print(n)\n",
    "    function1()\n",
    "\n",
    "function2()"
   ]
  },
  {
   "cell_type": "code",
   "execution_count": null,
   "metadata": {},
   "outputs": [],
   "source": [
    "# WHEN EVER WE MODIFY THE GLOBAL VAR IN FUNCTION IT TREATS LOCAL VARIBALE\n",
    "# TO OVERCOME THAT\n",
    "\n",
    "var = 10\n",
    "\n",
    "def function1():\n",
    "    global var\n",
    "    var = var + 1 # modify\n",
    "    print(\"variable is : \", var)\n",
    "    return\n",
    "\n",
    "function1()\n"
   ]
  },
  {
   "cell_type": "markdown",
   "metadata": {},
   "source": [
    "## 4. **Difference Between `print` and `return`**\n",
    "\n",
    "| **`print`**                                       | **`return`**                                       |\n",
    "|--------------------------------------------------|---------------------------------------------------|\n",
    "| **Function** = Displays output on user screen    | **Keyword** => Does not display values to user, instead returns to the **function caller** |\n",
    "| Can be used anywhere                             | Can only be used inside a function                |\n",
    "| Does not stop the execution of the function      | **STOP** the execution of the current function    |\n",
    "| Output cannot be used further                    | Returned value can be used further                |\n"
   ]
  },
  {
   "cell_type": "code",
   "execution_count": 41,
   "metadata": {},
   "outputs": [
    {
     "name": "stdout",
     "output_type": "stream",
     "text": [
      "4\n",
      "9\n",
      "None\n",
      "None\n"
     ]
    }
   ],
   "source": [
    "\n",
    "def function1(x):\n",
    "    return x \n",
    "\n",
    "output = function1(4)\n",
    "print(output)\n",
    "\n",
    "# here output can use again and again\n",
    "\n",
    "\n",
    "def function2(a, b):\n",
    "    print(a + b)\n",
    "\n",
    "output1 = function2(4, 5)\n",
    "\n",
    "final_output = function1(output1)\n",
    "\n",
    "print(final_output)\n",
    "\n",
    "print(output1) # return none\n",
    "\n",
    "# output cannot used further\n",
    "\n"
   ]
  },
  {
   "cell_type": "markdown",
   "metadata": {},
   "source": [
    "*  ***What if you have to save and use the result later***"
   ]
  },
  {
   "cell_type": "markdown",
   "metadata": {},
   "source": [
    "    print()"
   ]
  },
  {
   "cell_type": "code",
   "execution_count": 2,
   "metadata": {},
   "outputs": [
    {
     "name": "stdout",
     "output_type": "stream",
     "text": [
      "3 5\n",
      "None\n",
      "<class 'NoneType'>\n"
     ]
    }
   ],
   "source": [
    "# print use wont return the value\n",
    "def function1(a, b):\n",
    "    print(a, b)\n",
    "\n",
    "\n",
    "result = function1(3, 5)\n",
    "print(result)\n",
    "\n",
    "print(type(result))"
   ]
  },
  {
   "cell_type": "markdown",
   "metadata": {},
   "source": [
    "    return"
   ]
  },
  {
   "cell_type": "code",
   "execution_count": 3,
   "metadata": {},
   "outputs": [
    {
     "name": "stdout",
     "output_type": "stream",
     "text": [
      "(2, 4)\n",
      "<class 'tuple'>\n"
     ]
    }
   ],
   "source": [
    "# we can see the classof the function operation \n",
    "def function1(a, b):\n",
    "    return a , b\n",
    "\n",
    "result = function1(2, 4)\n",
    "print(result)\n",
    "print(type(result))"
   ]
  }
 ],
 "metadata": {
  "kernelspec": {
   "display_name": "Python 3",
   "language": "python",
   "name": "python3"
  },
  "language_info": {
   "codemirror_mode": {
    "name": "ipython",
    "version": 3
   },
   "file_extension": ".py",
   "mimetype": "text/x-python",
   "name": "python",
   "nbconvert_exporter": "python",
   "pygments_lexer": "ipython3",
   "version": "3.11.8"
  }
 },
 "nbformat": 4,
 "nbformat_minor": 2
}
