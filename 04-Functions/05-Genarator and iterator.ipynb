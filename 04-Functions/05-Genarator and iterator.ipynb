{
 "cells": [
  {
   "cell_type": "markdown",
   "metadata": {},
   "source": [
    "## ***Generator and iterator***"
   ]
  },
  {
   "cell_type": "markdown",
   "metadata": {},
   "source": [
    "**Iterartor** is the object enables the sequence in the memory \n",
    "\n",
    "**Generator :** A rountine that can be used to control the iteration behavior of the loop.\n",
    "\n",
    "\n",
    "A generator is very similar to a function that return the array\n"
   ]
  },
  {
   "cell_type": "markdown",
   "metadata": {},
   "source": [
    "    Iterartor(no while or range )"
   ]
  },
  {
   "cell_type": "code",
   "execution_count": 6,
   "metadata": {},
   "outputs": [
    {
     "name": "stdout",
     "output_type": "stream",
     "text": [
      "136 size of the iterator\n",
      "1\n",
      "2\n",
      "3\n",
      "4\n",
      "5\n",
      "6\n",
      "7\n",
      "8\n",
      "9\n",
      "10\n",
      "48 size of range\n",
      "1\n",
      "2\n",
      "3\n",
      "4\n",
      "5\n",
      "6\n",
      "7\n",
      "8\n",
      "9\n",
      "10\n"
     ]
    }
   ],
   "source": [
    "import sys\n",
    "\n",
    "x = [1, 2, 3, 4, 5, 6, 7, 8, 9, 10] # larger sizze\n",
    "print(sys.getsizeof(x), \"size of the iterator\")\n",
    "for element in x:\n",
    "    print(element)\n",
    "\n",
    "# no need to store the data \n",
    "# size is less in generator\n",
    "\n",
    "print(sys.getsizeof(range(1, 11)), \"size of range\")\n",
    "for i in range(1, 11):\n",
    "    print(i)"
   ]
  },
  {
   "cell_type": "code",
   "execution_count": 8,
   "metadata": {},
   "outputs": [
    {
     "name": "stdout",
     "output_type": "stream",
     "text": [
      "[1, 4, 9, 16, 25, 36, 49, 64, 81, 100]\n"
     ]
    }
   ],
   "source": [
    "x = [1, 2, 3, 4, 5, 6, 7, 8, 9, 10]\n",
    "\n",
    "y = list(map(lambda x : x ** 2, x))\n",
    "\n",
    "print(y)"
   ]
  },
  {
   "cell_type": "markdown",
   "metadata": {},
   "source": [
    "    NEXT()"
   ]
  },
  {
   "cell_type": "markdown",
   "metadata": {},
   "source": [
    "    Calls the special method called next give the next value in the iteration"
   ]
  },
  {
   "cell_type": "code",
   "execution_count": 12,
   "metadata": {},
   "outputs": [
    {
     "name": "stdout",
     "output_type": "stream",
     "text": [
      "1\n",
      "4\n",
      "9\n",
      "16\n",
      "25\n",
      "36\n",
      "49\n",
      "64\n",
      "81\n",
      "100\n"
     ]
    }
   ],
   "source": [
    "x = [1, 2, 3, 4, 5, 6, 7, 8, 9, 10]\n",
    "\n",
    "y = map(lambda x : x ** 2, x)\n",
    "\n",
    "print(next(y))\n",
    "print(next(y))\n",
    "print(next(y)) # next value in the squence\n",
    "\n",
    "\n",
    "# --------------------\n",
    "print(\"for loop\")\n",
    "for i in y :\n",
    "    print(i)"
   ]
  },
  {
   "cell_type": "code",
   "execution_count": 14,
   "metadata": {},
   "outputs": [
    {
     "name": "stdout",
     "output_type": "stream",
     "text": [
      "1\n",
      "4\n",
      "9\n",
      "16\n",
      "25\n",
      "36\n",
      "49\n",
      "64\n",
      "81\n",
      "100\n",
      "Done\n"
     ]
    }
   ],
   "source": [
    "import sys\n",
    "\n",
    "x = [1, 2, 3, 4, 5, 6, 7, 8, 9, 10]\n",
    "\n",
    "y = map(lambda x : x ** 2, x)\n",
    "\n",
    "print(y.__next__()) # do same as the next value\n",
    "\n",
    "while True:\n",
    "    try: \n",
    "        value = next(y)\n",
    "        print(value)\n",
    "    except StopIteration:\n",
    "        print(\"Done\")\n",
    "        break\n",
    "\n"
   ]
  },
  {
   "cell_type": "code",
   "execution_count": 16,
   "metadata": {},
   "outputs": [
    {
     "name": "stdout",
     "output_type": "stream",
     "text": [
      "range(1, 11)\n"
     ]
    },
    {
     "ename": "TypeError",
     "evalue": "'range' object is not an iterator",
     "output_type": "error",
     "traceback": [
      "\u001b[1;31m---------------------------------------------------------------------------\u001b[0m",
      "\u001b[1;31mTypeError\u001b[0m                                 Traceback (most recent call last)",
      "Cell \u001b[1;32mIn[16], line 5\u001b[0m\n\u001b[0;32m      1\u001b[0m x \u001b[38;5;241m=\u001b[39m \u001b[38;5;28mrange\u001b[39m(\u001b[38;5;241m1\u001b[39m, \u001b[38;5;241m11\u001b[39m)\n\u001b[0;32m      3\u001b[0m \u001b[38;5;28mprint\u001b[39m(x)\n\u001b[1;32m----> 5\u001b[0m \u001b[38;5;28;43mnext\u001b[39;49m\u001b[43m(\u001b[49m\u001b[43mx\u001b[49m\u001b[43m)\u001b[49m\n",
      "\u001b[1;31mTypeError\u001b[0m: 'range' object is not an iterator"
     ]
    }
   ],
   "source": [
    "x = range(1, 11)\n",
    "\n",
    "print(x)\n",
    "\n",
    "next(x) # 'range' object is not an iterator"
   ]
  },
  {
   "cell_type": "code",
   "execution_count": 19,
   "metadata": {},
   "outputs": [
    {
     "name": "stdout",
     "output_type": "stream",
     "text": [
      "range(1, 11)\n",
      "1\n",
      "1\n",
      "2\n",
      "3\n",
      "4\n",
      "5\n",
      "6\n",
      "7\n",
      "8\n",
      "9\n",
      "10\n"
     ]
    }
   ],
   "source": [
    "x = range(1, 11)\n",
    "\n",
    "print(x)\n",
    "\n",
    "# so we use before iter\n",
    "\n",
    "print(next(iter(x)))\n",
    "\n",
    "for i in iter(x):\n",
    "    print(i)"
   ]
  },
  {
   "cell_type": "markdown",
   "metadata": {},
   "source": [
    "    Generator "
   ]
  },
  {
   "cell_type": "code",
   "execution_count": 24,
   "metadata": {},
   "outputs": [
    {
     "name": "stdout",
     "output_type": "stream",
     "text": [
      "0\n",
      "0\n",
      "1\n",
      "2\n",
      "3\n",
      "4\n"
     ]
    }
   ],
   "source": [
    "import sys\n",
    "\n",
    "def gen(n):\n",
    "    for i in range(n):\n",
    "        yield i # yield pass the value to the gen\n",
    "                # next method are function it continue \n",
    "\n",
    "x = gen(6)\n",
    "print(next(x))\n",
    "\n",
    "for i in gen(5): # next\n",
    "    print(i)\n",
    "\n"
   ]
  },
  {
   "cell_type": "code",
   "execution_count": 26,
   "metadata": {},
   "outputs": [
    {
     "name": "stdout",
     "output_type": "stream",
     "text": [
      "1\n",
      "pass 1\n",
      "2\n",
      "pass 2\n",
      "3\n",
      "pass 3\n",
      "1\n",
      "pass 1\n",
      "2\n",
      "pass 2\n",
      "3\n",
      "pass 3\n",
      "1\n",
      "pass 1\n",
      "2\n",
      "pass 2\n",
      "3\n",
      "pass 3\n",
      "1\n",
      "pass 1\n",
      "2\n",
      "pass 2\n",
      "3\n",
      "pass 3\n",
      "1\n",
      "pass 1\n",
      "2\n",
      "pass 2\n",
      "3\n",
      "pass 3\n"
     ]
    }
   ],
   "source": [
    "import sys\n",
    "\n",
    "def gen(n):\n",
    "    for i in range(n):\n",
    "        yield 1 # yield pass the value to the gen\n",
    "        print(\"pass 1\")\n",
    "        yield 2 # next method are function it continue\n",
    "        print(\"pass 2\") \n",
    "        yield 3\n",
    "        print(\"pass 3\")\n",
    "\n",
    "for i in gen(5): # next\n",
    "    print(i)"
   ]
  },
  {
   "cell_type": "markdown",
   "metadata": {},
   "source": [
    "| Feature              | Generator                          | Iterator                          |\n",
    "|----------------------|------------------------------------|-----------------------------------|\n",
    "| **What it is**       | Function with `yield`.            | Object with `__iter__` and `__next__`. |\n",
    "| **How to create**    | Write a function with `yield`.    | Use `iter()` or create a custom class. |\n",
    "| **Efficiency**       | Memory-efficient (on-the-fly).    | May require storing all items.    |\n",
    "| **Use case**         | Large or infinite data.           | Finite collections (e.g., lists). |\n",
    "| **Example**          | ```python                         | ```python                         |\n",
    "|                      | def gen():                        | class MyIterator:                 |\n",
    "|                      |     yield 1                       |     def __iter__(self): return self |\n",
    "|                      |     yield 2                       |     def __next__(self): return x  |\n",
    "|                      | ```                               | ```                               |\n"
   ]
  },
  {
   "cell_type": "markdown",
   "metadata": {},
   "source": [
    "- **Generators**: Create sequences using `yield`, producing values one at a time. Useful for memory-efficient operations, especially with large or infinite data.  \n",
    "\n",
    "\n",
    "- **Iterators**: Objects with `__iter__` and `__next__` methods, enabling iteration through collections or custom sequences.  \n",
    "\n",
    "\n",
    "- **Need**: Both help process data lazily, saving memory and making iteration flexible for various use cases.  \n"
   ]
  }
 ],
 "metadata": {
  "kernelspec": {
   "display_name": "Python 3",
   "language": "python",
   "name": "python3"
  },
  "language_info": {
   "codemirror_mode": {
    "name": "ipython",
    "version": 3
   },
   "file_extension": ".py",
   "mimetype": "text/x-python",
   "name": "python",
   "nbconvert_exporter": "python",
   "pygments_lexer": "ipython3",
   "version": "3.11.8"
  }
 },
 "nbformat": 4,
 "nbformat_minor": 2
}
