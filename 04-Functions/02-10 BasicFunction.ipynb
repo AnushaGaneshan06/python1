{
 "cells": [
  {
   "cell_type": "markdown",
   "metadata": {},
   "source": [
    "## ***10 Basic Python Function***"
   ]
  },
  {
   "cell_type": "markdown",
   "metadata": {},
   "source": [
    "---"
   ]
  },
  {
   "cell_type": "markdown",
   "metadata": {},
   "source": [
    "#### **1. PRINT fUNCTION**"
   ]
  },
  {
   "cell_type": "code",
   "execution_count": null,
   "metadata": {},
   "outputs": [],
   "source": [
    "age = 23\n",
    "name = \"Tim\"\n",
    "\n",
    "print(\"My name is \",name,\" and  Iam \", age,\" years old!!\", sep=\"|\") # sep arguments\n",
    "\n",
    "print(\"PRINT FUNCTION BLOCK CODE\")\n",
    "\n",
    "print(\"The end argument \", end = \"|\" )\n",
    "print(\" In python\")"
   ]
  },
  {
   "cell_type": "markdown",
   "metadata": {},
   "source": [
    "### **2. Help() Function**"
   ]
  },
  {
   "cell_type": "markdown",
   "metadata": {},
   "source": [
    "    Reads the docstrings of a function"
   ]
  },
  {
   "cell_type": "markdown",
   "metadata": {},
   "source": [
    "    Helps effectively or copying the code"
   ]
  },
  {
   "cell_type": "code",
   "execution_count": null,
   "metadata": {},
   "outputs": [],
   "source": [
    "# built in function\n",
    "\n",
    "help(print)\n",
    "\n",
    "help(sum)"
   ]
  },
  {
   "cell_type": "code",
   "execution_count": 13,
   "metadata": {},
   "outputs": [
    {
     "name": "stdout",
     "output_type": "stream",
     "text": [
      "Help on function function in module __main__:\n",
      "\n",
      "function(a, b)\n",
      "    value a\n",
      "    value b\n",
      "\n"
     ]
    }
   ],
   "source": [
    "# Own function\n",
    "\n",
    "def function(a, b):\n",
    "    \"\"\"\n",
    "    value a\n",
    "    value b\n",
    "    \"\"\"\n",
    "    return a, b\n",
    "\n",
    "function(3, 3)\n",
    "\n",
    "help(function)"
   ]
  },
  {
   "cell_type": "markdown",
   "metadata": {},
   "source": [
    "### **3. Range Function**"
   ]
  },
  {
   "cell_type": "code",
   "execution_count": 17,
   "metadata": {},
   "outputs": [
    {
     "name": "stdout",
     "output_type": "stream",
     "text": [
      "[2, 4, 6, 8]\n",
      "[10, 8, 6, 4, 2, 0, -2, -4, -6, -8]\n"
     ]
    }
   ],
   "source": [
    "rng = range(2, 10, 2) # start stop step\n",
    "\n",
    "print(list(rng))\n",
    "\n",
    "rng1 = range(10 , -10, -2)\n",
    "print(list(rng1))"
   ]
  },
  {
   "cell_type": "markdown",
   "metadata": {},
   "source": [
    "### **4. MAP() Function**"
   ]
  },
  {
   "cell_type": "markdown",
   "metadata": {},
   "source": [
    "**Map function** allows to apply a function to every  single item in **iteratable object**"
   ]
  },
  {
   "cell_type": "code",
   "execution_count": 28,
   "metadata": {},
   "outputs": [
    {
     "name": "stdout",
     "output_type": "stream",
     "text": [
      "[2, 5, 2, 4]\n"
     ]
    }
   ],
   "source": [
    "string = [\"my\", \"world\", \"is\", \"pear\"]\n",
    "\n",
    "length = map(len, string) \n",
    "print(list(length))"
   ]
  },
  {
   "cell_type": "markdown",
   "metadata": {},
   "source": [
    "### **5. Lambda Function**"
   ]
  },
  {
   "cell_type": "markdown",
   "metadata": {},
   "source": [
    "        One line Anonymous function"
   ]
  },
  {
   "cell_type": "code",
   "execution_count": 21,
   "metadata": {},
   "outputs": [
    {
     "name": "stdout",
     "output_type": "stream",
     "text": [
      "[\"my's\", \"world's\", \"is's\", \"pear's\"]\n"
     ]
    }
   ],
   "source": [
    "string = [\"my\", \"world\", \"is\", \"pear\"]\n",
    "\n",
    "length = map(lambda x : x + \"'s\", string)\n",
    "\n",
    "print(list(length))"
   ]
  },
  {
   "cell_type": "code",
   "execution_count": 25,
   "metadata": {},
   "outputs": [
    {
     "name": "stdout",
     "output_type": "stream",
     "text": [
      "['mys', 'worlds', 'iss', 'pears']\n"
     ]
    }
   ],
   "source": [
    "# OWN FUNCTION\n",
    "\n",
    "def add_s(string):\n",
    "    return string + \"s\"\n",
    "\n",
    "length = map( add_s, string)\n",
    "\n",
    "print(list(length))"
   ]
  },
  {
   "cell_type": "markdown",
   "metadata": {},
   "source": [
    "### **6. Filter Function**"
   ]
  },
  {
   "cell_type": "markdown",
   "metadata": {},
   "source": [
    "        It will take all the items in the iterable object. Then pass it to the compatable function"
   ]
  },
  {
   "cell_type": "code",
   "execution_count": 29,
   "metadata": {},
   "outputs": [
    {
     "name": "stdout",
     "output_type": "stream",
     "text": [
      "['world']\n"
     ]
    }
   ],
   "source": [
    "def longer_then_4(string):\n",
    "    return len(string) > 4\n",
    "\n",
    "string = [\"my\", \"world\", \"is\", \"pear\"]\n",
    "\n",
    "filtered = filter(longer_then_4, string)\n",
    "\n",
    "print(list(filtered))\n",
    "\n",
    "\n"
   ]
  },
  {
   "cell_type": "markdown",
   "metadata": {},
   "source": [
    "### **7. Sum Function**"
   ]
  },
  {
   "cell_type": "code",
   "execution_count": 33,
   "metadata": {},
   "outputs": [
    {
     "name": "stdout",
     "output_type": "stream",
     "text": [
      "26\n",
      "27\n"
     ]
    }
   ],
   "source": [
    "numbers = [3, 5, 6, 8, 4]\n",
    "\n",
    "print(sum(numbers))\n",
    "print(sum(numbers, start=-1))"
   ]
  },
  {
   "cell_type": "markdown",
   "metadata": {},
   "source": [
    "### **8. Sorted Function**"
   ]
  },
  {
   "cell_type": "code",
   "execution_count": 39,
   "metadata": {},
   "outputs": [
    {
     "name": "stdout",
     "output_type": "stream",
     "text": [
      "[3, 4, 5, 6, 8]\n",
      "[8, 6, 5, 4, 3]\n"
     ]
    }
   ],
   "source": [
    "number = [3, 5, 7, 9, 0]\n",
    "\n",
    "# reverse argument \n",
    "\n",
    "sorted_num = sorted(numbers)\n",
    "print(sorted_num)\n",
    "\n",
    "sorted_num = sorted(numbers,  reverse = True)\n",
    "print(sorted_num)"
   ]
  },
  {
   "cell_type": "code",
   "execution_count": 45,
   "metadata": {},
   "outputs": [
    {
     "name": "stdout",
     "output_type": "stream",
     "text": [
      "[{'name': 'dia', 'age': 27}, {'name': 'bandi', 'age': 27}, {'name': 'reka', 'age': 22}, {'name': 'angel', 'age': 20}]\n"
     ]
    }
   ],
   "source": [
    "people = [\n",
    "    {\"name\" : \"angel\", \"age\": 20},\n",
    "    {\"name\" : \"dia\", \"age\": 27},\n",
    "    {\"name\" : \"bandi\", \"age\": 27},\n",
    "    {\"name\" : \"reka\", \"age\": 22}\n",
    "]\n",
    "\n",
    "sorted_people = sorted(people, key = lambda people:\n",
    "                       people[\"age\"])\n",
    "\n",
    "# decending\n",
    "sorted_people = sorted(people, key = lambda people:\n",
    "                       people[\"age\"], reverse=True)\n",
    "\n",
    "print(sorted_people)"
   ]
  },
  {
   "cell_type": "markdown",
   "metadata": {},
   "source": [
    "### **9. Enumerate Function**"
   ]
  },
  {
   "cell_type": "markdown",
   "metadata": {},
   "source": [
    "      Index and value"
   ]
  },
  {
   "cell_type": "markdown",
   "metadata": {},
   "source": [
    "    Enumerate return tuple with 2 arguments (firts = > index)(second => value)"
   ]
  },
  {
   "cell_type": "code",
   "execution_count": 46,
   "metadata": {},
   "outputs": [
    {
     "name": "stdout",
     "output_type": "stream",
     "text": [
      "1.write\n",
      "2.read\n",
      "3.attend\n",
      "4.review\n",
      "5.submit\n"
     ]
    }
   ],
   "source": [
    "tasks = [\"write\", \"read\", \"attend\", \"review\", \"submit\"]\n",
    "\n",
    "for index in range(len(tasks)):\n",
    "    task = tasks[index]\n",
    "    print(f\"{index + 1}.{task}\")\n"
   ]
  },
  {
   "cell_type": "code",
   "execution_count": 48,
   "metadata": {},
   "outputs": [
    {
     "name": "stdout",
     "output_type": "stream",
     "text": [
      "1.write\n",
      "2.read\n",
      "3.attend\n",
      "4.review\n",
      "5.submit\n"
     ]
    }
   ],
   "source": [
    "for index, task in enumerate(tasks):\n",
    "    print(f\"{index + 1}.{task}\")"
   ]
  },
  {
   "cell_type": "markdown",
   "metadata": {},
   "source": [
    "**10. Zip Function**"
   ]
  },
  {
   "cell_type": "markdown",
   "metadata": {},
   "source": [
    "    combine the iterable  object "
   ]
  },
  {
   "cell_type": "code",
   "execution_count": 51,
   "metadata": {},
   "outputs": [
    {
     "name": "stdout",
     "output_type": "stream",
     "text": [
      "viku : 6\n"
     ]
    }
   ],
   "source": [
    "names = [\"alice\", \"bob\", \"charlie\", \"viku\"]\n",
    "ages = [2, 3 , 4, 6]\n",
    "\n",
    "for index in range(min(len(names), len(ages))):\n",
    "    name = names[index]\n",
    "    age = ages[index]\n",
    "print(f\"{name} : {age}\")"
   ]
  },
  {
   "cell_type": "code",
   "execution_count": 62,
   "metadata": {},
   "outputs": [
    {
     "name": "stdout",
     "output_type": "stream",
     "text": [
      "<zip object at 0x00000226C0006280>\n",
      "alice: 2 : female\n",
      "bob: 3 : male\n",
      "charlie: 4 : male\n"
     ]
    }
   ],
   "source": [
    "# lesser value in list  \n",
    "\n",
    "names = [\"alice\", \"bob\", \"charlie\", \"viku\"]\n",
    "ages = [2, 3 , 4, 6]\n",
    "gender = [\"female\", \"male\", \"male\"]\n",
    "\n",
    "combine = zip(names , ages, gender)\n",
    "print(combine)\n",
    "\n",
    "for name, age, gender in combine:\n",
    "    print(f\"{name}: {age} : {gender}\")"
   ]
  },
  {
   "cell_type": "markdown",
   "metadata": {},
   "source": [
    "### **11. OPEN Function**"
   ]
  },
  {
   "cell_type": "markdown",
   "metadata": {},
   "source": [
    "    Open the file , to read to it  and write to it"
   ]
  },
  {
   "cell_type": "markdown",
   "metadata": {},
   "source": [
    "     w is used to overide the file"
   ]
  },
  {
   "cell_type": "code",
   "execution_count": 64,
   "metadata": {},
   "outputs": [
    {
     "data": {
      "text/plain": [
       "30"
      ]
     },
     "execution_count": 64,
     "metadata": {},
     "output_type": "execute_result"
    }
   ],
   "source": [
    "file = open(\"text.txt\", \"w\")\n",
    "\n",
    "file.write(\"hello world \\n My name is jenni\")\n",
    "\n",
    "file.close() # memory leak avoid\n"
   ]
  },
  {
   "cell_type": "markdown",
   "metadata": {},
   "source": [
    "    with automatically close the file ( as file is = contact manager)"
   ]
  },
  {
   "cell_type": "code",
   "execution_count": 67,
   "metadata": {},
   "outputs": [
    {
     "name": "stdout",
     "output_type": "stream",
     "text": [
      "here!!!\n"
     ]
    }
   ],
   "source": [
    "with open(\"text.txt\", \"w\") as file:\n",
    "    file.write(\"here!!!\")\n",
    "\n",
    "with open(\"text.txt\", \"r\") as file:\n",
    "    text = file.read()\n",
    "    print(text)\n",
    "\n",
    "\n",
    "with open(\"text.txt\", \"a\") as file:\n",
    "    file.write(\"append \")"
   ]
  }
 ],
 "metadata": {
  "kernelspec": {
   "display_name": "Python 3",
   "language": "python",
   "name": "python3"
  },
  "language_info": {
   "codemirror_mode": {
    "name": "ipython",
    "version": 3
   },
   "file_extension": ".py",
   "mimetype": "text/x-python",
   "name": "python",
   "nbconvert_exporter": "python",
   "pygments_lexer": "ipython3",
   "version": "3.11.8"
  }
 },
 "nbformat": 4,
 "nbformat_minor": 2
}
