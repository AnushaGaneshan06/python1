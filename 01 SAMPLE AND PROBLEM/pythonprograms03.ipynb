{
 "cells": [
  {
   "cell_type": "markdown",
   "metadata": {},
   "source": [
    "### 66. CREATE THE QUIZ USING THE DIRECTIONARY"
   ]
  },
  {
   "cell_type": "markdown",
   "metadata": {},
   "source": [
    "QUESTION:\n",
    "make a quiz that has a four option add one if the answer is correct detect one if the answer is incorrect also it should have the option to skip and quite the quiz receive the quiz using the dictionary"
   ]
  },
  {
   "cell_type": "code",
   "execution_count": null,
   "metadata": {},
   "outputs": [],
   "source": [
    "# KEY AS THE QUESTION 4 OPTIONS\n",
    "# VALUE => ANSWER()\n",
    "\n",
    "q1 = \"\"\"\n",
    "1. Is python case sensitive when dealing with identifiers ? \n",
    "a. yes \n",
    "b. no \n",
    "c. machine dependent \n",
    "d. none\n",
    "\n",
    "\"\"\"\n",
    "\n",
    "q2 = \"\"\"\n",
    "2. which of the following is not a Keyword ?\n",
    "a. eval\n",
    "b. assert\n",
    "c. local \n",
    "d. pass\n",
    "\"\"\"\n",
    "q3 = \"\"\"\n",
    "3. which of the following is floor division ?\n",
    "a. /\n",
    "b. //\n",
    "c. % \n",
    "d. none\n",
    "\"\"\"\n",
    "q4 = \"\"\"\n",
    "4. what is the output of this 3 * 1 ** 3 ?\n",
    "a. 27\n",
    "b. 9\n",
    "c. 3\n",
    "d. 1\n",
    "\"\"\"\n",
    "q5 = \"\"\"\n",
    "5. what is the python extension ?\n",
    "\n",
    "a. py\n",
    "b. ipynb\n",
    "c. ipy\n",
    "d. .py\n",
    "\"\"\"\n",
    "\n",
    "# dictionary\n",
    "\n",
    "questions = {q1 : \"a\", q2 : \"a\", q3 : \"b\", q4 : \"c\", q5 : \"d\"}\n",
    "\n",
    "name = input(\"Enter your name: \")\n",
    "print(\"Welcome to the quiz...\" , name)\n",
    "\n",
    "# i is the key  \n",
    "score = 0\n",
    "for i in questions:\n",
    "    print(i)\n",
    "\n",
    "    flag1 = input(\"Do you want to skip this question (yes or no): \").lower()\n",
    "    if flag1 == \"yes\":\n",
    "        continue\n",
    "\n",
    "    ans = input(\"enter the answer(a/b/c/d): \")\n",
    "\n",
    "    if ans == questions[i]:\n",
    "        print(\"correct answer!! scored will added\")\n",
    "        score += 1\n",
    "\n",
    "    else:\n",
    "        print(\"wrong answer lost point!!\")\n",
    "        score -= 1\n",
    "    flag2 = input(\"do you want to quit enter the (q)!!\").lower()\n",
    "    if flag2 == \"q\":\n",
    "        break\n",
    "print(\"final score is : \", score)\n",
    "\n",
    "\n",
    "\n"
   ]
  },
  {
   "cell_type": "markdown",
   "metadata": {},
   "source": [
    "## 67 PATTERN PROGRAM"
   ]
  },
  {
   "cell_type": "markdown",
   "metadata": {},
   "source": [
    "* enter Odd lenght number \n",
    "* print digit of number in x shape"
   ]
  },
  {
   "cell_type": "code",
   "execution_count": null,
   "metadata": {},
   "outputs": [],
   "source": [
    "odd_number = input(\"enter the number: \")\n",
    "lenght = len(odd_number)\n",
    "\n",
    "for row in range(lenght):\n",
    "    for col in range(lenght):\n",
    "        if  row == col or row + col == lenght - 1:\n",
    "            print(odd_number[row], end = \" \")\n",
    "        else:\n",
    "            print(\" \", end = \" \")\n",
    "    print()\n",
    "    "
   ]
  },
  {
   "cell_type": "markdown",
   "metadata": {},
   "source": [
    "## 68. number pattern"
   ]
  },
  {
   "cell_type": "code",
   "execution_count": null,
   "metadata": {},
   "outputs": [],
   "source": [
    "number = int(input(\"enter the number : \"))\n",
    "# num_lenght = len(number)\n",
    "\n",
    "for row in range(number):\n",
    "    k = 111 \n",
    "    for col in range (row + 1):\n",
    "        print(k, end = \" \")\n",
    "        k = k + 111\n",
    "    print()"
   ]
  },
  {
   "cell_type": "code",
   "execution_count": null,
   "metadata": {},
   "outputs": [],
   "source": [
    "number = int(input(\"Enter the number : \"))\n",
    "#  num - i -1\n",
    "for row in range(number):\n",
    "    k = 111\n",
    "    for col in range(number - row - 1):\n",
    "        print(format(\" \",\"<5\"), end = \"\")\n",
    "    for col in range(row + 1):\n",
    "        print(format(k, \"< 5\") ,end = \"\")\n",
    "        k += 111\n",
    "    print()"
   ]
  },
  {
   "cell_type": "code",
   "execution_count": null,
   "metadata": {},
   "outputs": [],
   "source": [
    "#  k = k * (i + 1) => 111 * ( 0 + 1) => 111\n",
    "number = int(input(\"enter the number : \"))\n",
    "\n",
    "for i in range(number):\n",
    "    k = 111\n",
    "    for j in range(number - i - 1):\n",
    "        print(format(\" \", \"<5\"), end = \"\")\n",
    "    k = k * ( i + 1)\n",
    "    for j in range(i + 1):\n",
    "        print(format(k , \"<5\"), end = \"\")\n",
    "        k = k - 111\n",
    "    print()"
   ]
  },
  {
   "cell_type": "markdown",
   "metadata": {},
   "source": [
    "## 69. FIBONASSI NUMBER OR NOT"
   ]
  },
  {
   "cell_type": "code",
   "execution_count": null,
   "metadata": {},
   "outputs": [],
   "source": [
    "n = int(input(\"ENTER THE NUMBER : \"))\n",
    "a = 0\n",
    "b = 1\n",
    "\n",
    "for i in range(n):\n",
    "    print(a)\n",
    "    temp = a + b\n",
    "    a = b\n",
    "    b = temp\n",
    "\n"
   ]
  },
  {
   "cell_type": "code",
   "execution_count": 10,
   "metadata": {},
   "outputs": [
    {
     "name": "stdout",
     "output_type": "stream",
     "text": [
      "99 is not the perfect square .\n"
     ]
    }
   ],
   "source": [
    "num = int(input(\"Enter the number : \"))\n",
    "\n",
    "i = 0\n",
    "is_perfect_square = False\n",
    "\n",
    "while i * i <= num:\n",
    "    if i * i == num:\n",
    "        is_perfect_square = True\n",
    "        break\n",
    "    i += 1\n",
    "\n",
    "if is_perfect_square:\n",
    "    print(f\"{num} is the perfect square\")\n",
    "else:\n",
    "    print(f\"{num} is not the perfect square .\")"
   ]
  },
  {
   "cell_type": "markdown",
   "metadata": {},
   "source": [
    "## ENTER NUMBER IS FIBANOCCI NUMBER OR NOT \n",
    "\n",
    "NUMBER IS THE ONLY FIBONACCI IF AND ONLY IF ONE OR BOTH OF **5 * (N * N) + 4** OR **5 * (N * N)- 4** IS A PERFECT SQUARE"
   ]
  },
  {
   "cell_type": "code",
   "execution_count": 14,
   "metadata": {},
   "outputs": [
    {
     "name": "stdout",
     "output_type": "stream",
     "text": [
      "not the fibonacci number 10\n"
     ]
    }
   ],
   "source": [
    "import math\n",
    "def perfect_square(x):\n",
    "    s = int(math.sqrt(x))\n",
    "    return s * s == x\n",
    "    \n",
    " \n",
    "n = int(input(\"Enter the number : \"))\n",
    "\n",
    "result1 = 5 * (n * n) + 4\n",
    "result2 = 5 * (n * n) - 4\n",
    "\n",
    "# calling:\n",
    "\n",
    "if perfect_square(result1) or perfect_square(result2):\n",
    "    print(f\"{n} is the fibanocci number .\")\n",
    "else:\n",
    "    print(\"not the fibonacci number\", n)\n"
   ]
  },
  {
   "cell_type": "code",
   "execution_count": 18,
   "metadata": {},
   "outputs": [
    {
     "name": "stdout",
     "output_type": "stream",
     "text": [
      "10 is not thr fibonacci number\n"
     ]
    }
   ],
   "source": [
    "# without the built in method\n",
    "\n",
    "def is_perfect_square(x):\n",
    "    i = 0\n",
    "    while i * i <= x:\n",
    "        if i * i == x:\n",
    "            return True\n",
    "        i += 1\n",
    "    return False\n",
    "\n",
    "\n",
    "n = int(input(\"enter the number\"))\n",
    "\n",
    "result1 = 5 * (n * n) + 4\n",
    "result2 = 5* (n * n) - 4\n",
    "\n",
    "\n",
    "if perfect_square(result1) or perfect_square(result2):\n",
    "    print(n, \"is the fibanocci number\")\n",
    "else:\n",
    "    print(n, \"is not thr fibonacci number\")\n"
   ]
  },
  {
   "cell_type": "markdown",
   "metadata": {},
   "source": [
    "## 70. DAIMOND PATTERN"
   ]
  },
  {
   "cell_type": "code",
   "execution_count": 54,
   "metadata": {},
   "outputs": [
    {
     "name": "stdout",
     "output_type": "stream",
     "text": [
      "* * * * * * * * * * * * * * * * * * * * \n",
      "* * * * * * * * *     * * * * * * * * * \n",
      "* * * * * * * *         * * * * * * * * \n",
      "* * * * * * *             * * * * * * * \n",
      "* * * * * *                 * * * * * * \n",
      "* * * * *                     * * * * * \n",
      "* * * *                         * * * * \n",
      "* * *                             * * * \n",
      "* *                                 * * \n",
      "*                                     * \n",
      "*                                     * \n",
      "* *                                 * * \n",
      "* * *                             * * * \n",
      "* * * *                         * * * * \n",
      "* * * * *                     * * * * * \n",
      "* * * * * *                 * * * * * * \n",
      "* * * * * * *             * * * * * * * \n",
      "* * * * * * * *         * * * * * * * * \n",
      "* * * * * * * * *     * * * * * * * * * \n",
      "* * * * * * * * * * * * * * * * * * * * \n"
     ]
    }
   ],
   "source": [
    "n = 10\n",
    "for row in range(n, 0, -1):\n",
    "    for col in range(row, 0, -1):\n",
    "        print(\"*\", end = \" \")\n",
    "    # space (n - i) * 2\n",
    "    for col in range(2 * (n - row)):\n",
    "        print(\" \", end = \" \")\n",
    "    # star\n",
    "    for col in range(row , 0 , -1):\n",
    "        print(\"*\", end=\" \") \n",
    "    print()\n",
    "\n",
    "for row in range(n):\n",
    "    for col in range(row + 1):\n",
    "        print(\"*\", end = \" \")\n",
    "\n",
    "    for col in range(2 * (n - row - 1)):\n",
    "        print(\" \", end = \" \")\n",
    "\n",
    "    for col in range(row + 1):\n",
    "        print(\"*\", end = \" \")\n",
    "    print()"
   ]
  },
  {
   "cell_type": "markdown",
   "metadata": {},
   "source": [
    "### 71. DAIMOND NUMBER PATTERN"
   ]
  },
  {
   "cell_type": "code",
   "execution_count": null,
   "metadata": {},
   "outputs": [
    {
     "name": "stdout",
     "output_type": "stream",
     "text": [
      "            1  \n",
      "        2  1  1  2  \n",
      "    3  2  1      1  2  3  \n",
      "4  3  2  1          1  2  3  4  \n",
      "    3  2  1    1  2  3  \n",
      "        2  1   1  2  \n",
      "            1  \n"
     ]
    }
   ],
   "source": [
    "# n = int(input(\"enter the number  : \"))\n",
    "n = int(4)\n",
    "\n",
    "for row in range(n):\n",
    "    k = row + 1\n",
    "    for col in range(n - row - 1):  # 4- 0- 1 = 3\n",
    "        print(\"  \", end = \"  \") # \" 3 space in (\"\") symbol\"\n",
    "    for col in range(row + 1):\n",
    "        print(k, end = \"  \")\n",
    "        k = k - 1\n",
    "    \n",
    "    if row > 0:\n",
    "        for col in range(row - 1) :\n",
    "            print(\"  \", end = \"  \")\n",
    "        for col in range(row + 1):\n",
    "            k = k + 1\n",
    "            print(k, end = \"  \")\n",
    "    print()\n",
    "\n",
    "for row in range(1, n):\n",
    "    k = n - row\n",
    "    for col in range(row):  # 4- 0- 1 = 3\n",
    "        print(\"  \", end = \"  \") # \" 3 space in (\"\") symbol\"\n",
    "    for col in range(n - row):\n",
    "        print(k, end = \"  \")\n",
    "        k = k - 1\n",
    "    \n",
    "    if row < (n - 1):\n",
    "        for col in range(n - row - 1) :\n",
    "            print(\"  \", end = \" \")\n",
    "        for col in range(n - row):\n",
    "            k = k + 1\n",
    "            print(k, end = \"  \")\n",
    "    print()"
   ]
  },
  {
   "cell_type": "markdown",
   "metadata": {},
   "source": [
    "72. patter"
   ]
  },
  {
   "cell_type": "code",
   "execution_count": null,
   "metadata": {},
   "outputs": [],
   "source": [
    "n = int(input(\"Enter the number : \"))\n",
    "k = (2 * n) - 1\n",
    "\n",
    "\n"
   ]
  }
 ],
 "metadata": {
  "kernelspec": {
   "display_name": "Python 3",
   "language": "python",
   "name": "python3"
  },
  "language_info": {
   "codemirror_mode": {
    "name": "ipython",
    "version": 3
   },
   "file_extension": ".py",
   "mimetype": "text/x-python",
   "name": "python",
   "nbconvert_exporter": "python",
   "pygments_lexer": "ipython3",
   "version": "3.11.8"
  }
 },
 "nbformat": 4,
 "nbformat_minor": 2
}
