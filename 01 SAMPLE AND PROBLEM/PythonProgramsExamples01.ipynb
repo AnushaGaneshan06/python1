{
 "cells": [
  {
   "cell_type": "markdown",
   "metadata": {},
   "source": [
    "### 34 to 60 PROBLEMS"
   ]
  },
  {
   "cell_type": "markdown",
   "metadata": {},
   "source": [
    "34. GUESS THE OUTPUT"
   ]
  },
  {
   "cell_type": "code",
   "execution_count": null,
   "metadata": {},
   "outputs": [],
   "source": [
    "for i in range(1, 20):\n",
    "    if i == 5:\n",
    "        break\n",
    "    else:\n",
    "        print(i)\n",
    "\n",
    "else:\n",
    "    print(\"hello\")\n"
   ]
  },
  {
   "cell_type": "markdown",
   "metadata": {},
   "source": [
    "35. BUBBLE SORT:\n",
    "\n",
    "**SINKING SORT** is the simple sorting algorithm which sort n number of element in the list by comparing the each pair of adjacent items and swaps them if they are in wrong order\n",
    "\n",
    "* index 0 compare to next elemet\n",
    "* elemnt is less and swap them\n",
    "* currect element is greater that next swp them\n",
    "\n",
    "**Iteration**\n",
    "* each iteration the swapping occurs as next and current element\n"
   ]
  },
  {
   "cell_type": "code",
   "execution_count": null,
   "metadata": {},
   "outputs": [],
   "source": [
    "# ASCENDING ORDER\n",
    "# ===================\n",
    "\n",
    "# list of numbers\n",
    "list1 = [10, 20, 4, 55, 0, 2]\n",
    "\n",
    "for j in range(len(list1) - 1, 0, -1):\n",
    "    # current to next element compare\n",
    "    for i in range(j): # range starts with 0\n",
    "        if list1[i] > list1[i + 1]:\n",
    "            list1[i], list1[i + 1] = list1[i + 1], list1[i]\n",
    "            print(list1)\n",
    "        else:\n",
    "            print(list1)\n",
    "    print()\n",
    "\n",
    "# 1st iteration\n",
    "print(f\"sorted list in the ascending order : {list1}\")\n",
    "        \n",
    "\n",
    "\n"
   ]
  },
  {
   "cell_type": "code",
   "execution_count": null,
   "metadata": {},
   "outputs": [],
   "source": [
    "# list1 = [56, 7, 8, 90, 12,3]\n",
    "# ACENDING ORDER: \n",
    "\n",
    "num = int(input(\"Enter the number of elements in the list: \"))\n",
    "\n",
    "for k in range(num):\n",
    "    value = int(input(\"Enter the value : \"))\n",
    "    list1.append(value)\n",
    "print(list1)\n",
    "\n",
    "for j in range(len(list1) - 1):\n",
    "    for i in range(len(list1) - 1 -j):\n",
    "        if list1[i] > list1[i + 1]:\n",
    "            list1[i], list1[i + 1] = list1[i + 1], list1[i]\n",
    "            print(list1)\n",
    "        else:\n",
    "            print(list1)\n",
    "    print()\n",
    "\n",
    "\n"
   ]
  },
  {
   "cell_type": "code",
   "execution_count": null,
   "metadata": {},
   "outputs": [],
   "source": [
    "#DECENDING ORDER\n",
    "# ==================\n",
    "\n",
    "\n",
    "list2 = [34, 5, 90, 87, 5, 1, 99]\n",
    "\n",
    "for j in range(len(list2) -1 , 0, -1):\n",
    "    for i in range(j):\n",
    "        if list2[i] < list2[i + 1]:\n",
    "            list2[i], list2[i + 1] = list2[i + 1], list2[i]\n",
    "            print(list2)\n",
    "        else:\n",
    "            print(list2)\n",
    "    print()\n"
   ]
  },
  {
   "cell_type": "markdown",
   "metadata": {},
   "source": [
    "37. PALINDROME"
   ]
  },
  {
   "cell_type": "code",
   "execution_count": 38,
   "metadata": {},
   "outputs": [
    {
     "name": "stdout",
     "output_type": "stream",
     "text": [
      "the string is not palindrome :  rollercostal\n"
     ]
    }
   ],
   "source": [
    "string = input(\"Enter the string : \")\n",
    "reverse_string = \"\"\n",
    "for i in string:\n",
    "    reverse_string = i + reverse_string\n",
    "\n",
    "if reverse_string == string:\n",
    "    print(\"the string is palindrome : \", string)\n",
    "else:\n",
    "    print(\"the string is not palindrome : \", string)\n"
   ]
  },
  {
   "cell_type": "code",
   "execution_count": 40,
   "metadata": {},
   "outputs": [
    {
     "name": "stdout",
     "output_type": "stream",
     "text": [
      "palindrome\n"
     ]
    }
   ],
   "source": [
    "string = input(\"Enter the string: \")\n",
    "reverse_string = string[::-1]\n",
    "\n",
    "if string == reverse_string:\n",
    "    print(\"palindrome\")\n",
    "else:\n",
    "    print(\"not the palindrome\")\n"
   ]
  },
  {
   "cell_type": "markdown",
   "metadata": {},
   "source": [
    "38. SUM OF ALL DIGIT IN THE ENTER INPUTS"
   ]
  },
  {
   "cell_type": "code",
   "execution_count": 58,
   "metadata": {},
   "outputs": [
    {
     "name": "stdout",
     "output_type": "stream",
     "text": [
      "sum id 6\n"
     ]
    }
   ],
   "source": [
    "num = int(input(\"enter the sum of digit: \"))\n",
    "sum = 0\n",
    "\n",
    "while num > 0:\n",
    "    digit = num % 10\n",
    "    sum = sum + digit\n",
    "    num = num // 10\n",
    "\n",
    "print(\"sum id\", sum)\n"
   ]
  },
  {
   "cell_type": "code",
   "execution_count": null,
   "metadata": {},
   "outputs": [
    {
     "name": "stdout",
     "output_type": "stream",
     "text": [
      "0\n"
     ]
    }
   ],
   "source": [
    "num = int(input(\"enter the sum of digit: \"))\n",
    "sum = 0\n",
    "for i in range(len(str(num))):\n",
    "    digit = num % 10\n",
    "    sum = sum + digit\n",
    "    num = num // 10\n",
    "\n",
    "print(sum)"
   ]
  }
 ],
 "metadata": {
  "kernelspec": {
   "display_name": "Python 3",
   "language": "python",
   "name": "python3"
  },
  "language_info": {
   "codemirror_mode": {
    "name": "ipython",
    "version": 3
   },
   "file_extension": ".py",
   "mimetype": "text/x-python",
   "name": "python",
   "nbconvert_exporter": "python",
   "pygments_lexer": "ipython3",
   "version": "3.11.8"
  }
 },
 "nbformat": 4,
 "nbformat_minor": 2
}
