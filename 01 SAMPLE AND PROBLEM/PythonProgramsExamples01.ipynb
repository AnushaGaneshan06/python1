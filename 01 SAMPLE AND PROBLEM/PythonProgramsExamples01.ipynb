{
 "cells": [
  {
   "cell_type": "markdown",
   "metadata": {},
   "source": [
    "### 34 to 60 PROBLEMS"
   ]
  },
  {
   "cell_type": "markdown",
   "metadata": {},
   "source": [
    "34. GUESS THE OUTPUT"
   ]
  },
  {
   "cell_type": "code",
   "execution_count": null,
   "metadata": {},
   "outputs": [],
   "source": [
    "for i in range(1, 20):\n",
    "    if i == 5:\n",
    "        break\n",
    "    else:\n",
    "        print(i)\n",
    "\n",
    "else:\n",
    "    print(\"hello\")\n"
   ]
  },
  {
   "cell_type": "markdown",
   "metadata": {},
   "source": [
    "35. BUBBLE SORT:\n",
    "\n",
    "**SINKING SORT** is the simple sorting algorithm which sort n number of element in the list by comparing the each pair of adjacent items and swaps them if they are in wrong order\n",
    "\n",
    "* index 0 compare to next elemet\n",
    "* elemnt is less and swap them\n",
    "* currect element is greater that next swp them\n",
    "\n",
    "**Iteration**\n",
    "* each iteration the swapping occurs as next and current element\n"
   ]
  },
  {
   "cell_type": "code",
   "execution_count": null,
   "metadata": {},
   "outputs": [],
   "source": [
    "# ASCENDING ORDER\n",
    "# ===================\n",
    "\n",
    "# list of numbers\n",
    "list1 = [10, 20, 4, 55, 0, 2]\n",
    "\n",
    "for j in range(len(list1) - 1, 0, -1):\n",
    "    # current to next element compare\n",
    "    for i in range(j): # range starts with 0\n",
    "        if list1[i] > list1[i + 1]:\n",
    "            list1[i], list1[i + 1] = list1[i + 1], list1[i]\n",
    "            print(list1)\n",
    "        else:\n",
    "            print(list1)\n",
    "    print()\n",
    "\n",
    "# 1st iteration\n",
    "print(f\"sorted list in the ascending order : {list1}\")\n",
    "        \n",
    "\n",
    "\n"
   ]
  },
  {
   "cell_type": "code",
   "execution_count": null,
   "metadata": {},
   "outputs": [],
   "source": [
    "# list1 = [56, 7, 8, 90, 12,3]\n",
    "# ACENDING ORDER: \n",
    "\n",
    "num = int(input(\"Enter the number of elements in the list: \"))\n",
    "\n",
    "for k in range(num):\n",
    "    value = int(input(\"Enter the value : \"))\n",
    "    list1.append(value)\n",
    "print(list1)\n",
    "\n",
    "for j in range(len(list1) - 1):\n",
    "    for i in range(len(list1) - 1 -j):\n",
    "        if list1[i] > list1[i + 1]:\n",
    "            list1[i], list1[i + 1] = list1[i + 1], list1[i]\n",
    "            print(list1)\n",
    "        else:\n",
    "            print(list1)\n",
    "    print()\n",
    "\n",
    "\n"
   ]
  },
  {
   "cell_type": "code",
   "execution_count": null,
   "metadata": {},
   "outputs": [],
   "source": [
    "#DECENDING ORDER\n",
    "# ==================\n",
    "\n",
    "\n",
    "list2 = [34, 5, 90, 87, 5, 1, 99]\n",
    "\n",
    "for j in range(len(list2) -1 , 0, -1):\n",
    "    for i in range(j):\n",
    "        if list2[i] < list2[i + 1]:\n",
    "            list2[i], list2[i + 1] = list2[i + 1], list2[i]\n",
    "            print(list2)\n",
    "        else:\n",
    "            print(list2)\n",
    "    print()\n"
   ]
  },
  {
   "cell_type": "markdown",
   "metadata": {},
   "source": [
    "37. PALINDROME"
   ]
  },
  {
   "cell_type": "code",
   "execution_count": null,
   "metadata": {},
   "outputs": [],
   "source": [
    "string = input(\"Enter the string : \")\n",
    "reverse_string = \"\"\n",
    "for i in string:\n",
    "    reverse_string = i + reverse_string\n",
    "\n",
    "if reverse_string == string:\n",
    "    print(\"the string is palindrome : \", string)\n",
    "else:\n",
    "    print(\"the string is not palindrome : \", string)\n"
   ]
  },
  {
   "cell_type": "code",
   "execution_count": null,
   "metadata": {},
   "outputs": [],
   "source": [
    "string = input(\"Enter the string: \")\n",
    "reverse_string = string[::-1]\n",
    "\n",
    "if string == reverse_string:\n",
    "    print(\"palindrome\")\n",
    "else:\n",
    "    print(\"not the palindrome\")\n"
   ]
  },
  {
   "cell_type": "markdown",
   "metadata": {},
   "source": [
    "38. SUM OF ALL DIGIT IN THE ENTER INPUTS"
   ]
  },
  {
   "cell_type": "code",
   "execution_count": null,
   "metadata": {},
   "outputs": [],
   "source": [
    "num = int(input(\"enter the sum of digit: \"))\n",
    "sum = 0\n",
    "\n",
    "while num > 0:\n",
    "    digit = num % 10\n",
    "    sum = sum + digit\n",
    "    num = num // 10\n",
    "\n",
    "print(\"sum id\", sum)\n"
   ]
  },
  {
   "cell_type": "code",
   "execution_count": null,
   "metadata": {},
   "outputs": [],
   "source": [
    "num = int(input(\"enter the sum of digit: \"))\n",
    "sum = 0\n",
    "for i in range(len(str(num))):\n",
    "    digit = num % 10\n",
    "    sum = sum + digit\n",
    "    num = num // 10\n",
    "\n",
    "print(sum)"
   ]
  },
  {
   "cell_type": "markdown",
   "metadata": {},
   "source": [
    "40 .QUICK SORT ALGORITHM:\n",
    "Partition exchange sort is also known as:\n",
    "1. **Comparison Sort**  \n",
    "2. **In-place Algorithm**  \n",
    "3. **Unstable Sort**  \n",
    "4. **Recursive Algorithm**  \n",
    "\n",
    "It is a **Divide and Conquer Algorithm**:\n",
    "\n",
    "#### Steps:\n",
    "1. **Pivot Selection**:  \n",
    "   Select a pivot element.  \n",
    "2. **Divide**:  \n",
    "   Divide the problem into smaller subproblems based on the pivot.  \n",
    "3. **Conquer**:  \n",
    "   Recursively solve the subproblems.  \n",
    "4. **Combine**:  \n",
    "   Combine the solutions of subproblems into the final solution.  \n",
    "\n",
    "### PIVOT ELEMENT:\n",
    "- **Most Common Methods**:  \n",
    "  - First or last element.  \n",
    "- **Other Methods**:  \n",
    "  - Random element or median of the array.  \n",
    "  - Suitable for sorted or reverse-sorted arrays to avoid performance issues.\n",
    "\n"
   ]
  },
  {
   "cell_type": "code",
   "execution_count": null,
   "metadata": {},
   "outputs": [],
   "source": [
    "# to get the correct position of the pivot element\n",
    "def pivot_place(list1, first, last):\n",
    "    pivot = list1[first]\n",
    "    left = first + 1\n",
    "    right = last\n",
    "    while True:\n",
    "            # left should to lesser or equal to right\n",
    "        while left <= right and list1[left] <= pivot:\n",
    "            left = left + 1 # index increement\n",
    "        while left <= right and list1[right] >= pivot:\n",
    "            right = right - 1\n",
    "        if right < left:\n",
    "            break\n",
    "        else:\n",
    "            list1[left], list1[right] = list1[right], list1[left]\n",
    "\n",
    "    list1[first], list1[right] = list1[right], list1[first]\n",
    "    return right\n",
    "    \n",
    "def quicksort(list1, first, last):\n",
    "\n",
    "    if first < last:\n",
    "        p = pivot_place(list1, first, last)\n",
    "        quicksort(list1, first, p-1)\n",
    "        quicksort(list1, p + 1, last)\n",
    "#main\n",
    "\n",
    "list1 = [56, 26, 93, 17, 31, 44]\n",
    "n = len(list1)\n",
    "quicksort(list1, 0, n-1 )\n",
    "print(list1)\n",
    "\n",
    "\n",
    "\n",
    "\n",
    "\n",
    "\n"
   ]
  },
  {
   "cell_type": "code",
   "execution_count": null,
   "metadata": {},
   "outputs": [],
   "source": [
    "# last element\n",
    "# to get the correct position of the pivot element\n",
    "def pivot_place(list1, first, last):\n",
    "    pivot = list1[first]\n",
    "    left = first \n",
    "    right = last - 1\n",
    "    while True:\n",
    "            # left should to lesser or equal to right\n",
    "        while left <= right and list1[left] <= pivot:\n",
    "            left = left + 1 # index increement\n",
    "        while left <= right and list1[right] >= pivot:\n",
    "            right = right - 1\n",
    "        if right < left:\n",
    "            break\n",
    "        else:\n",
    "            list1[left], list1[right] = list1[right], list1[left]\n",
    "\n",
    "    list1[last], list1[left] = list1[left], list1[last]\n",
    "    return left\n",
    "    \n",
    "def quicksort(list1, first, last):\n",
    "\n",
    "    if first < last:\n",
    "        p = pivot_place(list1, first, last)\n",
    "        quicksort(list1, first, p-1)\n",
    "        quicksort(list1, p + 1, last)\n",
    "#main\n",
    "\n",
    "list1 = [56, 26, 93, 17, 31, 44]\n",
    "n = len(list1)\n",
    "quicksort(list1, 0, n-1 )\n",
    "print(list1)\n",
    "\n"
   ]
  },
  {
   "cell_type": "markdown",
   "metadata": {},
   "source": [
    "# lest do quick sort again and last session"
   ]
  },
  {
   "cell_type": "code",
   "execution_count": null,
   "metadata": {},
   "outputs": [],
   "source": [
    "# random module \n",
    "import random\n",
    "\n",
    "# to get the correct position of the pivot element\n",
    "def pivot_place(list1, first, last):\n",
    "    r_index = random.radint(first, last)\n",
    "    list1[r_index], list1[last]= list1[last]\n",
    "    pivot = list1[first]\n",
    "    left = first + 1\n",
    "    right = last\n",
    "    while True:\n",
    "            # left should to lesser or equal to right\n",
    "        while left <= right and list1[left] <= pivot:\n",
    "            left = left + 1 # index increement\n",
    "        while left <= right and list1[right] >= pivot:\n",
    "            right = right - 1\n",
    "        if right < left:\n",
    "            break\n",
    "        else:\n",
    "            list1[left], list1[right] = list1[right], list1[left]\n",
    "\n",
    "    list1[last], list1[left] = list1[left], list1[last]\n",
    "    return left\n",
    "    \n",
    "def quicksort(list1, first, last):\n",
    "\n",
    "    if first < last:\n",
    "        p = pivot_place(list1, first, last)\n",
    "        quicksort(list1, first, p-1)\n",
    "        quicksort(list1, p + 1, last)\n",
    "#main\n",
    "\n",
    "list1 = [56, 26, 93, 17, 31, 44]\n",
    "n = len(list1)\n",
    "quicksort(list1, 0, n-1 )\n",
    "print(list1)"
   ]
  },
  {
   "cell_type": "markdown",
   "metadata": {},
   "source": [
    "44. PALINDROMIC PRIME NUMBERS\n",
    "\n",
    "*  plaindromic number means backward and forward = 121 => 121\n",
    "* both palindrome and prime number are both "
   ]
  },
  {
   "cell_type": "code",
   "execution_count": null,
   "metadata": {},
   "outputs": [],
   "source": [
    "num = int(input(\"Enter the number : \"))\n",
    "\n",
    "reverse_number = int(str(num)[::-1])\n",
    "if reverse_number == num:\n",
    "    if num > 1:\n",
    "        for i in range(2, int(num**0.5)+ 1):\n",
    "            if num % i == 0:\n",
    "                print(\"not the prime number but its a palindrome\", num)\n",
    "                break\n",
    "        else:\n",
    "            print(\"palindromic prime number\", num)\n",
    "\n",
    "\n",
    "else:\n",
    "   if num > 1:\n",
    "        for i in range(2, int(num ** 0.5) + 1):\n",
    "            if num % i == 0:\n",
    "                print(num, \"not prime and palindrome\")\n",
    "                break\n",
    "        else:\n",
    "            print(num, \"prime but not palondrome\")"
   ]
  },
  {
   "cell_type": "code",
   "execution_count": null,
   "metadata": {},
   "outputs": [],
   "source": [
    "lower_limit = int(input(\"enter the lower limit\"))\n",
    "upper_limit = int(input(\"enter the upper limit\"))\n",
    "\n",
    "for num in range(lower_limit, upper_limit + 1):\n",
    "    reverse_number = int(str(num) [::-1])\n",
    "    if reverse_number == num:\n",
    "        if num > 1:\n",
    "            for i in range(2, int(num ** 0.5) + 1):\n",
    "                if num % i == 0:\n",
    "                    break\n",
    "            else:\n",
    "                print(\"plaimdromic prime number\", num)\n",
    "            "
   ]
  },
  {
   "cell_type": "markdown",
   "metadata": {},
   "source": [
    "45. VOWEL COUNT"
   ]
  },
  {
   "cell_type": "code",
   "execution_count": null,
   "metadata": {},
   "outputs": [],
   "source": [
    "sentence = input(\"enter the sentence : \")\n",
    "count = 0\n",
    "for i in sentence:\n",
    "    if i in \"aeiouAEIOU\":\n",
    "        count += 1\n",
    "print(f\"the number of vowels in the sentence - {sentence} :\" , count)\n",
    "\n"
   ]
  },
  {
   "cell_type": "markdown",
   "metadata": {},
   "source": [
    "46. INDEX OF DUPLICATE VALUE IN THE LIST"
   ]
  },
  {
   "cell_type": "code",
   "execution_count": null,
   "metadata": {},
   "outputs": [],
   "source": [
    "list1 = [\"anu\", 1, 1, 2, 1, 1, 2, 3, 1.4]\n",
    "# print(list1[1])\n",
    "\n",
    "# list comprension method\n",
    "list2 = [i for i in range(len(list1)) if list1[i] == 2] # 0 to 8\n",
    "# give the index value of duplicate value \n",
    "print(list2)\n",
    "\n",
    "\n"
   ]
  },
  {
   "cell_type": "markdown",
   "metadata": {},
   "source": [
    "### 47. BINARY SERACH OR HALF INVERTAL SERACH"
   ]
  },
  {
   "cell_type": "markdown",
   "metadata": {},
   "source": [
    "1. middle element \" **[low + high] // 2** \"\n",
    "2. compare **key** with middle element\n",
    "3. [**key == middle**] element is found print it\n",
    "4. elseif [**key > middle**] => **search right**\n",
    "5. else [**key < middle**] => **search left** \n",
    "6. print key not found in **left and right search** make it in markdown"
   ]
  },
  {
   "cell_type": "code",
   "execution_count": null,
   "metadata": {},
   "outputs": [],
   "source": [
    "def binary_search_function(list1, key):\n",
    "    low = 0\n",
    "    high = len(list1) - 1\n",
    "    found = False\n",
    "    \n",
    "    while low <= high and not found:\n",
    "        mid = (low + high ) // 2\n",
    "        \n",
    "        if key == list1[mid]:\n",
    "            found = True\n",
    "        elif key > list1[mid]:\n",
    "            low = mid + 1\n",
    "        else:\n",
    "            high = mid - 1\n",
    "\n",
    "    if found == True:\n",
    "        print(\"key is found\")\n",
    "    else:\n",
    "        print(\"key is not found\")\n",
    "\n",
    "\n",
    "\n",
    "\n",
    "list1 = [23, 1, 4, 2, 3]\n",
    "\n",
    "# sorted list\n",
    "list1.sort()\n",
    "print(list1)\n",
    "# key\n",
    "key = int(input(\"Enter the key value: \"))\n",
    "\n",
    "#call\n",
    "binary_search_function(list1, key)\n"
   ]
  },
  {
   "cell_type": "markdown",
   "metadata": {},
   "source": [
    "49. ANAGRAM \n",
    "* **SAME CHARCTER PRESENT WITH DIIFERENT SOUND**"
   ]
  },
  {
   "cell_type": "code",
   "execution_count": null,
   "metadata": {},
   "outputs": [],
   "source": [
    "string1 = input(\"Enter the string 1 : \")\n",
    "string2 = input(\"Enter the string 2 : \")\n",
    "\n",
    "sorted_str1 = sorted(string1)\n",
    "sorted_str2 = sorted(string2)\n",
    "\n",
    "if len(string1) == len(string2):\n",
    "    if sorted_str1 == sorted_str2:\n",
    "        print(\"String is an Anagram\")\n",
    "    else:\n",
    "        print(\"String is not an Anagram\")\n",
    "else:\n",
    "    print(\"not anagram\")\n"
   ]
  },
  {
   "cell_type": "markdown",
   "metadata": {},
   "source": [
    "50. CO PRIME NUMBERS:\n",
    "* gcd of two number = 1 called **co-prime numbers**\n",
    "\n",
    "* 21 => 1, 3, 7, 21  divisor\n",
    "* 24 => 1, 2, 3, 4, 6, 8, 11, 22\n",
    "==> common => 1 x 3 gcd \n",
    "* 3 is greater is not co prime number beacuse 1\n",
    "\n",
    "* 21 and 22 {1, 2, 11, 22}=> 1 common co prime"
   ]
  },
  {
   "cell_type": "code",
   "execution_count": null,
   "metadata": {},
   "outputs": [],
   "source": [
    "from math import gcd\n",
    "num1 = int(input(\"Enter the number 1: \"))\n",
    "num2 = int(input(\"Enter the number 2: \"))\n",
    "\n",
    "if gcd(num1, num2) == 1:\n",
    "    print(num1, \"and\", num2 , \"are co-prime\")\n",
    "\n",
    "else:\n",
    "    print(num1, \"and\", num2 , \"are not co-prime\")\n",
    "\n",
    "\n"
   ]
  },
  {
   "cell_type": "markdown",
   "metadata": {},
   "source": [
    "51. CO-PRIME NUMBER NUMLTIPLE TIME"
   ]
  },
  {
   "cell_type": "markdown",
   "metadata": {},
   "source": [
    "* Step 1: 8 % 12 = 8 (Swap a = 12, b = 8)\n",
    "\n",
    "* Step 2: 12 % 8 = 4 (Swap a = 8, b = 4)\n",
    "\n",
    "* Step 3: 8 % 4 = 0 (Swap a = 4, b = 0)\n",
    "\n",
    "* The loop stops here. The GCD is 4."
   ]
  },
  {
   "cell_type": "code",
   "execution_count": null,
   "metadata": {},
   "outputs": [],
   "source": [
    "def is_coprime(num1, num2):\n",
    "    while num2 != 0:\n",
    "        num1, num2 = num2, num1 % num2\n",
    "    return num1 == 1\n",
    "\n",
    "num1 = int(input(\"Enter the number 1: \"))\n",
    "num2 = int(input(\"Enter the number 2: \"))\n",
    "\n",
    "\n",
    "if is_coprime(num1, num2):\n",
    "    print(num1, \"and\", num2, \"are co-prime\")\n",
    "else:\n",
    "    print(num1, \"and\", num2, \"are not co-prime number\")\n"
   ]
  },
  {
   "cell_type": "code",
   "execution_count": null,
   "metadata": {},
   "outputs": [],
   "source": [
    "from math import gcd\n",
    "num1 = int(input(\"Enter the number : \"))\n",
    "lower = int(input(\"enter the lower limit : \"))\n",
    "upper = int(input(\"Ente the upper limit : \"))\n",
    "\n",
    "for i in range(lower, upper + 1):\n",
    "    if gcd(num1, i) == 1:\n",
    "        print( i, \"co prime\")\n",
    "    else:\n",
    "        print(\"not co - prime\")\n",
    "        \n"
   ]
  },
  {
   "cell_type": "markdown",
   "metadata": {},
   "source": [
    "52. MAX AND MINIMUN VALUE IN NESTED LIST\n",
    "\n",
    "* flat list = > single list\n",
    "* nested list -> list within the list"
   ]
  },
  {
   "cell_type": "code",
   "execution_count": null,
   "metadata": {},
   "outputs": [],
   "source": [
    "list1 = [2, 3, 5, 6, 9, 78]\n",
    "print(max(list1))\n",
    "print(min(list1))\n",
    "\n",
    "#nested list\n",
    "list2 = [2, 4, 6, 8, [9, 0]]"
   ]
  },
  {
   "cell_type": "code",
   "execution_count": 17,
   "metadata": {},
   "outputs": [
    {
     "name": "stdout",
     "output_type": "stream",
     "text": [
      "[90, 87]\n",
      "[6, 8, [90, 87], 1]\n",
      "90\n"
     ]
    }
   ],
   "source": [
    "# convert nested to flat list\n",
    "list2 = []\n",
    "def get_max(list1):\n",
    "    for i in list1:\n",
    "        if type(i) == list:\n",
    "            get_max(i)\n",
    "            print(i)\n",
    "        else:\n",
    "            list2.append(i)\n",
    "    return max(list2)\n",
    "\n",
    "list1 = [3, 7, [6, 8, [90, 87], 1], 2]\n",
    "print(get_max(list1))\n",
    "\n"
   ]
  },
  {
   "cell_type": "markdown",
   "metadata": {},
   "source": [
    "53. TRIANGLE SHAPE"
   ]
  },
  {
   "cell_type": "code",
   "execution_count": 30,
   "metadata": {},
   "outputs": [
    {
     "name": "stdout",
     "output_type": "stream",
     "text": [
      "1\n",
      "12\n",
      "123\n",
      "1234\n"
     ]
    }
   ],
   "source": [
    "num = 4\n",
    "for row in range(1, num + 1):\n",
    "    for col in range(1, row+1):\n",
    "        print(col, end = \"\")\n",
    "    print()"
   ]
  }
 ],
 "metadata": {
  "kernelspec": {
   "display_name": "Python 3",
   "language": "python",
   "name": "python3"
  },
  "language_info": {
   "codemirror_mode": {
    "name": "ipython",
    "version": 3
   },
   "file_extension": ".py",
   "mimetype": "text/x-python",
   "name": "python",
   "nbconvert_exporter": "python",
   "pygments_lexer": "ipython3",
   "version": "3.11.8"
  }
 },
 "nbformat": 4,
 "nbformat_minor": 2
}
