{
 "cells": [
  {
   "cell_type": "markdown",
   "metadata": {},
   "source": [
    "### 34 to 60 PROBLEMS"
   ]
  },
  {
   "cell_type": "markdown",
   "metadata": {},
   "source": [
    "34. GUESS THE OUTPUT"
   ]
  },
  {
   "cell_type": "code",
   "execution_count": null,
   "metadata": {},
   "outputs": [],
   "source": [
    "for i in range(1, 20):\n",
    "    if i == 5:\n",
    "        break\n",
    "    else:\n",
    "        print(i)\n",
    "\n",
    "else:\n",
    "    print(\"hello\")\n"
   ]
  },
  {
   "cell_type": "markdown",
   "metadata": {},
   "source": [
    "35. BUBBLE SORT:\n",
    "\n",
    "**SINKING SORT** IS THE SIMPLE SORTING ALGORITHM WHICH SORT N NUMBER OF ELEMENT IN THE LIST BY COMPARING THE EACH PAIR OF ADJACENT ITEMS AND SWAPS THEM IF THEY ARE IN WRONG ORDER"
   ]
  },
  {
   "cell_type": "markdown",
   "metadata": {},
   "source": [
    "Simple Bubble Sort Algorithm (Ascending Order)\n",
    "\n",
    "1. **Start at the beginning of the list.**\n",
    "   - Compare the first two numbers. If the first number is bigger, swap them.\n",
    "\n",
    "2. **Move to the next pair.**\n",
    "   - Compare the next two numbers, and swap if needed.\n",
    "\n",
    "3. **Repeat this for the entire list.**\n",
    "   - Continue comparing and swapping until you reach the end.\n",
    "\n",
    "4. **After one full pass, the largest number is in its correct position (at the end).**\n",
    "\n",
    "5. **Repeat the process for the rest of the list.**\n",
    "   - Ignore the last number, since it's already sorted.\n",
    "\n",
    "6. **Stop when no swaps are needed.**\n",
    "   - If no swaps are made in a pass, the list is sorted!"
   ]
  },
  {
   "cell_type": "code",
   "execution_count": null,
   "metadata": {},
   "outputs": [],
   "source": []
  }
 ],
 "metadata": {
  "kernelspec": {
   "display_name": "Python 3",
   "language": "python",
   "name": "python3"
  },
  "language_info": {
   "codemirror_mode": {
    "name": "ipython",
    "version": 3
   },
   "file_extension": ".py",
   "mimetype": "text/x-python",
   "name": "python",
   "nbconvert_exporter": "python",
   "pygments_lexer": "ipython3",
   "version": "3.11.8"
  }
 },
 "nbformat": 4,
 "nbformat_minor": 2
}
